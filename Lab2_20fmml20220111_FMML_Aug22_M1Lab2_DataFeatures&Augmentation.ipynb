{
  "nbformat": 4,
  "nbformat_minor": 0,
  "metadata": {
    "colab": {
      "provenance": [],
      "collapsed_sections": [],
      "include_colab_link": true
    },
    "kernelspec": {
      "name": "python3",
      "display_name": "Python 3"
    },
    "language_info": {
      "name": "python"
    }
  },
  "cells": [
    {
      "cell_type": "markdown",
      "metadata": {
        "id": "view-in-github",
        "colab_type": "text"
      },
      "source": [
        "<a href=\"https://colab.research.google.com/github/itzwow/FMML_August_AmitBera/blob/main/Lab2_20fmml20220111_FMML_Aug22_M1Lab2_DataFeatures%26Augmentation.ipynb\" target=\"_parent\"><img src=\"https://colab.research.google.com/assets/colab-badge.svg\" alt=\"Open In Colab\"/></a>"
      ]
    },
    {
      "cell_type": "markdown",
      "source": [
        "## FMML Module 1, Lab 2<br>\n",
        "Module Coordinator : amit.pandey@research.iiit.ac.in <br>"
      ],
      "metadata": {
        "id": "JN97BfHPX7yo"
      }
    },
    {
      "cell_type": "markdown",
      "source": [
        "### The aim of this lab is to introduce DATA and FEATURES.\n",
        "We will study: Feature extraction and Data Augmentation.\n",
        "Let's get started.\n",
        "\n"
      ],
      "metadata": {
        "id": "Q0DQhRGLo3Tr"
      }
    },
    {
      "cell_type": "markdown",
      "source": [
        "Make a copy before running the cells"
      ],
      "metadata": {
        "id": "o4AtXdwvNRGS"
      }
    },
    {
      "cell_type": "markdown",
      "source": [
        "### Data can be anything like text, image , sound signals, and even a mix of multiple types (multimodal). We need to learn how to handle raw data, and how to use them for our analysis."
      ],
      "metadata": {
        "id": "gkEBupTXa1xo"
      }
    },
    {
      "cell_type": "markdown",
      "metadata": {
        "id": "A6I1yI79fbLD"
      },
      "source": [
        "# Extracting features from data\n",
        "\n",
        "\n",
        " \n",
        "\n"
      ]
    },
    {
      "cell_type": "code",
      "metadata": {
        "id": "OimBnfcpvcNS",
        "colab": {
          "base_uri": "https://localhost:8080/"
        },
        "outputId": "e14d3978-1658-4813-ada6-8301369cd11f"
      },
      "source": [
        "## Standard Imports.\n",
        "\n",
        "! pip install wikipedia\n",
        "\n",
        "import wikipedia\n",
        "import nltk\n",
        "from nltk.util import ngrams \n",
        "from collections import Counter\n",
        "import matplotlib.pyplot as plt\n",
        "import numpy as np\n",
        "import re\n",
        "import unicodedata\n",
        "import plotly.express as px\n",
        "import pandas as pd\n"
      ],
      "execution_count": null,
      "outputs": [
        {
          "output_type": "stream",
          "name": "stdout",
          "text": [
            "Looking in indexes: https://pypi.org/simple, https://us-python.pkg.dev/colab-wheels/public/simple/\n",
            "Collecting wikipedia\n",
            "  Downloading wikipedia-1.4.0.tar.gz (27 kB)\n",
            "Requirement already satisfied: beautifulsoup4 in /usr/local/lib/python3.7/dist-packages (from wikipedia) (4.6.3)\n",
            "Requirement already satisfied: requests<3.0.0,>=2.0.0 in /usr/local/lib/python3.7/dist-packages (from wikipedia) (2.23.0)\n",
            "Requirement already satisfied: urllib3!=1.25.0,!=1.25.1,<1.26,>=1.21.1 in /usr/local/lib/python3.7/dist-packages (from requests<3.0.0,>=2.0.0->wikipedia) (1.24.3)\n",
            "Requirement already satisfied: chardet<4,>=3.0.2 in /usr/local/lib/python3.7/dist-packages (from requests<3.0.0,>=2.0.0->wikipedia) (3.0.4)\n",
            "Requirement already satisfied: certifi>=2017.4.17 in /usr/local/lib/python3.7/dist-packages (from requests<3.0.0,>=2.0.0->wikipedia) (2022.9.24)\n",
            "Requirement already satisfied: idna<3,>=2.5 in /usr/local/lib/python3.7/dist-packages (from requests<3.0.0,>=2.0.0->wikipedia) (2.10)\n",
            "Building wheels for collected packages: wikipedia\n",
            "  Building wheel for wikipedia (setup.py) ... \u001b[?25l\u001b[?25hdone\n",
            "  Created wheel for wikipedia: filename=wikipedia-1.4.0-py3-none-any.whl size=11695 sha256=06eb5f30df2c131761e6c43809795c86400ee5264074745ae4d1e28f6ab22caf\n",
            "  Stored in directory: /root/.cache/pip/wheels/15/93/6d/5b2c68b8a64c7a7a04947b4ed6d89fb557dcc6bc27d1d7f3ba\n",
            "Successfully built wikipedia\n",
            "Installing collected packages: wikipedia\n",
            "Successfully installed wikipedia-1.4.0\n"
          ]
        }
      ]
    },
    {
      "cell_type": "markdown",
      "source": [
        "## What are features? \n",
        "### Features are individual independent variables that act like an input to your system. \n",
        "A very basic example is: In z = x + y, x and y are the features.\n",
        "We can have simple features like above or even more complex features learned by our machine learning models (we will study these later on)."
      ],
      "metadata": {
        "id": "_f74mfnO8Rd_"
      }
    },
    {
      "cell_type": "code",
      "source": [
        "import matplotlib.pyplot as plt\n",
        "from matplotlib import cm\n",
        "import numpy as np\n",
        "\n",
        "from mpl_toolkits.mplot3d.axes3d import get_test_data\n",
        "\n",
        " \n",
        "# set up a figure twice as wide as it is tall\n",
        "fig = plt.figure(figsize=plt.figaspect(1))\n",
        "\n",
        "# =============\n",
        "# First subplot\n",
        "# =============\n",
        "# set up the axes for the first plot\n",
        "ax = fig.add_subplot(1, 1, 1, projection='3d')\n",
        "\n",
        "# plot a 3D surface like in the example mplot3d/surface3d_demo\n",
        "X = np.arange(-5, 5, 0.25) # feature 1\n",
        "Y = np.arange(-5, 5, 0.25) # feature 2\n",
        "X, Y = np.meshgrid(X, Y)\n",
        "R = np.sqrt(X**2 + Y**2)\n",
        "Z = np.sin(R) #output\n",
        "surf = ax.plot_surface(X, Y, Z, rstride=1, cstride=1, cmap=cm.coolwarm,\n",
        "                       linewidth=0.4, antialiased=False)\n",
        "ax.set_zlim(-1.01, 1.01)\n",
        "fig.colorbar(surf, shrink=0.5, aspect=10)"
      ],
      "metadata": {
        "colab": {
          "base_uri": "https://localhost:8080/",
          "height": 265
        },
        "id": "n9KMUJBd8QKx",
        "outputId": "03c8a7d6-03d8-4457-866c-edd5af046d06"
      },
      "execution_count": null,
      "outputs": [
        {
          "output_type": "execute_result",
          "data": {
            "text/plain": [
              "<matplotlib.colorbar.Colorbar at 0x7f2ef2b208d0>"
            ]
          },
          "metadata": {},
          "execution_count": 6
        },
        {
          "output_type": "display_data",
          "data": {
            "text/plain": [
              "<Figure size 288x288 with 2 Axes>"
            ],
            "image/png": "[encoded data removed]"
          },
          "metadata": {
            "needs_background": "light"
          }
        }
      ]
    },
    {
      "cell_type": "markdown",
      "metadata": {
        "id": "m6hGhIGiy4GP"
      },
      "source": [
        "# Part 2: Features of text\n",
        "How do we apply machine learning on text? We can't directly use the text as input to our algorithms. We need to convert them to features.They are converted into vectors (embeddings) or one hot encoded.  Let us explore a simple way of converting text to features. \n",
        "\n",
        "Let us download a few documents off Wikipedia."
      ]
    },
    {
      "cell_type": "code",
      "metadata": {
        "id": "lpUmCoEr2R3J"
      },
      "source": [
        "## set language and then download the data.\n",
        "\n",
        "topic1 = 'Giraffe'\n",
        "topic2 = 'Elephant'\n",
        "wikipedia.set_lang('en') \n",
        "eng1 = wikipedia.page(topic1).content\n",
        "eng2 = wikipedia.page(topic2).content\n",
        "wikipedia.set_lang('fr')\n",
        "fr1 = wikipedia.page(topic1).content\n",
        "fr2 = wikipedia.page(topic2).content\n",
        "\n"
      ],
      "execution_count": null,
      "outputs": []
    },
    {
      "cell_type": "markdown",
      "metadata": {
        "id": "Cj7RlhMiO5kd"
      },
      "source": [
        "This is what the text looks like:"
      ]
    },
    {
      "cell_type": "code",
      "metadata": {
        "id": "GW0G-t912UXZ",
        "colab": {
          "base_uri": "https://localhost:8080/",
          "height": 139
        },
        "outputId": "5cce2536-b96e-4dfe-b4d2-30f139bf8a4f"
      },
      "source": [
        "fr2 ## the french textual data describing the second topic."
      ],
      "execution_count": null,
      "outputs": [
        {
          "output_type": "execute_result",
          "data": {
            "text/plain": [
              "'Les éléphants sont des mammifères proboscidiens de la famille des Éléphantidés. Ils correspondent aujourd\\'hui à trois espèces réparties en deux genres distincts. L\\'éléphant de savane d\\'Afrique et l\\'éléphant de forêt d\\'Afrique, autrefois regroupés sous la même espèce d\\'« éléphant d\\'Afrique », appartiennent au genre Loxodonta, tandis que l\\'éléphant d\\'Asie, anciennement appelé « éléphant indien », appartient au genre Elephas. Ils se différencient par certaines caractéristiques anatomiques, les éléphants d\\'Asie étant en général plus petits avec des oreilles plus petites, ou encore une différence du bout de la trompe. Ces espèces survivantes font localement l\\'objet de programmes ou de projets de réintroduction et de protection.\\nLe mot français « éléphant » vient du mot latin elephantus qui tire son origine du grec ἐλέφας signifiant « ivoire » ou « éléphant ».\\nL\\'éléphant apparait dans de nombreuses cultures. Il est symbole de sagesse dans la culture asiatique, connu pour sa mémoire et son intelligence, qui est comparée à celle des cétacés et hominidés. Aristote avait dit que l\\'éléphant est « la bête qui dépasse toutes les autres par l\\'intelligence et l\\'esprit ».\\n\\n\\n== Description ==\\n\\nL\\'éléphant d\\'Afrique, qui peut atteindre 7 tonnes, est le plus gros animal terrestre actuel, mais il est loin derrière la Baleine bleue (Balaenoptera musculus) qui peut peser jusqu\\'à 200 tonnes et dépasser 30 mètres de long.\\n\\n\\n=== Squelette et muscles ===\\n\\nLe squelette de l\\'éléphant présente des caractéristiques dictées par la masse qu\\'il doit soutenir : il représente environ 16,5 % de la masse totale de l\\'animal, cela signifie que pour un éléphant de 7 tonnes, le squelette pèse 1,155 tonne. Les os de l\\'éléphant sont spongieux. Sa cage thoracique, formée de vingt côtes, est arrimée le long de l\\'épine dorsale.\\nL\\'éléphant possède deux genoux à ses membres postérieurs, qui sont constitués d\\'un fémur, d\\'une rotule et de l\\'association tibia-fibula. Les membres antérieurs, quant à eux, comprennent une scapula, un humérus, et l\\'association radius-ulna.\\nL\\'éléphant marche sur le bout des doigts,. Les orteils sont insérés dans le pied, il y en a entre 2 et 5, on en voit seulement les ongles. Cependant on peut voir entre trois et cinq ongles en fonction des pieds. Les pieds antérieurs ont une forme arrondie, alors que les pieds postérieurs ont une forme ovale. Les pieds sont composés de tissus adipeux qui agissent comme des amortisseurs.\\nContrairement à la plupart des mammifères, il est impossible pour un éléphant de sauter, pour des raisons d\\'ordre biomécanique : il lui faut toujours un pied sur le sol. Cependant il peut courir à une vitesse maximale de 20 km/h (un éléphant ayant été chronométré à 24 km/h dans le cadre d\\'une étude scientifique).\\nMême si on emploie le terme « courir » pour un éléphant, il est à noter que le terme est inapproprié. Il serait plus logique de dire qu’il « marche vite ». En effet, il ne change pas son allure (sa façon de se déplacer) lorsqu’il accélère.\\nUn éléphant d\\'Afrique mâle adulte mesure 3,50 mètres au garrot et pèse 5 à 6 tonnes, une femelle adulte mesure 3 mètres de haut au garrot pour une masse de 4 tonnes environ. À la naissance, l\\'éléphant pèse environ 120 kg. Un éléphant vit en moyenne 60 ans. Le plus grand éléphant connu a été signalé en Angola en 1974 : il s’agissait d’un mâle de 12 tonnes mesurant 4,20 m au garrot, soit un mètre de plus que la moyenne des éléphants africains.\\nDes éléphants nains, de la taille d\\'un grand cochon, ont également peuplé les îles méditerranéennes au cours de la Préhistoire, ; certains sont signalés en Crète jusqu\\'en 5000 av. J.-C., voire jusqu’en 3000 av. J.-C.,.\\n\\n\\n=== Trompe ===\\nLa principale caractéristique des éléphants est leur trompe appelée proboscis. Il s\\'agit d\\'un organe nasal (avec une fonction de respiration et de perception des odeurs) allongé qui découle de la fusion de la lèvre supérieure et du nez. La trompe est un organe souple et préhensile leur servant à porter l\\'eau et la nourriture à leur bouche, à tirer ou transporter des objets et à pousser des cris.\\nLa trompe comporte entre 100 000 et 150 000 muscles ; elle est dépourvue d\\'os et pèse plus de 100 kg.\\n« La trompe se compose de deux longs tuyaux cylindriques, partant de l’ouverture antérieure des fosses nasales. Ces tubes se rétrécissent à la région de l’inter mâchoire, ce qui empêche l’eau pompée par la trompe de pénétrer dans la cavité nasale ; ils offrent ensuite une dilatation, puis se resserrent de nouveau à l’endroit où ils s’ouvrent dans les narines osseuses, et où ils sont couverts par un cartilage nasal ovale. (…) Les tubes sont entourés d’une multitude de faisceaux musculaires, les uns longitudinaux, les autres rayonnant vers la peau et servant à comprimer les premiers. Quelques-uns enfin, mais en moins grand nombre sont circulaires. Cependant il faut distinguer de ces muscles, propres à la trompe, ceux qui servent à mouvoir l’organe en entier. Ces derniers sont comparables aux muscles de la queue. On les distingue en élévateurs et abaisseurs supérieurs et latéraux, qui naissent du front, des os propres du nez et des cartilages, tant de l’os maxillaire supérieur que de l’intermaxillaire ».\\nLe bout de la trompe d\\'un éléphant d\\'Afrique est en forme d\\'amande, alors que celle d\\'un éléphant d\\'Asie est en forme de poire. L\\'excroissance à son extrémité a une fonction analogue à un doigt, leur permettant de décortiquer une cacahuète. Les éléphants ne boivent pas directement par leur trompe. L\\'effort nécessaire pour se pencher jusqu\\'au sol afin de boire l\\'eau par la bouche étant trop important et l\\'opération étant même impossible lorsque l\\'eau se trouve au-dessous du niveau du sol, ils boivent en remplissant leur trompe avec de l\\'eau qu\\'ils aspirent et gardent momentanément avant de la verser ensuite, par gravité, dans leur bouche.\\nL\\'allongement du museau des proboscidiens anciens à l\\'origine de l\\'éléphant serait lié à la croissance continue des incisives (les défenses) et leur augmentation de taille : herbivores concurrencés par les ruminants et les équidés, leur adaptation trophique se traduit alors par un régime de plantes plus fibreuses peu nutritives et une augmentation de taille corrélative, les proboscidiens fourrageant pendant des heures à la recherche aussi bien de végétaux au sol que de feuilles d\\'arbres.\\n\\n\\t\\t\\n\\t\\t\\n\\n\\n=== Denture et défenses ===\\n\\nLe plus souvent les éléphants ont des défenses, des dents très allongées utilisées par ces animaux comme outil, arme de défense et attribut sexuel. Les défenses sont des dents supérieures à croissance continue. L\\'éléphanteau possède des prémolaires de lait qui tombent lorsque les molaires apparaissent, l\\'adulte n\\'en possède pas. Chez les éléphants adultes il n\\'y a que 6 dents, 2 incisives, ce sont les défenses, et 4 molaires. La formule dentaire est i1/0 c0/0 m1/1.\\n\\n\\n==== Dents ====\\nLes dents sont essentiellement composées d’ivoire et d’émail qui forment la couronne des dents par de nombreuses crêtes transversales, qui sont plus ou moins lamellées. Les crêtes sont disjointes puis, au fur et à mesure, un cément se forme et s’intercale entre les dents pour former un tout. Un petit nombre de dents molaires sont présentes à chaque mâchoire, « parfois une paire (…), (…) une paire à l’une des mâchoires et deux à l’autre, (…) encore deux paires à chacune », de plus les dents correspondantes entre elles « n’ont ni la même apparence, ni le même nombre de lamelles ».\\n\\nSelon les études de Corse et de Blainville, « les éléphants (…) ont six paires de dents à chacune des mâchoires. Ces dents augmentent de volume depuis la première jusqu’à la dernière ou sixième, et le nombre de leurs lamelles (…) est aussi de plus en plus considérable. ». « La succession des dents molaires s’opère ainsi par flots d’une manière lente mais réglée, et l’on admet trois flots différents. Les dents se présentent deux par deux de chaque côté de l’une et de l’autre mâchoire. Le degré plus ou moins avancé de l’usure de chacune d’elles détermine les différences que l’on remarque dans le nombre total de lamelles (…) pour chaque flot ».\\nLes éléphants ont généralement 26 dents : les 2 incisives appelées défenses, 12 prémolaires déciduales et 12 molaires. Contrairement à la plupart des mammifères, qui font pousser des dents de lait, puis les remplacent par un seul ensemble permanent de dents adultes, les éléphants sont des polyphyodontes : ils ont des cycles de rotation dentaire tout au long de leur vie. Les molaires sont remplacées six fois au cours de la vie d\\'un éléphant typique. Les dents ne sont pas remplacées par de nouvelles dents émergeant des mâchoires verticalement comme chez la plupart des mammifères. Au lieu de cela, de nouvelles dents poussent à l\\'arrière de la bouche et avancent pour repousser les anciennes. La première molaire de chaque côté de la mâchoire tombe lorsque l\\'éléphant a 2 ou 3 ans. La deuxième série de molaires tombe à l\\'âge de 4 à 6 ans. La troisième série tombe entre 9 et 15 ans et la quatrième série dure jusqu\\'à 18-28 ans. La cinquième série de dents tombe vers la quarantaine. La sixième poussée — et généralement la dernière — doit durer à l\\'éléphant le reste de sa vie. Les dents d\\'éléphant ont des crêtes dentaires en forme de boucle, qui sont plus épaisses et plus en forme de losange chez les éléphants d\\'Afrique.\\n\\n\\n==== Défenses ====\\n\\nLes défenses d\\'un éléphant sont les deuxièmes incisives modifiées de la mâchoire supérieure. Elles remplacent les dents de lait à l\\'âge de 6 à 12 mois et poussent continuellement d\\'environ 17 cm par an. Une défense nouvellement développée a un capuchon en émail lisse qui finit par s\\'estomper. La dentine est connue sous le nom d\\'ivoire ; sa section transversale se compose de motifs de lignes entrecroisées qui créent des zones en forme de losange. Une grande partie des défenses est visible de l\\'extérieur ; le reste est enserré dans un logement du crâne. Au moins un tiers de la défense contient la pulpe et certains nerfs s\\'étendent jusqu\\'à la pointe. Il serait donc difficile de l\\'enlever sans nuire à l\\'animal. Une fois retiré, l\\'ivoire commence à se dessécher et à se fissurer s\\'il n\\'est pas conservé au frais et à l\\'humidité.\\nL\\'éléphant se sert de ses défenses à plusieurs fins. Il les utilise pour creuser dans l\\'eau, le sel ou parmi les racines; écorcer ou marquer les arbres ; déplacer des arbres et des branches pour dégager un chemin. Lors des combats, elles servent pour attaquer, se défendre, protéger le corps.\\n\\nComme les humains, qui sont généralement droitiers ou gauchers, les éléphants ont généralement une différenciation des défenses droite et gauche. La défense dominante, appelée défense principale, est généralement plus usée et plus courte, avec une pointe plus arrondie. Pour les éléphants d\\'Afrique, les défenses sont présentes chez les mâles et les femelles, et ont à peu près la même longueur pour les deux sexes, atteignant jusqu\\'à 3 m, mais celles des mâles ont tendance à être plus épaisses. Autrefois, les défenses d\\'éléphant pesant 100 kg et plus n\\'étaient pas rares, mais on n\\'en voit plus guère aujourd\\'hui dépassant 50 kg.\\nChez les espèces asiatiques, seuls les mâles ont de grandes défenses. Les femelles asiatiques ont de très petites défenses, voire aucune. Il existe des mâles dépourvus de défenses, particulièrement communs au Sri Lanka. Les mâles asiatiques peuvent avoir des défenses aussi longues que celles des africains, mais elles sont généralement plus minces et plus légères : les plus grandes enregistrées mesuraient 3,02 m de long et pesaient 39 kg. La chasse à l\\'ivoire d\\'éléphant en Afrique et en Asie a conduit à une sélection naturelle pour des défenses plus courtes, ou absentes,.\\n\\n\\n=== Peau ===\\nLa peau de l\\'éléphant est d\\'une épaisseur d\\'environ 2 cm. Cette peau est fragile du fait de la présence de plis où viennent se loger des parasites. Il n\\'y a pratiquement pas de poils, et il n\\'y a ni glande sudoripare, ni glande sébacée. De ce fait, leur peau est sèche, c\\'est pour cela qu\\'elle doit être souvent humectée à l\\'aide d\\'eau projetée par la trompe ou couverte de poussière ou de boue également projetée par leur trompe.\\nLa couleur de la peau est grisâtre ; cependant sa couleur apparente est liée au sol sur lequel évolue l\\'éléphant. Elle peut aussi être due aux bains de boues.\\nLa faible densité des poils (quelques centaines par mètre carré, chaque poil mesurant en moyenne 2 centimètres de longueur et 0,5 mm de diamètre) agit non plus comme une fourrure mais participe — à hauteur de 23 % — avec d\\'autres mécanismes de thermorégulation (battement des oreilles, bains, pulvérisation d\\'eau avec leurs trompes, respiration percutanée) à la thermolyse du mammifère, les poils agissant comme des ailettes qui augmentent la surface d\\'échange et donc les transferts thermiques.\\n\\n\\t\\t\\n\\t\\t\\n\\n\\n=== Oreille ===\\nLes oreilles de l\\'éléphant lui permettent de réguler sa température corporelle, grâce à une vascularisation très importante. Lorsqu\\'il mange des fruits fermentés ayant un degré d\\'alcool d\\'environ 7°, l\\'éléphant remue violemment ses oreilles, de même pour sa queue et sa trompe. Elles sont généralement plus petites chez l\\'éléphant d\\'Asie.\\n\\n\\n=== Cerveau ===\\nLe cerveau de l\\'éléphant, situé à l\\'arrière de son crâne, pèse entre 4 et 6 kg, ce qui est déjà considérable. Si l\\'on compare la taille du cerveau de l\\'éléphant à sa masse corporelle, il est alors le mammifère ayant le plus petit cerveau, alors que la souris possède le plus grand.\\n\\n\\n== Biologie et comportement ==\\n\\n\\n=== Reproduction ===\\n\\n\\n==== Maturité sexuelle ====\\nSi les fonctions reproductrices des éléphants mâles se mettent en place vers l\\'âge de 10-15 ans, ils commencent à se reproduire vers l\\'âge de 30 ans quand ils sont suffisamment imposants pour pouvoir se battre avec d\\'autres mâles pour conquérir les femelles.\\nLes fonctions reproductrices de l\\'éléphant femelle apparaissent de 9 ans jusqu\\'à 15 ans.\\nDans l\\'organisation matriarcale des éléphants, les mâles sont connus pour leur tempérament indépendant et ont tendance à vivre en solitaire, forgeant parfois une alliance provisoire avec un autre individu ou intégrant une bande de manière informelle. Tandis que les femelles entretiennent des liens familiaux étroits et solides.\\n\\n\\n==== Comportement sexuel ====\\n\\nLes mâles en rut, dont le taux sanguin de testostérone peut s\\'accroître cinquante fois, agitent les oreilles et secouent la tête, leur pénis devient vert. Il en dégouline une urine fortement odorante. Cela est dû à la libération d\\'un musc d’une phéromone, la frontaline, sécrétée sous deux formes chirales. Ces deux énantiomères (deux formes : (+)-frontaline et (-)-frontaline) ne sont pas sécrétés en mêmes proportions. Chez les jeunes mâles, la forme (+) domine. Au fur et à mesure de la maturité et de la période de rut, les deux isomères forment un racémique, qui attire les femelles en phase folliculaire et en œstrus. La frontaline est libérée par la glande temporale chez l’éléphant en période de rut, la sécrétion débute peu de temps avant la puberté, à l’âge de 15 ans. Cependant le rut ne se produit qu\\'à partir de 25 ans et ne durera que quelques jours. Puis vers 31-35 ans, celui-ci dure plusieurs semaines. Vers 36-40 ans, il dure de 1 à 2 mois. Pour finir, après 40 ans, le rut s’étend sur une période de 2 à 4 mois. La quantité de phéromones émises augmente avec l’âge de l’éléphant ainsi qu’en milieu de rut. La concentration et la proportion d’énantiomères de la frontaline constituent pour les animaux qui seront attentifs au message une source d’information sur l’âge et le stade du musth de l\\'éléphant qui émet. Une concentration de frontaline, en racémique, sera le synonyme d\\'un mâle mature ayant un statut social important.\\n\\n\\n==== Accouplement ====\\n\\nUne fois que la femelle et le mâle sont ensemble, l\\'accouplement peut commencer. L\\'éléphant mâle étant très lourd, la copulation est très rapide. En général, elle dure entre 20 et 30 secondes. La période de copulations dure environ trois jours.\\nLa jeune femelle est effrayée lors de sa première période de chaleur, le mâle peut la poursuivre. Pour avertir la femelle qu\\'il va la saillir, le mâle pose sa trompe sur son dos ; la femelle s\\'immobilise alors.\\nLes mâles passent dans les troupeaux de femelles lors de leur rut pour sentir les vulves des femelles.\\n\\n\\n==== Gestation et mise bas ====\\n\\nLa gestation d\\'une éléphante est la plus longue de tous les mammifères terrestres. Elle dure de 20 à 22 mois. La durée d\\'allaitement est comprise entre 36 et 48 mois. Les mises bas s\\'espacent d\\'environ 2 ans et demi à 5 ans. La gestation est plus longue pour un éléphanteau mâle que pour un éléphanteau femelle.\\nUne éléphante peut être en gestation jusqu\\'à l\\'âge de cinquante ans. Dans la plupart des cas, un seul éléphant est porté ; les cas de gémellité sont très rares.\\n\\n\\n=== Vie sociale ===\\n\\nLes éléphants vivent dans une société matriarcale. Cette structure matriarcale existe depuis plus de sept millions d\\'années, des empreintes d\\'une harde d\\'éléphants de cette époque ayant été découvertes sur une surface de 5 hectares sur le site de Mleisa 1 dans les Émirats arabes unis, faisant de cette piste de mammifères fossile la plus vieille de ce type et probablement la plus longue piste préservée dans le monde. Les troupeaux sont composés d\\'une dizaine d\\'éléphantes et de jeunes éléphanteaux, après la maturité sexuelle les mâles quittent le groupe. Ils errent jusqu\\'à ce qu\\'ils fassent alliance avec d\\'autres jeunes mâles.\\nUne étude, menée dans un zoo, montre que l\\'éléphant aime les fruits fermentés à un degré d\\'alcool de 7°. Lorsque l\\'éléphant est saoul, il perd de sa sociabilité (alors que sobre il est très sociable). Lorsqu\\'il est ivre, il reste à l\\'écart du troupeau. Un chercheur américain défendait l\\'idée que les animaux s\\'enivrent ou se droguent, volontairement, pour oublier les tourments de leur existence. Pour le prouver, il a fait vivre durant un mois des éléphants d\\'une réserve californienne sur un territoire plus restreint qu\\'à leur accoutumée. La surpopulation due au petit espace a angoissé les animaux qui, du coup, ont bu trois fois plus que d\\'habitude. Ils sont devenus si agressifs qu\\'il a été dangereux de les approcher.\\n\\n\\n=== Communication ===\\nLe cri de l\\'éléphant est le barrissement. De récentes études scientifiques ont montré que les éléphants, comme de nombreux animaux, sont sensibles aux infrasons. L\\'utilité de l\\'audition de ces infrasons reste cependant mystérieuse. Il semble qu\\'ils soient capables de communiquer entre eux par les ondes acoustiques de surface transmises par le sol.\\n\\n\\n=== Sommeil ===\\nLes éléphants peuvent dormir debout ou couchés. Le fait de se coucher indique qu\\'ils sont parfaitement détendus.\\n\\n\\n=== Alimentation ===\\n\\nL\\'éléphant est herbivore, il mange une grande variété d\\'éléments végétaux : herbes, plantes, feuilles, fruits, racines et tubercules, écorces et même du bois. Il apprécie par exemple le bois tendre et gorgé de sève du baobab.\\nLes besoins alimentaires de l\\'éléphant sont importants, surtout qualitativement. En fonction de son environnement, il consacre une grande partie de son temps à la recherche de nourriture (16 à 20 heures par jour), se déplaçant sur de longues distances et sélectionnant les aliments les plus riches. Il peut se dresser sur ses pattes arrière pour attraper avec sa trompe les rameaux les plus tendres jusqu\\'à cinq ou six mètres de hauteur.\\nQuotidiennement, il faut à l\\'éléphant entre 150 et 180 kilogrammes de nourriture en saison sèche, et entre 200 et 260 kilogrammes en saison des pluies. Ces quantités varient aussi en fonction des espèces et des milieux fréquentés.\\nUn éléphant adulte boit jusqu\\'à 140 L d\\'eau par jour. Il aspire dans sa trompe jusqu\\'à dix litres à la fois, puis se les verse dans la bouche. Il peut rester trois ou quatre jours sans boire. Il peut se servir de sa trompe pour reprendre de l\\'eau dans son estomac et s\\'en servir pour se rafraîchir la peau. Sa peau très épaisse est l\\'objet de soins constants : outre les aspersions, les baignades et les roulades dans la boue, le poudrage à la poussière est bienvenu pour protéger l\\'épiderme des insectes et du soleil.\\nMalgré la quarantaine de mètres d\\'intestin qu\\'il possède, sa digestion est peu efficace. Elle dure environ 12 heures après les 16 à 20 heures où il a cherché à se nourrir, 40 à 60 % de la nourriture n\\'étant pas digérée. Si son alimentation n\\'est pas suffisamment riche, son tonus, son humeur et sa santé en général sont rapidement affectés.\\nLe comportement alimentaire a en général un impact important sur le milieu. Le bilan de ces conséquences varie en fonction des espèces (Afrique, Asie), de la saison, du biotope et de la densité de la population. Ainsi, l\\'éléphant peut être considéré comme destructeur d\\'arbres en particulier dans la savane, alors qu\\'il participe ailleurs très activement à la régénération en limite des zones forestières. Certaines espèces d\\'arbres sont dépendantes de l\\'éléphant pour leur extension : celui-ci, friand de leurs fruits, en dissémine les graines avec l\\'excellent terreau que constitue son crottin, capable de contenir jusqu\\'à 35 % de graines.\\n\\n\\n=== Intelligence ===\\n\\nEn l’état actuel des connaissances, l’éléphant est, avec l\\'humain, le dauphin, le corbeau et certaines espèces de grands singes, l\\'une des rares espèces animales à réussir le test du miroir de Gallup : lorsqu’on marque d’une tache le front d’un éléphant en un point qu’il ne peut voir directement et qu’on lui présente un miroir, il passe sa trompe sur la tache ; démontrant ainsi qu’il a reconnu son image et donc qu’il a conscience de lui-même,,.\\nLes éléphants peuvent utiliser des outils de défense, telles des pierres saisies avec leur trompe et qu\\'ils lancent sur leurs ennemis. Ils peuvent également se toiletter en se grattant avec des branches ou des baguettes des parties de corps qu\\'ils ne peuvent atteindre avec leur trompe. Ils présentent ainsi un exemple d’utilisation d\\'outil par un animal.\\nLors d\\'une expérimentation de Preston Foerder, un éléphant (d\\'Asie, Elephas maximus) s\\'est montré capable d\\'un éclair de compréhension (insight). Il est allé chercher un cube pour monter dessus et atteindre de la nourriture,.\\n\\n\\n=== Perception ===\\nLes éléphants sont réputés pour leur capacité à anticiper l\\'arrivée des intempéries. il semblerait qu\\'ils soient capables d\\'entendre les sons provoqués par le déplacement des nuages.\\n\\n\\n== Systématique ==\\n\\n\\n=== Taxonomie ===\\n\\nL’éléphant d\\'Asie et l’éléphant d’Afrique ont longtemps été considérés comme les deux seules espèces représentant la famille des Éléphantidés à l’époque moderne. Depuis, de récentes études génétiques ont permis de distinguer deux sous-espèces africaines distinctes : Loxodonta africana africana (« éléphant de la savane ») et Loxodonta africana cyclotis (« éléphant des forêts »).\\nLes espèces d\\'Éléphantidés vivant à l’heure actuelle sont donc :\\n\\n\\n=== Histoire évolutive ===\\n\\nL’extinction Crétacé-Tertiaire est suivie d\\'une diversification très rapide des ongulés africains, notamment l\\'ordre des Proboscidiens dont les plus anciennes espèces découvertes à ce jour sont Eritherium azzouzorum et Phosphatherium escuilliei, datant de la fin du Paléocène il y a 60 millions d\\'années. Sans trompe mais avec une première incisive agrandie (rappelant la naissance d\\'une défense) et des orbites oculaires en position antérieure, ces premiers proboscidiens sont petits et graciles, ont un corps bas sur pattes et un mode de vie semi-aquatique, à l\\'instar de Moeritherium.\\nAprès un déclin à l\\'oligocène, les proboscidiens connaissent une diversification avec l\\'apparition des Deinotheriidae et des Mammutidae. La seconde radiation évolutive voit l\\'émergence au début du Miocène des Gomphotheriidae qui sont à l\\'origine des Elephantidae et des Stegodontidae, familles qui correspondent à la troisième radiation évolutive au miocène supérieur.\\nLes Proboscidiens présents sur le continent américain, tels Mammut americanum ou Haplomastodon, se sont éteints il y a une dizaine de milliers d\\'années.\\n\\n\\n== L\\'éléphant et l\\'homme ==\\n\\n\\n=== Menaces de disparition ===\\n\\n\\n==== Chasse et braconnage ====\\n\\nDurant des millénaires, l\\'homme chassa l\\'éléphant pour sa consommation et pour le commerce de l\\'ivoire tiré des défenses. Durant l\\'Antiquité, les éléphants de Nubie furent utilisés dans les armées des Carthaginois. Au XVe siècle av. J.-C., il y avait encore des éléphants sur les bords de l\\'Euphrate, où le pharaon Thoutmôsis Ier chassait l\\'éléphant.\\nLa population des éléphants africains et asiatiques a été décimée, passant de plusieurs millions d\\'individus au début des années 1970 à quelques centaines de milliers 30 ans plus tard. Si bien qu\\'en 1989, la CITES interdit le commerce de l\\'ivoire. Les éléphants sont désormais considérés comme des espèces protégées et la chasse aux éléphants est très réglementée.\\nLe braconnage s\\'intensifie malheureusement chaque année. En 2011, entre 25 000 et 30 000 éléphants ont été abattus sauvagement afin de récupérer leurs défenses et alimenter les commerces illégaux notamment en provenance d\\'Asie.\\nL\\'éléphant a peu de prédateurs naturels, c\\'est-à-dire d\\'autres espèces que l\\'Homme. De grands fauves tels que le lion ou le tigre du Bengale (dans le cas de l\\'éléphant d\\'Asie) peuvent exercer une prédation sur les individus jeunes ou faibles ; il est cependant peu probable que ces animaux attaquent un adulte, au vu du danger qu\\'il peut représenter.\\nSelon l’Union internationale pour la conservation de la nature (UICN), la population des éléphants d’Afrique a sensiblement diminué au cours des années 2010 : le continent compte en 2019 environ 415 000 spécimens, soit 111 000 de moins que lors de la précédente décennie.\\n\\n\\n==== L\\'éléphant des forêts africaines menacé d\\'extinction d\\'ici 2025 ====\\nAu terme de la conférence organisée à Bangkok du 3 au 14 mars 2013, par la CITES, à laquelle 178 pays ont participé, l\\'état d\\'esprit était au pessimisme concernant la protection des éléphants « victimes dans leurs pays d\\'origine d\\'un braconnage sans précédent et d\\'un commerce effréné en Asie ». Nombre d\\'ONG concernées par cette action pensent que « la communauté internationale a échoué à protéger les éléphants ». Depuis 2007 le trafic d\\'ivoire a doublé et plus que triplé par rapport à 1998. Le nombre d\\'éléphants africains, selon les enquêtes présentées à la conférence, est compris entre 420 000 et 650 000. 25 000 ont été tués en 2011 et probablement 30 000 en 2012. Publiée en mars 2013 dans la revue PLoS One, une autre étude révèle que 62 % des éléphants des forêts ont été abattus durant ces dix dernières années. Si ce rythme perdure, ils pourraient disparaitre d\\'Afrique centrale d\\'ici 2025. Les spécialistes affirment qu\\'à terme, si le braconnage ne cesse pas, tous les éléphants du continent seront menacés d\\'extinction.\\n\\nÀ Gembloux Agro-Bio Tech - Université de Liège en Belgique, plusieurs chercheurs avaient déjà fait le même constat pour la population des éléphants de l\\'Afrique de l\\'Ouest. En 40 ans, leur nombre a diminué de moitié.\\nL\\'ONG Save the Elephants estime que le commerce illégal de l\\'ivoire à Hong Kong menace la survie des éléphants, étant donné que le marché de l\\'ivoire en Chine et en Asie du Sud-Est passe en grande partie par Hong Kong.\\n\\n\\n=== Perte d\\'habitat ===\\n\\nL\\'augmentation des risques de conflits d\\'intérêt pour l\\'habitat avec des populations humaines menace la survie de l\\'éléphant. Ce conflit tue 150 éléphants et un peu plus de 100 personnes par an au Sri Lanka. Contrairement à son cousin d\\'Afrique, l\\'éléphant d\\'Asie, possède de petites défenses. La disparition de celui-ci est principalement attribuée à la perte de son habitat. De grands morceaux de forêt disparaissent, ce qui touche profondément leur écosystème. Les arbres contribuent à l\\'ancrage du sol et l\\'absorption des eaux de ruissellement. La déforestation entraine des inondations et une érosion massive. Lorsque la forêt est réduite, les éléphants deviennent une partie du problème, car ils détruisent rapidement la végétation de la zone où ils vivent et éliminent toutes les ressources en nourriture.\\n\\n\\n=== Parcs nationaux ===\\n\\nLa première réserve officielle, Parc national Kruger, est peut-être la plus connue des réserves et celle ayant obtenu le plus grand succès. Cependant, de nombreux problèmes sont apparus depuis sa création. Les clôtures de la réserve ont coupé de nombreux animaux de leur alimentation en hiver ou de leurs zones de reproduction au printemps. Certains animaux sont morts, alors que d\\'autres comme les éléphants ont démoli les clôtures, entraînant des ravages dans les champs voisins. Lorsque les éléphants sont limités à un petit territoire, les dégâts infligés au paysage peuvent être énormes.\\nDe ce fait, certaines réserves, comme le Parc national Kruger, de l\\'avis de certains gestionnaires de faune sauvage, ont souffert de la surpopulation des éléphants, au détriment d\\'autres espèces de la faune dans la réserve. Le 25 février 2008, l\\'Afrique du Sud a annoncé que l\\'abattage pour contrôler le nombre d\\'éléphants, arrêté depuis 1994, reprendrait. Les défenseurs des droits des animaux ont menacé d\\'un appel au boycott par les touristes et à d\\'autres formes d\\'oppositions.\\n\\n\\n=== Utilisation par l\\'Homme ===\\n\\nLes éléphants en captivité (en) sont utilisés ou exhibés dans les cirques, ménageries (tel Abul-Abbas, l\\'éléphant blanc de Charlemagne et Hanno, celui du pape Léon X) et zoos (tel le célèbre Jumbo). On ne peut pas parler à leur égard de domestication car le cycle de vie de l\\'éléphant est trop long pour que cela soit économiquement rentable par rapport à une capture d\\'individus sauvages, la phase précédant la maturité sexuelle de l\\'animal durant plus de 10 ans.\\n\\nUtilisé comme animal de trait par les humains, ainsi que lors de batailles en tant qu\\'éléphant de guerre, l\\'éléphant a occupé de nombreuses fonctions, notamment celle d\\'exécuteur lors d\\'exécutions par éléphant. En 1914-1918, des éléphants de cirque ont en Europe par exemple servi à débarder le bois en forêt (de Mormal, dans le Nord de la France), ou encore à labourer, ou à tirer des wagons dans les usines de munitions.\\nL\\'éléphant peut également être entrainé par anéantissement.\\nLe conducteur d\\'un éléphant est appelé cornac ou mahout.\\n\\n\\n=== Expression ===\\n“avoir une mémoire d’éléphant” veut dire que l’ont a une très bonne mémoire\\n\\n\\n=== Produits dérivés ===\\n\\nÀ l\\'origine, les éléphants étaient chassés par les hommes pour leur viande.\\nCertaines parties, comme les pieds d\\'éléphants, ou des animaux entiers étaient naturalisés. Les poils et les défenses d\\'ivoire, bien sûr, étaient aussi utilisés. On s\\'en servait pour fabriquer des objets de décoration et en bijouterie, ou bien ils étaient destinés, ainsi que les dents et les ossements, à des cabinets de curiosité ou des museums.\\nL\\'ivoire a longtemps fait l\\'objet d\\'un commerce important qui subsiste encore parfois sous forme de trafic illégal malgré le statut de protection dont bénéficient les éléphants survivants.\\n\\n\\n=== Culture ===\\n\\n\\n==== Symbolique ====\\nDans la symbolique occidentale comme orientale, l\\'éléphant est associé à la mémoire, la sagesse, la longévité, la prospérité, la bienveillance, le père. Pour beaucoup de peuples africains, l\\'éléphant tient le rôle du père, du chef des animaux, du roi.\\n\\n\\n===== Orient =====\\n\\nL\\'éléphant apparaît dans la panthéon hindouiste et bouddhiste à partir du troisième millénaire avant Jésus-Christ, époque de sa domestication.\\nDans la religion hindoue, Ganesh est un dieu à tête d’éléphant ; il est le dieu de la Sagesse et le patron des étudiants. Les rares éléphants blancs sont les plus sacrés en Inde, et les éléphants domestiqués et décorés aux couleurs des dieux bénissent les fidèles de leur trompe dans certains temples.\\nEn Inde, l’éléphant évoque la force, la puissance, l\\'orage (forme ronde et grise des nuages de pluie), et il est sacré. Chaque dieu hindou chevauche un animal : Indra, dieu des Orages et de la Bataille, et Agni, dieu du Feu, se déplacent à dos d’éléphant.\\nAu Laos, passer sous la trompe d\\'un éléphant permet d\\'acquérir ses attributs : force, longévité, fertilité et caractère sacré. Chaque année à l\\'occasion du Nouvel An bouddhique, les cornacs laotiens organisent un baci ou soukhouan, cérémonie de rappel des âmes, pour leur éléphant.\\n\\n\\n===== Islam =====\\nDans le Coran, la 105e sourate (la 19e dans l’ordre chronologique) s\\'intitule Al-Fîl (l’Éléphant). Elle comprend cinq versets révélés à la Mecque et doit son nom à l’expression « ashâb al-fîl » (les gens de l’éléphant) présente dans le tout premier verset. Cette expression désigne les Abyssins, qui occupaient le Yémen voisin, voulaient évangéliser l’Arabie tout entière, notamment en attaquant la Kaaba, à La Mecque. En raison des entraves qu’ils mettaient au pèlerinage, le « ministre du calendrier » dans le gouvernement mecquois se vengea en profanant l’église de Sana\\'a. C’est alors que le gouverneur abyssin fit venir un éléphant de taille gigantesque appelé Mahmoud et dirigea une expédition sur La Mecque.\\n\\n\\n===== Occident =====\\nDans la symbolique chrétienne, l\\'éléphant symbolise le baptême : la femelle met bas dans l\\'eau d\\'un étang à côté duquel le mâle monte la garde pour écarter le dragon, symbole de l\\'esprit du mal.[réf. nécessaire]Dans la symbolique chrétienne, il représente aussi la chasteté (de tempérament frigide, il ne peut engendrer qu\\'après avoir absorbé, en guise d\\'aphrodisiaque, une racine de mandragore), la constance, la maîtrise de soi, la bénignité des princes (il n\\'a pas de fiel), la tempérance, la circonspection et la prudence.[réf. nécessaire]En France, on dit de quelqu\\'un qui a une bonne mémoire qu\\'il a « une mémoire d\\'éléphant » ; effectivement, l\\'éléphant a une excellente mémoire pour se rappeler ses congénères ou retrouver les pistes qu\\'il emprunte chaque année pour chercher sa nourriture. Sa mémoire visuelle lui permet également de se rappeler très longtemps les visages humains[source insuffisante].\\nL\\'éléphant représente les quatre piliers du monde : il porte le monde sur son dos.\\nL\\'éléphant est le symbole de la ville de Catane, en Italie, depuis le Moyen Âge (mais le lien remonte peut-être à l\\'Antiquité). La Fontaine de l\\'éléphant s\\'y dresse sur la place de la cathédrale.\\n\\n\\n===== Afrique =====\\nL\\'éléphant est l\\'emblème de la Côte d\\'Ivoire.\\nL\\'éléphant est symbole de royauté, de puissance et de sagesse et ce en général pour les peuples de tout le continent africain.\\nSon image est utilisée dans les cérémonies et danses, pour la fabrication des masques ou encore de mobiliers, d\\'objets rituels, dans beaucoup de tribus notamment chez les Bamileke de l\\'ouest du Cameroun ou encore chez les Gurusi du Burkina Faso.\\nHors tribus, l\\'éléphant est un symbole important au même titre que le lion et son image est présente au quotidien dans le monde africain.\\n\\n\\n===== Politique =====\\nEn politique, l\\'image de l\\'éléphant a pu être utilisé dans différents pays pour caractériser des courants politiques ou des politiciens : ainsi, l\\'emblème du Parti républicain américain est un éléphant, et certains des membres les plus influents du Parti socialiste français sont surnommés les « éléphants ».\\n\\n\\n===== Art =====\\n\\nDes représentations picturales de l\\'éléphant sont retrouvées en Occident dès le XIIe siècle comme dans le quartier historique de Montferrand sur la « Maison de l\\'Éléphant » (12 rue Kléber).\\nL\\'ivoire des défenses de l\\'éléphant a longtemps servi à la réalisation d\\'œuvres d\\'art. Les œuvres en or et ivoire sont qualifiées de chryséléphantines — chrusos, or en grec. Ce nom a été déformé en olifant, pour désigner une corne (instrument de musique) en ivoire.\\n\\n\\n===== Sport =====\\nEn sport, certaines équipes nationales portent des surnoms à l\\'image de l\\'éléphant :\\n\\nLa Côte d\\'Ivoire : Les éléphants\\nLa Guinée : Le Sily national (L\\'éléphant national)\\nLa Thaïlande : Les éléphants de guerre\\n\\n\\n==== Fiction ====\\n\\nLes éléphants ont inspiré de nombreux artistes. La liste ci-après est loin d\\'être exhaustive.\\n\\nCinéma :\\nLes Racines du ciel (The Roots of Heaven) de John Huston (1958), tiré du roman de Romain Gary.\\nTusk d\\'Alejandro Jodorowsky (1980).\\nChasseur blanc, cœur noir (White Hunter Black Heart) de Clint Eastwood (1990, inspiré par John Huston, chasseur d\\'éléphant sur le tournage de the African Queen en 1950).\\nSunny et l\\'éléphant de Frédéric Lepage, 2008.\\nDe l\\'eau pour les éléphants de Francis Lawrence, 2011, tiré du roman de Sara Gruen.\\nElephant Boy de Robert J. Flaherty en 1937\\nGrimsby : Agent trop spécial de Louis Leterrier (2016), Norman \"Nobby\" Butcher (Sacha Baron Cohen) se cache dans le vagin d\\'une éléphante.\\nDocumentaire\\nL\\'Homme et l’Éléphant de Vijay Singh.\\nDessins animés :\\nDumbo.\\nWinnie l\\'ourson et l\\'Éfélant\\nBabar\\nLittérature :\\nLes Racines du ciel de Romain Gary, Prix Goncourt en 1956.\\nLes Annales du disque-monde de Terry Pratchett (le disque-monde est soutenu par quatre éléphants géants).\\nL\\'Éléphant et le Singe de Jupiter de Jean de La Fontaine.\\nLe Voyage de l\\'éléphant de José Saramago\\nLittérature jeunesse :\\nHistoires comme ça de Rudyard Kipling (L\\'Enfant d\\'éléphant)\\nPoo Lorn l\\'éléphant de Reginald Campbell\\nLe Livre de la jungle de Rudyard Kipling (personnages de Hathi et de Kala Nag).\\nBabar de Laurent de Brunhoff\\nUn éléphant ça compte énormément de Helme Heine\\nLe Mystère de l\\'éléphant bleu de Enid Blyton\\nLa Maison éléphant de Henriette Bichonnier\\n Elmer, l\\'éléphant multicolore de David McKee\\nPomelo, l\\'éléphant rose, texte de Ramona Bádescu, illustrations de Benjamin Chaud : une quinzaine de titres, depuis 2002. Plusieurs de ces titres font partie de la « Bibliothèque jeunesse idéale » du Centre national de la littérature pour la jeunesse (BnF).\\n\\t\\t\\n\\n\\n== Notes et références ==\\n\\n\\n== Annexes ==\\n\\n\\n=== Bibliographie ===\\nElephants: Majestic Creatures of the Wild, Checkmark Books, 2000 (ISBN 978-0-87596-143-9, OCLC 475147472)\\n\\n\\n=== Articles connexes ===\\nBouse d\\'éléphant\\nIntelligence animale\\nÉléphant de guerre\\nHanno\\nListe d\\'éléphants de fiction\\nOrdre de l’Éléphant\\nMammouphant\\nBraconnage\\nÉléphant rose\\n\\n\\n=== Références taxonomiques ===\\n(en) Référence Mammal Species of the World (3e éd., 2005) : Elephas maximus  \\n(fr+en) Référence ITIS : genre Loxodonta Cuvier, 1825\\n(en) Référence Animal Diversity Web : Elephas maximus\\n(en) Référence UICN : espèce Elephas maximus Linnaeus, 1758\\n(en) Référence NCBI : genre Loxodonta (taxons inclus)\\n(en) Référence Fonds documentaire ARKive : Loxodonta africana  \\n(en) Référence Fonds documentaire ARKive : Elephas maximus  \\n\\n\\n=== Liens externes ===\\n\\nAnalyse des instruments internationaux de lutte contre le trafic et le braconnage des espèces menacées en Afrique centrale : le cas de l\\'éléphant et du gorille\\n« Physiologie de l\\'éléphant », sur elephants.free.fr\\nUn dossier sur l\\'éléphant chez Futura-Sciences\\n« Chang Nam : La légende des éléphants nains aquatiques en Thaïlande », sur magiedubouddha.com\\n Portail des mammifères'"
            ],
            "application/vnd.google.colaboratory.intrinsic+json": {
              "type": "string"
            }
          },
          "metadata": {},
          "execution_count": 8
        }
      ]
    },
    {
      "cell_type": "code",
      "source": [
        "eng1 ##English Textual data of fist topic"
      ],
      "metadata": {
        "colab": {
          "base_uri": "https://localhost:8080/",
          "height": 139
        },
        "id": "N0B1VNe2gYrt",
        "outputId": "b1bd39bf-4613-44d2-c079-de2b897519ed"
      },
      "execution_count": null,
      "outputs": [
        {
          "output_type": "execute_result",
          "data": {
            "text/plain": [
              "'The giraffe is a large African hoofed mammal belonging to the genus Giraffa. It is the tallest living terrestrial animal and the largest ruminant on Earth. Traditionally, giraffes were thought to be one species, Giraffa camelopardalis, with nine subspecies. Most recently, researchers proposed dividing them into up to eight extant species due to new research into their mitochondrial and nuclear DNA, as well as morphological measurements. Seven other extinct species of Giraffa are known from the fossil record.\\nThe giraffe\\'s chief distinguishing characteristics are its extremely long neck and legs, its horn-like ossicones, and its spotted coat patterns. It is classified under the family Giraffidae, along with its closest extant relative, the okapi. Its scattered range extends from Chad in the north to South Africa in the south, and from Niger in the west to Somalia in the east. Giraffes usually inhabit savannahs and woodlands. Their food source is leaves, fruits, and flowers of woody plants, primarily acacia species, which they browse at heights most other herbivores cannot reach.\\nLions, leopards, spotted hyenas, and African wild dogs may prey upon giraffes. Giraffes live in herds of related females and their offspring, or bachelor herds of unrelated adult males, but are gregarious and may gather in large aggregations. Males establish social hierarchies through \"necking\", combat bouts where the neck is used as a weapon. Dominant males gain mating access to females, which bear sole responsibility for raising the young.\\nThe giraffe has intrigued various ancient and modern cultures for its peculiar appearance, and has often been featured in paintings, books, and cartoons. It is classified by the International Union for Conservation of Nature (IUCN) as vulnerable to extinction and has been extirpated from many parts of its former range. Giraffes are still found in numerous national parks and game reserves, but estimates as of 2016 indicate there are approximately 97,500 members of Giraffa in the wild. More than 1,600 were kept in zoos in 2010.\\n\\n\\n== Etymology ==\\nThe name \"giraffe\" has its earliest known origins in the Arabic word zarāfah (زرافة), perhaps borrowed from the animal\\'s Somali name geri. The Arab name is translated as \"fast-walker\". In early Modern English the spellings jarraf and ziraph were used, probably directly from the Arabic, and in Middle English jarraf and ziraph, gerfauntz. The Italian form giraffa arose in the 1590s. The modern English form developed around 1600 from the French girafe.\"Camelopard\"  is an archaic English name for the giraffe; it derives from the Ancient Greek καμηλοπάρδαλις (kamēlopárdalis), from κάμηλος (kámēlos), \"camel\", and πάρδαλις (párdalis), \"leopard\", referring to its camel-like shape and leopard-like colouration.\\n\\n\\n== Taxonomy ==\\n\\n\\n=== Evolution ===\\nThe giraffe is one of only two living genera of the family Giraffidae in the order Artiodactyla, the other being the okapi. The family was once much more extensive, with over 10 fossil genera described. The elongation of the neck appears to have started early in the giraffe lineage. Comparisons between giraffes and their ancient relatives suggest vertebrae close to the skull lengthened earlier, followed by lengthening of vertebrae further down.One early giraffid ancestor was Canthumeryx which has been dated variously to have lived 25–20 million years ago (mya), 17–15 mya or 18–14.3 mya and whose deposits have been found in Libya. This animal resembled an antelope and had a medium-sized, lightly-built body. Giraffokeryx appeared 15–12 mya on the Indian subcontinent and resembled an okapi or a small giraffe, and had a longer neck and similar ossicones. Giraffokeryx may have shared a clade with more massively built giraffids like Sivatherium and Bramatherium.Giraffids like Palaeotragus, Shansitherium and Samotherium appeared 14 mya and lived throughout Africa and Eurasia. These animals had broader skull with reduced frontal cavities. Paleotragus resembled the okapi and may have been its ancestor. Others find that the okapi lineage diverged earlier, before Giraffokeryx.  Samotherium was a particularly important transitional fossil in the giraffe lineage, as the length and structure of its cervical vertebrae were between those of a modern giraffe and an okapi, and its neck posture was likely similar to the former. Bohlinia, which first appeared in southeastern Europe and lived 9–7 mya, was likely a direct ancestor of the giraffe. Bohlinia closely resembled modern giraffes, having a long neck and legs and similar ossicones and dentition.Bohlinia colonised China and northern India and produced the Giraffa which, around 7 mya, reached Africa. Climate changes lead to the extinction of the Asian giraffes, while the African giraffes survived and radiated into new species. Living giraffes appear to have arisen around 1 mya in eastern Africa during the Pleistocene. Some biologists suggest the modern giraffes descended from G. jumae; others find G. gracilis a more likely candidate. G. jumae was larger and more robust, while G. gracilis was smaller and more slender.\\n\\nThe changes from extensive forests to more open habitats, which began 8 mya, are believed to be the main driver for the evolution of giraffes. During this time, tropical plants disappeared and were replaced by arid C4 plants, and a dry savannah emerged across eastern and northern Africa and western India. Some researchers have hypothesised that this new habitat coupled with a different diet, including acacia species, may have exposed giraffe ancestors to toxins that caused higher mutation rates and a higher rate of evolution. The coat patterns of modern giraffes may also have coincided with these habitat changes. Asian giraffes are hypothesised to have had more okapi-like colourations.The giraffe genome is around 2.9 billion base pairs in length compared to the 3.3 billion base pairs of the okapi. Of the proteins in giraffe and okapi genes, 19.4% are identical. The divergence of giraffe and okapi lineages dates to around 11.5 mya. A small group of regulatory genes in the giraffe appear to be responsible for the animal\\'s height and associated circulatory adaptations.\\n\\n\\n=== Species and subspecies ===\\nThe International Union for Conservation of Nature (IUCN) currently recognises only one species of giraffe with nine subspecies.Carl Linnaeus originally classified living giraffes as one species in 1758. He gave it the binomial name Cervus camelopardalis. Mathurin Jacques Brisson coined the genus Giraffa in 1762. During the 1900s, various taxonomies with two or three species were proposed.  A 2007 study on the genetics of giraffes using mitochondrial DNA suggested at least six lineages could be recognised as species. A 2011 study using detailed analyses of the morphology of giraffes, and application of the phylogenetic species concept, described eight species of living giraffes. A 2016 study also concluded that living giraffes consist of multiple species. The researchers suggested the existence of four species, which have not exchanged genetic information between each other for 1 to 2 million years.A 2020 study showed that depending on the method chosen, different taxonomic hypotheses recognizing from two to six species can be considered for the genus Giraffa. That study also found that multi-species coalescent methods can lead to taxonomic over-splitting, as those methods delimit geographic structures rather than species. The three-species hypothesis, which recognises G. camelopardalis, G. giraffa, and G. tippelskirchi, is highly supported by phylogenetic analyses and also corroborated by most population genetic and multi-species coalescent analyses. A 2021 whole genome sequencing study suggests the existence of four distinct species and seven subspecies.The cladogram below shows the phylogenetic relationship between the four proposed species and seven subspecies based on the genome analysis. Note the eight lineages correspond to eight of the traditional subspecies in the one species hypothesis. The Rothschild giraffe is subsumed into G. camelopardalis camelopardalis.\\n\\nThe following table compares the different hypotheses for giraffe species. The description column shows the traditional nine subspecies in the one species hypothesis.\\nThe first extinct species to be described was Giraffa sivalensis Falconer and Cautley 1843, a reevaluation of a vertebra that was initially described as a fossil of the living giraffe.  While taxonomic opinion may be lacking on some names, the extinct species that have been published include:\\nGiraffa gracilis\\nGiraffa jumae\\nGiraffa priscilla\\nGiraffa pomeli\\nGiraffa punjabiensis\\nGiraffa pygmaea\\nGiraffa sivalensis\\nGiraffa stillei\\n\\n\\n== Characteristics ==\\n\\nFully grown giraffes stand 4.3–5.7 m (14.1–18.7 ft) tall, with males taller than females. The average weight is 1,192 kg (2,628 lb) for an adult male and 828 kg (1,825 lb) for an adult female. Despite its long neck and legs, its body is relatively short.:\\u200a66\\u200a The skin is mostly gray, or tan, and can reach a thickness of 20 mm (0.79 in).:\\u200a87\\u200a The 80–100 centimetres (31–39 in) long tail ends in a long, dark tuft of hair and is used as a defense against insects.:\\u200a94\\u200aThe coat has dark blotches or patches, which can be orange, chestnut, brown, or nearly black, surrounded by light hair, usually white or cream coloured. Male giraffes become darker as they grow old. The coat pattern has been claimed to serve as camouflage in the light and shade patterns of savannah woodlands. When standing among trees and bushes, they are hard to see at even a few metres distance. However, adult giraffes move about to gain the best view of an approaching predator, relying on their size and ability to defend themselves rather than on camouflage, which may be more important for calves. Each giraffe has a unique coat pattern. Calves inherit some coat pattern traits from their mothers, and variation in some spot traits is correlated with calf survival. The skin under the blotches may regulate the animal\\'s body temperature, being sites for complex blood vessel systems and large sweat glands.The fur may give the animal chemical defense, as its parasite repellents give it a characteristic scent. At least 11 main aromatic chemicals are in the fur, although indole and 3-methylindole are responsible for most of the smell. Because males have a stronger odour than females, it may also have a sexual function.\\n\\n\\n=== Head ===\\n\\nBoth sexes have prominent horn-like structures called ossicones, which can reach 13.5 cm (5.3 in). They are formed from ossified cartilage, covered in skin and fused to the skull at the parietal bones.:\\u200a95–97\\u200a Being vascularised, the ossicones may have a role in thermoregulation, and are used in combat between males. Appearance is a reliable guide to the sex or age of a giraffe: the ossicones of females and young are thin and display tufts of hair on top, whereas those of adult males tend to be bald and knobed on top. A lump, which is more prominent in males, emerges in the middle of the skull. Males develop calcium deposits that form bumps on their skulls as they age. Multiple sinuses lighten a giraffe\\'s skull.:\\u200a103\\u200a However, as males age, their skulls become heavier and more club-like, helping them become more dominant in combat. The occipital condyles bones at the bottom of the skull allow the animal to tip its head over 90 degrees and grab food on the branches directly above them with the tongue.:\\u200a103,\\u200a110\\u200aLocated on the sides of the head, the giraffe has a broad visual field from its great height.:\\u200a85,\\u200a102\\u200a Compared to other ungulates, giraffe vision is more binocular and the eyes are larger with a greater retinal surface area. Giraffes may see in colour:\\u200a85\\u200a and their senses of hearing and smell are sharp. The ears are movable:\\u200a95\\u200a and the nostrils are slit-shaped, possibly to withstand blowing sand. The giraffe\\'s tongue is about 45 cm (18 in) long. It is black, perhaps to protect against sunburn, and can grasp foliage and delicately pick off leaves.:\\u200a109–110\\u200a The upper lip is flexible and hairy to protect against sharp prickles. The upper jaw has a hard palate instead of front teeth. The molars and premolars are wide with low crowns on the surface.:\\u200a106\\u200a\\n\\n\\n=== Neck ===\\nThe giraffe has an extremely elongated neck, which can be up to 2.4 m (7.9 ft) in length. Along the neck is a mane made of short, erect hairs. The neck typically rests at an angle of 50–60 degrees, though juveniles are closer to 70 degrees.:\\u200a72–73\\u200a The long neck results from a disproportionate lengthening of the cervical vertebrae, not from the addition of more vertebrae. Each cervical vertebra is over 28 cm (11 in) long.:\\u200a71\\u200a They comprise 52–54 per cent of the length of the giraffe\\'s vertebral column, compared with the 27–33 percent typical of similar large ungulates, including the giraffe\\'s closest living relative, the okapi. This elongation largely takes place after birth, perhaps because giraffe mothers would have a difficult time giving birth to young with the same neck proportions as adults. The giraffe\\'s head and neck are held up by large muscles and a nuchal ligament, which are anchored by long thoracic vertebrae spines, giving them a hump.\\n\\nThe giraffe\\'s neck vertebrae have ball and socket joints.:\\u200a71\\u200a The point of articulation between the cervical and thoracic vertebrae of giraffes is shifted to lie between the first and second thoracic vertebrae (T1 and T2), unlike most other ruminants where the articulation is between the seventh cervical vertebra (C7) and T1. This allows C7 to contribute directly to increased neck length and has given rise to the suggestion that T1 is actually C8, and that giraffes have added an extra cervical vertebra. However, this proposition is not generally accepted, as T1 has other morphological features, such as an articulating rib, deemed diagnostic of thoracic vertebrae, and because exceptions to the mammalian limit of seven cervical vertebrae are generally characterised by increased neurological anomalies and maladies.There are several hypotheses regarding the evolutionary origin and maintenance of elongation in giraffe necks. Charles Darwin originally suggested the \"competing browsers hypothesis\", which has been challenged only recently. It suggests that competitive pressure from smaller browsers, like kudu, steenbok and impala, encouraged the elongation of the neck, as it enabled giraffes to reach food that competitors could not. This advantage is real, as giraffes can and do feed up to 4.5 m (15 ft) high, while even quite large competitors, such as kudu, can feed up to only about 2 m (6 ft 7 in) high. There is also research suggesting that browsing competition is intense at lower levels, and giraffes feed more efficiently (gaining more leaf biomass with each mouthful) high in the canopy. However, scientists disagree about just how much time giraffes spend feeding at levels beyond the reach of other browsers,\\nand a 2010 study found that adult giraffes with longer necks actually suffered higher mortality rates under drought conditions than their shorter-necked counterparts. This study suggests that maintaining a longer neck requires more nutrients, which puts longer-necked giraffes at risk during a food shortage.Another theory, the sexual selection hypothesis, proposes the long necks evolved as a secondary sexual characteristic, giving males an advantage in \"necking\" contests (see below) to establish dominance and obtain access to sexually receptive females. In support of this theory, necks are longer and heavier for males than females of the same age, and males do not employ other forms of combat. However, one objection is it fails to explain why female giraffes also have long necks. It has also been proposed that the neck serves to give the animal greater vigilance.\\n\\n\\n=== Legs, locomotion and posture ===\\n\\nA giraffe\\'s front and back legs are about the same length. The radius and ulna of the front legs are articulated by the carpus, which, while structurally equivalent to the human wrist, functions as a knee. It appears that a suspensory ligament allows the lanky legs to support the animal\\'s great weight. The hooves of large male giraffes reach 31 cm × 23 cm (12.2 in × 9.1 in) in diameter.:\\u200a98\\u200a The fetlock of the leg is low to the ground, allowing the hoof to better support the animal\\'s weight. Giraffes lack dewclaws and interdigital glands. While the pelvis is relatively short, the ilium has stretched out crests.A giraffe has only two gaits: walking and galloping. Walking is done by moving the legs on one side of the body, then doing the same on the other side. When galloping, the hind legs move around the front legs before the latter move forward, and the tail will curl up. The movements of the head and neck provide balance and control momentum while galloping.:\\u200a327–29\\u200a The giraffe can reach a sprint speed of up to 60 km/h (37 mph), and can sustain 50 km/h (31 mph) for several kilometres. Giraffes would probably not be competent swimmers as their long legs would be highly cumbersome in the water, although they might be able to float. When swimming, the thorax would be weighed down by the front legs, making it difficult for the animal to move its neck and legs in harmony or keep its head above the water\\'s surface.A giraffe rests by lying with its body on top of its folded legs.:\\u200a329\\u200a To lie down, the animal kneels on its front legs and then lowers the rest of its body. To get back up, it first gets on its front knees and positions its backside on top of its hindlegs. It then pulls up the backside upwards and the front legs stand straight up again. At each stage, the animal swings its head for balance.:\\u200a67\\u200a If the giraffe wants to reach down to drink, it either spreads its front legs or bends its knees. Studies in captivity found the giraffe sleeps intermittently around 4.6 hours per day, mostly at night. It usually sleeps lying down; however, standing sleeps have been recorded, particularly in older individuals. Intermittent short \"deep sleep\" phases while lying are characterised by the giraffe bending its neck backwards and resting its head on the hip or thigh, a position believed to indicate paradoxical sleep.\\n\\n\\n=== Internal systems ===\\n\\nIn mammals, the left recurrent laryngeal nerve is longer than the right; in the giraffe, it is over 30 cm (12 in) longer. These nerves are longer in the giraffe than in any other living animal; the left nerve is over 2 m (6 ft 7 in) long. Each nerve cell in this path begins in the brainstem and passes down the neck along the vagus nerve, then branches off into the recurrent laryngeal nerve which passes back up the neck to the larynx. Thus, these nerve cells have a length of nearly 5 m (16 ft) in the largest giraffes. Despite its long neck and large skull, the brain of the giraffe is typical for an ungulate. Evaporative heat loss in the nasal passages keep the giraffe\\'s brain cool. The shape of the skeleton gives the giraffe a small lung volume relative to its mass. Its long neck gives it a large amount of dead space, in spite of its narrow windpipe. The giraffe also has a high tidal volume so the balance of dead space and tidal volume is much the same as other mammals. The animal can still provide enough oxygen for its tissues, and it can increase its respiratory rate and oxygen diffusion when running.\\n\\nThe circulatory system of the giraffe has several adaptations for its great height.  Its 11 kg (25 lb) and 60 cm (2 ft) heart must generate approximately double the blood pressure required for a human to maintain blood flow to the brain. As such, the wall of the heart can be as thick as 7.5 cm (3.0 in). Giraffes have relatively high heart rates for their size, at 150 beats per minute.:\\u200a76\\u200a When the animal lowers its head, the blood rushes down fairly unopposed and a rete mirabile in the upper neck, with its large cross-sectional area, prevents excess blood flow to the brain. When it raises again, the blood vessels constrict and push blood into the brain so the animal does not faint. The jugular veins contain several (most commonly seven) valves to prevent blood flowing back into the head from the inferior vena cava and right atrium while the head is lowered. Conversely, the blood vessels in the lower legs are under great pressure because of the weight of fluid pressing down on them. To solve this problem, the skin of the lower legs is thick and tight, preventing too much blood from pouring into them.Giraffes have oesophageal muscles that are strong enough to allow regurgitation of food from the stomach up the neck and into the mouth for rumination.:\\u200a78\\u200a They have four chambered stomachs, which are adapted to their specialized diet. The intestines of an adult giraffe measure more than 70 m (230 ft) in length and have a relatively small ratio of small to large intestine. The giraffe has a small, compact liver.:\\u200a76\\u200a Fetuses may be a small gallbladder that vanishes before birth.\\n\\n\\n== Behaviour and ecology ==\\n\\n\\n=== Habitat and feeding ===\\n\\nGiraffes usually inhabit savannahs and open woodlands. They prefer by areas dominated by Acacieae, Commiphora, Combretum and Terminalia tree over Brachystegia which are more densely spaced.:\\u200a322\\u200a The Angolan giraffe can be found in desert environments. Giraffes browse on the twigs of trees, preferring those of the subfamily Acacieae and the genera Commiphora and Terminalia, which are important sources of calcium and protein to sustain the giraffe\\'s growth rate. They also feed on shrubs, grass and fruit.:\\u200a324\\u200a A giraffe eats around 34 kg (75 lb) of plant matter daily. When stressed, giraffes may chew on large branches, stripping them of bark.:\\u200a325\\u200a Giraffes are also recorded to chew old bones.:\\u200a102\\u200aDuring the wet season, food is abundant and giraffes are more spread out, while during the dry season, they gather around the remaining evergreen trees and bushes. Mothers tend to feed in open areas, presumably to make it easier to detect predators, although this may reduce their feeding efficiency. As a ruminant, the giraffe first chews its food, then swallows it for processing and then visibly passes the half-digested cud up the neck and back into the mouth to chew again.:\\u200a78–79\\u200a The giraffe requires less food than many other herbivores because the foliage it eats has more concentrated nutrients and it has a more efficient digestive system. The animal\\'s faeces come in the form of small pellets. When it has access to water, a giraffe will go no more than three days without drinking.Giraffes have a great effect on the trees that they feed on, delaying the growth of young trees for some years and giving \"waistlines\" to too tall trees. Feeding is at its highest during the first and last hours of daytime. Between these hours, giraffes mostly stand and ruminate. Rumination is the dominant activity during the night, when it is mostly done lying down.\\n\\n\\n=== Social life ===\\n\\nGiraffes are usually found in groups that vary in size and composition according to ecological, anthropogenic, temporal, and social factors. Traditionally, the composition of these groups had been described as open and ever-changing. For research purposes, a \"group\" has been defined as \"a collection of individuals that are less than a kilometre apart and moving in the same general direction\". More recent studies have found that giraffes have long lasting social groups or cliques based on kinship, sex or other factors, and these groups regularly associate with other groups in larger communities or sub-communities within a fission–fusion society. Proximity to humans can disrupt social arrangements. Masai giraffes in Tanzania have different subpopulations with overlapping ranges, each of which differ in reproductive rates and calf mortality.\\n\\nThe number of giraffes in a group can range from one up to 66 individuals. Giraffe groups tend to be sex-segregated although mixed-sex groups made of adult females and young males also occur. Female groups may be matrilineally related. Generally females are more selective than males in who they associate with regarding individuals of the same sex. Particularly stable giraffe groups are those made of mothers and their young, which can last weeks or months.  Young males also form groups and will engage in playfights. However, as they get older, males become more solitary but may also associate in pairs or with female groups. Giraffes are not territorial, but they have home ranges that vary according to rainfall and proximity to human settlements. Male giraffes occasionally roam far from areas that they normally frequent.:\\u200a329\\u200aEarly biologists suggested giraffes were mute and unable to create enough air flow to vibrate their vocal folds. To the contrary; they have been recorded to communicate using snorts, sneezes, coughs, snores, hisses, bursts, moans, grunts, growls and flute-like sounds. During courtship, males emit loud coughs. Females call their young by bellowing. Calves will emit bleats, mooing and mewing sounds. Snorting and hissing is associated with vigilance. During nighttime, giraffes appear to hum to each other above the infrasound range. The purpose is unclear. Dominant males display to other males with an erect posture; holding the chin and head up while walking stiffly and displaying their side. The less dominant show submissiveness by dropping the head and ears, lowering the chin and fleeing.\\n\\n\\n=== Reproduction and parental care ===\\n\\nReproduction in giraffes is broadly polygamous: a few older males mate with the fertile females. Females can reproduce throughout the year and experience oestrus cycling approximately every 15 days. Female giraffes in oestrous are dispersed over space and time, so reproductive adult males adopt a strategy of roaming among female groups to seek mating opportunities, with periodic hormone-induced rutting behaviour approximately every two weeks. Males prefer young adult females over juveniles and older adults.Male giraffes assess female fertility by tasting the female\\'s urine to detect oestrus, in a multi-step process known as the flehmen response. Once an oestrous female is detected, the male will attempt to court her. When courting, dominant males will keep subordinate ones at bay. A courting male may lick a female\\'s tail, lay his head and neck on her body or nudge her with his ossicones. During copulation, the male stands on his hind legs with his head held up and his front legs resting on the female\\'s sides.Giraffe gestation lasts 400–460 days, after which a single calf is normally born, although twins occur on rare occasions. The mother gives birth standing up. The calf emerges head and front legs first, having broken through the fetal membranes, and falls to the ground, severing the umbilical cord. A newborn giraffe is 1.7–2 m (5.6–6.6 ft) tall. Within a few hours of birth, the calf can run around and is almost indistinguishable from a one-week-old. However, for the first one to three weeks, it spends most of its time hiding; its coat pattern providing camouflage. The ossicones, which have lain flat while it was in the womb, raise up in a few days.\\n\\nMothers with calves will gather in nursery herds, moving or browsing together. Mothers in such a group may sometimes leave their calves with one female while they forage and drink elsewhere. This is known as a \"calving pool\". Calves are at risk of predation, and a mother giraffe will stand over them and kick at an approaching predator. Females watching calving pools will only alert their own young if they detect a disturbance, although the others will take notice and follow. Calves first ruminate at four to six months and stop nursing at six to eight months. Young may not reach independence until they are 14 months old.:\\u200a49\\u200a Females become sexually mature when they are four years old, while males become mature at four or five years. Spermatogenesis in male giraffes begins at three to four years of age. Males must wait until they are at least seven years old to gain the opportunity to mate.\\n\\n\\n=== Necking ===\\n\\nMale giraffes use their necks as weapons in combat, a behaviour known as \"necking\". Necking is used to establish dominance and males that win necking bouts have greater reproductive success. This behaviour occurs at low or high intensity. In low-intensity necking, the combatants rub and lean on each other. The male that can keep itself more upright wins the bout. In high-intensity necking, the combatants will spread their front legs and swing their necks at each other, attempting to land blows with their ossicones. The contestants will try to dodge each other\\'s blows and then prepare to counter. The power of a blow depends on the weight of the skull and the arc of the swing. A necking duel can last more than half an hour, depending on how well matched the combatants are.:\\u200a331\\u200a Although most fights do not lead to serious injury, there have been records of broken jaws, broken necks, and even deaths.After a duel, it is common for two male giraffes to caress and court each other. Such interactions between males have been found to be more frequent than heterosexual coupling. In one study, up to 94 percent of observed mounting incidents took place between males. The proportion of same-sex activities varied from 30 to 75 percent. Only one percent of same-sex mounting incidents occurred between females.\\n\\n\\n=== Mortality and health ===\\n\\nGiraffes have high adult survival probability, and an unusually long lifespan compared to other ruminants, up to 38 years. Because of their size, eyesight and powerful kicks, adult giraffes are usually not subject to predation, although lions may regularly prey on individuals up to 550 kg (1,210 lb). Giraffes are the most common food source for the big cats in Kruger National Park, comprising nearly a third of the meat consumed, although only a small portion of the giraffes were probably killed by predators, as a majority of the consumed giraffes appeared to be scavenged. Adult female survival is significantly correlated with the number of social associations. Calves are much more vulnerable than adults and are also preyed on by leopards, cheetahs, Nile crocodiles, spotted hyenas and wild dogs. A quarter to a half of giraffe calves reach adulthood. Calf survival varies according to the season of birth, with calves born during the dry season having higher survival rates.The local, seasonal presence of large herds of migratory wildebeests and zebras reduces predation pressure on giraffe calves and increases their survival probability. In turn, it has been suggested that other ungulates may benefit from associating with giraffes, as their height allows them to spot predators from further away. Zebras were found to access predation risk by watching giraffes and spend less time looking around when giraffes are present.Some parasites feed on giraffes. They are often hosts for ticks, especially in the area around the genitals, which have thinner skin than other areas. Tick species that commonly feed on giraffes are those of genera Hyalomma, Amblyomma and Rhipicephalus. Giraffes may rely on red-billed and yellow-billed oxpeckers to clean them of ticks and alert them to danger. Giraffes host numerous species of internal parasites and are susceptible to various diseases. They were victims of the (now eradicated) viral illness rinderpest. Giraffes can also suffer from a skin disorder, which comes in the form of wrinkles, lesions or raw fissures. As much as 79% of giraffes have symptoms of the disease in Ruaha National Park, but it did not cause mortality in Tarangire and is less prevalent in areas with fertile soils.\\n\\n\\n== Relationship with humans ==\\n\\n\\n=== Cultural significance ===\\nWith its lanky build and spotted coat, the giraffe has been a source of fascination throughout human history, and its image is widespread in culture. It has represented flexibility, far-sightedness, femininity, fragility, passivity, grace, beauty and the continent of Africa itself.:\\u200a7,\\u200a116\\u200a\\n\\nGiraffes were depicted in art throughout the African continent, including that of the Kiffians, Egyptians, and Kushites.:\\u200a45–47\\u200a The Kiffians were responsible for a life-size rock engraving of two giraffes, dated 8,000 years ago, that has been called the \"world\\'s largest rock art petroglyph\".:\\u200a45\\u200a  How the giraffe got its height has been the subject of various African folktales. The Tugen people of modern Kenya used the giraffe to depict their god Mda. The Egyptians gave the giraffe its own hieroglyph; \\'sr\\' in Old Egyptian and \\'mmy\\' in later periods.:\\u200a49\\u200aGiraffes have a presence in modern Western culture. Salvador Dalí depicted them with burning manes in some of his surrealist paintings. Dali considered the giraffe to be a masculine symbol, and a flaming giraffe was meant to be a \"masculine cosmic apocalyptic monster\".:\\u200a123\\u200a Several children\\'s books feature the giraffe, including David A. Ufer\\'s The Giraffe Who Was Afraid of Heights, Giles Andreae\\'s Giraffes Can\\'t Dance and Roald Dahl\\'s The Giraffe and the Pelly and Me. Giraffes have appeared in animated films, as minor characters in Disney\\'s The Lion King and Dumbo, and in more prominent roles in The Wild and the Madagascar films. Sophie the Giraffe has been a popular teether since 1961. Another famous fictional giraffe is the Toys \"R\" Us mascot Geoffrey the Giraffe.:\\u200a127\\u200aThe giraffe has also been used for some scientific experiments and discoveries. Scientists have used the properties of giraffe skin as a model for astronaut and fighter pilot suits because the people in these professions are in danger of passing out if blood rushes to their legs.:\\u200a76\\u200a Computer scientists have modeled the coat patterns of several subspecies using reaction–diffusion mechanisms. The constellation of Camelopardalis, introduced in the seventeenth century, depicts a giraffe.:\\u200a119–20\\u200a The Tswana people of Botswana traditionally see the constellation Crux as two giraffes—Acrux and Mimosa forming a male, and Gacrux and Delta Crucis forming the female.\\n\\n\\n=== Captivity ===\\nThe Egyptians were among the earliest people to keep giraffes in captivity shipped them around the Mediterranean.:\\u200a48–49\\u200a The giraffe was among the many animals collected and displayed by the Romans. The first one in Rome was brought in by Julius Caesar in 46 BC..:\\u200a52\\u200a With the fall of the Western Roman Empire, the housing of giraffes in Europe declined.:\\u200a54\\u200a During the Middle Ages, giraffes were known to Europeans through contact with the Arabs, who revered the giraffe for its peculiar appearance.Individual captive giraffes were given celebrity status throughout history. In 1414, a giraffe from Malindi was taken to China by explorer Zheng He and placed in a Ming dynasty zoo. The animal was a source of fascination for the Chinese people, who associated it with the mythical Qilin.:\\u200a56\\u200a The Medici giraffe was a giraffe presented to Lorenzo de\\' Medici in 1486. It caused a great stir on its arrival in Florence. Zarafa, another famous giraffe, was brought from Egypt to Paris in the early 19th century as a gift for Charles X of France. A sensation, the giraffe was the subject of numerous memorabilia or \"giraffanalia\".:\\u200a81\\u200aGiraffes have become popular attractions in modern zoos, though keeping them healthy is difficult as they require vast areas and need to eat large amounts of browse. Captive giraffes in North America and Europe appear to have a higher mortality rate than in the wild; the most common causes being poor husbandry, nutrition and management.:\\u200a153\\u200a Giraffes in zoos display stereotypical behaviours, particularly the licking of inanimate objects and pacing.:\\u200a164\\u200a Zookeepers may offer various activities to stimulate giraffes, including training them to take food from visitors.:\\u200a167,\\u200a176\\u200a Stables for giraffes are built particularly high to accommodate their height.:\\u200a183\\u200a\\n\\n\\n=== Exploitation ===\\nGiraffes were probably common targets for hunters throughout Africa.:\\u200a337\\u200a Different parts of their bodies were used for different purposes. Their meat was used for food. The tail hairs served as flyswatters, bracelets, necklaces, and threads. Shields, sandals, and drums were made using the skin, and the strings of musical instruments were from the tendons.:\\u200a337\\u200a In Buganda, the smoke of burning giraffe skin was traditionally used to treat nose bleeds.:\\u200a337\\u200a The Humr people of Kordofan consume the drink Umm Nyolokh, which is prepared from the liver and bone marrow of giraffes. Richard Rudgley hypothesised that Umm Nyolokh might contain DMT. The drink is said to cause hallucinations of giraffes, believed to be the giraffes\\' ghosts, by the Humr.\\n\\n\\n=== Conservation status ===\\nIn 2016, giraffes were assessed as Vulnerable from a conservation perspective by the IUCN. In 1985, it was estimated there were 155,000 giraffes in the wild. This declined to over 140,000 in 1999. Estimates as of 2016 indicate there are approximately 97,500 members of Giraffa in the wild. The Masai and reticulated subspecies are endangered, and the Rothschild subspecies is near threatened. The Nubian subspecies is critically endangered.\\n\\nThe primary causes for giraffe population declines are habitat loss and direct killing for bushmeat markets.  Giraffes have been extirpated from much of their historic range, including Eritrea, Guinea, Mauritania and Senegal. They may also have disappeared from Angola, Mali, and Nigeria, but have been introduced to Rwanda and Eswatini. As of 2010, there were more than 1,600 in captivity at Species360-registered zoos. Habitat destruction has hurt the giraffe. In the Sahel, the need for firewood and grazing room for livestock has led to deforestation. Normally, giraffes can coexist with livestock, since they avoid direct competition by feeding above them. In 2017, severe droughts in northern Kenya led to increased tensions over land and the killing of wildlife by herders, with giraffe populations being particularly hit.Protected areas like national parks provide important habitat and anti-poaching protection to giraffe populations. Community-based conservation efforts outside national parks are also effective at protecting giraffes and their habitats. Private game reserves have contributed to the preservation of giraffe populations in eastern and southern Africa. The giraffe is a protected species in most of its range. It is the national animal of Tanzania, and is protected by law, and unauthorised killing can result in imprisonment. The UN backed Convention of Migratory Species selected giraffes for protection in 2017. In 2019, giraffes were listed under Appendix II of the Convention on International Trade in Endangered Species (CITES), which means international trade including in parts/derivatives is regulated.Translocations are sometimes used to augment or re-establish diminished or extirpated populations, but these activities are risky and difficult to undertake using the best practices of extensive pre- and post-translocation studies and ensuring a viable founding population. Aerial survey is the most common method of monitoring giraffe population trends in the vast roadless tracts of African landscapes, but aerial methods are known to undercount giraffes. Ground-based survey methods are more accurate and can be used in conjunction with aerial surveys to make accurate estimates of population sizes and trends.\\n\\n\\n== See also ==\\nFauna of Africa\\nGiraffe Centre\\nGiraffe Manor - hotel in Nairobi with giraffes\\n\\n\\n== References ==\\n\\n\\n== External links ==\\n\\nGiraffe Conservation Foundation'"
            ],
            "application/vnd.google.colaboratory.intrinsic+json": {
              "type": "string"
            }
          },
          "metadata": {},
          "execution_count": 10
        }
      ]
    },
    {
      "cell_type": "markdown",
      "metadata": {
        "id": "EZkmNJ7XO9xX"
      },
      "source": [
        "We need to clean this up a bit. Let us remove all the special characters and keep only 26 letters and space. Note that this will remove accented characters in French also. We are also removing all the numbers and spaces. So this is not an ideal solution."
      ]
    },
    {
      "cell_type": "code",
      "metadata": {
        "id": "e5yf5P9pPI4t"
      },
      "source": [
        "def cleanup(text):\n",
        "  text = text.lower()  # make it lowercase\n",
        "  text = re.sub('[^a-z]+', '', text) # only keep characters, i.e. if not a-z then replace with space.\n",
        "  return text"
      ],
      "execution_count": null,
      "outputs": []
    },
    {
      "cell_type": "code",
      "source": [
        "#Regex Code:\n",
        "\n",
        "t1 = re.search('^((?=.+[@#$%&*-_\\/\\.!])(?=.+[a-z])(?=.+[A-Z])(?=.+[0-9])[A-Za-z0-9@#$%&*-_\\/\\.!]{6,30})$', fr2)\n"
      ],
      "metadata": {
        "id": "h6730cnB1PNt"
      },
      "execution_count": null,
      "outputs": []
    },
    {
      "cell_type": "code",
      "source": [
        "text1 = re.sub('[a-z]', '1', 'espèce d\\'« éléphant d\\?Afrique »,') #sub will substitute with '1' to all the letters\n",
        "text1"
      ],
      "metadata": {
        "colab": {
          "base_uri": "https://localhost:8080/",
          "height": 35
        },
        "id": "Iawqez-f4oT5",
        "outputId": "ec336627-b672-4978-bad1-d0d70e878989"
      },
      "execution_count": null,
      "outputs": [
        {
          "output_type": "execute_result",
          "data": {
            "text/plain": [
              "\"111è11 1'« é1é11111 1\\\\?A111111 »,\""
            ],
            "application/vnd.google.colaboratory.intrinsic+json": {
              "type": "string"
            }
          },
          "metadata": {},
          "execution_count": 12
        }
      ]
    },
    {
      "cell_type": "code",
      "metadata": {
        "id": "qrOjC32fRuTK"
      },
      "source": [
        "eng1 = cleanup(eng1)\n",
        "eng2 = cleanup(eng2)\n",
        "fr1 = cleanup(fr1)\n",
        "fr2 = cleanup(fr2)"
      ],
      "execution_count": null,
      "outputs": []
    },
    {
      "cell_type": "code",
      "metadata": {
        "id": "rIdqvL2G-LqL",
        "colab": {
          "base_uri": "https://localhost:8080/"
        },
        "outputId": "08e7df8e-fae1-4484-cb0f-6a9aed38e51d"
      },
      "source": [
        "print(eng1)"
      ],
      "execution_count": null,
      "outputs": [
        {
          "output_type": "stream",
          "name": "stdout",
          "text": [
            "The giraffe is a large African hoofed mammal belonging to the genus Giraffa. It is the tallest living terrestrial animal and the largest ruminant on Earth. Traditionally, giraffes were thought to be one species, Giraffa camelopardalis, with nine subspecies. Most recently, researchers proposed dividing them into up to eight extant species due to new research into their mitochondrial and nuclear DNA, as well as morphological measurements. Seven other extinct species of Giraffa are known from the fossil record.\n",
            "The giraffe's chief distinguishing characteristics are its extremely long neck and legs, its horn-like ossicones, and its spotted coat patterns. It is classified under the family Giraffidae, along with its closest extant relative, the okapi. Its scattered range extends from Chad in the north to South Africa in the south, and from Niger in the west to Somalia in the east. Giraffes usually inhabit savannahs and woodlands. Their food source is leaves, fruits, and flowers of woody plants, primarily acacia species, which they browse at heights most other herbivores cannot reach.\n",
            "Lions, leopards, spotted hyenas, and African wild dogs may prey upon giraffes. Giraffes live in herds of related females and their offspring, or bachelor herds of unrelated adult males, but are gregarious and may gather in large aggregations. Males establish social hierarchies through \"necking\", combat bouts where the neck is used as a weapon. Dominant males gain mating access to females, which bear sole responsibility for raising the young.\n",
            "The giraffe has intrigued various ancient and modern cultures for its peculiar appearance, and has often been featured in paintings, books, and cartoons. It is classified by the International Union for Conservation of Nature (IUCN) as vulnerable to extinction and has been extirpated from many parts of its former range. Giraffes are still found in numerous national parks and game reserves, but estimates as of 2016 indicate there are approximately 97,500 members of Giraffa in the wild. More than 1,600 were kept in zoos in 2010.\n",
            "\n",
            "\n",
            "== Etymology ==\n",
            "The name \"giraffe\" has its earliest known origins in the Arabic word zarāfah (زرافة), perhaps borrowed from the animal's Somali name geri. The Arab name is translated as \"fast-walker\". In early Modern English the spellings jarraf and ziraph were used, probably directly from the Arabic, and in Middle English jarraf and ziraph, gerfauntz. The Italian form giraffa arose in the 1590s. The modern English form developed around 1600 from the French girafe.\"Camelopard\"  is an archaic English name for the giraffe; it derives from the Ancient Greek καμηλοπάρδαλις (kamēlopárdalis), from κάμηλος (kámēlos), \"camel\", and πάρδαλις (párdalis), \"leopard\", referring to its camel-like shape and leopard-like colouration.\n",
            "\n",
            "\n",
            "== Taxonomy ==\n",
            "\n",
            "\n",
            "=== Evolution ===\n",
            "The giraffe is one of only two living genera of the family Giraffidae in the order Artiodactyla, the other being the okapi. The family was once much more extensive, with over 10 fossil genera described. The elongation of the neck appears to have started early in the giraffe lineage. Comparisons between giraffes and their ancient relatives suggest vertebrae close to the skull lengthened earlier, followed by lengthening of vertebrae further down.One early giraffid ancestor was Canthumeryx which has been dated variously to have lived 25–20 million years ago (mya), 17–15 mya or 18–14.3 mya and whose deposits have been found in Libya. This animal resembled an antelope and had a medium-sized, lightly-built body. Giraffokeryx appeared 15–12 mya on the Indian subcontinent and resembled an okapi or a small giraffe, and had a longer neck and similar ossicones. Giraffokeryx may have shared a clade with more massively built giraffids like Sivatherium and Bramatherium.Giraffids like Palaeotragus, Shansitherium and Samotherium appeared 14 mya and lived throughout Africa and Eurasia. These animals had broader skull with reduced frontal cavities. Paleotragus resembled the okapi and may have been its ancestor. Others find that the okapi lineage diverged earlier, before Giraffokeryx.  Samotherium was a particularly important transitional fossil in the giraffe lineage, as the length and structure of its cervical vertebrae were between those of a modern giraffe and an okapi, and its neck posture was likely similar to the former. Bohlinia, which first appeared in southeastern Europe and lived 9–7 mya, was likely a direct ancestor of the giraffe. Bohlinia closely resembled modern giraffes, having a long neck and legs and similar ossicones and dentition.Bohlinia colonised China and northern India and produced the Giraffa which, around 7 mya, reached Africa. Climate changes lead to the extinction of the Asian giraffes, while the African giraffes survived and radiated into new species. Living giraffes appear to have arisen around 1 mya in eastern Africa during the Pleistocene. Some biologists suggest the modern giraffes descended from G. jumae; others find G. gracilis a more likely candidate. G. jumae was larger and more robust, while G. gracilis was smaller and more slender.\n",
            "\n",
            "The changes from extensive forests to more open habitats, which began 8 mya, are believed to be the main driver for the evolution of giraffes. During this time, tropical plants disappeared and were replaced by arid C4 plants, and a dry savannah emerged across eastern and northern Africa and western India. Some researchers have hypothesised that this new habitat coupled with a different diet, including acacia species, may have exposed giraffe ancestors to toxins that caused higher mutation rates and a higher rate of evolution. The coat patterns of modern giraffes may also have coincided with these habitat changes. Asian giraffes are hypothesised to have had more okapi-like colourations.The giraffe genome is around 2.9 billion base pairs in length compared to the 3.3 billion base pairs of the okapi. Of the proteins in giraffe and okapi genes, 19.4% are identical. The divergence of giraffe and okapi lineages dates to around 11.5 mya. A small group of regulatory genes in the giraffe appear to be responsible for the animal's height and associated circulatory adaptations.\n",
            "\n",
            "\n",
            "=== Species and subspecies ===\n",
            "The International Union for Conservation of Nature (IUCN) currently recognises only one species of giraffe with nine subspecies.Carl Linnaeus originally classified living giraffes as one species in 1758. He gave it the binomial name Cervus camelopardalis. Mathurin Jacques Brisson coined the genus Giraffa in 1762. During the 1900s, various taxonomies with two or three species were proposed.  A 2007 study on the genetics of giraffes using mitochondrial DNA suggested at least six lineages could be recognised as species. A 2011 study using detailed analyses of the morphology of giraffes, and application of the phylogenetic species concept, described eight species of living giraffes. A 2016 study also concluded that living giraffes consist of multiple species. The researchers suggested the existence of four species, which have not exchanged genetic information between each other for 1 to 2 million years.A 2020 study showed that depending on the method chosen, different taxonomic hypotheses recognizing from two to six species can be considered for the genus Giraffa. That study also found that multi-species coalescent methods can lead to taxonomic over-splitting, as those methods delimit geographic structures rather than species. The three-species hypothesis, which recognises G. camelopardalis, G. giraffa, and G. tippelskirchi, is highly supported by phylogenetic analyses and also corroborated by most population genetic and multi-species coalescent analyses. A 2021 whole genome sequencing study suggests the existence of four distinct species and seven subspecies.The cladogram below shows the phylogenetic relationship between the four proposed species and seven subspecies based on the genome analysis. Note the eight lineages correspond to eight of the traditional subspecies in the one species hypothesis. The Rothschild giraffe is subsumed into G. camelopardalis camelopardalis.\n",
            "\n",
            "The following table compares the different hypotheses for giraffe species. The description column shows the traditional nine subspecies in the one species hypothesis.\n",
            "The first extinct species to be described was Giraffa sivalensis Falconer and Cautley 1843, a reevaluation of a vertebra that was initially described as a fossil of the living giraffe.  While taxonomic opinion may be lacking on some names, the extinct species that have been published include:\n",
            "Giraffa gracilis\n",
            "Giraffa jumae\n",
            "Giraffa priscilla\n",
            "Giraffa pomeli\n",
            "Giraffa punjabiensis\n",
            "Giraffa pygmaea\n",
            "Giraffa sivalensis\n",
            "Giraffa stillei\n",
            "\n",
            "\n",
            "== Characteristics ==\n",
            "\n",
            "Fully grown giraffes stand 4.3–5.7 m (14.1–18.7 ft) tall, with males taller than females. The average weight is 1,192 kg (2,628 lb) for an adult male and 828 kg (1,825 lb) for an adult female. Despite its long neck and legs, its body is relatively short.: 66  The skin is mostly gray, or tan, and can reach a thickness of 20 mm (0.79 in).: 87  The 80–100 centimetres (31–39 in) long tail ends in a long, dark tuft of hair and is used as a defense against insects.: 94 The coat has dark blotches or patches, which can be orange, chestnut, brown, or nearly black, surrounded by light hair, usually white or cream coloured. Male giraffes become darker as they grow old. The coat pattern has been claimed to serve as camouflage in the light and shade patterns of savannah woodlands. When standing among trees and bushes, they are hard to see at even a few metres distance. However, adult giraffes move about to gain the best view of an approaching predator, relying on their size and ability to defend themselves rather than on camouflage, which may be more important for calves. Each giraffe has a unique coat pattern. Calves inherit some coat pattern traits from their mothers, and variation in some spot traits is correlated with calf survival. The skin under the blotches may regulate the animal's body temperature, being sites for complex blood vessel systems and large sweat glands.The fur may give the animal chemical defense, as its parasite repellents give it a characteristic scent. At least 11 main aromatic chemicals are in the fur, although indole and 3-methylindole are responsible for most of the smell. Because males have a stronger odour than females, it may also have a sexual function.\n",
            "\n",
            "\n",
            "=== Head ===\n",
            "\n",
            "Both sexes have prominent horn-like structures called ossicones, which can reach 13.5 cm (5.3 in). They are formed from ossified cartilage, covered in skin and fused to the skull at the parietal bones.: 95–97  Being vascularised, the ossicones may have a role in thermoregulation, and are used in combat between males. Appearance is a reliable guide to the sex or age of a giraffe: the ossicones of females and young are thin and display tufts of hair on top, whereas those of adult males tend to be bald and knobed on top. A lump, which is more prominent in males, emerges in the middle of the skull. Males develop calcium deposits that form bumps on their skulls as they age. Multiple sinuses lighten a giraffe's skull.: 103  However, as males age, their skulls become heavier and more club-like, helping them become more dominant in combat. The occipital condyles bones at the bottom of the skull allow the animal to tip its head over 90 degrees and grab food on the branches directly above them with the tongue.: 103, 110 Located on the sides of the head, the giraffe has a broad visual field from its great height.: 85, 102  Compared to other ungulates, giraffe vision is more binocular and the eyes are larger with a greater retinal surface area. Giraffes may see in colour: 85  and their senses of hearing and smell are sharp. The ears are movable: 95  and the nostrils are slit-shaped, possibly to withstand blowing sand. The giraffe's tongue is about 45 cm (18 in) long. It is black, perhaps to protect against sunburn, and can grasp foliage and delicately pick off leaves.: 109–110  The upper lip is flexible and hairy to protect against sharp prickles. The upper jaw has a hard palate instead of front teeth. The molars and premolars are wide with low crowns on the surface.: 106 \n",
            "\n",
            "\n",
            "=== Neck ===\n",
            "The giraffe has an extremely elongated neck, which can be up to 2.4 m (7.9 ft) in length. Along the neck is a mane made of short, erect hairs. The neck typically rests at an angle of 50–60 degrees, though juveniles are closer to 70 degrees.: 72–73  The long neck results from a disproportionate lengthening of the cervical vertebrae, not from the addition of more vertebrae. Each cervical vertebra is over 28 cm (11 in) long.: 71  They comprise 52–54 per cent of the length of the giraffe's vertebral column, compared with the 27–33 percent typical of similar large ungulates, including the giraffe's closest living relative, the okapi. This elongation largely takes place after birth, perhaps because giraffe mothers would have a difficult time giving birth to young with the same neck proportions as adults. The giraffe's head and neck are held up by large muscles and a nuchal ligament, which are anchored by long thoracic vertebrae spines, giving them a hump.\n",
            "\n",
            "The giraffe's neck vertebrae have ball and socket joints.: 71  The point of articulation between the cervical and thoracic vertebrae of giraffes is shifted to lie between the first and second thoracic vertebrae (T1 and T2), unlike most other ruminants where the articulation is between the seventh cervical vertebra (C7) and T1. This allows C7 to contribute directly to increased neck length and has given rise to the suggestion that T1 is actually C8, and that giraffes have added an extra cervical vertebra. However, this proposition is not generally accepted, as T1 has other morphological features, such as an articulating rib, deemed diagnostic of thoracic vertebrae, and because exceptions to the mammalian limit of seven cervical vertebrae are generally characterised by increased neurological anomalies and maladies.There are several hypotheses regarding the evolutionary origin and maintenance of elongation in giraffe necks. Charles Darwin originally suggested the \"competing browsers hypothesis\", which has been challenged only recently. It suggests that competitive pressure from smaller browsers, like kudu, steenbok and impala, encouraged the elongation of the neck, as it enabled giraffes to reach food that competitors could not. This advantage is real, as giraffes can and do feed up to 4.5 m (15 ft) high, while even quite large competitors, such as kudu, can feed up to only about 2 m (6 ft 7 in) high. There is also research suggesting that browsing competition is intense at lower levels, and giraffes feed more efficiently (gaining more leaf biomass with each mouthful) high in the canopy. However, scientists disagree about just how much time giraffes spend feeding at levels beyond the reach of other browsers,\n",
            "and a 2010 study found that adult giraffes with longer necks actually suffered higher mortality rates under drought conditions than their shorter-necked counterparts. This study suggests that maintaining a longer neck requires more nutrients, which puts longer-necked giraffes at risk during a food shortage.Another theory, the sexual selection hypothesis, proposes the long necks evolved as a secondary sexual characteristic, giving males an advantage in \"necking\" contests (see below) to establish dominance and obtain access to sexually receptive females. In support of this theory, necks are longer and heavier for males than females of the same age, and males do not employ other forms of combat. However, one objection is it fails to explain why female giraffes also have long necks. It has also been proposed that the neck serves to give the animal greater vigilance.\n",
            "\n",
            "\n",
            "=== Legs, locomotion and posture ===\n",
            "\n",
            "A giraffe's front and back legs are about the same length. The radius and ulna of the front legs are articulated by the carpus, which, while structurally equivalent to the human wrist, functions as a knee. It appears that a suspensory ligament allows the lanky legs to support the animal's great weight. The hooves of large male giraffes reach 31 cm × 23 cm (12.2 in × 9.1 in) in diameter.: 98  The fetlock of the leg is low to the ground, allowing the hoof to better support the animal's weight. Giraffes lack dewclaws and interdigital glands. While the pelvis is relatively short, the ilium has stretched out crests.A giraffe has only two gaits: walking and galloping. Walking is done by moving the legs on one side of the body, then doing the same on the other side. When galloping, the hind legs move around the front legs before the latter move forward, and the tail will curl up. The movements of the head and neck provide balance and control momentum while galloping.: 327–29  The giraffe can reach a sprint speed of up to 60 km/h (37 mph), and can sustain 50 km/h (31 mph) for several kilometres. Giraffes would probably not be competent swimmers as their long legs would be highly cumbersome in the water, although they might be able to float. When swimming, the thorax would be weighed down by the front legs, making it difficult for the animal to move its neck and legs in harmony or keep its head above the water's surface.A giraffe rests by lying with its body on top of its folded legs.: 329  To lie down, the animal kneels on its front legs and then lowers the rest of its body. To get back up, it first gets on its front knees and positions its backside on top of its hindlegs. It then pulls up the backside upwards and the front legs stand straight up again. At each stage, the animal swings its head for balance.: 67  If the giraffe wants to reach down to drink, it either spreads its front legs or bends its knees. Studies in captivity found the giraffe sleeps intermittently around 4.6 hours per day, mostly at night. It usually sleeps lying down; however, standing sleeps have been recorded, particularly in older individuals. Intermittent short \"deep sleep\" phases while lying are characterised by the giraffe bending its neck backwards and resting its head on the hip or thigh, a position believed to indicate paradoxical sleep.\n",
            "\n",
            "\n",
            "=== Internal systems ===\n",
            "\n",
            "In mammals, the left recurrent laryngeal nerve is longer than the right; in the giraffe, it is over 30 cm (12 in) longer. These nerves are longer in the giraffe than in any other living animal; the left nerve is over 2 m (6 ft 7 in) long. Each nerve cell in this path begins in the brainstem and passes down the neck along the vagus nerve, then branches off into the recurrent laryngeal nerve which passes back up the neck to the larynx. Thus, these nerve cells have a length of nearly 5 m (16 ft) in the largest giraffes. Despite its long neck and large skull, the brain of the giraffe is typical for an ungulate. Evaporative heat loss in the nasal passages keep the giraffe's brain cool. The shape of the skeleton gives the giraffe a small lung volume relative to its mass. Its long neck gives it a large amount of dead space, in spite of its narrow windpipe. The giraffe also has a high tidal volume so the balance of dead space and tidal volume is much the same as other mammals. The animal can still provide enough oxygen for its tissues, and it can increase its respiratory rate and oxygen diffusion when running.\n",
            "\n",
            "The circulatory system of the giraffe has several adaptations for its great height.  Its 11 kg (25 lb) and 60 cm (2 ft) heart must generate approximately double the blood pressure required for a human to maintain blood flow to the brain. As such, the wall of the heart can be as thick as 7.5 cm (3.0 in). Giraffes have relatively high heart rates for their size, at 150 beats per minute.: 76  When the animal lowers its head, the blood rushes down fairly unopposed and a rete mirabile in the upper neck, with its large cross-sectional area, prevents excess blood flow to the brain. When it raises again, the blood vessels constrict and push blood into the brain so the animal does not faint. The jugular veins contain several (most commonly seven) valves to prevent blood flowing back into the head from the inferior vena cava and right atrium while the head is lowered. Conversely, the blood vessels in the lower legs are under great pressure because of the weight of fluid pressing down on them. To solve this problem, the skin of the lower legs is thick and tight, preventing too much blood from pouring into them.Giraffes have oesophageal muscles that are strong enough to allow regurgitation of food from the stomach up the neck and into the mouth for rumination.: 78  They have four chambered stomachs, which are adapted to their specialized diet. The intestines of an adult giraffe measure more than 70 m (230 ft) in length and have a relatively small ratio of small to large intestine. The giraffe has a small, compact liver.: 76  Fetuses may be a small gallbladder that vanishes before birth.\n",
            "\n",
            "\n",
            "== Behaviour and ecology ==\n",
            "\n",
            "\n",
            "=== Habitat and feeding ===\n",
            "\n",
            "Giraffes usually inhabit savannahs and open woodlands. They prefer by areas dominated by Acacieae, Commiphora, Combretum and Terminalia tree over Brachystegia which are more densely spaced.: 322  The Angolan giraffe can be found in desert environments. Giraffes browse on the twigs of trees, preferring those of the subfamily Acacieae and the genera Commiphora and Terminalia, which are important sources of calcium and protein to sustain the giraffe's growth rate. They also feed on shrubs, grass and fruit.: 324  A giraffe eats around 34 kg (75 lb) of plant matter daily. When stressed, giraffes may chew on large branches, stripping them of bark.: 325  Giraffes are also recorded to chew old bones.: 102 During the wet season, food is abundant and giraffes are more spread out, while during the dry season, they gather around the remaining evergreen trees and bushes. Mothers tend to feed in open areas, presumably to make it easier to detect predators, although this may reduce their feeding efficiency. As a ruminant, the giraffe first chews its food, then swallows it for processing and then visibly passes the half-digested cud up the neck and back into the mouth to chew again.: 78–79  The giraffe requires less food than many other herbivores because the foliage it eats has more concentrated nutrients and it has a more efficient digestive system. The animal's faeces come in the form of small pellets. When it has access to water, a giraffe will go no more than three days without drinking.Giraffes have a great effect on the trees that they feed on, delaying the growth of young trees for some years and giving \"waistlines\" to too tall trees. Feeding is at its highest during the first and last hours of daytime. Between these hours, giraffes mostly stand and ruminate. Rumination is the dominant activity during the night, when it is mostly done lying down.\n",
            "\n",
            "\n",
            "=== Social life ===\n",
            "\n",
            "Giraffes are usually found in groups that vary in size and composition according to ecological, anthropogenic, temporal, and social factors. Traditionally, the composition of these groups had been described as open and ever-changing. For research purposes, a \"group\" has been defined as \"a collection of individuals that are less than a kilometre apart and moving in the same general direction\". More recent studies have found that giraffes have long lasting social groups or cliques based on kinship, sex or other factors, and these groups regularly associate with other groups in larger communities or sub-communities within a fission–fusion society. Proximity to humans can disrupt social arrangements. Masai giraffes in Tanzania have different subpopulations with overlapping ranges, each of which differ in reproductive rates and calf mortality.\n",
            "\n",
            "The number of giraffes in a group can range from one up to 66 individuals. Giraffe groups tend to be sex-segregated although mixed-sex groups made of adult females and young males also occur. Female groups may be matrilineally related. Generally females are more selective than males in who they associate with regarding individuals of the same sex. Particularly stable giraffe groups are those made of mothers and their young, which can last weeks or months.  Young males also form groups and will engage in playfights. However, as they get older, males become more solitary but may also associate in pairs or with female groups. Giraffes are not territorial, but they have home ranges that vary according to rainfall and proximity to human settlements. Male giraffes occasionally roam far from areas that they normally frequent.: 329 Early biologists suggested giraffes were mute and unable to create enough air flow to vibrate their vocal folds. To the contrary; they have been recorded to communicate using snorts, sneezes, coughs, snores, hisses, bursts, moans, grunts, growls and flute-like sounds. During courtship, males emit loud coughs. Females call their young by bellowing. Calves will emit bleats, mooing and mewing sounds. Snorting and hissing is associated with vigilance. During nighttime, giraffes appear to hum to each other above the infrasound range. The purpose is unclear. Dominant males display to other males with an erect posture; holding the chin and head up while walking stiffly and displaying their side. The less dominant show submissiveness by dropping the head and ears, lowering the chin and fleeing.\n",
            "\n",
            "\n",
            "=== Reproduction and parental care ===\n",
            "\n",
            "Reproduction in giraffes is broadly polygamous: a few older males mate with the fertile females. Females can reproduce throughout the year and experience oestrus cycling approximately every 15 days. Female giraffes in oestrous are dispersed over space and time, so reproductive adult males adopt a strategy of roaming among female groups to seek mating opportunities, with periodic hormone-induced rutting behaviour approximately every two weeks. Males prefer young adult females over juveniles and older adults.Male giraffes assess female fertility by tasting the female's urine to detect oestrus, in a multi-step process known as the flehmen response. Once an oestrous female is detected, the male will attempt to court her. When courting, dominant males will keep subordinate ones at bay. A courting male may lick a female's tail, lay his head and neck on her body or nudge her with his ossicones. During copulation, the male stands on his hind legs with his head held up and his front legs resting on the female's sides.Giraffe gestation lasts 400–460 days, after which a single calf is normally born, although twins occur on rare occasions. The mother gives birth standing up. The calf emerges head and front legs first, having broken through the fetal membranes, and falls to the ground, severing the umbilical cord. A newborn giraffe is 1.7–2 m (5.6–6.6 ft) tall. Within a few hours of birth, the calf can run around and is almost indistinguishable from a one-week-old. However, for the first one to three weeks, it spends most of its time hiding; its coat pattern providing camouflage. The ossicones, which have lain flat while it was in the womb, raise up in a few days.\n",
            "\n",
            "Mothers with calves will gather in nursery herds, moving or browsing together. Mothers in such a group may sometimes leave their calves with one female while they forage and drink elsewhere. This is known as a \"calving pool\". Calves are at risk of predation, and a mother giraffe will stand over them and kick at an approaching predator. Females watching calving pools will only alert their own young if they detect a disturbance, although the others will take notice and follow. Calves first ruminate at four to six months and stop nursing at six to eight months. Young may not reach independence until they are 14 months old.: 49  Females become sexually mature when they are four years old, while males become mature at four or five years. Spermatogenesis in male giraffes begins at three to four years of age. Males must wait until they are at least seven years old to gain the opportunity to mate.\n",
            "\n",
            "\n",
            "=== Necking ===\n",
            "\n",
            "Male giraffes use their necks as weapons in combat, a behaviour known as \"necking\". Necking is used to establish dominance and males that win necking bouts have greater reproductive success. This behaviour occurs at low or high intensity. In low-intensity necking, the combatants rub and lean on each other. The male that can keep itself more upright wins the bout. In high-intensity necking, the combatants will spread their front legs and swing their necks at each other, attempting to land blows with their ossicones. The contestants will try to dodge each other's blows and then prepare to counter. The power of a blow depends on the weight of the skull and the arc of the swing. A necking duel can last more than half an hour, depending on how well matched the combatants are.: 331  Although most fights do not lead to serious injury, there have been records of broken jaws, broken necks, and even deaths.After a duel, it is common for two male giraffes to caress and court each other. Such interactions between males have been found to be more frequent than heterosexual coupling. In one study, up to 94 percent of observed mounting incidents took place between males. The proportion of same-sex activities varied from 30 to 75 percent. Only one percent of same-sex mounting incidents occurred between females.\n",
            "\n",
            "\n",
            "=== Mortality and health ===\n",
            "\n",
            "Giraffes have high adult survival probability, and an unusually long lifespan compared to other ruminants, up to 38 years. Because of their size, eyesight and powerful kicks, adult giraffes are usually not subject to predation, although lions may regularly prey on individuals up to 550 kg (1,210 lb). Giraffes are the most common food source for the big cats in Kruger National Park, comprising nearly a third of the meat consumed, although only a small portion of the giraffes were probably killed by predators, as a majority of the consumed giraffes appeared to be scavenged. Adult female survival is significantly correlated with the number of social associations. Calves are much more vulnerable than adults and are also preyed on by leopards, cheetahs, Nile crocodiles, spotted hyenas and wild dogs. A quarter to a half of giraffe calves reach adulthood. Calf survival varies according to the season of birth, with calves born during the dry season having higher survival rates.The local, seasonal presence of large herds of migratory wildebeests and zebras reduces predation pressure on giraffe calves and increases their survival probability. In turn, it has been suggested that other ungulates may benefit from associating with giraffes, as their height allows them to spot predators from further away. Zebras were found to access predation risk by watching giraffes and spend less time looking around when giraffes are present.Some parasites feed on giraffes. They are often hosts for ticks, especially in the area around the genitals, which have thinner skin than other areas. Tick species that commonly feed on giraffes are those of genera Hyalomma, Amblyomma and Rhipicephalus. Giraffes may rely on red-billed and yellow-billed oxpeckers to clean them of ticks and alert them to danger. Giraffes host numerous species of internal parasites and are susceptible to various diseases. They were victims of the (now eradicated) viral illness rinderpest. Giraffes can also suffer from a skin disorder, which comes in the form of wrinkles, lesions or raw fissures. As much as 79% of giraffes have symptoms of the disease in Ruaha National Park, but it did not cause mortality in Tarangire and is less prevalent in areas with fertile soils.\n",
            "\n",
            "\n",
            "== Relationship with humans ==\n",
            "\n",
            "\n",
            "=== Cultural significance ===\n",
            "With its lanky build and spotted coat, the giraffe has been a source of fascination throughout human history, and its image is widespread in culture. It has represented flexibility, far-sightedness, femininity, fragility, passivity, grace, beauty and the continent of Africa itself.: 7, 116 \n",
            "\n",
            "Giraffes were depicted in art throughout the African continent, including that of the Kiffians, Egyptians, and Kushites.: 45–47  The Kiffians were responsible for a life-size rock engraving of two giraffes, dated 8,000 years ago, that has been called the \"world's largest rock art petroglyph\".: 45   How the giraffe got its height has been the subject of various African folktales. The Tugen people of modern Kenya used the giraffe to depict their god Mda. The Egyptians gave the giraffe its own hieroglyph; 'sr' in Old Egyptian and 'mmy' in later periods.: 49 Giraffes have a presence in modern Western culture. Salvador Dalí depicted them with burning manes in some of his surrealist paintings. Dali considered the giraffe to be a masculine symbol, and a flaming giraffe was meant to be a \"masculine cosmic apocalyptic monster\".: 123  Several children's books feature the giraffe, including David A. Ufer's The Giraffe Who Was Afraid of Heights, Giles Andreae's Giraffes Can't Dance and Roald Dahl's The Giraffe and the Pelly and Me. Giraffes have appeared in animated films, as minor characters in Disney's The Lion King and Dumbo, and in more prominent roles in The Wild and the Madagascar films. Sophie the Giraffe has been a popular teether since 1961. Another famous fictional giraffe is the Toys \"R\" Us mascot Geoffrey the Giraffe.: 127 The giraffe has also been used for some scientific experiments and discoveries. Scientists have used the properties of giraffe skin as a model for astronaut and fighter pilot suits because the people in these professions are in danger of passing out if blood rushes to their legs.: 76  Computer scientists have modeled the coat patterns of several subspecies using reaction–diffusion mechanisms. The constellation of Camelopardalis, introduced in the seventeenth century, depicts a giraffe.: 119–20  The Tswana people of Botswana traditionally see the constellation Crux as two giraffes—Acrux and Mimosa forming a male, and Gacrux and Delta Crucis forming the female.\n",
            "\n",
            "\n",
            "=== Captivity ===\n",
            "The Egyptians were among the earliest people to keep giraffes in captivity shipped them around the Mediterranean.: 48–49  The giraffe was among the many animals collected and displayed by the Romans. The first one in Rome was brought in by Julius Caesar in 46 BC..: 52  With the fall of the Western Roman Empire, the housing of giraffes in Europe declined.: 54  During the Middle Ages, giraffes were known to Europeans through contact with the Arabs, who revered the giraffe for its peculiar appearance.Individual captive giraffes were given celebrity status throughout history. In 1414, a giraffe from Malindi was taken to China by explorer Zheng He and placed in a Ming dynasty zoo. The animal was a source of fascination for the Chinese people, who associated it with the mythical Qilin.: 56  The Medici giraffe was a giraffe presented to Lorenzo de' Medici in 1486. It caused a great stir on its arrival in Florence. Zarafa, another famous giraffe, was brought from Egypt to Paris in the early 19th century as a gift for Charles X of France. A sensation, the giraffe was the subject of numerous memorabilia or \"giraffanalia\".: 81 Giraffes have become popular attractions in modern zoos, though keeping them healthy is difficult as they require vast areas and need to eat large amounts of browse. Captive giraffes in North America and Europe appear to have a higher mortality rate than in the wild; the most common causes being poor husbandry, nutrition and management.: 153  Giraffes in zoos display stereotypical behaviours, particularly the licking of inanimate objects and pacing.: 164  Zookeepers may offer various activities to stimulate giraffes, including training them to take food from visitors.: 167, 176  Stables for giraffes are built particularly high to accommodate their height.: 183 \n",
            "\n",
            "\n",
            "=== Exploitation ===\n",
            "Giraffes were probably common targets for hunters throughout Africa.: 337  Different parts of their bodies were used for different purposes. Their meat was used for food. The tail hairs served as flyswatters, bracelets, necklaces, and threads. Shields, sandals, and drums were made using the skin, and the strings of musical instruments were from the tendons.: 337  In Buganda, the smoke of burning giraffe skin was traditionally used to treat nose bleeds.: 337  The Humr people of Kordofan consume the drink Umm Nyolokh, which is prepared from the liver and bone marrow of giraffes. Richard Rudgley hypothesised that Umm Nyolokh might contain DMT. The drink is said to cause hallucinations of giraffes, believed to be the giraffes' ghosts, by the Humr.\n",
            "\n",
            "\n",
            "=== Conservation status ===\n",
            "In 2016, giraffes were assessed as Vulnerable from a conservation perspective by the IUCN. In 1985, it was estimated there were 155,000 giraffes in the wild. This declined to over 140,000 in 1999. Estimates as of 2016 indicate there are approximately 97,500 members of Giraffa in the wild. The Masai and reticulated subspecies are endangered, and the Rothschild subspecies is near threatened. The Nubian subspecies is critically endangered.\n",
            "\n",
            "The primary causes for giraffe population declines are habitat loss and direct killing for bushmeat markets.  Giraffes have been extirpated from much of their historic range, including Eritrea, Guinea, Mauritania and Senegal. They may also have disappeared from Angola, Mali, and Nigeria, but have been introduced to Rwanda and Eswatini. As of 2010, there were more than 1,600 in captivity at Species360-registered zoos. Habitat destruction has hurt the giraffe. In the Sahel, the need for firewood and grazing room for livestock has led to deforestation. Normally, giraffes can coexist with livestock, since they avoid direct competition by feeding above them. In 2017, severe droughts in northern Kenya led to increased tensions over land and the killing of wildlife by herders, with giraffe populations being particularly hit.Protected areas like national parks provide important habitat and anti-poaching protection to giraffe populations. Community-based conservation efforts outside national parks are also effective at protecting giraffes and their habitats. Private game reserves have contributed to the preservation of giraffe populations in eastern and southern Africa. The giraffe is a protected species in most of its range. It is the national animal of Tanzania, and is protected by law, and unauthorised killing can result in imprisonment. The UN backed Convention of Migratory Species selected giraffes for protection in 2017. In 2019, giraffes were listed under Appendix II of the Convention on International Trade in Endangered Species (CITES), which means international trade including in parts/derivatives is regulated.Translocations are sometimes used to augment or re-establish diminished or extirpated populations, but these activities are risky and difficult to undertake using the best practices of extensive pre- and post-translocation studies and ensuring a viable founding population. Aerial survey is the most common method of monitoring giraffe population trends in the vast roadless tracts of African landscapes, but aerial methods are known to undercount giraffes. Ground-based survey methods are more accurate and can be used in conjunction with aerial surveys to make accurate estimates of population sizes and trends.\n",
            "\n",
            "\n",
            "== See also ==\n",
            "Fauna of Africa\n",
            "Giraffe Centre\n",
            "Giraffe Manor - hotel in Nairobi with giraffes\n",
            "\n",
            "\n",
            "== References ==\n",
            "\n",
            "\n",
            "== External links ==\n",
            "\n",
            "Giraffe Conservation Foundation\n"
          ]
        }
      ]
    },
    {
      "cell_type": "code",
      "source": [
        "print(fr1)"
      ],
      "metadata": {
        "colab": {
          "base_uri": "https://localhost:8080/"
        },
        "id": "Ecji6KVhg62N",
        "outputId": "c732aa71-392c-4ac0-eff8-4bfca534c9b9"
      },
      "execution_count": null,
      "outputs": [
        {
          "output_type": "stream",
          "name": "stdout",
          "text": [
            "La Girafe (Giraffa camelopardalis) est une espèce de mammifères ongulés artiodactyles, du groupe des ruminants, vivant dans les savanes africaines et répandue du Tchad jusqu'en Afrique du Sud. Son nom commun vient de l'arabe زرافة, zarāfah, mais l'animal fut anciennement appelé camélopard, du latin camelopardus, contraction de camelus (chameau) en raison du long cou et de pardus (léopard) en raison des taches recouvrant son corps. Après des millions d'années d'évolution, la girafe a acquis une anatomie unique avec un cou particulièrement allongé qui lui permet notamment de brouter haut dans les arbres.\n",
            "Neuf populations, se différenciant par leurs robes et formes, ont été décrites par les naturalistes depuis le XIXe siècle parfois comme espèces à part entière, mais généralement considérées comme simples sous-espèces jusqu'au XXIe siècle. Cependant la taxonomie des girafes est actuellement débattue parmi les scientifiques.\n",
            "L’espèce est considérée comme vulnérable par l'UICN : il y avait 155 000 individus en 1985 et il n'y en a plus que 97 000 en 2015, soit une diminution approchant 40 % en 30 ans.\n",
            "\n",
            "\n",
            "== Étymologie ==\n",
            "Le substantif féminin,,, « girafe » est un emprunt,, à l'italien giraffa, lui-même emprunté à l'arabe zurāfa pour l'arabe classique zarāfa,.\n",
            "\n",
            "\n",
            "== Description ==\n",
            "\n",
            "Il s’agit de l’animal actuel le plus grand en hauteur, pouvant, grâce à la longueur de son cou, atteindre 5,50 m et même 5,80 m. Les girafes femelles mesurent, à l'âge adulte, entre 4,00 et 4,60 mètres de hauteur, soit 4,30 m en moyenne. Cependant leur cou comporte le même nombre de vertèbres cervicales (7, d'environ 40 cm chacune) que la plupart des autres mammifères (à l’exception des lamantins et des paresseux) . Les girafes dorment très peu, moins de 2 heures par 24 heures, et plus volontiers le jour, car elles peuvent continuer à surveiller l'horizon. En réalité, elles somnolent debout, les yeux grands ouverts et sur des périodes allant de 1 à 30 minutes d'affilée. Le poids d'une girafe varie entre 750 et 1 100 kg pour les femelles et peut aller jusqu’à 2 000 kg pour les mâles. Son pelage à dominante rousse est réticulé ou tacheté de jaune ; son ventre est blanc. Sa queue, mince et longue, terminée par un pinceau de poils noirs, mesure de 70 à 100 cm.\n",
            "La tête porte deux ossicônes, des appendices osseux recouverts de peau. Les ossicônes des femelles sont couverts d'une touffe de poils tandis que ceux des mâles en sont pratiquement dépourvus après quelques combats. Les mâles développent parfois en plus des dépôts de calcium sur leur crâne qui finissent par donner l'impression qu'un troisième ossicône est présent.\n",
            "Ses caractéristiques physiques, notamment la longueur de ses membres et de son cou, font qu'elle est considérée par la NASA comme le modèle idéal pour étudier l'effet de la gravité sur la circulation sanguine. Les phlébologues de la NASA ont copié son réseau sanguin pour réaliser la combinaison anti-G des pilotes de chasse et astronautes.\n",
            "Son cœur de 11 kg, au myocarde renforcé, pompe 60 litres de sang et bat à 170 pulsations par minute, ce qui donne une pression artérielle deux fois supérieure à la pression humaine. Dans les artères du cou, tout un réseau de muscles annulaires aide à hisser le sang jusqu'au cerveau. Dans les veines, des valvules orientent le sang vers le cœur. Lorsque l'animal baisse la tête au sol, les valvules de la jugulaire sont fonctionnelles et empêchent le sang de retomber vers le cerveau (ce qui conduirait à un « voile rouge »). La veine jugulaire de la girafe est la plus longue et la plus droite du monde animal et possède 9 valvules. En 1993, à Vincennes, son endoscopie confirma que les constituants anatomiques d'une veine sont orientés en fonction de son axe d'aplatissement et donc qu'une veine a bien deux faces et deux bords. En bas des jambes où la pression est énorme, un système de capillaires sanguins très résistants (le rete mirabile, ou merveilleux réseau), comparables à ceux de l'espèce humaine, empêche un œdème fatal.\n",
            "Contrairement à une idée répandue, les girafes possèdent des cordes vocales mais elles n'émettent que très rarement des sons, se reposant davantage sur la vision que sur l'audition pour communiquer via par exemple des postures et des mouvements du cou et de la tête. Dans l'obscurité, les girafes ont tout de même recours à une communication orale, elles produisent un bruit sourd, une sorte de bourdonnement autour de 92 Hz, c'est-à-dire à la limite de la perception humaine. Néanmoins, il est possible d'entendre les girafons en situation de stress pousser un genre de beuglement approchant celui des bovins. La girafe est le seul mammifère terrestre qui ne bâille pas,.\n",
            "Son espérance de vie serait de l'ordre de 10 à 15 ans ou de 26 ans en milieu sauvage (selon les sources), et de 27 à plus de 36 ans en captivité. Un mâle girafe du Kordofan a vécu 30 ans au Bioparc de Doué-la-Fontaine, il était le doyen de la population captive européenne.\n",
            "\n",
            "\n",
            "== Écologie et comportement ==\n",
            "\n",
            "\n",
            "=== Régime alimentaire ===\n",
            "\n",
            "La girafe se nourrit de feuilles d'arbre très nutritives, essentiellement des légumineuses, riches en sels minéraux car la girafe a besoin de 20 g/jour de calcium. Elle peut occasionnellement se nourrir de fleurs, fruits, graines ou cosses. Sa consommation quotidienne va de 7 kg (nourriture rare) à 70 kg (nourriture abondante). Elle ne se nourrit ou ne s'abreuve au sol qu'en écartant les pattes de devant ou en pliant les genoux, après avoir bien inspecté les alentours. Elle lève souvent la tête entre deux gorgées lorsqu'elle est dans cette posture périlleuse, mais elle trouve l'essentiel de ses besoins en eau dans la nourriture et ne va boire que tous les 1 à 2 jours.\n",
            "\n",
            "Les acacias de la savane ont atteint des tailles leur permettant d'échapper aux zèbres et aux antilopes, mais leurs feuilles les plus tendres poussent entre 2 et 6 mètres, ce qui constitue pour la girafe la hauteur idéale et sa niche alimentaire. Sa langue bleue et préhensile est la plus puissante, la plus coriace et la plus longue (55 cm) parmi les ongulés. Elle peut l'allonger pour atteindre les pousses les plus tendres entre les barrières d'épines d'acacias. La girafe n'a pas d'incisives à la mâchoire supérieure. Elle saisit donc les pousses d'acacias avec sa langue, puis les guide entre ses lèvres, referme la bouche et tire la tête en arrière pour racler les feuilles grâce à ses dents du bas.\n",
            "Certains acacias (Acacia drepanolobium) sont protégés parce qu'ils hébergent des galles de fourmis agressives du genre Crematogaster,, à la morsure cuisante pour la bouche et les lèvres des girafes. Les acacias broutés émettent plus de nectar servant de nourriture à ces fourmis[réf. nécessaire] ainsi qu'une hormone végétale de stress leur permettant d'augmenter leur production de tanin, ce qui rend les feuilles plus amères et moins appétissantes pour la girafe, laquelle s'éloigne alors pour aller brouter plus loin. Cette boucle de rétroaction expliquerait que les girafes et les éléphants n'ont jamais surexploité les acacias.\n",
            "\n",
            "\n",
            "=== Reproduction ===\n",
            "Les girafes n'ont pas de saison de reproduction définie. Les femelles sont constamment sollicitées par les mâles. Cependant, la conception a généralement lieu à la saison des pluies et les naissances se produisent entre mai et août dans des périodes sèches.\n",
            "Tous les 15 jours, les femelles sont en rut pendant une journée. Les mâles doivent donc rapidement trouver une femelle apte à procréer. Si la femelle est réceptive, celle-ci tourne autour du mâle et prend une position d'accouplement. Tous les 20 à 30 mois les femelles se reproduisent.\n",
            "\n",
            "\n",
            "==== La girafe mâle ====\n",
            "\n",
            "Le grand mâle parcourt les pâtures des femelles pour trouver une partenaire. Il tente de dominer ses rivaux en leur coupant le passage et en dressant sa tête le plus haut possible. Le combat éclate lorsqu'un rival refuse de baisser la tête, de laisser le passage, ou fronce la lèvre en sa présence.\n",
            "Dans les combats de girafes, les mâles utilisent leur tête comme une massue, qui est lourde, cornue et bosselée (comportement appelé « necking »). Ses ossicônes sont massifs et durs comme de l'ivoire et sur son front pousse une excroissance osseuse, la corne médiane.\n",
            "Les deux mâles se cognent jusqu'à ce que l'un d'eux abandonne. La tête d'un mâle de 15 ans pèse 10 kg de plus que celle d'un jeune adulte de 7 ans, ce qui lui permet de gagner à tous les coups, mais le perdant est rarement tué et ils ne se battent jamais à coups de sabots.\n",
            "Une fois qu'un mâle a conquis une femelle, ses amours sont caressantes et paisibles, avec beaucoup de coups de langue.\n",
            "\n",
            "\n",
            "==== La girafe femelle et le girafon (ou girafeau) ====\n",
            "\n",
            "La girafe peut commencer à mettre bas dès l'âge de cinq ans. La gestation dure environ 15 mois. La mise bas s'effectue debout et le girafon tombe de près de deux mètres de haut. Il y a des risques que le girafon meure à la naissance, car en tombant il peut se blesser, et notamment se briser la nuque, même si cela reste très rare. La girafe met au monde le plus souvent un seul petit à la fois, exceptionnellement deux.\n",
            "À la naissance, le girafon mesure deux mètres pour un poids variant de 40 à 80 kg. Les jambes sont plus longues que le cou et sortent les premières. Le cou est proportionnellement moins long que celui des adultes. Sur la tête, deux touffes de poils noirs recouvrent les cartilages des futurs ossicônes, qui se souderont avec les os du crâne. Il s'agit de l'un des rares animaux dont les appendices crâniens existent dès la naissance.\n",
            "La girafe n'adopte son petit que s'il est capable de se tenir rapidement debout (généralement au bout de 15 minutes) et de stimuler la lactation. Au bout d'une heure, il doit tenir sur ses pattes pour atteindre les mamelles de sa mère où il pourra se nourrir d'un lait très gras. Dans le cas contraire, elle l'abandonne ou même le tue.\n",
            "La mère se fait comprendre de son petit en le caressant avec le bout de son museau ou avec un langage sonore d'une fréquence trop basse pour les humains. Elle l'incite ainsi à la suivre et à la téter, créant ainsi le lien maternel.\n",
            "Le girafon grandit de un mètre durant la première année de sa vie. À six mois, il approche les trois mètres et à sept ans, il aura sa taille d'adulte avec un minimum de cinq mètres.\n",
            "Le sevrage intervient au bout de 12 à 16 mois mais le girafon peut rester avec sa mère jusqu'à l'âge de deux ans et demi. Après cette période, il est gardé dans une « nurserie » qui permet à sa mère d'aller s'alimenter. La maturité sexuelle est acquise au bout de trois à quatre ans pour un girafon femelle, et quatre à cinq ans pour un mâle.\n",
            "\n",
            "\n",
            "=== Prédateurs ===\n",
            "Adulte et en bonne santé, la girafe n'a à craindre que le lion, bien qu'elle puisse le tuer d'un coup de patte. Par contre, les jeunes qui échappent à la surveillance de leur mère ou isolés du troupeau et les sujets affaiblis par la vieillesse, la maladie ou une blessure, peuvent être la proie de prédateurs comme les lions, les hyènes rayées, les hyènes tachetées, les léopards ou les lycaons. C'est ainsi que trois girafons sur quatre se font tuer avant l'âge de trois mois.[réf. nécessaire] Aux points d'eau, les girafons peuvent aussi être victimes des crocodiles. La girafe se repose et dort debout. Ce n’est que si elle se sent parfaitement en sécurité qu’elle dormira et se reposera par terre ; sa stature la rend vulnérable aux prédateurs, car elle met un certain temps à se relever.\n",
            "\n",
            "\n",
            "=== Course ===\n",
            "Lorsqu'elle court, elle va à l'amble, à l'instar du chameau ou de l'ours, c'est-à-dire qu'elle lève ensemble les deux pattes du même côté. En vitesse de croisière, elle court à 15 km/h mais peut accélérer à 56 km/h en prenant un curieux galop. Les pattes avant se lèvent ensemble mais largement écartées, ce qui évite que ses sabots s'entrechoquent.\n",
            "Son galop particulier est facilité par son long cou qui balance et crée l'équilibre, grâce à un petit muscle spécial qui le tire en avant.\n",
            "\n",
            "\n",
            "== Répartition géographique ==\n",
            "\n",
            "La girafe vit dans la savane africaine. On la trouve du Tchad jusqu'en Afrique du Sud. Mais c'est principalement au Kenya, en Tanzanie, au Botswana et au Niger que l'on peut rencontrer des troupeaux de girafes. Elle était aussi présente en Afrique Australe (Angola, Botswana, Malawi, Mozambique, Namibie, Swaziland, Zambie, Zimbabwe). Les girafes ont disparu de la plupart des pays de l'Afrique de l'Ouest. L'espèce a été réintroduite en Afrique du Sud pour les réserves de chasse[réf. souhaitée].\n",
            "\n",
            "\n",
            "== Taxonomie et génétique, phylogénie ==\n",
            "\n",
            "\n",
            "=== Espèces et sous-espèces ===\n",
            "\n",
            "Une seule espèce (G. camelopardalis) et neuf sous-espèces sont généralement acceptées, avec notamment quelques variations de couleurs et de répartition géographique :\n",
            "\n",
            "Girafe du Niger — G. c. peralta Thomas, 1898 — Sud-Ouest du Niger ;\n",
            "Girafe réticulée ou Girafe de Somalie — G. c. reticulata De Winton, 1899 — Nord-Est du Kenya, Éthiopie, Somalie ;\n",
            "Girafe d'Angola — G. c. angolensis Lydekker, 1903  — Angola, Botswana, Namibie ;\n",
            "Girafe du Cap ou Girafe d'Afrique du Sud — G. c. giraffa Schreber, 1784 — Afrique du Sud, Botswana, Zimbabwe, Mozambique ;\n",
            "Girafe du Kordofan ou Girafe d'Afrique de l'Ouest — G. c. antiquorum Swainson, 1835 — Tchad, République centrafricaine, Nord-est du Cameroun ;\n",
            "Girafe Masaï — G.c. tippelskirchi Matschie, 1898 — Centre et Sud du Kenya, Tanzanie, Est du Rwanda (P.N. de l'Akagera, introduite en 1986).\n",
            "Girafe de Nubie — G. c. camelopardalis Linnaeus, 1758 — Soudan, Nord-Est de la République démocratique du Congo, Éthiopie ;\n",
            "Girafe de Rothschild — G. c. rothschildi Lydekker, 1903 — Ouganda, Centre-Nord du Kenya ;\n",
            "Girafe de Rhodésie ou Girafe de Zambie — G. c. thornicrofti Lydekker, 1911 — Zambie.Les avis des scientifiques divergent au sujet des sous-espèces de girafes. Ainsi, en 2007, une étude moléculaire extensive de girafes confirme la différenciation génétique très nette d'au moins six populations. En 2016, une étude propose d'élever au rang d'espèce quatre taxons. En 2017, une réponse à l'étude de 2016 est publiée, relevant de nombreux points problématiques dans l'interprétation des résultats, et expliquant que les conclusions taxonomiques ne doivent pas être acceptées inconditionnellement. Une étude de 2020 montre qu'avec les mêmes données mais des hypothèses et méthodes taxonomiques différentes on peut définir de deux à six espèces, et notamment que les méthodes de coalescence tendent à favoriser un fractionnement taxonomique excessif car elles délimitent des populations géographiques plutôt que des espèces. Globalement, les analyses phylogénétiques et la plupart des analyses génétiques de populations étayent plutôt l'hypothèse de trois espèces (G. camelopardalis, G. giraffa et G. tippelskirchi).\n",
            "En 2021, une étude fondée sur le séquençage du génome entier conclut à l'existence de quatre espèces distinctes et de sept sous-espèces, représentées dans le cladogramme ci-dessous. Les huit lignées ainsi définies correspondent à huit des neuf sous-espèces traditionnelles, la girafe de Rothschild étant fondue dans G. camelopardalis camelopardalis.\n",
            "\n",
            "\n",
            "=== Génome ===\n",
            "Les deux-tiers environ du génome de la Girafe Masaï sont décryptés en 2016, puis presque 100 % de celui de la Girafe de Rothschild en 2021. Cette dernière étude compare aussi ces génomes à ceux de 50 autres ruminants dont l'Okapi, espèce la plus proche (mais de la taille d'un zèbre) dont les ancêtres ont divergé de ceux de la Girafe il y a environ 11,5 millions d'années,.\n",
            "Le caryotype de la Girafe comporte 2 n = 30 chromosomes (15 paires), donc beaucoup moins que le dernier ancêtre commun (DAC) des artiodactyles (2 n = 58 ou 60). Le DAC des Pecora (dont dérivent les giraffidés et les bovidés) avait aussi, comme les bovidés actuels, 60 chromosomes. Alors que le DAC des bovidés procède de celui des Pecora par exactement trois fusions de chromosomes et trois fissions, celui des giraffidés implique au moins dix-sept fusions et quatre fissions.\n",
            "Le génome de la Girafe comporte 2,44 Gb (milliards de paires de bases), et 97,95 % des bases nucléiques ont pu être attribuées à l'un des n = 15 chromosomes différents. 490 gènes de la Girafe portent des mutations spécifiques, la plupart liés aux caractéristiques de l'appareil cardiovasculaire, à la croissance osseuse et au système sensoriel. Le gène FGFRL1 notamment, porteur de sept mutations spécifiques, contrecarre — par un mécanisme encore inconnu — les effets néfastes de l'hypertension artérielle (la pression sanguine à la sortie du cœur est 2,5 fois plus élevée chez la Girafe que chez l'Homme, ce qui permet d'acheminer le sang jusqu'au cerveau situé 2 m plus haut). L'efficacité de ce gène de la Girafe contre les maladies (notamment du cœur et du rein) dues à l'hypertension a été vérifiée chez des souris génétiquement modifiées. Il leur confère aussi une plus grande densité minérale osseuse, utile chez la Girafe au maintien de sa haute stature,.\n",
            "D'autres mutations spécifiques affectent des gènes liés au développement de l'œil et à la vision (les girafes ont la meilleure vision de tous les ongulés), et des gènes qui régulent le rythme du sommeil (les girafes à l'état sauvage ne dorment que 40 minutes par jour et environ 3 à 5 min à la fois). En revanche, la Girafe a perdu (par rapport à l'Okapi) au moins 53 gènes liés à l'olfaction (un sens sans doute peu utile, avec un nez à 6 m du sol),.\n",
            "\n",
            "\n",
            "=== Histoire évolutive ===\n",
            "L'intérêt évolutif du long cou des girafes a longtemps été attribué à son efficacité pour l'accès à la nourriture (feuilles des arbres), d'autant plus que le registre paléontologique faisait jusqu'à récemment remonter l'apparition d'un long cou à 12–14 Ma, une période caractérisée en Afrique par une aridification du climat et le remplacement des prairies par des forêts. Mais pendant la saison sèche, quand la compétition est la plus intense, on observe que les girafes se nourrissent généralement sur des buissons plutôt que sur de grands arbres, et l'on observe aussi que les femelles se nourrissent la moitié du temps avec le cou à l'horizontale. Comparée à l'augmentation de la longueur des pattes, celle du cou est physiologiquement coûteuse car l'irrigation sanguine du cerveau implique un cœur hypertrophié et une pression artérielle très élevée. Une autre hypothèse invoque une sélection sexuelle liée au necking des mâles, d'ailleurs le crâne et le cou des femelles sont proportionnellement plus petits que ceux des mâles,.\n",
            "L'hypothèse d'une sélection originellement sexuelle est renforcée en 2022 par l'étude d'un fossile apparenté aux girafes, Discokeryx xiezhi (en), qui vivait dans le nord-ouest de la Chine il y a environ 16,9 Ma (Miocène inférieur). Cet animal présente un crâne fortement ossifié en son sommet et des vertèbres cervicales denses en leur centre, avec les jointures les plus complexes de tous les mammifères connus (typiquement une adaptation aux combats tête contre tête), et déjà un cou relativement long,.\n",
            "\n",
            "\n",
            "== La girafe et les hommes ==\n",
            "\n",
            "\n",
            "=== Menaces et conservation ===\n",
            "La girafe est chassée pour sa viande et sa peau. Elle fut tuée aussi pour sa queue, utilisée comme monnaie primitive ou symbole d'autorité. En plus de ce braconnage, elle est menacée par la destruction de son habitat, notamment dans le Sahel où la déforestation est répandue. D’après l’Union internationale pour la conservation de la nature (UICN), on comptait 155 000 girafes vivant dans la nature en 1985 contre 97 500 en 2015, ce qui constitue une baisse des effectifs de l’espèce d’environ 40 % au cours des 30 dernières années[réf. souhaitée]. La population des girafes d'Afrique occidentale a baissé fortement dans les décennies récentes. En revanche, les populations de l'Afrique de l'Est et de l'Afrique australe sont stables, et dans certaines régions elles ont même augmenté. La girafe est une espèce protégée dans la plupart des pays correspondant à son aire de répartition.\n",
            "On a estimé que la population totale des girafes représente 110 000 à 150 000 animaux en 2010, contre un million au milieu des années 1990. Les plus grandes populations nationales se trouvent au Kenya (45 000), en Tanzanie (30 000) et au Botswana (12 000). En 2019, leur nombre est estimé à 98 000. En 30 ans, 40 % des girafes ont disparu sur le continent africain selon une étude du National Geographic publiée en 2019.\n",
            "Le dernier troupeau de girafes en liberté de toute l'Afrique de l'Ouest se trouve au Niger dans les environs de Kouré, à environ une heure de la capitale Niamey. Il fait l'objet d'un suivi par l'Association pour la sauvegarde des girafes du Niger (ASGN), impliquant les populations des villages avoisinants, permettant un repeuplement du troupeau. Afin d'éviter les problèmes de consanguinité, des échanges sont pratiqués avec des zoos et réserves d'autres continents.\n",
            "La girafe de Rothschild, à cheval entre le Sud-Soudan et l'Ouganda, est menacée d'extinction, ne comptant plus que 650 individus et est inscrite sur la liste des espèces en danger de l'Union internationale pour la conservation de la nature.\n",
            "Selon la zoologiste Anne Innis Dagg « Sur les neuf sous-espèces, nous allons probablement en perdre quelques-unes » (The Times).\n",
            "À ce jour il n'existe en Europe aucune association de protection et sauvegarde ni de la girafe de Rothschild ni des autres sous-espèces menacées.\n",
            "Le 22 août 2019, les délégués de la CITES ont reconnu que la survie des girafes était menacée. Par 106 voix contre 21 et 7 abstentions la CITES a reconnu pour la première fois que le commerce de peau, de cornes, de sabots et d'os de girafes notamment constituait une menace pour la survie de l'espèce.\n",
            "\n",
            "L'espèce dans sa globalité est classée comme vulnérable par l'UICN. Deux des neuf sous-espèces de girafes, la Girafe Masaï et la Girafe réticulée, sont classées par ce même organisme comme en danger d'extinction,, et deux autres, la Girafe du Kordofan et la Girafe de Nubie, sont en en danger critique d'extinction,.\n",
            "\n",
            "\n",
            "=== Une longue histoire ===\n",
            "Les Grecs pensaient que la girafe résultait de l'union du chameau et du léopard, d'où le nom scientifique camelopardalis (en grec ancien καμηλοπάρδαλις / kamêlopárdalis).\n",
            "Selon Pline l'Ancien, le cortège ramenant Vercingétorix vaincu à Rome aurait comporté une girafe.\n",
            "En Asie de l'Est et notamment au Japon où elle porte ce nom, la girafe est associée au qilin (ou kirin), animal mythique proche de la licorne. En effet, une girafe fut ramenée d'Afrique en Chine dès 1414 par Zheng He et accueillie par l'empereur Ming Yongle comme un qilin, témoignage de son bon gouvernement.\n",
            "Elle a été décrite, pour la première fois en France, par Pierre Belon (1517-1564).\n",
            "En 1809, Lamarck pensait qu'à force d'allonger le cou, elle avait transmis ce trait à sa descendance. En 1872, Darwin pensait que son long cou était dû à une sélection liée aux périodes de famines, où un ou deux pouces en plus faisaient la différence et permettaient de survivre. L'hypothèse de la sélection sexuelle est aussi avancée, les mâles se battant à coup de cou ou au contraire se caressant (comportement appelé necking).\n",
            "\n",
            "\n",
            "=== Arts et culture ===\n",
            "Une girafe est visible sur une fresque de Giorgio Vasari au Palazzo Vecchio de Florence.\n",
            "Salvador Dalí a peint en 1937, pendant que la guerre civile faisait rage en Espagne, une toile intitulée La Girafe en feu (ce tableau est conservé au musée des beaux-arts de Bâle).\n",
            "Honoré de Balzac a fait imprimer Discours de la girafe au chef des six Osages prononcé le jour de leur visite au jardin du Roi, traduit de l’arabe par l’interprète de la girafe dont l'auteur est inconnu. François-René de Chateaubriand a écrit un pamphlet : La girafe ou le gouvernement des bêtes.\n",
            "En France, Sophie la girafe est un jouet en caoutchouc créé en 1961 et destiné à être mordillé par les nourrissons.\n",
            "En argot, une girafe est une personne de haute taille.\n",
            "L'expression « peigner la girafe » signifie ne rien faire ou perdre son temps. L'origine de cette expression, qui n'est pas attestée avant 1900, est inconnue. On sait cependant que lorsqu'une girafe (nommée Zarafa) fut offerte à Charles X par le pacha d'Égypte, celle-ci eut un gardien personnel, qui répondit à ses supérieurs lui reprochant de ne rien faire, qu'il était fort occupé à peigner la girafe.\n",
            "La girafe est une métaphore de la communication non-violente.\n",
            "\t\t\n",
            "\t\t\n",
            "\n",
            "\n",
            "=== La girafe de Charles X ===\n",
            "\n",
            "La première girafe à entrer vivante sur le sol français fut ramenée d'Égypte en 1827 par le naturaliste Étienne Geoffroy Saint-Hilaire : elle parcourut près de 800 km (dont plus de la moitié à pied) entre Marseille et le Jardin des plantes à Paris. L'événement eut à l'époque une portée considérable. Il s'agit de celle qui est actuellement visible, naturalisée, au Muséum d'histoire naturelle de La Rochelle. Le film Zarafa, sorti en France en 2012, raconte cette histoire.\n",
            "\n",
            "\n",
            "== Galerie ==\n",
            "\n",
            "\t\t\n",
            "\t\t\n",
            "\t\t\n",
            "\t\t\n",
            "\t\t\n",
            "\t\t\n",
            "\t\t\n",
            "\t\t\n",
            "\n",
            "\n",
            "== Notes et références ==\n",
            "\n",
            "\n",
            "== Annexes ==\n",
            "\n",
            "\n",
            "=== Articles connexes ===\n",
            "Okapi, une autre espèce plus petite de giraffidé.\n",
            "Girafe du Sud, autre espèce du même genre ;\n",
            "Girafe du Niger.\n",
            "\n",
            "\n",
            "=== Bibliographie ===\n",
            "Alice Petzold, Biodiversité actuelle et historique des girafes (Mammalia, Cetartiodactyla), Paris, Muséum national d'histoire naturelle, 2016 (lire en ligne)\n",
            "\n",
            "\n",
            "=== Références taxinomiques ===\n",
            "(en) Référence Mammal Species of the World (3e éd., 2005) : Giraffa camelopardalis (Linnaeus, 1758)  (consulté le 28 juin 2012)\n",
            "(en) Référence Tree of Life Web Project : Giraffa camelopardalis  (consulté le 28 juin 2012)\n",
            "(en) Référence Catalogue of Life : Giraffa camelopardalis (Linnaeus, 1758)   (consulté le 15 décembre 2020)\n",
            "(en) Référence Paleobiology Database : Giraffa camelopardalis (Linnaeus 1758)  (consulté le 28 juin 2012)\n",
            "(fr+en) Référence ITIS : Giraffa camelopardalis (Linnaeus, 1758) (consulté le 28 juin 2012)\n",
            "\n",
            "\n",
            "=== Liens externes ===\n",
            "(en) Référence Animal Diversity Web : Giraffa camelopardalis (consulté le 28 juin 2012)\n",
            "(en) Référence NCBI : Giraffa camelopardalis (taxons inclus) (consulté le 28 juin 2012)\n",
            "(en) Référence UICN : espèce Giraffa camelopardalis (Linnaeus, 1758) (consulté le 20 mai 2015)\n",
            "(en) Référence uBio : Giraffa camelopardalis (Linnaeus, 1758)  (consulté le 28 juin 2012)\n",
            "(en) Référence Fonds documentaire ARKive : Giraffa camelopardalis   (consulté le 28 juin 2012)\n",
            "Giraffe Conservation Foundation\n",
            "Introduction à l’Histoire de la girafe au Moyen Âge Portail des mammifères\n"
          ]
        }
      ]
    },
    {
      "cell_type": "markdown",
      "source": [
        "Instead of directly using characters as the features, to understand a text better, we may consider group of tokens i.e. ngrams as features.\n",
        " \n",
        "For this example let us consider that each character is one word, and let us see how n-grams work."
      ],
      "metadata": {
        "id": "XAJNs7PD_cVM"
      }
    },
    {
      "cell_type": "markdown",
      "source": [
        "\n",
        "## nltk library provides many tools for text processing, please explore them."
      ],
      "metadata": {
        "id": "E1pXE4sK_0kl"
      }
    },
    {
      "cell_type": "markdown",
      "metadata": {
        "id": "jXFTWwd0rk63"
      },
      "source": [
        "Now let us calculate the frequency of the character n-grams. N-grams are groups of characters of size n. A unigram is a single character and a bigram is a group of two characters and so on. \n",
        "\n",
        "Let us count the frequency of each character in a text and plot it in a histogram."
      ]
    },
    {
      "cell_type": "code",
      "metadata": {
        "id": "g3Lz3YUjN0L5"
      },
      "source": [
        "## Dont worry if you do not understand these functions right away, you can revisit them and follow step-by-step.\n",
        "\n",
        "# convert a tuple of characters to a string\n",
        "def tuple2string(tup):\n",
        "  st = ''\n",
        "  for ii in tup:\n",
        "    st = st + ii\n",
        "  return st\n",
        "\n",
        "# convert a tuple of tuples to a list of strings\n",
        "def key2string(keys):\n",
        "  return [tuple2string(i) for i in keys]\n",
        "\n",
        "# plot the histogram\n",
        "def plothistogram(ngram):\n",
        "  keys = key2string(ngram.keys()) \n",
        "  values = list(ngram.values())\n",
        "  \n",
        "  # sort the keys in alphabetic order\n",
        "  combined = zip(keys, values) ## keys i.e. characters on x axis and their count in the given doc as values.\n",
        "  zipped_sorted = sorted(combined, key=lambda x: x[0]) ## sorting based on keys, to get a to z order.\n",
        "  keys, values = map(list, zip(*zipped_sorted))\n",
        "  plt.bar(keys, values)"
      ],
      "execution_count": null,
      "outputs": []
    },
    {
      "cell_type": "markdown",
      "metadata": {
        "id": "zHD62zbZcwAB"
      },
      "source": [
        "Let us compare the histograms of English pages and French pages. Can you spot a difference?"
      ]
    },
    {
      "cell_type": "code",
      "metadata": {
        "id": "LKcGRgH6b0KP",
        "colab": {
          "base_uri": "https://localhost:8080/",
          "height": 545
        },
        "outputId": "6eac8d2b-b88e-4fa4-99fa-9867aa9416c2"
      },
      "source": [
        "## we passed ngrams 'n' as 1 to get unigrams. Unigram is nothing but single token (in this case character).\n",
        "## ngrams imported from nltk, it returns ngrams from given string. Counter returns dictionary with keys as elements and counts as values.\n",
        "unigram_eng1 = Counter(ngrams(eng1,1)) ##just to get count of each element. \n",
        "plothistogram(unigram_eng1)\n",
        "plt.title('English 1')\n",
        "plt.show()\n",
        "unigram_eng2 = Counter(ngrams(eng2,1))\n",
        "plothistogram(unigram_eng2)\n",
        "plt.title('English 2')\n",
        "plt.show()"
      ],
      "execution_count": null,
      "outputs": [
        {
          "output_type": "display_data",
          "data": {
            "text/plain": [
              "<Figure size 432x288 with 1 Axes>"
            ],
            "image/png": "[encoded data removed]"
          },
          "metadata": {
            "needs_background": "light"
          }
        },
        {
          "output_type": "display_data",
          "data": {
            "text/plain": [
              "<Figure size 432x288 with 1 Axes>"
            ],
            "image/png": "[encoded data removed]"
          },
          "metadata": {
            "needs_background": "light"
          }
        }
      ]
    },
    {
      "cell_type": "code",
      "metadata": {
        "id": "fDM_UhCL2QLt",
        "colab": {
          "base_uri": "https://localhost:8080/",
          "height": 614
        },
        "outputId": "281e60a3-5e12-4d82-e155-510cd7af2fac"
      },
      "source": [
        "unigram_fr1 = Counter(ngrams(fr1,1))\n",
        "plothistogram(unigram_eng1)\n",
        "plt.title('French 1')\n",
        "plt.show()\n",
        "unigram_fr2 = Counter(ngrams(fr2,1))\n",
        "plothistogram(unigram_fr2)\n",
        "plt.title('French 2')\n",
        "plt.show()"
      ],
      "execution_count": null,
      "outputs": [
        {
          "output_type": "display_data",
          "data": {
            "text/plain": [
              "<Figure size 432x288 with 1 Axes>"
            ],
            "image/png": "[encoded data removed]"
          },
          "metadata": {
            "needs_background": "light"
          }
        },
        {
          "output_type": "stream",
          "name": "stderr",
          "text": [
            "/usr/local/lib/python3.7/dist-packages/matplotlib/backends/backend_agg.py:214: RuntimeWarning: Glyph 9 missing from current font.\n",
            "  font.set_text(s, 0.0, flags=flags)\n",
            "/usr/local/lib/python3.7/dist-packages/matplotlib/backends/backend_agg.py:183: RuntimeWarning: Glyph 9 missing from current font.\n",
            "  font.set_text(s, 0, flags=flags)\n"
          ]
        },
        {
          "output_type": "display_data",
          "data": {
            "text/plain": [
              "<Figure size 432x288 with 1 Axes>"
            ],
            "image/png": "[encoded data removed]"
          },
          "metadata": {
            "needs_background": "light"
          }
        }
      ]
    },
    {
      "cell_type": "markdown",
      "source": [
        "## A good feature is one that helps in easy prediction and classification. \n",
        "## for ex : if you wish to differentiate between grapes and apples, size can be one of the useful features."
      ],
      "metadata": {
        "id": "VUEys9KoA0L0"
      }
    },
    {
      "cell_type": "markdown",
      "metadata": {
        "id": "kxgrdZLKdkAB"
      },
      "source": [
        "We can see that the unigrams for French and English are very similar. So this is not a good feature if we want to distinguish between English and French. Let us look at bigrams."
      ]
    },
    {
      "cell_type": "code",
      "metadata": {
        "id": "OmRCxItx2T9W",
        "colab": {
          "base_uri": "https://localhost:8080/",
          "height": 1000
        },
        "outputId": "470530f5-ed2a-4552-e588-03763ab5a20f"
      },
      "source": [
        "## Now instead of unigram, we will use bigrams as features, and see how useful bigrams are as features.\n",
        "\n",
        "bigram_eng1 = Counter(ngrams(eng1,2)) # bigrams\n",
        "plothistogram(bigram_eng1)\n",
        "plt.title('English 1')\n",
        "plt.show()\n",
        "\n",
        "bigram_eng2 = Counter(ngrams(eng2,2))\n",
        "plothistogram(bigram_eng2)\n",
        "plt.title('English 2')\n",
        "plt.show()\n",
        "\n",
        "bigram_fr1 = Counter(ngrams(fr1,2))\n",
        "plothistogram(bigram_eng1)\n",
        "plt.title('French 1')\n",
        "plt.show()\n",
        "\n",
        "bigram_fr2 = Counter(ngrams(fr2,2))\n",
        "plothistogram(bigram_fr2)\n",
        "plt.title('French 2')\n",
        "plt.show()"
      ],
      "execution_count": 23,
      "outputs": [
        {
          "output_type": "display_data",
          "data": {
            "text/plain": [
              "<Figure size 432x288 with 1 Axes>"
            ],
            "image/png": "[encoded data removed]"
          },
          "metadata": {
            "needs_background": "light"
          }
        },
        {
          "output_type": "display_data",
          "data": {
            "text/plain": [
              "<Figure size 432x288 with 1 Axes>"
            ],
            "image/png": "[encoded data removed]"
          },
          "metadata": {
            "needs_background": "light"
          }
        },
        {
          "output_type": "display_data",
          "data": {
            "text/plain": [
              "<Figure size 432x288 with 1 Axes>"
            ],
            "image/png": "[encoded data removed]"
          },
          "metadata": {
            "needs_background": "light"
          }
        },
        {
          "output_type": "display_data",
          "data": {
            "text/plain": [
              "<Figure size 432x288 with 1 Axes>"
            ],
            "image/png": "[encoded data removed]"
          },
          "metadata": {
            "needs_background": "light"
          }
        }
      ]
    },
    {
      "cell_type": "markdown",
      "metadata": {
        "id": "O-egsHMIg5Rp"
      },
      "source": [
        "Another way to visualize bigrams is to use a 2-dimensional graph."
      ]
    },
    {
      "cell_type": "code",
      "source": [
        "## lets have a lot at bigrams.\n",
        "\n",
        "bigram_eng1\n"
      ],
      "metadata": {
        "colab": {
          "base_uri": "https://localhost:8080/"
        },
        "id": "7LYSVe02dG59",
        "outputId": "652e43bb-ad3b-440c-c884-ebd08523da89"
      },
      "execution_count": 24,
      "outputs": [
        {
          "output_type": "execute_result",
          "data": {
            "text/plain": [
              "Counter({('T', 'h'): 114,\n",
              "         ('h', 'e'): 688,\n",
              "         ('e', ' '): 1106,\n",
              "         (' ', 'g'): 268,\n",
              "         ('g', 'i'): 201,\n",
              "         ('i', 'r'): 315,\n",
              "         ('r', 'a'): 401,\n",
              "         ('a', 'f'): 231,\n",
              "         ('f', 'f'): 253,\n",
              "         ('f', 'e'): 274,\n",
              "         (' ', 'i'): 357,\n",
              "         ('i', 's'): 209,\n",
              "         ('s', ' '): 886,\n",
              "         (' ', 'a'): 738,\n",
              "         ('a', ' '): 166,\n",
              "         (' ', 'l'): 202,\n",
              "         ('l', 'a'): 157,\n",
              "         ('a', 'r'): 311,\n",
              "         ('r', 'g'): 29,\n",
              "         ('g', 'e'): 144,\n",
              "         (' ', 'A'): 58,\n",
              "         ('A', 'f'): 17,\n",
              "         ('f', 'r'): 72,\n",
              "         ('r', 'i'): 146,\n",
              "         ('i', 'c'): 159,\n",
              "         ('c', 'a'): 147,\n",
              "         ('a', 'n'): 513,\n",
              "         ('n', ' '): 513,\n",
              "         (' ', 'h'): 234,\n",
              "         ('h', 'o'): 84,\n",
              "         ('o', 'o'): 50,\n",
              "         ('o', 'f'): 184,\n",
              "         ('e', 'd'): 253,\n",
              "         ('d', ' '): 581,\n",
              "         (' ', 'm'): 262,\n",
              "         ('m', 'a'): 211,\n",
              "         ('a', 'm'): 59,\n",
              "         ('m', 'm'): 26,\n",
              "         ('a', 'l'): 386,\n",
              "         ('l', ' '): 156,\n",
              "         (' ', 'b'): 255,\n",
              "         ('b', 'e'): 116,\n",
              "         ('e', 'l'): 110,\n",
              "         ('l', 'o'): 139,\n",
              "         ('o', 'n'): 360,\n",
              "         ('n', 'g'): 301,\n",
              "         ('i', 'n'): 563,\n",
              "         ('g', ' '): 207,\n",
              "         (' ', 't'): 757,\n",
              "         ('t', 'o'): 210,\n",
              "         ('o', ' '): 210,\n",
              "         ('t', 'h'): 694,\n",
              "         ('e', 'n'): 282,\n",
              "         ('n', 'u'): 20,\n",
              "         ('u', 's'): 99,\n",
              "         (' ', 'G'): 52,\n",
              "         ('G', 'i'): 60,\n",
              "         ('f', 'a'): 47,\n",
              "         ('a', '.'): 12,\n",
              "         ('.', ' '): 260,\n",
              "         (' ', 'I'): 39,\n",
              "         ('I', 't'): 16,\n",
              "         ('t', ' '): 394,\n",
              "         ('t', 'a'): 97,\n",
              "         ('l', 'l'): 125,\n",
              "         ('l', 'e'): 262,\n",
              "         ('e', 's'): 543,\n",
              "         ('s', 't'): 218,\n",
              "         ('l', 'i'): 148,\n",
              "         ('i', 'v'): 92,\n",
              "         ('v', 'i'): 78,\n",
              "         ('t', 'e'): 261,\n",
              "         ('e', 'r'): 433,\n",
              "         ('r', 'r'): 22,\n",
              "         ('r', 'e'): 444,\n",
              "         ('t', 'r'): 72,\n",
              "         ('i', 'a'): 65,\n",
              "         ('n', 'i'): 74,\n",
              "         ('i', 'm'): 70,\n",
              "         ('n', 'd'): 363,\n",
              "         (' ', 'r'): 157,\n",
              "         ('r', 'u'): 32,\n",
              "         ('u', 'm'): 56,\n",
              "         ('m', 'i'): 68,\n",
              "         ('n', 'a'): 95,\n",
              "         ('n', 't'): 192,\n",
              "         (' ', 'o'): 379,\n",
              "         (' ', 'E'): 28,\n",
              "         ('E', 'a'): 5,\n",
              "         ('r', 't'): 97,\n",
              "         ('h', '.'): 7,\n",
              "         (' ', 'T'): 113,\n",
              "         ('T', 'r'): 4,\n",
              "         ('a', 'd'): 84,\n",
              "         ('d', 'i'): 117,\n",
              "         ('i', 't'): 242,\n",
              "         ('t', 'i'): 283,\n",
              "         ('i', 'o'): 159,\n",
              "         ('l', 'y'): 127,\n",
              "         ('y', ','): 20,\n",
              "         (',', ' '): 337,\n",
              "         (' ', 'w'): 210,\n",
              "         ('w', 'e'): 74,\n",
              "         ('o', 'u'): 187,\n",
              "         ('u', 'g'): 47,\n",
              "         ('g', 'h'): 87,\n",
              "         ('h', 't'): 42,\n",
              "         ('n', 'e'): 170,\n",
              "         (' ', 's'): 363,\n",
              "         ('s', 'p'): 86,\n",
              "         ('p', 'e'): 135,\n",
              "         ('e', 'c'): 173,\n",
              "         ('c', 'i'): 99,\n",
              "         ('i', 'e'): 106,\n",
              "         ('s', ','): 114,\n",
              "         (' ', 'c'): 258,\n",
              "         ('m', 'e'): 128,\n",
              "         ('o', 'p'): 71,\n",
              "         ('p', 'a'): 71,\n",
              "         ('r', 'd'): 42,\n",
              "         ('d', 'a'): 53,\n",
              "         ('w', 'i'): 87,\n",
              "         ('h', ' '): 171,\n",
              "         (' ', 'n'): 113,\n",
              "         ('s', 'u'): 89,\n",
              "         ('u', 'b'): 27,\n",
              "         ('b', 's'): 15,\n",
              "         ('s', '.'): 120,\n",
              "         (' ', 'M'): 32,\n",
              "         ('M', 'o'): 8,\n",
              "         ('o', 's'): 85,\n",
              "         ('c', 'e'): 104,\n",
              "         ('t', 'l'): 18,\n",
              "         ('s', 'e'): 213,\n",
              "         ('e', 'a'): 197,\n",
              "         ('r', 'c'): 22,\n",
              "         ('c', 'h'): 125,\n",
              "         ('r', 's'): 79,\n",
              "         (' ', 'p'): 191,\n",
              "         ('p', 'r'): 101,\n",
              "         ('r', 'o'): 211,\n",
              "         ('p', 'o'): 88,\n",
              "         (' ', 'd'): 160,\n",
              "         ('i', 'd'): 47,\n",
              "         ('e', 'm'): 84,\n",
              "         ('m', ' '): 92,\n",
              "         (' ', 'u'): 77,\n",
              "         ('u', 'p'): 50,\n",
              "         ('p', ' '): 39,\n",
              "         (' ', 'e'): 116,\n",
              "         ('e', 'i'): 65,\n",
              "         ('i', 'g'): 76,\n",
              "         ('e', 'x'): 45,\n",
              "         ('x', 't'): 18,\n",
              "         ('d', 'u'): 47,\n",
              "         ('u', 'e'): 13,\n",
              "         ('e', 'w'): 17,\n",
              "         ('w', ' '): 31,\n",
              "         ('r', ' '): 275,\n",
              "         ('o', 'c'): 42,\n",
              "         ('d', 'r'): 18,\n",
              "         ('u', 'c'): 35,\n",
              "         ('c', 'l'): 32,\n",
              "         (' ', 'D'): 23,\n",
              "         ('D', 'N'): 2,\n",
              "         ('N', 'A'): 2,\n",
              "         ('A', ','): 1,\n",
              "         ('a', 's'): 196,\n",
              "         ('m', 'o'): 125,\n",
              "         ('o', 'r'): 250,\n",
              "         ('r', 'p'): 14,\n",
              "         ('p', 'h'): 19,\n",
              "         ('o', 'l'): 65,\n",
              "         ('o', 'g'): 25,\n",
              "         ('u', 'r'): 129,\n",
              "         ('t', 's'): 143,\n",
              "         (' ', 'S'): 28,\n",
              "         ('S', 'e'): 4,\n",
              "         ('e', 'v'): 48,\n",
              "         ('v', 'e'): 228,\n",
              "         ('o', 't'): 96,\n",
              "         ('n', 'c'): 73,\n",
              "         ('c', 't'): 85,\n",
              "         ('f', ' '): 193,\n",
              "         (' ', 'k'): 37,\n",
              "         ('k', 'n'): 13,\n",
              "         ('n', 'o'): 57,\n",
              "         ('o', 'w'): 88,\n",
              "         ('w', 'n'): 21,\n",
              "         (' ', 'f'): 276,\n",
              "         ('o', 'm'): 143,\n",
              "         ('f', 'o'): 112,\n",
              "         ('s', 's'): 80,\n",
              "         ('s', 'i'): 126,\n",
              "         ('i', 'l'): 112,\n",
              "         ('c', 'o'): 151,\n",
              "         ('d', '.'): 22,\n",
              "         ('.', '\\n'): 26,\n",
              "         ('\\n', 'T'): 14,\n",
              "         ('e', \"'\"): 15,\n",
              "         (\"'\", 's'): 28,\n",
              "         ('h', 'i'): 133,\n",
              "         ('e', 'f'): 23,\n",
              "         ('g', 'u'): 21,\n",
              "         ('u', 'i'): 18,\n",
              "         ('s', 'h'): 44,\n",
              "         ('h', 'a'): 207,\n",
              "         ('a', 'c'): 108,\n",
              "         ('c', 's'): 3,\n",
              "         ('y', ' '): 270,\n",
              "         ('c', 'k'): 82,\n",
              "         ('k', ' '): 55,\n",
              "         ('e', 'g'): 49,\n",
              "         ('g', 's'): 33,\n",
              "         ('r', 'n'): 45,\n",
              "         ('n', '-'): 2,\n",
              "         ('-', 'l'): 7,\n",
              "         ('i', 'k'): 15,\n",
              "         ('k', 'e'): 46,\n",
              "         ('t', 't'): 27,\n",
              "         ('o', 'a'): 23,\n",
              "         ('a', 't'): 325,\n",
              "         ('n', 's'): 107,\n",
              "         ('i', 'f'): 31,\n",
              "         ('f', 'i'): 46,\n",
              "         ('u', 'n'): 90,\n",
              "         ('d', 'e'): 120,\n",
              "         ('a', 'e'): 26,\n",
              "         ('e', ','): 35,\n",
              "         ('o', 'k'): 26,\n",
              "         ('k', 'a'): 12,\n",
              "         ('a', 'p'): 59,\n",
              "         ('p', 'i'): 40,\n",
              "         ('i', '.'): 6,\n",
              "         ('s', 'c'): 30,\n",
              "         ('d', 's'): 37,\n",
              "         (' ', 'C'): 43,\n",
              "         ('C', 'h'): 7,\n",
              "         ('S', 'o'): 8,\n",
              "         ('u', 't'): 55,\n",
              "         ('s', 'o'): 73,\n",
              "         ('h', ','): 11,\n",
              "         (' ', 'N'): 17,\n",
              "         ('N', 'i'): 3,\n",
              "         ('t', '.'): 24,\n",
              "         ('u', 'a'): 25,\n",
              "         ('n', 'h'): 3,\n",
              "         ('a', 'b'): 53,\n",
              "         ('b', 'i'): 41,\n",
              "         ('s', 'a'): 26,\n",
              "         ('a', 'v'): 75,\n",
              "         ('v', 'a'): 49,\n",
              "         ('n', 'n'): 8,\n",
              "         ('a', 'h'): 9,\n",
              "         ('h', 's'): 14,\n",
              "         ('w', 'o'): 20,\n",
              "         ('o', 'd'): 71,\n",
              "         ('d', 'l'): 10,\n",
              "         ('f', 'l'): 19,\n",
              "         ('d', 'y'): 19,\n",
              "         ('p', 'l'): 31,\n",
              "         ('w', 'h'): 56,\n",
              "         ('e', 'y'): 40,\n",
              "         ('b', 'r'): 49,\n",
              "         ('w', 's'): 19,\n",
              "         ('r', 'b'): 3,\n",
              "         ('v', 'o'): 12,\n",
              "         ('\\n', 'L'): 1,\n",
              "         ('L', 'i'): 5,\n",
              "         ('e', 'o'): 17,\n",
              "         ('h', 'y'): 20,\n",
              "         ('y', 'e'): 17,\n",
              "         ('l', 'd'): 40,\n",
              "         ('d', 'o'): 36,\n",
              "         ('a', 'y'): 43,\n",
              "         ('f', 's'): 1,\n",
              "         ('g', ','): 9,\n",
              "         ('b', 'a'): 39,\n",
              "         ('n', 'r'): 1,\n",
              "         ('u', 'l'): 101,\n",
              "         ('l', 't'): 47,\n",
              "         ('b', 'u'): 24,\n",
              "         ('g', 'r'): 55,\n",
              "         ('g', 'a'): 40,\n",
              "         ('a', 'g'): 45,\n",
              "         ('g', 'g'): 13,\n",
              "         ('M', 'a'): 16,\n",
              "         ('b', 'l'): 59,\n",
              "         ('h', 'r'): 18,\n",
              "         (' ', '\"'): 17,\n",
              "         ('\"', 'n'): 3,\n",
              "         ('k', 'i'): 36,\n",
              "         ('g', '\"'): 3,\n",
              "         ('\"', ','): 4,\n",
              "         ('m', 'b'): 25,\n",
              "         ('b', 'o'): 36,\n",
              "         ('n', '.'): 17,\n",
              "         ('D', 'o'): 2,\n",
              "         ('a', 'i'): 70,\n",
              "         ('c', 'c'): 19,\n",
              "         ('i', 'b'): 19,\n",
              "         ('t', 'y'): 37,\n",
              "         (' ', 'y'): 20,\n",
              "         ('y', 'o'): 13,\n",
              "         ('g', '.'): 14,\n",
              "         (' ', 'v'): 55,\n",
              "         ('c', 'u'): 38,\n",
              "         ('t', 'u'): 46,\n",
              "         ('p', 'p'): 40,\n",
              "         ('f', 't'): 20,\n",
              "         ('e', 'e'): 107,\n",
              "         ('k', 's'): 22,\n",
              "         ('b', 'y'): 31,\n",
              "         ('I', 'n'): 23,\n",
              "         (' ', 'U'): 7,\n",
              "         ('U', 'n'): 2,\n",
              "         ('C', 'o'): 14,\n",
              "         ('r', 'v'): 38,\n",
              "         ('N', 'a'): 5,\n",
              "         (' ', '('): 38,\n",
              "         ('(', 'I'): 2,\n",
              "         ('I', 'U'): 3,\n",
              "         ('U', 'C'): 3,\n",
              "         ('C', 'N'): 3,\n",
              "         ('N', ')'): 2,\n",
              "         (')', ' '): 26,\n",
              "         ('v', 'u'): 3,\n",
              "         ('l', 'n'): 5,\n",
              "         ('n', 'y'): 7,\n",
              "         ('r', 'm'): 24,\n",
              "         ('e', '.'): 47,\n",
              "         ('r', 'k'): 10,\n",
              "         (' ', '2'): 24,\n",
              "         ('2', '0'): 18,\n",
              "         ('0', '1'): 11,\n",
              "         ('1', '6'): 9,\n",
              "         ('6', ' '): 10,\n",
              "         ('o', 'x'): 12,\n",
              "         ('x', 'i'): 14,\n",
              "         (' ', '9'): 6,\n",
              "         ('9', '7'): 3,\n",
              "         ('7', ','): 5,\n",
              "         (',', '5'): 2,\n",
              "         ('5', '0'): 6,\n",
              "         ('0', '0'): 15,\n",
              "         ('0', ' '): 29,\n",
              "         (' ', '1'): 33,\n",
              "         ('1', ','): 5,\n",
              "         (',', '6'): 3,\n",
              "         ('6', '0'): 8,\n",
              "         ('e', 'p'): 42,\n",
              "         ('p', 't'): 27,\n",
              "         (' ', 'z'): 9,\n",
              "         ('z', 'o'): 6,\n",
              "         ('1', '0'): 14,\n",
              "         ('0', '.'): 2,\n",
              "         ('\\n', '\\n'): 64,\n",
              "         ('\\n', '='): 23,\n",
              "         ('=', '='): 76,\n",
              "         ('=', ' '): 23,\n",
              "         ('E', 't'): 1,\n",
              "         ('y', 'm'): 3,\n",
              "         ('g', 'y'): 9,\n",
              "         (' ', '='): 23,\n",
              "         ('=', '\\n'): 23,\n",
              "         ('\"', 'g'): 3,\n",
              "         ('e', '\"'): 1,\n",
              "         ('\"', ' '): 7,\n",
              "         ('r', 'l'): 27,\n",
              "         ('A', 'r'): 5,\n",
              "         ('c', ' '): 24,\n",
              "         ('z', 'a'): 3,\n",
              "         ('r', 'ā'): 1,\n",
              "         ('ā', 'f'): 1,\n",
              "         ('(', 'ز'): 1,\n",
              "         ('ز', 'ر'): 1,\n",
              "         ('ر', 'ا'): 1,\n",
              "         ('ا', 'ف'): 1,\n",
              "         ('ف', 'ة'): 1,\n",
              "         ('ة', ')'): 1,\n",
              "         (')', ','): 8,\n",
              "         ('r', 'h'): 3,\n",
              "         ('p', 's'): 19,\n",
              "         ('l', \"'\"): 7,\n",
              "         ('i', ' '): 13,\n",
              "         ('b', ' '): 3,\n",
              "         ('s', 'l'): 11,\n",
              "         ('\"', 'f'): 1,\n",
              "         ('t', '-'): 3,\n",
              "         ('-', 'w'): 2,\n",
              "         ('w', 'a'): 43,\n",
              "         ('l', 'k'): 5,\n",
              "         ('r', '\"'): 2,\n",
              "         ('\"', '.'): 7,\n",
              "         ('E', 'n'): 5,\n",
              "         ('g', 'l'): 11,\n",
              "         (' ', 'j'): 12,\n",
              "         ('j', 'a'): 5,\n",
              "         ('z', 'i'): 4,\n",
              "         ('d', ','): 17,\n",
              "         ('o', 'b'): 15,\n",
              "         ('c', ','): 3,\n",
              "         ('M', 'i'): 5,\n",
              "         ('d', 'd'): 6,\n",
              "         ('r', 'f'): 5,\n",
              "         ('a', 'u'): 21,\n",
              "         ('t', 'z'): 1,\n",
              "         ('z', '.'): 1,\n",
              "         ('1', '5'): 8,\n",
              "         ('5', '9'): 1,\n",
              "         ('9', '0'): 3,\n",
              "         ('0', 's'): 2,\n",
              "         (' ', 'F'): 14,\n",
              "         ('F', 'r'): 2,\n",
              "         ('.', '\"'): 1,\n",
              "         ('\"', 'C'): 1,\n",
              "         ('C', 'a'): 15,\n",
              "         ('d', '\"'): 2,\n",
              "         (' ', ' '): 8,\n",
              "         ('e', ';'): 3,\n",
              "         (';', ' '): 10,\n",
              "         ('A', 'n'): 6,\n",
              "         ('G', 'r'): 2,\n",
              "         ('e', 'k'): 6,\n",
              "         (' ', 'κ'): 2,\n",
              "         ('κ', 'α'): 1,\n",
              "         ('α', 'μ'): 1,\n",
              "         ('μ', 'η'): 2,\n",
              "         ('η', 'λ'): 2,\n",
              "         ('λ', 'ο'): 2,\n",
              "         ('ο', 'π'): 1,\n",
              "         ('π', 'ά'): 2,\n",
              "         ('ά', 'ρ'): 2,\n",
              "         ('ρ', 'δ'): 2,\n",
              "         ('δ', 'α'): 2,\n",
              "         ('α', 'λ'): 2,\n",
              "         ('λ', 'ι'): 2,\n",
              "         ('ι', 'ς'): 2,\n",
              "         ('ς', ' '): 3,\n",
              "         ('(', 'k'): 2,\n",
              "         ('m', 'ē'): 2,\n",
              "         ('ē', 'l'): 2,\n",
              "         ('p', 'á'): 2,\n",
              "         ('á', 'r'): 2,\n",
              "         ('s', ')'): 3,\n",
              "         ('κ', 'ά'): 1,\n",
              "         ('ά', 'μ'): 1,\n",
              "         ('ο', 'ς'): 1,\n",
              "         ('k', 'á'): 1,\n",
              "         ('á', 'm'): 1,\n",
              "         ('\"', 'c'): 3,\n",
              "         ('l', '\"'): 2,\n",
              "         (' ', 'π'): 1,\n",
              "         ('(', 'p'): 1,\n",
              "         ('\"', 'l'): 1,\n",
              "         ('l', '-'): 1,\n",
              "         ('d', '-'): 4,\n",
              "         ('T', 'a'): 4,\n",
              "         ('a', 'x'): 6,\n",
              "         ('x', 'o'): 5,\n",
              "         ('m', 'y'): 13,\n",
              "         ('E', 'v'): 2,\n",
              "         ('l', 'u'): 26,\n",
              "         ('n', 'l'): 11,\n",
              "         ('t', 'w'): 22,\n",
              "         ('y', 'l'): 6,\n",
              "         ('a', ','): 18,\n",
              "         ('m', 'u'): 23,\n",
              "         ('o', 'v'): 33,\n",
              "         ('c', 'r'): 21,\n",
              "         ('m', 'p'): 38,\n",
              "         ('e', 't'): 74,\n",
              "         ('e', 'b'): 20,\n",
              "         ('s', 'k'): 25,\n",
              "         ('k', 'u'): 12,\n",
              "         ('g', 't'): 11,\n",
              "         ('r', ','): 19,\n",
              "         ('f', 'u'): 12,\n",
              "         ('.', 'O'): 1,\n",
              "         ('O', 'n'): 3,\n",
              "         ('h', 'u'): 14,\n",
              "         ('r', 'y'): 37,\n",
              "         ('y', 'x'): 4,\n",
              "         ('x', ' '): 18,\n",
              "         ('2', '5'): 4,\n",
              "         ('5', '–'): 4,\n",
              "         ('–', '2'): 4,\n",
              "         ('g', 'o'): 7,\n",
              "         ('(', 'm'): 2,\n",
              "         ('y', 'a'): 14,\n",
              "         ('a', ')'): 1,\n",
              "         ('1', '7'): 6,\n",
              "         ('7', '–'): 4,\n",
              "         ('–', '1'): 6,\n",
              "         ('5', ' '): 13,\n",
              "         ('1', '8'): 5,\n",
              "         ('8', '–'): 3,\n",
              "         ('1', '4'): 8,\n",
              "         ('4', '.'): 5,\n",
              "         ('.', '3'): 4,\n",
              "         ('3', ' '): 5,\n",
              "         (' ', 'L'): 6,\n",
              "         ('i', 'u'): 12,\n",
              "         ('m', '-'): 1,\n",
              "         ('-', 's'): 14,\n",
              "         ('i', 'z'): 9,\n",
              "         ('z', 'e'): 10,\n",
              "         ('y', '-'): 2,\n",
              "         ('-', 'b'): 5,\n",
              "         ('y', '.'): 13,\n",
              "         ('1', '2'): 5,\n",
              "         ('2', ' '): 9,\n",
              "         ('b', 'c'): 1,\n",
              "         ('s', 'm'): 16,\n",
              "         ('S', 'i'): 1,\n",
              "         (' ', 'B'): 13,\n",
              "         ('B', 'r'): 3,\n",
              "         ('m', '.'): 5,\n",
              "         ('.', 'G'): 4,\n",
              "         (' ', 'P'): 10,\n",
              "         ('P', 'a'): 6,\n",
              "         ('S', 'h'): 2,\n",
              "         ('S', 'a'): 4,\n",
              "         ('4', ' '): 7,\n",
              "         ('E', 'u'): 5,\n",
              "         ('l', 's'): 49,\n",
              "         ('r', '.'): 16,\n",
              "         (' ', 'O'): 5,\n",
              "         ('O', 't'): 1,\n",
              "         ('x', '.'): 3,\n",
              "         ('i', ','): 3,\n",
              "         ('B', 'o'): 5,\n",
              "         ('o', 'h'): 3,\n",
              "         ('h', 'l'): 6,\n",
              "         ('9', '–'): 3,\n",
              "         ('–', '7'): 3,\n",
              "         ('7', ' '): 9,\n",
              "         ('.', 'B'): 1,\n",
              "         (' ', '7'): 8,\n",
              "         ('C', 'l'): 1,\n",
              "         ('A', 's'): 6,\n",
              "         ('1', ' '): 13,\n",
              "         ('P', 'l'): 1,\n",
              "         ('G', '.'): 8,\n",
              "         ('j', 'u'): 9,\n",
              "         ('t', ','): 16,\n",
              "         (' ', '8'): 4,\n",
              "         ('8', ' '): 6,\n",
              "         ('D', 'u'): 8,\n",
              "         ('C', '4'): 1,\n",
              "         ('y', 'p'): 23,\n",
              "         ('u', 'd'): 27,\n",
              "         ('x', 'p'): 7,\n",
              "         ('o', 'i'): 9,\n",
              "         ('i', '-'): 5,\n",
              "         ('.', 'T'): 6,\n",
              "         ('2', '.'): 4,\n",
              "         ('.', '9'): 2,\n",
              "         ('9', ' '): 4,\n",
              "         (' ', '3'): 7,\n",
              "         ('3', '.'): 3,\n",
              "         ('O', 'f'): 1,\n",
              "         ('1', '9'): 9,\n",
              "         ('9', '.'): 3,\n",
              "         ('.', '4'): 2,\n",
              "         ('4', '%'): 1,\n",
              "         ('%', ' '): 2,\n",
              "         ('l', '.'): 8,\n",
              "         ('1', '1'): 9,\n",
              "         ('1', '.'): 4,\n",
              "         ('.', '5'): 4,\n",
              "         ('A', ' '): 17,\n",
              "         ('S', 'p'): 5,\n",
              "         ('g', 'n'): 7,\n",
              "         ('.', 'C'): 1,\n",
              "         ('e', 'u'): 2,\n",
              "         ('7', '5'): 3,\n",
              "         ('5', '8'): 1,\n",
              "         ('8', '.'): 2,\n",
              "         (' ', 'H'): 17,\n",
              "         ('H', 'e'): 4,\n",
              "         ('C', 'e'): 2,\n",
              "         (' ', 'J'): 2,\n",
              "         ('J', 'a'): 1,\n",
              "         ('c', 'q'): 1,\n",
              "         ('q', 'u'): 13,\n",
              "         ('7', '6'): 5,\n",
              "         ('6', '2'): 2,\n",
              "         ('0', '7'): 1,\n",
              "         ('i', 'x'): 6,\n",
              "         ('y', 's'): 16,\n",
              "         ('i', 'p'): 18,\n",
              "         ('x', 'c'): 3,\n",
              "         ('n', 'f'): 4,\n",
              "         ('.', 'A'): 5,\n",
              "         ('0', '2'): 4,\n",
              "         ('n', ','): 18,\n",
              "         ('r', '-'): 5,\n",
              "         ('e', '-'): 9,\n",
              "         ('p', 'u'): 23,\n",
              "         ('2', '1'): 2,\n",
              "         ('e', 'q'): 8,\n",
              "         ('N', 'o'): 3,\n",
              "         (' ', 'R'): 15,\n",
              "         ('R', 'o'): 6,\n",
              "         ('m', 'n'): 2,\n",
              "         ('F', 'a'): 2,\n",
              "         ('l', 'c'): 3,\n",
              "         ('8', '4'): 1,\n",
              "         ('4', '3'): 1,\n",
              "         ('3', ','): 2,\n",
              "         (' ', 'W'): 18,\n",
              "         ('W', 'h'): 11,\n",
              "         ('e', ':'): 3,\n",
              "         (':', '\\n'): 1,\n",
              "         ('\\n', 'G'): 16,\n",
              "         ('s', '\\n'): 4,\n",
              "         ('e', '\\n'): 2,\n",
              "         ('a', '\\n'): 3,\n",
              "         ('i', '\\n'): 2,\n",
              "         ('n', 'j'): 3,\n",
              "         ('p', 'y'): 2,\n",
              "         ('y', 'g'): 4,\n",
              "         ('g', 'm'): 2,\n",
              "         ('\\n', 'F'): 2,\n",
              "         ('F', 'u'): 1,\n",
              "         (' ', '4'): 6,\n",
              "         ('3', '–'): 1,\n",
              "         ('–', '5'): 2,\n",
              "         ('5', '.'): 3,\n",
              "         ('.', '7'): 4,\n",
              "         ('(', '1'): 9,\n",
              "         ('.', '1'): 2,\n",
              "         ('1', '–'): 2,\n",
              "         ('t', ')'): 7,\n",
              "         ('l', ','): 12,\n",
              "         (',', '1'): 1,\n",
              "         ('9', '2'): 1,\n",
              "         ('k', 'g'): 5,\n",
              "         ('(', '2'): 4,\n",
              "         ('2', ','): 1,\n",
              "         ('2', '8'): 3,\n",
              "         ('l', 'b'): 6,\n",
              "         ('b', ')'): 5,\n",
              "         ('8', '2'): 2,\n",
              "         (',', '8'): 1,\n",
              "         ('D', 'e'): 3,\n",
              "         ('.', ':'): 47,\n",
              "         (':', '\\u200a'): 49,\n",
              "         ('\\u200a', '6'): 2,\n",
              "         ('6', '6'): 2,\n",
              "         ('6', '\\u200a'): 8,\n",
              "         ('\\u200a', ' '): 39,\n",
              "         ('(', '0'): 1,\n",
              "         ('7', '9'): 3,\n",
              "         ('n', ')'): 11,\n",
              "         (')', '.'): 4,\n",
              "         ('\\u200a', '8'): 4,\n",
              "         ('8', '7'): 1,\n",
              "         ('7', '\\u200a'): 8,\n",
              "         ('8', '0'): 1,\n",
              "         ('0', '–'): 3,\n",
              "         ('(', '3'): 4,\n",
              "         ('3', '1'): 4,\n",
              "         ('–', '3'): 2,\n",
              "         ('3', '9'): 1,\n",
              "         ('u', 'f'): 7,\n",
              "         ('\\u200a', '9'): 4,\n",
              "         ('9', '4'): 2,\n",
              "         ('4', '\\u200a'): 4,\n",
              "         ('\\u200a', 'T'): 2,\n",
              "         ('t', 'c'): 7,\n",
              "         ('t', 'n'): 1,\n",
              "         ('k', ','): 9,\n",
              "         ('H', 'o'): 8,\n",
              "         ('y', 'i'): 7,\n",
              "         ('m', 's'): 10,\n",
              "         ('l', 'v'): 19,\n",
              "         ('i', 'q'): 2,\n",
              "         ('l', 'f'): 11,\n",
              "         ('s', 'y'): 6,\n",
              "         ('s', 'w'): 11,\n",
              "         ('A', 't'): 2,\n",
              "         ('3', '-'): 1,\n",
              "         ('-', 'm'): 1,\n",
              "         ('B', 'e'): 5,\n",
              "         ('x', 'u'): 6,\n",
              "         ('\\n', 'B'): 1,\n",
              "         ('x', 'e'): 2,\n",
              "         ('1', '3'): 1,\n",
              "         ('c', 'm'): 8,\n",
              "         ('(', '5'): 2,\n",
              "         ('9', '5'): 2,\n",
              "         ('–', '9'): 1,\n",
              "         ('A', 'p'): 2,\n",
              "         (':', ' '): 3,\n",
              "         ('p', ','): 5,\n",
              "         ('p', '.'): 6,\n",
              "         ('M', 'u'): 1,\n",
              "         ('\\u200a', '1'): 16,\n",
              "         ('0', '3'): 2,\n",
              "         ('3', '\\u200a'): 5,\n",
              "         ('b', '-'): 2,\n",
              "         ('l', 'p'): 1,\n",
              "         (',', '\\u200a'): 4,\n",
              "         ('0', '\\u200a'): 3,\n",
              "         ('\\u200a', 'L'): 1,\n",
              "         ('L', 'o'): 2,\n",
              "         ('8', '5'): 3,\n",
              "         ('5', ','): 3,\n",
              "         ('2', '\\u200a'): 4,\n",
              "         ('r', ':'): 1,\n",
              "         ('5', '\\u200a'): 4,\n",
              "         ('4', '5'): 3,\n",
              "         ('n', 'b'): 2,\n",
              "         ('0', '9'): 1,\n",
              "         ('k', 'l'): 3,\n",
              "         ('a', 'w'): 6,\n",
              "         ('0', '6'): 1,\n",
              "         ('\\u200a', '\\n'): 3,\n",
              "         ('N', 'e'): 3,\n",
              "         ('(', '7'): 2,\n",
              "         ('7', '.'): 3,\n",
              "         ('A', 'l'): 2,\n",
              "         (' ', '5'): 5,\n",
              "         ('–', '6'): 2,\n",
              "         ('u', 'v'): 2,\n",
              "         ('7', '0'): 2,\n",
              "         ('\\u200a', '7'): 9,\n",
              "         ('7', '2'): 1,\n",
              "         ('2', '–'): 2,\n",
              "         ('7', '3'): 1,\n",
              "         ('7', '1'): 2,\n",
              "         ('1', '\\u200a'): 4,\n",
              "         ('5', '2'): 2,\n",
              "         ('5', '4'): 2,\n",
              "         ('2', '7'): 3,\n",
              "         ('3', '3'): 5,\n",
              "         ('a', 'k'): 8,\n",
              "         ('j', 'o'): 2,\n",
              "         ('(', 'T'): 1,\n",
              "         ('T', '1'): 4,\n",
              "         ('T', '2'): 1,\n",
              "         ('2', ')'): 1,\n",
              "         ('(', 'C'): 2,\n",
              "         ('C', '7'): 2,\n",
              "         ('7', ')'): 1,\n",
              "         ('C', '8'): 1,\n",
              "         ('8', ','): 2,\n",
              "         ('b', ','): 2,\n",
              "         ('D', 'a'): 6,\n",
              "         ('r', 'w'): 2,\n",
              "         ('s', '\"'): 2,\n",
              "         ('u', ','): 2,\n",
              "         ('d', 'v'): 2,\n",
              "         (' ', 'q'): 2,\n",
              "         ('(', '6'): 2,\n",
              "         ('(', 'g'): 1,\n",
              "         ('h', 'f'): 1,\n",
              "         ('l', ')'): 1,\n",
              "         (',', '\\n'): 1,\n",
              "         ('\\n', 'a'): 1,\n",
              "         ('-', 'n'): 2,\n",
              "         ('(', 's'): 1,\n",
              "         ('w', ')'): 1,\n",
              "         ('b', 't'): 1,\n",
              "         ('o', 'y'): 2,\n",
              "         ('b', 'j'): 5,\n",
              "         ('j', 'e'): 5,\n",
              "         ('L', 'e'): 1,\n",
              "         ('\\n', 'A'): 1,\n",
              "         ('w', 'r'): 2,\n",
              "         ('n', 'k'): 9,\n",
              "         ('k', 'y'): 3,\n",
              "         (' ', '×'): 2,\n",
              "         ('×', ' '): 2,\n",
              "         ('2', '3'): 3,\n",
              "         ('.', '2'): 1,\n",
              "         ('9', '8'): 2,\n",
              "         ('8', '\\u200a'): 2,\n",
              "         ('w', 'c'): 1,\n",
              "         ('s', ':'): 2,\n",
              "         ('W', 'a'): 2,\n",
              "         ('\\u200a', '3'): 10,\n",
              "         ('3', '2'): 6,\n",
              "         ('2', '9'): 3,\n",
              "         ('9', '\\u200a'): 7,\n",
              "         (' ', '6'): 3,\n",
              "         ('k', 'm'): 2,\n",
              "         ('m', '/'): 2,\n",
              "         ('/', 'h'): 2,\n",
              "         ('3', '7'): 4,\n",
              "         ('h', ')'): 2,\n",
              "         ('r', \"'\"): 4,\n",
              "         ('T', 'o'): 5,\n",
              "         ('p', 'w'): 1,\n",
              "         ('6', '7'): 2,\n",
              "         ('I', 'f'): 1,\n",
              "         ('S', 't'): 2,\n",
              "         ('.', '6'): 3,\n",
              "         ('n', ';'): 1,\n",
              "         ('\"', 'd'): 1,\n",
              "         ('p', '\"'): 2,\n",
              "         ('k', 'w'): 1,\n",
              "         ('\\n', 'I'): 2,\n",
              "         ('y', 'n'): 4,\n",
              "         ('t', ';'): 1,\n",
              "         ('3', '0'): 3,\n",
              "         ('l', ';'): 1,\n",
              "         ('n', 'x'): 1,\n",
              "         ('d', 'p'): 1,\n",
              "         ('x', 'y'): 2,\n",
              "         ('.', '0'): 1,\n",
              "         ('s', '-'): 1,\n",
              "         ('o', 'e'): 7,\n",
              "         ('n', 'v'): 4,\n",
              "         ('m', ','): 1,\n",
              "         ('7', '8'): 2,\n",
              "         ('F', 'e'): 8,\n",
              "         ('e', 'h'): 6,\n",
              "         ('H', 'a'): 2,\n",
              "         ('A', 'c'): 3,\n",
              "         ('T', 'e'): 2,\n",
              "         ('2', '2'): 1,\n",
              "         ('n', 'm'): 2,\n",
              "         ('b', 'f'): 1,\n",
              "         ('w', 't'): 2,\n",
              "         ('2', '4'): 1,\n",
              "         ('3', '4'): 1,\n",
              "         ('k', '.'): 1,\n",
              "         ('\\u200a', 'D'): 1,\n",
              "         ('c', 'y'): 2,\n",
              "         ('f', '-'): 1,\n",
              "         ('-', 'd'): 1,\n",
              "         ('\"', 'w'): 2,\n",
              "         ('y', 't'): 2,\n",
              "         ('R', 'u'): 3,\n",
              "         ('-', 'c'): 2,\n",
              "         ('F', 'o'): 2,\n",
              "         ('\"', 'a'): 1,\n",
              "         ('n', '\"'): 1,\n",
              "         ('n', '–'): 2,\n",
              "         ('–', 'f'): 1,\n",
              "         ('P', 'r'): 3,\n",
              "         ('s', 'r'): 2,\n",
              "         ('n', 'z'): 3,\n",
              "         ('b', 'p'): 1,\n",
              "         ('x', '-'): 1,\n",
              "         ('G', 'e'): 2,\n",
              "         (' ', 'Y'): 2,\n",
              "         ('Y', 'o'): 2,\n",
              "         ('y', 'f'): 1,\n",
              "         ('\\u200a', 'E'): 1,\n",
              "         ('y', ';'): 1,\n",
              "         ('s', 'n'): 4,\n",
              "         ('e', 'z'): 1,\n",
              "         ('w', 'l'): 1,\n",
              "         ('S', 'n'): 1,\n",
              "         ('b', 'm'): 1,\n",
              "         ('R', 'e'): 4,\n",
              "         ('\\n', 'R'): 1,\n",
              "         ('y', 'c'): 1,\n",
              "         ('-', 'i'): 3,\n",
              "         ('.', 'M'): 1,\n",
              "         ('h', 'm'): 2,\n",
              "         ('d', 'g'): 3,\n",
              "         ('4', '0'): 2,\n",
              "         ('–', '4'): 3,\n",
              "         ('4', '6'): 2,\n",
              "         ('w', 'b'): 1,\n",
              "         ('6', '–'): 1,\n",
              "         ('6', '.'): 2,\n",
              "         ('W', 'i'): 4,\n",
              "         ('l', 'm'): 3,\n",
              "         ('k', '-'): 1,\n",
              "         ('-', 'o'): 1,\n",
              "         ('g', ';'): 1,\n",
              "         ('\\n', 'M'): 2,\n",
              "         ('w', '.'): 1,\n",
              "         ('\\u200a', '4'): 5,\n",
              "         ('4', '9'): 3,\n",
              "         ('w', '-'): 2,\n",
              "         ('h', '-'): 1,\n",
              "         ('S', 'u'): 1,\n",
              "         ('3', '8'): 1,\n",
              "         ('5', '5'): 2,\n",
              "         (',', '2'): 1,\n",
              "         (' ', 'K'): 8,\n",
              "         ('K', 'r'): 1,\n",
              "         ('a', 'j'): 1,\n",
              "         ('A', 'd'): 1,\n",
              "         (' ', 'Z'): 4,\n",
              "         ('Z', 'e'): 1,\n",
              "         ('.', 'S'): 1,\n",
              "         ('T', 'i'): 1,\n",
              "         ('H', 'y'): 1,\n",
              "         ('A', 'm'): 2,\n",
              "         ('R', 'h'): 1,\n",
              "         ('(', 'n'): 1,\n",
              "         ('d', ')'): 1,\n",
              "         ('9', '%'): 1,\n",
              "         ('C', 'u'): 1,\n",
              "         ('\\n', 'W'): 1,\n",
              "         ('d', 'n'): 1,\n",
              "         ('f', '.'): 1,\n",
              "         ('K', 'i'): 3,\n",
              "         ('E', 'g'): 5,\n",
              "         ('K', 'u'): 1,\n",
              "         ('4', '7'): 1,\n",
              "         (',', '0'): 3,\n",
              "         ('o', ','): 2,\n",
              "         ('d', \"'\"): 1,\n",
              "         ('h', '\"'): 1,\n",
              "         ('k', 't'): 1,\n",
              "         ('T', 'u'): 1,\n",
              "         ('K', 'e'): 2,\n",
              "         ('M', 'd'): 1,\n",
              "         ('h', ';'): 1,\n",
              "         (' ', \"'\"): 2,\n",
              "         (\"'\", ' '): 4,\n",
              "         ('O', 'l'): 1,\n",
              "         (\"'\", 'm'): 1,\n",
              "         ('y', \"'\"): 2,\n",
              "         ('\\u200a', 'G'): 2,\n",
              "         ('W', 'e'): 2,\n",
              "         ('l', 'í'): 1,\n",
              "         ('í', ' '): 1,\n",
              "         ('\"', 'm'): 1,\n",
              "         ('n', \"'\"): 2,\n",
              "         ('A', '.'): 1,\n",
              "         ('U', 'f'): 1,\n",
              "         (\"'\", 't'): 1,\n",
              "         ('P', 'e'): 1,\n",
              "         ('M', 'e'): 4,\n",
              "         ('D', 'i'): 2,\n",
              "         ('9', '6'): 1,\n",
              "         ('6', '1'): 1,\n",
              "         ('\"', 'R'): 1,\n",
              "         ('R', '\"'): 1,\n",
              "         ('U', 's'): 1,\n",
              "         ('S', 'c'): 1,\n",
              "         ('–', 'd'): 1,\n",
              "         ('T', 's'): 1,\n",
              "         ('C', 'r'): 2,\n",
              "         ('u', 'x'): 3,\n",
              "         ('s', '—'): 1,\n",
              "         ('—', 'A'): 1,\n",
              "         ('G', 'a'): 1,\n",
              "         ('4', '8'): 2,\n",
              "         ('J', 'u'): 1,\n",
              "         ('B', 'C'): 1,\n",
              "         ('C', '.'): 1,\n",
              "         ('.', '.'): 1,\n",
              "         ('\\u200a', '5'): 3,\n",
              "         ('E', 'm'): 1,\n",
              "         ('A', 'g'): 1,\n",
              "         ('.', 'I'): 1,\n",
              "         ('4', '1'): 1,\n",
              "         ('4', ','): 1,\n",
              "         ('Z', 'h'): 1,\n",
              "         ('o', '.'): 1,\n",
              "         (' ', 'Q'): 1,\n",
              "         ('Q', 'i'): 1,\n",
              "         ('5', '6'): 1,\n",
              "         ('8', '6'): 1,\n",
              "         ('F', 'l'): 1,\n",
              "         ('Z', 'a'): 1,\n",
              "         ('9', 't'): 1,\n",
              "         (' ', 'X'): 1,\n",
              "         ('X', ' '): 1,\n",
              "         ('a', '\"'): 1,\n",
              "         ('8', '1'): 1,\n",
              "         ('d', ';'): 1,\n",
              "         ('s', 'b'): 1,\n",
              "         ('5', '3'): 1,\n",
              "         ('6', '4'): 1,\n",
              "         ('Z', 'o'): 1,\n",
              "         ('8', '3'): 1,\n",
              "         ('E', 'x'): 2,\n",
              "         ('B', 'u'): 1,\n",
              "         ('H', 'u'): 2,\n",
              "         ('m', 'r'): 2,\n",
              "         ('K', 'o'): 1,\n",
              "         ('U', 'm'): 2,\n",
              "         ('N', 'y'): 2,\n",
              "         ('k', 'h'): 2,\n",
              "         ('R', 'i'): 1,\n",
              "         ('D', 'M'): 1,\n",
              "         ('M', 'T'): 1,\n",
              "         ('T', '.'): 1,\n",
              "         ('s', \"'\"): 1,\n",
              "         ('6', ','): 1,\n",
              "         (' ', 'V'): 1,\n",
              "         ('V', 'u'): 1,\n",
              "         ('N', '.'): 1,\n",
              "         ('0', ','): 2,\n",
              "         ('9', '9'): 2,\n",
              "         ('E', 's'): 2,\n",
              "         ('N', 'u'): 1,\n",
              "         ('E', 'r'): 1,\n",
              "         ...})"
            ]
          },
          "metadata": {},
          "execution_count": 24
        }
      ]
    },
    {
      "cell_type": "code",
      "metadata": {
        "id": "3EaPJgtaVxZM"
      },
      "source": [
        "## a function to plot 2-D histogram. The values are color mapped. \n",
        "\n",
        "def plotbihistogram(ngram):\n",
        "  freq = np.zeros((26,26))\n",
        "  for ii in range(26):\n",
        "    for jj in range(26):\n",
        "      freq[ii,jj] = ngram[(chr(ord('a')+ii), chr(ord('a')+jj))] #ord converts char to code\n",
        "  plt.imshow(freq, cmap = 'jet')\n",
        "  plt.colorbar()\n",
        "  return freq"
      ],
      "execution_count": 25,
      "outputs": []
    },
    {
      "cell_type": "code",
      "source": [
        "ord"
      ],
      "metadata": {
        "colab": {
          "base_uri": "https://localhost:8080/"
        },
        "id": "4IFVtO8q8TJB",
        "outputId": "3f4a9e34-c773-4425-8eee-d4c82fe94f84"
      },
      "execution_count": 26,
      "outputs": [
        {
          "output_type": "execute_result",
          "data": {
            "text/plain": [
              "<function ord(c, /)>"
            ]
          },
          "metadata": {},
          "execution_count": 26
        }
      ]
    },
    {
      "cell_type": "code",
      "metadata": {
        "id": "M7jq3AwnVzQT",
        "colab": {
          "base_uri": "https://localhost:8080/",
          "height": 513
        },
        "outputId": "4f6dd103-0651-40a5-d9fd-b57c8a8f565a"
      },
      "source": [
        "bieng1 = plotbihistogram(bigram_eng1)\n",
        "plt.show()\n",
        "bieng2 = plotbihistogram(bigram_eng2)"
      ],
      "execution_count": 27,
      "outputs": [
        {
          "output_type": "display_data",
          "data": {
            "text/plain": [
              "<Figure size 432x288 with 2 Axes>"
            ],
            "image/png": "[encoded data removed]"
          },
          "metadata": {
            "needs_background": "light"
          }
        },
        {
          "output_type": "display_data",
          "data": {
            "text/plain": [
              "<Figure size 432x288 with 2 Axes>"
            ],
            "image/png": "[encoded data removed]"
          },
          "metadata": {
            "needs_background": "light"
          }
        }
      ]
    },
    {
      "cell_type": "code",
      "metadata": {
        "id": "UXPTOj67WsPT",
        "colab": {
          "base_uri": "https://localhost:8080/",
          "height": 513
        },
        "outputId": "f0d93ea2-7931-4347-da6b-0963eb7ce68b"
      },
      "source": [
        "bifr1 = plotbihistogram(bigram_fr1)\n",
        "plt.show()\n",
        "bifr2 = plotbihistogram(bigram_fr2)"
      ],
      "execution_count": 28,
      "outputs": [
        {
          "output_type": "display_data",
          "data": {
            "text/plain": [
              "<Figure size 432x288 with 2 Axes>"
            ],
            "image/png": "[encoded data removed]"
          },
          "metadata": {
            "needs_background": "light"
          }
        },
        {
          "output_type": "display_data",
          "data": {
            "text/plain": [
              "<Figure size 432x288 with 2 Axes>"
            ],
            "image/png": "[encoded data removed]"
          },
          "metadata": {
            "needs_background": "light"
          }
        }
      ]
    },
    {
      "cell_type": "markdown",
      "metadata": {
        "id": "rGOEHcyGokD0"
      },
      "source": [
        "Let us look at the top 10 ngrams for each text. "
      ]
    },
    {
      "cell_type": "code",
      "metadata": {
        "id": "dk2TkzTno8vb"
      },
      "source": [
        "from IPython.core.debugger import set_trace\n",
        "\n",
        "def ind2tup(ind):\n",
        "  ind = int(ind)\n",
        "  i = int(ind/26)\n",
        "  j = int(ind%26)\n",
        "  return (chr(ord('a')+i), chr(ord('a')+j))\n",
        "\n",
        "def ShowTopN(bifreq, n=10):\n",
        "  f = bifreq.flatten()\n",
        "  arg = np.argsort(-f)\n",
        "  for ii in range(n):\n",
        "    print(f'{ind2tup(arg[ii])} : {f[arg[ii]]}')\n"
      ],
      "execution_count": 29,
      "outputs": []
    },
    {
      "cell_type": "code",
      "metadata": {
        "id": "_HeWNh_q0QZ1",
        "colab": {
          "base_uri": "https://localhost:8080/"
        },
        "outputId": "db9bf999-abb6-4b25-847c-ee52f524abfa"
      },
      "source": [
        "print('\\nEnglish 1:')\n",
        "ShowTopN(bieng1)\n",
        "print('\\nEnglish 2:')\n",
        "ShowTopN(bieng2)\n",
        "print('\\nFrench 1:')\n",
        "ShowTopN(bifr1)\n",
        "print('\\nFrench 2:')\n",
        "ShowTopN(bifr2)"
      ],
      "execution_count": 30,
      "outputs": [
        {
          "output_type": "stream",
          "name": "stdout",
          "text": [
            "\n",
            "English 1:\n",
            "('t', 'h') : 694.0\n",
            "('h', 'e') : 688.0\n",
            "('i', 'n') : 563.0\n",
            "('e', 's') : 543.0\n",
            "('a', 'n') : 513.0\n",
            "('r', 'e') : 444.0\n",
            "('e', 'r') : 433.0\n",
            "('r', 'a') : 401.0\n",
            "('a', 'l') : 386.0\n",
            "('n', 'd') : 363.0\n",
            "\n",
            "English 2:\n",
            "('a', 'n') : 1342.0\n",
            "('t', 'h') : 1274.0\n",
            "('h', 'e') : 1167.0\n",
            "('i', 'n') : 945.0\n",
            "('e', 'r') : 747.0\n",
            "('r', 'e') : 708.0\n",
            "('l', 'e') : 705.0\n",
            "('n', 'd') : 669.0\n",
            "('n', 't') : 638.0\n",
            "('h', 'a') : 631.0\n",
            "\n",
            "French 1:\n",
            "('e', 's') : 629.0\n",
            "('l', 'e') : 378.0\n",
            "('d', 'e') : 366.0\n",
            "('e', 'n') : 354.0\n",
            "('o', 'n') : 346.0\n",
            "('n', 't') : 312.0\n",
            "('r', 'e') : 291.0\n",
            "('r', 'a') : 229.0\n",
            "('a', 'n') : 213.0\n",
            "('o', 'u') : 207.0\n",
            "\n",
            "French 2:\n",
            "('e', 's') : 922.0\n",
            "('n', 't') : 773.0\n",
            "('d', 'e') : 623.0\n",
            "('e', 'n') : 599.0\n",
            "('a', 'n') : 539.0\n",
            "('l', 'e') : 510.0\n",
            "('o', 'n') : 478.0\n",
            "('r', 'e') : 457.0\n",
            "('u', 'r') : 294.0\n",
            "('t', 'i') : 279.0\n"
          ]
        }
      ]
    },
    {
      "cell_type": "markdown",
      "source": [
        "## At times, we need to reduce the number of features. We will discuss this more in the upcoming sessions, but a small example has been discussed here. Instead of using each unique token (a word) as a feature, we reduced the number of features by using 1-gram and 2-gram of characters as features."
      ],
      "metadata": {
        "id": "RfwwQj_4CyBA"
      }
    },
    {
      "cell_type": "markdown",
      "metadata": {
        "id": "6kDovOP4l98z"
      },
      "source": [
        "We observe that the bigrams are similar across different topics but different across languages. Thus, the bigram frequency is a good feature for distinguishing languages, but not for distinguishing topics. \n",
        "\n",
        "Thus, we were able to convert a many-dimensional input (the text) to 26 dimesions (unigrams) or 26*26 dimensions (bigrams).\n",
        "\n",
        "\n",
        "A few ways to explore:\n",
        "1. Try with different languages.\n",
        "2. The topics we used are quite similar, wikipedia articles of 'elephant' and 'giraffe'. What happens if we use very different topics? What if we use text from another source than Wikipedia?\n",
        "3. How can we use and visualize trigrams and higher n-grams?"
      ]
    },
    {
      "cell_type": "code",
      "source": [
        "topic1 = 'Cricket'\n",
        "topic2 = 'Elephant'\n",
        "wikipedia.set_lang('hi') \n",
        "hin1 = wikipedia.page(topic1).content\n",
        "hin2 = wikipedia.page(topic2).content\n",
        "wikipedia.set_lang('en')\n",
        "eng1 = wikipedia.page(topic1).content\n",
        "eng2 = wikipedia.page(topic2).content\n",
        "\n",
        "wikipedia.set_lang('de') #german\n",
        "ger1 = wikipedia.page(topic1).content\n",
        "ger2 = wikipedia.page(topic2).content"
      ],
      "metadata": {
        "id": "NYP3QUQ8HPNc"
      },
      "execution_count": 39,
      "outputs": []
    },
    {
      "cell_type": "code",
      "source": [
        "hin1"
      ],
      "metadata": {
        "colab": {
          "base_uri": "https://localhost:8080/",
          "height": 157
        },
        "id": "ZoiuRygLqa8p",
        "outputId": "66b4f175-d347-4c34-9e2b-5e1703b7cb23"
      },
      "execution_count": 32,
      "outputs": [
        {
          "output_type": "execute_result",
          "data": {
            "text/plain": [
              "'क्रिकेट एक बल्ले और गेंद का दलीय खेल है जिसकी शुरुआत दक्षिणी इंग्लैंड में हुई थी।\\nइसका सबसे प्राचीन निश्चित संदर्भ १५९८ में मिलता है, अब यह १०० से अधिक देशों में खेला जाता है। क्रिकेट के कई प्रारूप हैं, इसका उच्चतम स्तर टेस्ट क्रिकेट है, जिसमें वर्तमान प्रमुख राष्ट्रीय टीमें भारत, ऑस्ट्रेलिया, दक्षिण अफ्रीका, इंग्लैण्ड, श्रीलंका, वेस्टइंडीज, न्यूजीलैण्ड, पाकिस्तान, ज़िम्बाब्वे , बांग्लादेश अफ़ग़ानिस्तान और आयरलैण्ड हैं। अप्रैल 2018 में, आईसीसी ने घोषणा की कि वह 1 जनवरी 2019 से अपने सभी 120सदस्यों को ट्वेन्टी-२० अंतरराष्ट्रीय की मान्यता प्रदान की है औरक्रिकेट के बल्ले से गेंद को खेलता है। इसी बीच गेंदबाज की टीम के अन्य सदस्य मैदान में क्षेत्ररक्षक के रूप में अलग-अलग स्थितियों में खड़े रहते हैं, ये खिलाड़ी बल्लेबाज को दौड़ बनाने से रोकने के लिए गेंद को पकड़ने का प्रयास करते हैं और यदि सम्भव हो तो उसे आउट करने की कोशिश करते हैं। बल्लेबाज यदि आउट नहीं होता है तो वो विकेटों के बीच में भाग कर दूसरे बल्लेबाज (\"गैर स्ट्राइकर\") से अपनी स्थिति को बदल सकता है, जो पिच के दूसरी ओर खड़ा होता है। इस प्रकार एक बार स्थिति बदल लेने से एक रन बन जाता है। यदि बल्लेबाज गेंद को मैदान की सीमारेखा तक हिट कर देता है तो भी रन बन जाते हैं। स्कोर किए गए रनों की संख्या और आउट होने वाले खिलाड़ियों की संख्या मैच के परिणाम को निर्धारित करने वाले मुख्य कारक हैं।\\nयह कई बातों पर निर्भर करता है कि क्रिकेट के खेल को ख़त्म होने में कितना समय लगेगा। पेशेवर क्रिकेट में यह सीमा हर पक्ष के लिए २० ओवरों से लेकर ५ दिन खेलने तक की हो सकती है। खेल की अवधि के आधार पर विभिन्न नियम हैं जो खेल में जीत, हार, अनिर्णीत (ड्रा), या बराबरी (टाई) का निर्धारण करते हैं।\\nक्रिकेट मुख्यतः एक बाहरी खेल है और कुछ मुकाबले कृत्रिम प्रकाश (फ्लड लाइट्स) में भी खेले जाते हैं। उदाहरण के लिए, गरमी के मौसम में इसे संयुक्त राजशाही (UK), ऑस्ट्रेलिया, न्यूजीलैंड और दक्षिण अफ्रीका में खेला जाता है जबकि वेस्ट इंडीज, भारत, पाकिस्तान, श्रीलंका और बांग्लादेश में ज्यादातर मानसून के बाद सर्दियों में खेला जाता है।\\nमुख्य रूप से इसका प्रशासन दुबई में स्थित अंतर्राष्ट्रीय क्रिकेट परिषद (आईसीसी) के द्वारा किया जाता है, जो इसके सदस्य राष्ट्रों के घरेलू नियंत्रित निकायों के माध्यम से विश्व भर में खेल का आयोजन करती है। आईसीसी अंतरराष्ट्रीय स्तर पर खेले जाने वाले पुरूष और महिला क्रिकेट दोनों का नियंत्रण करती है। हालांकि पुरूष, महिला क्रिकेट नहीं खेल सकते हैं पर नियमों के अनुसार महिलाएं पुरुषों की टीम में खेल सकती हैं।\\nमुख्य रूप से भारतीय उपमहाद्वीप, आस्ट्रेलिया, यूनाइटेड किंगडम, आयरलैंड, दक्षिणी अफ्रीका और वेस्टइंडीज में क्रिकेट का पालन किया जाता है। नियम संहिता के रूप में होते हैं जो, क्रिकेट के कानून कहलाते हैं और इनका अनुरक्षण लंदन में स्थित मेरीलेबोन क्रिकेट क्लब (एम सी सी) के द्वारा किया जाता है। इसमें आई सी सी और अन्य घरेलू बोर्डों का परामर्श भी शामिल होता है।\\nक्रिकेट मुकाबला दो दलों (टीमों) या पक्षों के बीच खेला जाता है। हर टीम में ग्यारह खिलाड़ी होते हैं। इसका मैदान कई आकार और आकृतियों का हो सकता है। मैदान घास का होता है और इसे ग्राउंड्समैन के द्वारा तैयार किया जाता है, जिसके कार्य में उर्वरण, कटाई, रोलिंग और सतह को समतल करना शामिल होता है। मैदान का व्यास 140–160 गज़ (130–150 मी॰) सामान्य होता है। मैदान की परिधि को सीमा कहा जाता है और इसे कभी कभी रंग दिया जाता है या कभी कभी एक रस्सी के द्वारा मैदान की बाहरी सीमा को चिह्नित किया जाता है। मैदान गोल, चौकोर या अंडाकार हो सकता है, क्रिकेट का सबसे प्रसिद्ध मैदान है ओवल। \\nप्रत्येक टीम का उद्देश्य होता है दूसरी टीम से अधिक रन बनाना और दूसरी टीम के सभी खिलाड़ियों को आउट करना। क्रिकेट में खेल को ज्यादा रन बना कर भी जीता जा सकता है, चाहे दूसरी टीम को पूरी तरह से आउट न किया गया हो। दूसरे रूप में खेल को जीतने के लिए अधिक रन बनाना और दूसरी टीम को आउट करना जरुरी होता है, अन्यथा मुकाबला बिना किसी नतीजे के समाप्त हो जाता है। खेल शुरू होने से पहले दोनों टीमों के कप्तान एक सिक्के को उछाल करके निर्धारित करते हैं कि कौन सी टीम पहले बल्लेबाजी या गेंदबाजी करेगी। टॉस जीतने वाला कप्तान पिच और मौसम की वर्तमान और प्रत्याशित स्थिति के अनुसार अपना फैसला लेता है।\\n\\n\\n== नियम और गेमप्ले ==\\n\\n\\n=== पिच ===\\nमुख्य आकर्षण मैदान के विशेष रूप से तैयार किए गए क्षेत्र में होता है (आमतौर पर केन्द्र में) जो \"पिच\" कहलाता है। पिच के दोनों और 22 गज़ (20 मी॰) विकेट लगाए जाते हैं। ये गेंदबाजी उर्फ क्षेत्ररक्षण पक्ष के लिए लक्ष्य होते हैं और बल्लेबाजी पक्ष के द्वारा इनका बचाव किया जाता है जो रन बनाने की कोशिश में होते हैं। मूलतः एक रन तब बनता है जब एक बल्लेबाज गेंद को अपने बल्ले से मारने के बाद पिच के बीच भागता है, हालाँकि नीचे बताये गए विवरण के अनुसार रन बनाने के कई और तरीके हैं। यदि बल्लेबाज और रन बनाने का प्रयास नहीं करता है तो गेंद \"डेड\" हो जाती है और गेंदबाज के पास वापिस गेंदबाजी के लिए आ जाती है। गेंदबाजी पक्ष विभिन्न तरीकों से बल्लेबाजों को आउट करने की कोशिश करता है जब तक बल्लेबाजी पक्ष \"आल आउट\" न हो जाए। इसके बाद गेंदबाजी वाला पक्ष बल्लेबाजी करता है और बल्लेबाजी वाला पक्ष गेंदबाजी के लिए \"मैदान\" में आ जाता है। पेशेवर मैचों में, खेल के दौरान मैदान पर १५ लोग होते हैं। इनमें से दो अंपायर होते हैं जो मैदान में होने वाली गतिविधियों को नियंत्रित करते हैं। दो बल्लेबाज होते हैं, उनमें से एक स्ट्राइकर होता है जो गेंद का सामना करता है और और दूसरा नॉन स्ट्राइकर कहा जाता है। बल्लेबाजों की भूमिका रन बनने के साथ और ओवर पूरे होने के साथ बदलती रहती है। क्षेत्ररक्षण टीम के सभी ११ खिलाड़ी एक साथ मैदान पर होते हैं। उनमें से एक गेंदबाज होता है, दूसरा विकेटकीपर और अन्य नौ क्षेत्ररक्षक कहलाते हैं। विकेटकीपर (या कीपर) हमेशा एक विशेषज्ञ होता है लेकिन गेंदबाजी पिच विकेटों के बीच की लम्बाई होती है और चौड़ी होती है। \\nयह एक समतल सतह है, इस पर बहुत ही कम घास होती है जो खेल के साथ कम हो सकती है। पिच की \"हालत\" मैच और टीम की रणनीति पर प्रभाव डालती है, पिच की वर्तमान और प्रत्याशित स्थिति टीम की रणनीति को निर्धारित करती है।\\n\\nप्रत्येक विकेट में तीन लकड़ी के स्टंप होते हैं जिन्हें एक सीधी रेखा में रखा जाता है इनके ऊपर दो लकड़ी के बेल्स ([रखे जाते हैं; बेल्स सहित विकेट की कुल ऊंचाई है और तीनों स्टाम्पों की कुल चौड़ाई है .\\nचार लाइनें, जिन्हें क्रीज के रूप में जाना जाता है, पिच पर विकेट के चारों और पेंट की जाती हैं, ये बल्लेबाज के \"सुरक्षित क्षेत्र\" और गेंदबाज की सीमा को निर्धारित करती हैं। ये \"पोप्पिंग\" (या बल्लेबाजी) क्रीज या बालिंग क्रीज या दो \"रिटर्न\" क्रीज कहलाती हैं।\\n\\nस्टंप को गेंदबाजी क्रीज की लाइन में रखा जाता है और इन्हें एक दूसरे से थोड़ी दूरी पर रखा जाता है। बीच वाली स्टंप को बिल्कुल केन्द्र पर गेंदबाजी क्रीज की लम्बाई में रखा जाता है पोप्पिंग क्रीज की लम्बाई समान होती है, यह गेंदबाजी की क्रीज के समांतर होती है और विकेट के सामने होती है। रिटर्न क्रीज बाकी दोनों के लम्बवत होती है; ये दोनों पोप्पिंग क्रीज के अंत से जुड़ी होती हैं और इन्हें गेंदबाजी की क्रीज के अंत तक कम से कम इसकी लम्बाई में चित्रित किया जाता है। \\nगेंदबाजी करते समय गेंदबाज का पिछला पैर उसकी \"डिलीवरी स्ट्राइड\" में दो रिटर्न क्रीजों के बीच में होना चाहिए, जबकि उसका अगला पैर पोप्पिंग क्रीज के ऊपर या उसके पीछे पढ़ना चाहिए। अगर गेंदबाज इस नियम को तोड़ता है, तो अंपायर \"नो बाल\" घोषित कर देता है।\\nबल्लेबाज के लिए पोप्पिंग क्रीज का महत्त्व यह है कि यह उसके सुरक्षित क्षेत्र की सीमा को निर्धारित करता है जब वह \"अपने इस क्षेत्र से बाहर\" होता है तो उसका विकेट उखाड़ दिए जाने पर वह स्टंप या रन आउट हो सकता है (नीचे Dismissals देखें)|\\nपिच की स्थिरता भिन्न हो सकती है जिसके कारण गेंदबाज को मिलने वाला उछाल, स्पिन और गति अलग अलग हो सकती है। सख्त पिच पर बल्लेबाजी करना आसान होता है, क्योंकि इस पर उछाल ऊँचा लेकिन समान होता है। सूखी पिच बल्लेबाजी के लिए खराब मानी जाती है क्यों की इस पर दरारें आ जाती हैं और जब ऐसा होता है तो स्पिनर एक अहम भूमिका अदा कर सकता है। नम पिच या घास से ढकी पिचें (जो \"हरी\" पिचें कहलाती हैं) अच्छे तेज गेंदबाज को अतिरिक्त उछाल देने में मदद करती है। इस तरह की पिच पूरे मेच के दौरान तेज गेंदबाज की मदद करती है लेकिन जैसे जैसे मेच आगे बढ़ता है ये बल्लेबाजी के लिए और भी बेहतर होती जाती है।\\n\\n\\n=== बल्ला (bat) और गेंद ( ball) ===\\nइस खेल का सार है कि एक गेंदबाज अपनी ओर की पिच से बल्लेबाज की तरफ़ गेंद डालता है जो दूसरे अंत पर बल्ला लेकर उसे \"स्ट्राइक\" करने के लिए तैयार रहता है।\\nबल्ला लकड़ी से बना होता है इसका आकर ब्लेड के जैसा होता है और शीर्ष पर बेलनाकार हेंडल होता है। हेंडल की चौडाई\\nब्लेड की चौडाई से अधिक नहीं होनी चाहिए और बल्ले की कुल लम्बाई से अधिक नहीं होनी चाहिए\\nगेंद एक सख्त चमड़े का गोला होती है जिसकी परिधि गेंद की कठोरता जिसे से अधिक गति से फेंका जा सकता है, वो एक विचारणीय मुद्दा है और बल्लेबाज सुरक्षात्मक कपड़े पहनता है जिसमें शामिल है पेड (जो घुटनों और पाँव के आगे वाले भाग की रक्षा के लिए पहने जाते हैं), बल्लेबाजी के दस्ताने हाथों के लिए, हेलमेट सर के लिए और एक बॉक्स जो पतलून के अन्दर पहना जाता है और क्रोच क्षेत्र को सुरक्षित करता है। कुछ बल्लेबाज अपनी शर्ट और पतलून के अन्दर अतिरिक्त पेडिंग पहनते हैं जैसे थाई पेड, आर्म पेड, रिब संरक्षक और कंधे के पैड\\n\\n\\n=== अंपायर और स्कोरर ===\\nमैदान पर खेल को दो अंपायर नियंत्रित करते हैं, उनमें से एक विकेट के पीछे गेंदबाज की तरफ़ खड़ा रहता है और दूसरा \"स्क्वेयर लेग\" की स्थिति में जो स्ट्राइकिंग बल्लेबाज से कुछ गज पीछे होता है। जब गेंदबाज गेंद डालता है तो विकेट वाला अम्पायर गेंदबाज और नॉन स्ट्राइकर के बीच रहता है। यदि खेल की स्थिति पर कुछ संदेह होता है तो अम्पायर परामर्श करता है और यदि आवश्यक होता है तो वो खिलाड़ियों को फ़ील्ड से बहार ले जाकर मैच को स्थगित कर सकता है, जैसे बारिश होने पर या रोशनी कम होने पर|\\nमैदान से बहार और टी वी पर प्रसारित होने वाले मैचों में अक्सर एक तीसरा अंपायर होता है जो विडियो साक्ष्य की सहायता से विशेष स्थितियों में फ़ैसला ले सकता है। टेस्ट मैचों और दो आईसीसी के पूर्ण सदस्यों के बीच खेले जाने वाले सीमित ओवरों के अंतरराष्ट्रीय खेल में तीसरा अंपायर जरुरी होता है। इन मैचों में एक मैच रेफरी भी होता है जिसका काम है यह सुनिश्चित करना होता है कि खेल क्रिकेट के नियमों के तहत खेल की भावना से खेला जाये|\\nमैदान के बाहर दो अधिकारिक स्कोरर रनों और आउट होने वाले खिलाड़ियों का रिकॉर्ड रखते हैं, प्रत्येक अधिकारी एक टीम से होता है। \\nस्कोरर अंपायर के हाथ के संकेतों द्वारा निर्देशित होते हैं। उदाहरण के लिए, अंपायर एक तर्जनी अंगुली उठा कर बताता है कि बल्लेबाज आउट हो गया है; और यदि बल्लेबाज ने छ: रन बनाए हैं तो वो दोनों हाथों को ऊपर उठाता है। \\nस्कोरर क्रिकेट के नियमों के अनुसार सभी रनों, विकेटों और ओवरों का रिकॉर्ड रखते हैं। व्यवहार में, वे अतिरिक्त डेटा भी संचित करते हैं जैसे गेंदबाजी विश्लेषण और रन की दरें|\\n\\n\\n=== पारियां ===\\n\\nपारी (हमेशा बहुवचन रूप में प्रयुक्त होती है) बल्लेबाजी पक्ष के सामूहिक प्रदर्शन के लिए एक शब्द है।  सिद्धांत के तौर में, बल्लेबाजी पक्ष के सभी ग्यारह सदस्य बारी बारी से बल्लेबाजी करते हैं, लेकिन कई कारणों से \"पारी\" इससे पहले भी ख़त्म हो सकती है (नीचे देखें)|\\nखेले जा रहे मैच के प्रकार के अनुसार हर टीम की एक या दो परियां होती हैं। \"पारी\" शब्द का उपयोग कभी कभी एक बल्लेबाज के व्यक्तिगत योगदान को बताने के लिए भी किया जाता है। (\"जैसे उसने एक अच्छी पारी खेली\",\"उसकी पारी से टीम ने मैच जीता\" आदि)\\nगेंदबाज का मुख्य उद्देश्य क्षेत्ररक्षकों की सहायता से बल्लेबाज को आउट करना होता है। एक बल्लेबाज जब बर्खास्त कर दिया जाता है तब कहा जाता है कि वह \"आउट\" हो गया है अर्थात उसे मैदान छोड़ कर जाना होगा और उसकी टीम का अगला बल्लेबाज अब बल्लेबाजी करने आएगा| जब दस बल्लेबाज बर्खास्त (अर्थात आउट) हो जाते हैं तो पूरी टीम बर्खास्त हो जाती है और पारी समाप्त हो जाती है। अंतिम बल्लेबाज, जो आउट नहीं हुआ है, वह अब बल्लेबाजी नहीं कर सकता क्योंकि हमेशा दो बल्लेबाजों को एक साथ मैदान में रहना होता है। यह बल्लेबाज \"नॉट आउट\" कहलाता है।\\nयदि दस बल्लेबाजों के आउट होने से पहले ही एक पारी समाप्त हो जाए तो दो बल्लेबाज \"नॉट आउट\" कहलाते हैं। एक पारी तीन कारणों से जल्दी ख़त्म हो सकती है: यदि बल्लेबाजी पक्ष का कप्तान घोषित कर दे की परी समाप्त हो गई है (जो एक सामरिक निर्णय होता है), या बल्लेबाजी पक्ष ने अपना लक्ष्य प्राप्त कर लिया हो और खेल को जीत लिया हो, या खेल ख़राब मौसम या समय ख़त्म हो जाने के कारण समाप्त कर दिया जाये| सीमित ओवरों के क्रिकेट में, जब अंतिम ओवर किया जा रहा हो तब भी दो बल्लेबाज बचे हो सकते हैं।\\n\\n\\n=== ओवर ===\\nओवर या षटक ६ गेंदों का समुच्चय या समूह होता है। यह शब्द इस तरह से आया है क्योंकि अंपायर कहता है \"ओवर\" यानि पूरा। जब ६ गेंदें डाली जा चुकी होती हैं, तब दूसरा गेंदबाज दूसरे छोर पर आ जाता है और क्षेत्ररक्षक भी अपना स्थान बदल लेते हैं। एक गेंदबाज लगातार दो ओवर नहीं डाल सकता है, हालांकि एक गेंदबाज छोर को बिना बदले उसी छोर से कई ओवर डाल सकता है। बल्लेबाज साइड या छोर को बदल नहीं सकते हैं, इसलिए जो नॉन स्ट्राइकर था वह स्ट्राइकर बन जाता है और स्ट्राइकर अब नॉन स्ट्राइकर बन जाता है। अंपायर भी अपनी स्थिति को बदलते हैं ताकि जो अंपायर स्क्वेयर लेग की स्थिति में था वह विकेट के पीछे चला जाता है और इसका विपरीत भी होता है।\\n\\n\\n=== टीम संरचना ===\\nएक टीम में ११ खिलाड़ी होते हैं। प्राथमिक कुशलता के आधार पर एक खिलाड़ी को बल्लेबाज या गेंदबाज के रूप में वर्गीकृत किया जा सकता है। एक अच्छी तरह से संतुलित टीम में आमतौर पर पाँच या छह विशेषज्ञ बल्लेबाज और चार या पाँच विशेषज्ञ गेंदबाज होते हैं।\\nटीम में हमेशा एक विशेषज्ञ विकेट रक्षक होता है क्योंकि यह क्षेत्ररक्षण स्थिति बहुत ही महत्वपूर्ण होती है। प्रत्येक टीम का नेतृत्व कप्तान करता है जो सामरिक निर्णय लेने के लिए जिम्मेदार होता है, जैसे बल्लेबाजी क्रम का निर्धारण करना, क्षेत्ररक्षकों के स्थान निर्धारित करना और गेंदबाजों की बारी तय करना।\\nएक खिलाड़ी जो बल्लेबाजी और गेंदबाजी दोनों का विशेषज्ञ होता है हरफनमौला कहलाता है। जो बल्लेबाज और विकेट कीपर दोनों का काम करता है वह \"विकेट कीपर/बल्लेबाज\" कहलाता है, कभी कभी उसे हरफनमौला भी कहा जाता है, वास्तव में हरफनमौला खिलाड़ी कम ही देखने को मिलते हैं क्योंकि अधिकांश खिलाड़ी बल्लेबाजी या गेंदबाजी में से किसी एक पर ही ध्यान केंद्रित करते हैं।\\n\\n\\n=== क्षेत्ररक्षण ===\\n\\nक्षेत्ररक्षण के पक्ष के सभी ग्यारह खिलाड़ी मैदान में एक साथ रहते हैं। उनमें से एक विकेट कीपर उर्फ \"कीपर\" होता है जो स्ट्राइकर बल्लेबाज के द्वारा बचाए जाने वाले विकेट के पीछे खड़ा रहता है। विकेट कीपिंग सामान्यत: एक विशेषज्ञ ही कर सकता है, उसका मुख्य कम उन गेंदों को पकड़ना होता है जो बल्लेबाज हिट नहीं करता है। जिससे की बल्लेबाज बाई के रन ना ले सके। वह विशेष दस्ताने पहनता हैं, (क्षेत्र रक्षकों में केवल उसी को ऐसा करने की अनुमति होती है) साथ ही अपने नीचले टांगों को कवर करने के लिए पैड भी पहनता है। चूँकि वह सीधे स्ट्राइकर के पीछे खड़ा रहता है, अत: उसके पास इस बात की बहुत अधिक संभावना होती है कि वो बल्लेबाज के बल्ले के किनारे से छू कर निकलती हुई बॉल को कैच करके बल्लेबाज को आउट कर सके। केवल वही एक ऐसा खिलाड़ी है जो बल्लेबाज को स्टम्पड आउट कर सकता है।\\nवर्तमान गेंदबाज के अलावा शेष ९ क्षेत्र रक्षक कप्तान के द्वारा मैदान में चुने हुए स्थानों पर तैनात रहते हैं।\\nये स्थान तय नहीं होते हैं लेकिन ये विशेष और कभी कभी अच्छे नामों से जाने जाते हैं जैसे \"स्लिप\", \"थर्ड मेन\", \"सिली मिड ऑन\" और \"लाँग लेग\"| हमेशा कुछ असुरक्षित क्षेत्र रहते हैं।\\nकप्तान क्षेत्ररक्षण पक्ष का सबसे महत्वपूर्ण सदस्य होता है क्योंकि वह सभी रणनीतियां निर्धारित करता है, जैसे किसे गेंदबाजी करनी चाहिए (और कैसे); और वह \"क्षेत्र की सेटिंग\" के लिए भी जिम्मेदार होता है।\\nक्रिकेट के सभी रूपों में, यदि एक मैच के दौरान एक क्षेत्ररक्षक घायल या बीमार हो जाता है तो उसके स्थान पर किसी और को प्रतिस्थापित किया जा सकता है। प्रतिस्थापित खिलाड़ी गेंदबाज़ी, कप्तानी या विकेट कीपिंग नहीं कर सकता है। यदि घायल खिलाड़ी ठीक होकर वापस मैदान में आ जाए तो अतिरिक्त खिलाड़ी को मैदान छोड़ना होता है।\\n\\n\\n=== गेंदबाजी ===\\nगेंदबाज अक्सर दौड़ कर गेंद डालने के लिए आते हैं, हालाँकि कुछ गेंदबाज एक या दो कदम ही दौड़ कर आते हैं और गेंद डाल देते हैं। एक तेज गेंदबाज को संवेग की जरुरत होती है जिसके कारण वह तेजी से और दूरी से दौड़ कर आता है।\\n\\nतेज गेंदबाज बहुत तेजी से गेंद को डाल सकता है  और कभी कभी वह बल्लेबाज को आउट करने के लिए बहुत ही तेज गति की गेंद डालता है जिससे बल्लेबाज पर तीव्रता से प्रतिक्रिया करने का दबाव बन जाता है। अन्य तेज गेंदबाज गति के साथ साथ किस्मत पर भी भरोसा करते हैं। कई तेज गेंदबाज गेंद को इस तरह से डालते हैं कि वह हवा में \"झूलती हुई\" या \"घूमती हुई\" आती है, जिसे गेंद का स्विंग होना कहते हैं।\\nइस प्रकार की डिलीवरी बल्लेबाज को धोखा दे सकती है जिसके कारण उसके शॉट खेलने की टाइमिंग ग़लत हो जाती हैं, जिससे गेंद बल्ले के बाहरी किनारे को छूती हुई निकलती है और उसे विकेट कीपर या स्लिप क्षेत्र रक्षक के द्वारा केच किया जा सकता है।\\nगेंदबाजों में एक अन्य प्रकार है \"स्पिनर\" जो धीमी गति से स्पिन करती हुई गेंद डालता है और बल्लेबाज को धोखा देने की कोशिश करता है। एक स्पिनर अक्सर “विकेट लेने के लिए” गेंद को थोड़ा ऊपर से डालता है और बल्लेबाज को ग़लत शॉट खेलने के लिए उकसाता है। बल्लेबाज को इस तरह की गेंदों से बहुत अधिक सावधान रहना होता है क्योंकि यह गेंद अक्सर बहुत ऊँची और घूर्णन करती हुई आती है और वो उस तरह से व्यवाहर नहीं करती है जैसा कि बल्लेबाज ने सोचा होता है और वो आउट हो सकता है।\\nतेज़ गेंदबाज़ और स्पिनर के मध्य होते हैं \"मध्यमगति के गेंदबाज़\" जो अपनी सटीक गेंदबाजी से रनों की गति को कम करने पर भरोसा करते हैं और बल्लेबाजों का ध्यान भंग करते हैं।\\nसभी गेंदबाजों को उनकी गति और शैली के अनुसार वर्गीकृत किया जाता है। ज्यादा क्रिकेट शब्दावली के अनुसार वर्गीकरण (classifications) बहुत भ्रमित कर सकते हैं। इस प्रकार से एक गेंदबाज को एल एफ में वर्गीकृत किया जा सकता है जिसका अर्थ है बाएं हाथ का तेज गेंदबाज या एल बी जी में वर्गीकृत किया जा सकता है जिसका अर्थ है दायें हाथ का स्पिन गेंदबाज जो \"लेग ब्रेक\" या \"गूगली\" डाल सकता है।\\nगेंदबाजी के दौरान कोहनी को किसी भी कोण पर रखा जा सकता है या मोड़ा जा सकता है लेकिन इस दौरान उसे सीधा नहीं किया जा सकता है। यदि कोहनी अवैध रूप से सीधी हो जाती है तो स्क्वेर लेग अम्पायर इसे नो बॉल (no-ball) घोषित कर सकता है। वर्तमान नियमों के अनुसार एक गेंदबाज अपनी भुजा को १५ डिग्री या उससे कम तक सीधा कर सकता है।\\n\\n\\n=== बल्लेबाजी ===\\n\\nकिसी भी एक समय पर, मैदान में दो बल्लेबाज होते हैं। एक स्ट्राइकर छोर पर रह कर विकेट की रक्षा करता है और संभव हो तो रन बनाता है। उसका साथी, जो नॉन स्ट्राइकर होता है वो उस छोर पर होता है जहाँ से गेंदबाजी की जाती है।\\nबल्लेबाज बल्लेबाजी क्रम (batting order) में आते हैं, यह क्रम कप्तान के द्वारा निर्धारित किया जाता है, पहले दो बल्लेबाज \"ओपनर\" कहलाते हैं। उन्हें सामान्यत: सबसे खतरनाक गेंदबाजी का सामना करना पड़ता है, क्योंकि उस समय तेज गेंदबाज नई गेंद का उपयोग करते हैं। शीर्ष बल्लेबाजी के लिए आम तौर पर टीम में सबसे अधिक सक्षम बल्लेबाज को भेजा जाता है और गैर बल्लेबाजों को अंत में भेजा जाता है। पहले से निर्धारित किया गया बल्लेबाजी क्रम अनिवार्य नहीं है और जब भी एक विकेट गिर जाता है तो कोई भी खिलाड़ी जिसने बल्लेबाजी नहीं की है उसे भेजा जा सकता है।\\nअगर एक बल्लेबाज मैदान छोड़ के जाता है (आम तौर पर चोट के कारण) और वापस नहीं लौट पता है तो वह वास्तव में \"नॉट आउट\" होता है और उसका बहार जाना आउट नहीं माना जाता है, परन्तु उसे बर्खास्त कर दिया जाता है क्योंकि उसकी पारी समाप्त हो चुकी होती है। प्रतिस्थापित बल्लेबाज को अनुमति नहीं होती है। (कुछ जगहों को छोडकर, 2019 से लागू)\\nएक कुशल बल्लेबाज सुरक्षात्मक और आक्रामक दोनों रूपों में कई प्रकार के \"शॉट\" या \\'स्ट्रोक\\' लगा सकता है। मुख्य काम है गेंद को बल्ले की समतल सतह से हिट करना। यदि गेंद बल्ले के किनारे को छूती है तो यह \"बाहरी किनारा\" कहलाता है। बल्लेबाज हमेशा ही गेंद को जोर से हिट करने की कोशिश नहीं करता है, एक अच्छा खिलाड़ी एक हल्के चतुर स्ट्रोक से या केवल अपनी कलाई को हल्के से घुमा कर रन बना सकता है। लेकिन वह गेंद को क्षेत्ररक्षकों से दूर हिट करता है ताकि उसे रन बनाने का समय मिल सके।\\nक्रिकेट में कई प्रकार के शॉट खेले जाते हैं। बल्लेबाज के द्वारा लगाये गए स्ट्रोक को गेंद के स्विंग या उसकी दिशा के अनुसार कई नाम दिए जा सकते हैं जैसे \"कट (cut)” \"ड्राइव\",\"हुक\" या \"पुल\".\\nध्यान दें कि बल्लेबाज को हर शॉट को नहीं खेलना होता है, यदि उसे लगता है कि गेंद विकेट से नहीं टकराएगी तो वह गेंद को विकेट कीपर तक जाने के लिए \"छोड़\" सकता है। इसके साथ ही, वह जब अपने बल्ले से गेंद को हिट करता है तो उसे रन लेने का प्रयास नहीं करना होता है। वह जानबूझकर अपने पैर का प्रयोग करके गेंद को रोक सकता है और उसे अपनी टांग से दूर कर सकता है लेकिन यह एल बी डबल्यू नियम के अनुसार जोखिम भरा हो सकता है।\\nयदि एक घायल बल्लेबाज बल्लेबाजी करने के लिए फिट हो जाता है लेकिन भाग नहीं सकता हो तो अंपायर और क्षेत्ररक्षण टीम का कप्तान बल्लेबाजी पक्ष के एक अन्य सदस्य को दोड़ने (runner) की अनुमति दे सकता है। यदि संभव हो तो, इस धावक को अपने साथ बल्ला रखना होता है। इस धावक का एक मात्र काम होता है घायल बल्लेबाज के स्थान पर दोड़ना. इस धावक को वो सभी उपकरण पहनने और उठाने होते हैं जो एक बल्लेबाज ने पहने हैं। दोनों बल्लेबाजों के लिए धावक रखना संभव है।\\n\\n\\n=== रन ===\\n\\nस्ट्राइकर बल्लेबाज की प्राथमिकता होती है गेंद को विकेट पर टकराने से रोकना. और दूसरी प्राथमिकता होती है बल्ले से गेंद को हिट कर के रन (runs) बनाना ताकि इससे पहले कि क्षेत्ररक्षण पक्ष की ओर से गेंद वापस आए, उसे और उसके सहयोगी को रन बनाने का समय मिल जाए. एक रन रजिस्टर करने के लिए, दोनों धावकों को अपने बल्ले से या शरीर के किसी भाग से क्रीज के पीछे की भूमि को छुना होता है। (बल्लेबाज दोड़ते समय बल्ला लिए होते हैं) प्रत्येक रन स्कोर में जुड़ जाता है।\\nएक ही हिट पर एक से अधिक रन बनाये जा सकते हैं, एक हिट में एक से तीन रन आम हैं, मैदान का आकार इस प्रकार का होता है कि सामान्यत: चार या अधिक रन बनाना कठिन होता है। इसकी क्षतिपूर्ति करने के लिए, यदि गेंद मैदान की सीमा की भूमि को छूती है तो इसे चार रन गिना जाता है। और यदि गेंद सीमा को हवा में पार करके निकल जाती है तो इसे छ: रन गिना जाता है। यदि गेंद सीमा पार चली जाती है तो बल्लेबाज को भागने की जरुरत नहीं होती है।\\nपाँच रन बहुत ही असामान्य हैं और आमतौर पर यह क्षेत्र रक्षक के द्वारा वापस फेंकी गई गेंद, \"ओवर थ्रो\" पर निर्भर करता है। यदि स्ट्राइकर विषम संख्या में रन बनाता है तो बल्लेबाजों का स्थान आपस में बदल जाता है और नॉन स्ट्राइकर अब स्ट्राइकर बन जाता है। केवल स्ट्राइकर ही व्यक्तिगत रूप से रन बनता है लेकिन सभी रन टीम के कुल स्कोर में जोड़े जाते हैं।\\nरन लेने का फ़ैसला बल्लेबाज, जिसको गेंद की दिशा और गति का ज्ञान होता है, उसके द्वारा किया जाता है और इसको वह \"हाँ\", \"ना\" या \"रुको\" कहके बताता है।\\nरन लेने में बहुत जोखिम होता है क्योंकि यदि एक क्षेत्र रक्षक विकेट को गिरा देता है, जब नजदीकी बल्लेबाज अपनी क्रीज से बाहर होता है तो (यानि उसके शरीर का कोई भाग या बल्ला पोप्पिंग क्रीज के संपर्क में नहीं है) बल्लेबाज रन आउट (run out) कहलाता है।\\nएक टीम के स्कोर को उसके द्वारा बनाये गए रनों की संख्या और आउट हुए बल्लेबाजो की संख्या से प्रदर्शित किया जाता है। उदाहरण के लिए, यदि पाँच बल्लेबाज आउट हो गए हैं और टीम ने २२४ रन बनाये हैं तो कहा जाता है कि उन्होंने ५ विकेट की हानि पर २२४ रन बनाये हैं (इसे साधारणत: २२४ पर ५ और २२४/५ के रूप में लिखा जाता है, ऑस्ट्रेलिया में, ५ पर २२४ और ५/२२४)।\\n\\n\\n=== अतिरिक्त ===\\nक्षेत्ररक्षण पक्ष की और से की गई त्रुटियों के कारण बल्लेबाजी पक्ष को जो रन प्राप्त होते हैं वे अतिरिक्त (extras) कहलाते हैं। (ऑस्ट्रेलिया में \"सनड्रिज\" कहलाते हैं)। यह चार प्रकार से प्राप्त किये जा सकते हैं:\\n\\nनो बॉल  एक ऐसी अतिरिक्त बॉल होती है जो गेंदबाज के द्वारा किसी नियम का उल्लंघन करने पर दंड के रूप में डाली जाती है; (अ) अनुपयुक्त भुजा एक्शन के कारण; (ब) पोप्पिंग क्रिज पर ओवर स्टेप्पिंग के कारण; (स) यदि उसका पैर रिटर्न क्रिज के बाहर हो; इस के लिए गेंदबाज को फ़िर से गेंद डालनी होती है। वर्तमान नियमों के अनुसार खेल के ट्वेंटी 20 (Twenty20) और ओ डी आई (ODI) प्रारूपों में फ़िर से डाली गई गेंद फ्री हिट होती है, अर्थात इस गेंद पर बल्लेबाज रन आउट के अलावा किसी और प्रकार से आउट नहीं हो सकता है।\\nवाइड – दंड के रूप में दी गई एक अतिरिक्त गेंद होती है जो तब दी जाती है जब गेंदबाज ऐसी गेंद डालता है जो बल्लेबाज की पहुँच से बाहर हो। \\n\\nबाई बल्लेबाज को मिलने वाला अतिरिक्त रन है जब बल्लेबाज गेंद को मिस कर देता है और यह पीछे विकेट कीपर के पास से होकर निकल जाती है जिससे बल्लेबाज को परंपरागत तरीके से रन लेने का समय मिल जाता है (ध्यान दें कि एक अच्छे विकेट कीपर की निशानी है कि वह कम से कम बाईज दे।\\nलेग बाई – अतिरिक्त दिया जाने वाला रन, जब गेंद बल्लेबाज के शरीर को हिट करती है लेकिन बल्ले को नहीं और यह क्षेत्ररक्षकों से दूर जाकर बल्लेबाज को परंपरागत तरीके से रन लेने का समय भी देती है।जब कोई गेंदबाज एक वाइड या नो बॉल डालता है, तो उसकी टीम को दंड भुगतना पड़ता है क्योंकि उन्हें एक अतिरिक्त गेंद डालनी पड़ती है जिससे बल्लेबाजी पक्ष को अतिरिक्त रन बनने का मौका मिल जाता है। बल्लेबाज को भाग कर रन लेना ही होता है ताकि वह बाईज और लेग बाईज का दावा कर सके। (सिवाय इसके जब गेंद चार रन के लिए सीमा पार चली जाती है) लेकिन ये रन केवल टीम के कुल स्कोर में जुड़ते हैं, स्ट्राइकर के व्यक्तिगत स्कोर में नहीं।\\n\\n\\n=== व़िकेट पतन ===\\n\\nएक बल्लेबाज दस तरीके से आउट हो सकता है और कुछ तरीके इतने असामान्य हैं कि खेल के पूरे इतिहास में इसके बहुत कम उदाहरण मिलते हैं। आउट होने के सबसे सामान्य प्रकार हैं \"बोल्ड\", \"केच\", \"एल बी डबल्यू\", \"रन आउट\", \"स्टंपड\" और \"हिट विकेट\".असामान्य तरीके हैं \"गेंद का दो बार हिट करना\", \"मैदान को बाधित करना\", \"गेंद को हेंडल करना\" और \"समय समाप्त\".\\nइससे पहले कि अंपायर बल्लेबाज के आउट होने की घोषणा करें सामान्यत: क्षेत्ररक्षण पक्ष का कोई सदस्य (आमतौर पर गेंदबाज) \"अपील\" करता है। यह \"हाउज़ देट?\" बोल कर या चिल्ला कर किया जाता है। इसका मतलब है \"हाउ इस देट?\" यदि अंपायर अपील से सहमत हैं, तो वह तर्जनी अंगुली उठा कर कहता है \"आउट!\"अन्यथा वह सिर हिला कर कहता है \"नॉट आउट\".अपील उस समय तेज आवाज में की जाती है जब आउट होने की परिस्थिति स्पष्ट न हो। यह एल बी डबल्यू की स्थिति में हमेशा होता है और अक्सर रन आउट और स्टंप की स्थिति में होता है।\\n\\nबोल्ड (Bowled); यदि गेंदबाज गेंद से विकेट पर हिट करता है जिससे की कम से कम एक विकेट गिर जाए और बेल अपने स्थान से हट जाए (ध्यान दें की यदि गेंद विकेट पर लगती है पर बेल अपने स्थान से नहीं हटती है तो वो नॉट आउट होता है)\\nकेच (Caught);यदि बल्लेबाज ने बल्ले से या हाथ से गेंद को हिट किया और इसे क्षेत्र रक्षण टीम के किसी सदस्य ने केच कर लिया हो। \\nलेग बिफोर विकेट (Leg before wicket)(एल बी डब्ल्यू); यह जटिल है लेकिन इसका मूल अर्थ यह होता है कि यदि गेंद ने पहले बल्लेबाज की टांग को न छुआ होता तो वो आउट हो जाता\\nरन आउट (Run out) – क्षेत्ररक्षण पक्ष के एक सदस्य ने गेंद से विकेट को तोड़ दिया या गिरा दिया जब बल्लेबाज अपनी क्रीज़ पर नहीं था; यह सामान्यत: तब होता है जब बल्लेबाज रन लेने की कोशिश कर रहा होता है और सटीक थ्रो के द्वारा गेंद से विकेट तोड़ दिया जाता है।\\nस्टंपड (Stumped)– यह उसी के समान  है लेकिन इसमें विकेट को विकेट कीपर तोड़ता है जब बल्लेबाज गेंद को मिस कर के रन लेने के लिए अपनी क्रीज़ से बाहर चला जाता है; कीपर को गेंद को हाथ में लेकर विकेट को तोड़ना होता है। (यदि कीपर गेंद को विकेट पर फेंकता है तो यह रन आउट होता है)\\nहिट विकेट (Hit wicket); बल्लेबाज हिट विकेट से आउट हो जाता है जब बल्लेबाज गेंद को हिट करते समय या रन लेने की कोशिश करते समय अपने बल्ले, कपड़े, या किसी अन्य उपकरण से एक या दोनों बेलों को गिरा देता है।\\nदो बार गेंद को मारना (Hit the ball twice)–यह बहुत ही असामान्य है और यह खेल के जोखिम को ध्यान में रखते हुए और क्षेत्ररक्षकों की सुरक्षा के लिए शुरू किया गया है। बल्लेबाज कानूनी रूप से एक बार गेंद को खेल लेने के बाद सिर्फ इसे विकेट पर टकराने से रोकने के लिए दुबारा हिट कर सकता है।\\nक्षेत्र बाधित (Obstructed the field) ; एक और असामान्य बर्खास्तगी जिसमें एक बल्लेबाज जानबूझकर एक क्षेत्ररक्षक के रास्ते में आ जाए.\\nगेंद को पकड़ना (Handled the ball); एक बल्लेबाज जानबूझकर अपने विकेट को सुरक्षित करने के लिए हाथ का प्रयोग नहीं कर सकता है। (ध्यान दें कि अक्सर गेंद बल्लेबाज के हाथ को छूती है लेकिन यदि यह जान बूझ कर नहीं किया गया है तो नॉट आउट होता है; हालाँकि वह इसे अपने हाथ में पकड़ सकता है)\\nटाइम आउट (Timed out); यदि एक बल्लेबाज के आउट हो जाने के दो मिनट के अन्दर अगला बल्लेबाज मैदान पर न आएअधिकांश मामलों में स्ट्राइकर ही आउट होता है। यदि गैर स्ट्राइकर आउट है तो वह रन आउट होता है, लेकिन वह मैदान को बाधित कर के, बॉल को पकड़ कर या समय समाप्त होने पर भी आउट हो सकता है।\\nएक बल्लेबाज बिना आउट हुए भी मैदान को छोड़ सकता है। अगर उसे चोट लग जाए या वह घायल हो जाए तो वह अस्थायी रूप से जा सकता है, उसे अगले बल्लेबाज के द्वारा प्रतिस्थापित कर दिया जाता है। इसे रिटायर्ड हर्ट (retired hurt) या रिटायर्ड बीमार (retired ill)के रूप में दर्ज किया जाता है। रिटायर्ड बल्लेबाज नॉट आउट होता है और बाद में फ़िर से आ सकता है। एक अछूता बल्लेबाज, रिटायर हो सकता है उसे रिटायर आउट (retired out) कहा जाता है; जिसका श्रेय किसी भी खिलाड़ी को नहीं जाता है। बल्लेबाज नो बॉल पर बोल्ड, केच, लेग बिफोर विकेट ,  स्टंप्डया हिट विकेट आउट नहीं हो सकता है। वो वाइड बॉलपर बोल्ड, केच, लेग बिफोर विकेट , या  बॉल को दो बार हिट करने पर  आउट हो सकता है। इनमें से कुछ प्रकार के आउट गेंदबाज के द्वारा बिना गेंद डाले ही हो सकते हैं। नॉन-स्ट्राइकर बल्लेबाज भी रन आउट (run out by the bowler) हो सकता है यदि वह गेंदबाज के द्वारा गेंद डालने से पहले क्रीज को छोड़ दे और एक बल्लेबाज क्षेत्ररक्षण बाधित करने पर  या रिटायर आउट होने पर किसी भी समय  आउट हो सकता है। समय समाप्त , बिना डिलीवरी के होने वाली बर्खास्तगी है। आउट होने के किसी भी तरीके में, केवल एक ही बल्लेबाज एक गेंद पर आउट हो सकता है।\\n\\n\\n=== पारी समाप्त ===\\nएक पारी समाप्त होती है जब: \\n\\nग्यारह में से १० बल्लेबाज आउट हो जाते हैं; इस स्थिति में टीम \"आल आउट\" कहलाती है।\\nयदि टीम में केवल एक ही ऐसा बल्लेबाज बचा है जो बल्लेबाजी कर सकता है, बाकि बचे हुए एक या अधिक खिलाड़ी चोट, बीमारी या अनुपस्थिति के कारण उपलब्ध नहीं हैं तो भी टीम \"ऑल आउट\" कहलाती है।\\nबल्लेबाजी करने वाली टीम को अंत में उस स्कोर तक पहुंचना होता है जो मैच को जीतने के लिए जरुरी है।\\nओवर की पूर्व निर्धारित संख्या में ही गेंदें डाली जाती हैं, (एक दिवसीय मैच में सामान्यत: ५० ओवर और ट्वेंटी 20 में सामान्यत:२० ओवर)\\nएक कप्तान अपनी टीम की पारी को समाप्त घोषित (declares) कर सकता है जब उसके कम से कम दो बल्लेबाज नॉट आउट हों, (यह एक दिवसीय के मैच में लागु नहीं होता है।)\\n\\n\\n=== परिणाम ===\\nदोनों टीमों के द्वारा बनाये गए रनों की संख्या का अन्तर है।) यदि बाद में खेलने वाली टीम जीतने के लिए पर्याप्त रन बना लेती है तो कहा जाता है कि वह n विकेटों से जीत गई। जहां n बचे हुए विकेटों की संख्या है। उदहारण के लिए यदि कोई टीम केवल ६ विकेट खो कर विरोधी टीम के स्कोर को पार कर लेती है तो कहा जाता है कि वह \"चार विकेट से मैच जीत गई है\"\\nदो पारी के मैच में एक टीम का पहली और दूसरी पारी का कुल स्कोर दुसरे पक्ष की पहली परी के कुल स्कोर से भी कम हो सकता है। तब कहा जाता है कि टीम एक पारी और n रनों से जीत गई है और उसे फ़िर से बल्लेबाजी करने की कोई जरुरत नहीं है: n दोनों टीमों कुल स्कोर के बीच का अंतर है।\\nयदि अंत में बल्लेबाजी करने वाली टीम ऑल आउट हो जाती है और दोनों साइडों ने समान रन बनाये हैं, तो मैच टाई (tie) हो जाता है; यह नतीजा काफी दुर्लभ होता है। खेल के परंपरागत स्वरूप में, किसी भी पक्ष के जीतने से पहले यदि समय ख़त्म हो जाता है तो खेल को ड्रा (draw) घोषित कर दिया जाता है।\\n\\nअगर मैच में हर पक्ष के लिए केवल एक पारी है तो हर पारी के लिए की अधिकतम गेंदों की संख्या अक्सर निश्चित कर दी जाती है। इस तरह के मैच \"सीमित ओवरों के मैच\" या \"एक दिवसीय मैच\" कहलाते हैं और विकेटों की संख्या को ध्यान में न रखते हुए अधिक रन बनाने वाली टीम जीत जाती है। जिससे ड्रा नहीं हो सकता है। यदि इस प्रकार का मैच अस्थायी रूप से ख़राब मौसम के कारण बाधित हो जाता है तो एक जटिल गणितीय सूत्र जो डकवर्थ -लुईस पद्धति कहलाती है उसके मध्यम से एक नया लक्ष्य स्कोर फ़िर से आकलित किया जाता है। एक दिवसीय मैच को भी \"परिणाम रहित \" घोषित किया जा सकता है यदि किसी एक टीम के द्वारा पूर्व निर्धारित ओवर डाले जा चुके हैं और किसी परिस्थिती जैसे गीले मौसम के कारण आगे खेल को नहीं खेला जा सकता है।\\n\\n\\n== मैच के प्रारूप ==\\nव्यापक अर्थों में क्रिकेट एक बहु आयामी खेल है, इसे खेल के पैमानों के आधार पर मेजर क्रिकेट (major cricket) और माइनर क्रिकेट में विभाजित किया जा सकता है। एक और अधिक उचित विभाजन, विशेष रूप से मेजर क्रिकेट के शब्दों में, मैचों के बीच किया जाता है, जिसमें कुल दो पारियां होती हैं, प्रत्येक टीम को एक पारी खेलनी होती है। इसे पूर्व में प्रथम श्रेणी क्रिकेट (first-class cricket) के रूप में जाना जाता था, इसकी अवधि तीन से पाँच दिन होती है, (ऐसे मैचों के उदाहरण भी मिलते हैं जिनमें समय की कोई सीमा नहीं रही है); बाद में इन्हें सीमित ओवरों के क्रिकेट (limited overs cricket) के रूप में जाना जाने लगा क्योंकि प्रत्येक टीम प्रारूपिक रूप से सीमित ५० ओवर में गेंदें डालती है, इसकी पूर्व निर्धारित अवधि केवल १ दिन होती है। (एक मेच की अवधि को ख़राब मौसम जैसे किसी कारण से भी बढाया जा सकता है।)\\nआमतौर पर, दो पारी के मैच में प्रति दिन कम से कम ६ घंटे खेलने के समय (playing time) के रूप में दिए जाते हैं। सीमित ओवरों के मैच अक्सर ६ घंटे या अधिक में समाप्त हो जाते हैं। पेय के लिए संक्षिप्त अनौपचारिक अन्तराल के आलावा आम तौर पर भोजन और चाय के लिए औपचारिक अंतराल होते हैं। पारियों के बीच एक छोटा अन्तराल भी होता है। ऐतिहासिक रूप से, क्रिकेट का एक रूप जो सिंगल विकेट (single wicket) के नाम से जाना जाता था, बेहद सफल रहा था और 18 वीं और 19 वीं सदी में इन स्पर्धाओं में से अधिकांश को मुख्य क्रिकेट का दर्जा दिया गया था। इस रूप में, हालांकि प्रत्येक टीम में १ से ६ खिलाड़ी होते थे और एक समय में केवल एक बल्लेबाज होता था, उसे अपनी पारी की समाप्ति तक हर गेंद का सामना करना होता था। सीमित ओवरों के क्रिकेट की शुरुआत के बाद से सिंगल विकेट क्रिकेट को कभी कभी ही खेला गया है।\\n\\n\\n=== टेस्ट क्रिकेट ===\\nटेस्ट क्रिकेट (Test cricket) प्रथम श्रेणी क्रिकेट के सर्वोच्च मानक है। एक टेस्ट मैच उन देशों का प्रतिनिधित्व करने वाली टीमों के बीच एक अंतर्राष्ट्रीय स्थिरता है जो आईसीसी के पूर्ण सदस्य हैं।\\n\\nजनवरी 2005 में दक्षिण अफ्रीका और इंग्लैंड के बीच \\nहालांकि शब्द \"टेस्ट मैच\" का प्रयोग काफी समय तक नहीं किया गया, ऐसा माना जाता है कि 1876-77 में ऑस्ट्रेलियाई मौसम (1876-77 Australian season) में ऑस्ट्रेलिया और इंग्लैंड के बीच इसकी शुरुआत हुई। इसके बाद आठ अन्य राष्ट्रीय दलों ने टेस्ट दर्जा हासिल किया: दक्षिण अफ्रीका (1889), वेस्ट इंडीज (1928), न्यूजीलैंड (1929), भारत (1932), पाकिस्तान (Pakistan)(1952), श्रीलंका (Sri Lanka)(1982), जिम्बाब्वे (1992) और बंगलादेश (2000)। \\nबाद में २००६ में जिम्बाब्वे को टेस्ट दर्जे से निलंबित कर दिया गया, क्योंकि यह दूसरी टीमों से स्पर्धा नहीं कर पा रही थी। और अभी तक यह निलंबित है।वेल्श खिलाड़ी इंग्लैंड के लिए खेलने के लिए पात्र हैं, यह इंग्लैंड और वेल्स की टीम के बीच प्रभावी है। वेस्ट इंडीज टीम में कई राज्यों के खिलाड़ी हैं, कैरेबियन, विशेषकर बारबाडोस, गुयाना, जमैका, त्रिनिडाड और टोबैगोसे और लीवर्ड द्वीप और विंड वार्ड द्वीप से खिलाड़ी इसमें शामिल हैं।\\nदो टीमों के बीच आमतौर पर टेस्ट मैचों को मकान के एक समूह में खेला जाता है जिसे \"श्रृंखला\" कहा जाता है। मैच ५ दिनों तक चल सकते हैं, सामान्य रूप से एक श्रृंखला में ३ से ५ मैच हो सकते हैं। टेस्ट मैच जो दिए गए समय में ख़त्म नहीं होते हैं वह ड्रा हो जाते हैं।\\n1882 के बाद से इंग्लैंड और ऑस्ट्रेलिया के बीच टेस्ट श्रृंखला एक ट्रॉफी के लिए खेली जाती है जिसे दी एशेस (The Ashes) के नाम से जाना जाता है। कुछ अन्य श्रृंखलाओं में भी व्यक्तिगत ट्रॉफियां है: उदाहरण के लिए, विस्डेन ट्रॉफी (Wisden Trophy) जिसके लिए इंग्लैंड और वेस्ट इंडीज के बीच स्पर्धा होती है; फ्रैंक वोरेल्ल ट्रॉफी (Frank Worrell Trophy) जिसके लिए ऑस्ट्रेलिया और वेस्ट इंडीज के बीच स्पर्धा होती है।\\n\\n\\n=== सीमित ओवर ===\\n\\n\\n==== एक दिवसीय अंतर्राष्ट्रीय ====\\n\\nसीमित ओवरों के क्रिकेट (Limited overs cricket) को कभी कभी एक दिवसीय अंतर्राष्ट्रीय के नाम से भी जाना जाता है क्योंकि हर मैच के लिए एक दिन का समय ही निर्धारित किया जाता है।\\n\\n\\n==== ट्वेन्टी-२० अंतरराष्ट्रीय ====\\nव्यवहार में, कभी-कभी मैच दूसरे दिन भी जारी रहते हैं यदि वे ख़राब मौसम के कारण बाधित हो जायें या स्थगित कर दिए जायें। एक सीमित ओवरों के मैच का मुख्य उद्देश्य है परिणाम उत्पन्न करना और इसलिए एक परंपरागत ड्रा सम्भव नहीं होता है; लेकिन कई बार परिणाम घोषित नहीं हो पता जब स्कोर टाई हो जाए या ख़राब मौसम के कारण इसे बीच में ही रोकना पड़े। प्रत्येक टीम केवल एक ही पारी खेलती है और एक सीमित संख्या में ओवरों का सामना करती है। आमतौर पर, सीमा है 40 या 50 ओवर, ट्वेन्टी ट्वेन्टी  क्रिकेट में प्रत्येक टीम को केवल 20 ओवरों का सामना करना होता है। एक सीमित ओवरों अंतर्राष्ट्रीय (Limited Overs international) के दौरान \\nमानक सीमित ओवरों के क्रिकेट की शुरुआत इंग्लैंड में 1963 के मौसम में हुई, जब प्रथम श्रेणी के काउंटी क्लबों द्वारा एक नॉक आउट कप पर स्पर्धा हुई। 1969 में एक राष्ट्रीय लीग प्रतियोगिता की स्थापना की गई थी। इसके पीछे अवधारणा थी कि अन्य मुख्य खेलाें में क्रिकेट को शामिल किया जाए और पहला सीमित ओवरों का अंतर्राष्ट्रीय मैच १९७१ में खेला गया। 1975 में, प्रथम क्रिकेट वर्ल्ड कप इंग्लैंड में हुआ। सीमित ओवरों के क्रिकेट में कई बदलाव लाये गए जिसमें बहुल रंगों के किट का उपयोग और एक सफ़ेद गेंद से फ्लड लिट मैच शामिल हैं।\\nट्वेंटी २० सीमित ओवर का नया रूप है जिसका उद्देश्य है कि मैच ३ घंटे में ख़त्म हो जाए, सामान्यत: इसे शाम के समय में खेला जाता है। मूल विचार, जब अवधारणा इंग्लैंड में 2003 में पेश की गई, यह था कि कर्मचारियों को शाम के समय में मनोरंजन उपलब्ध कराया जा सके। यह व्यावसायिक रूप से सफल हुआ और इसे अंतर्राष्ट्रीय स्तर पर अपनाया गया है। पहली ट्वेंटी 20 विश्व चैम्पियनशिप (Twenty20 World Championship) 2007 में आयोजित किया गई। अगली ट्वेंटी 20 विश्व चैम्पियनशिप इंग्लैंड में 2009 में आयोजित की जायेगी\\n\\n\\n=== राष्ट्रीय प्रतियोगिताओं ===\\nप्रथम श्रेणी क्रिकेट (First-class cricket) में टेस्ट क्रिकेट शामिल है लेकिन इस शब्द का उपयोग सामान्यत: पूर्ण आइ सी सी सदस्यता वाले देशों में उच्चतम स्तर के घरेलु क्रिकेट के लिए किया जाता है। हालांकि इसके अपवाद हैं। प्रथम श्रेणी क्रिकेट 18 काउंटी क्लबों के द्वारा इंग्लैंड के बहुत से भाग में खेला जाता है जो काउंटी चैम्पियनशिप (County Championship) में हिस्सा लेते हैं। काउंटी चैंपियन (champion county) की अवधारणा 18 वीं शताब्दी के बाद से ही अस्तित्व में है, लेकिन सरकारी प्रतियोगिता 1890 तक स्थापित नहीं की गई थी। \\nयॉर्कशायर काउंटी क्रिकेट क्लब (Yorkshire County Cricket Club) सबसे सफल क्लब रहा है जिसके पास 30 आधिकारिक शीर्षक हैं।\\nऑस्ट्रेलिया ने अपनी राष्ट्रीय प्रथम श्रेणी चैम्पियनशिप की स्थापना 1892-93 में की जब शेफील्ड शील्ड (Sheffield Shield) शुरू की गई थी। ऑस्ट्रेलिया में, प्रथम श्रेणी की टीमें विभिन्न राज्यों का प्रतिनिधित्व करती हैं। न्यू साउथ वेल्स (New South Wales) ने 2008 तक ४५ के साथ सबसे ज्यादा खिताब जीते हैं।\\nराष्ट्रीय चैंपियनशिप ट्राफियां कई स्थानों पर स्थापित है रणजी ट्रॉफी (Ranji Trophy) (भारत), प्लुनकेट शील्ड (Plunket Shield) (न्यूजीलैंड), क्युरी कप (Currie Cup) (दक्षिण अफ्रीका) और शैल शील्ड (Shell Shield) (वेस्ट इंडीज)। इनमें से कुछ प्रतियोगिताओं का अद्यतन किया गया है और हाल के वर्षों में नए नाम दिए गए हैं।\\nघरेलू सीमित ओवरों की प्रतियोगिताये इंग्लैंड के जिलेट कप (Gillette Cup) नोक आउट के साथ १९६३ में शुरू हुई। आमतौर पर देश नोक आउट और लीग दोनों प्रारूपों में मौसमी सीमित ओवरों की प्रतियोगिताओं को करते हैं। हाल के वर्षों में, राष्ट्रीय ट्वेंटी 20 प्रतियोगिताये शुरू हुई हैं। ये सामान्यतया नोक आउट रूप में शुरू की गई हैं लेकिन कुछ मिनी लीग के रूप में भी हैं।\\n\\n\\n=== क्रिकेट के अन्य प्रकार ===\\nदुनिया भर में खेले जाने वाले इस खेल के असंख्य अनौपचारिक रूप हैं, जिसमें शामिल है इनडोर क्रिकेट, फ्रांसीसी क्रिकेट, बीच क्रिकेट, क्विक क्रिकेट और सभी प्रकार के कार्ड खेल और बोर्ड खेल जो क्रिकेट से प्रेरित हैं। इन रूपों में, अक्सर नियम बदल दिए जाते हैं ताकि सिमित स्रोतों में खेल को खेलने योग्य बनाया जा सके, या सहभागियों के लिए इसे अधिक मनोरंजक और आसन बनाया जा सके।\\nइंडोर क्रिकेट (Indoor cricket) को एक जाल युक्त इनडोर क्षेत्र में खेला जाता है, यह बहुत औपचारिक है लेकिन अधिकांश आउटडोर रूप अनौपचारिक हैं\\n\\nपरिवार और किशोर उपनगरीय क्षेत्रों में बेक यार्ड क्रिकेट (backyard cricket) खेलते हैं और भारत और पाकिस्तान में गलियों (लम्बी संकरी गलियों में खेला जाता है) में \"गली क्रिकेट\" या \"टेप बॉल\" खेला जाता है। इसमें ऐसे नियम होते हैं कि एक बाउंस में केच मान लिया जाता है ऐसे नियमों के कारण और स्थान की कमी के कारण बल्लेबाज को ध्यान से खेलना होता है। टेनिस की गेंद और और घर के बल्लों का उपयोग किया जाता है और कई प्रकार की चीजें विकेट के रूप में काम में ली जाती हैं, जाती हैं, उदाहरण के लिए, फ़्रेंच क्रिकेट (French cricket) में बैटर लेग, यह मूल रूप से फ्रांस में उत्पन्न नहीं हुआ और आम तौर पर छोटे बच्चों के द्वारा खेला जाता है। कभी कभी नियमों में सुधार किया जाता है: जैसे ऐसा स्वीकृत किया जा सकता है कि क्षेत्र रक्षक एक बाउंस के बाद एक हाथ से गेंद को केच कर सकते हैं। या यदि बहुत कम खिलाड़ी उपलब्ध हैं तो हर कोई क्षेत्र रक्षण कर सकता है और खिलाड़ी एक एक कर के बल्लेबाजी करते हैं।\\nक्विक क्रिकेट (Kwik cricket) में गेंदबाज बल्लेबाज के तैयार होने का इन्तजार नहीं करता है, यह अधिक थका देने वाला खेल बच्चों के लिए डिज़ाइन किया गया है। यह अक्सर अंग्रेजी स्कूलों में पी ई पाठ के लिए प्रयुक्त किया जाता है। इस खेल की गति बढ़ाने के लिए इसमें एक और संशोधन किया गया है ये हैं \"टिप और रन\", “टिप्टी रन” \"टिप्सी रन\" या \"टिप्पी- गो\" नियम. इसमें जब गेंद बल्ले को छूती है तो बल्लेबाज को भागना ही होता है चाहे यह स्पर्श जान बूझ कर न किया गया हो या बहुत ही कम हो। यह नियम, तत्काल खेल में ही देखा जा सकता है, इसमें बल्लेबाज के द्वारा गेंद को रोकने के अधिकार को हटा कर इसकी गति को बढ़ने की कोशिश की गई है।\\nसमोआ में क्रिकेट का एक रूप जो किलिक्ति (Kilikiti) कहलाता है, खेला जाता है इसमें हॉकी स्टिक (hockey stick) के आकर के बल्ले का उपयोग किया जाता है। मूल अंग्रेज़ी क्रिकेट में १७६० में हॉकी स्टिक के आकर के बल्ले को आधुनिक सीधे बल्ले से प्रतिस्थापित कर दिया गया, जब गेंदबाजों ने इसे घुमाने के बजाय पिच करना शुरू कर दिया। एस्टोनिया में टीमें आइस क्रिकेट (Ice Cricket) टूर्नामेंट के लिए सर्दियों में इकठ्ठी होती हैं। खेल में कठोर सर्दी में गर्मी वाले सभी नियमों का पालन करना होता है। अन्यथा सभी नियम छह-एक-पक्ष के सामान होते हैं।\\n\\n\\n== इतिहास ==\\n\\nइन्हें भी देखें: १७२५ तक क्रिकेट का इतिहास\\nपुराने समय में कभी कभी क्रिकेट को इन रूपों में वर्णित किया जाता था जैसे एक गेंद को टकराता हुआ एक क्लब, या प्राचीन क्लब-गेंद, स्टूल -गेंद, ट्रेप-गेंद, स्टब-गेंद. क्रिकेट को निश्चित रूप से 16 वीं शताब्दी में इंग्लैंड में ट्यूडर समय से प्रचलित माना जाता है, लेकिन यह शायद इससे पहले भी उत्पन्न हो चुका था। इसकी उत्पत्ति का सबसे सामान्य सिद्धांत यह है कि यह मध्यकालीन अवधि के दौरान कैंट और सुस्सेक्स के बीच में वील्ड में कृषि और धातु कार्यों में लगे हुए समुदायों के बच्चों के द्वारा शुरू किया गया था। खेल के लिखित साक्ष्य क्रेग के नाम से जाने जाते हैं, जो १३०१ में न्युन्देन केंट में एडवर्ड I (Edward I (Longshanks)) के बेटे प्रिंस एडवर्ड (Prince Edward) के द्वारा खेला जाता था। इस पर सट्टा भी लगाया जाता था, लेकिन इस बात का कोई प्रमाण नहीं है कि यह क्रिकेट का ही रूप था।\\n\"क्रिकेट\" शब्द के लिए शब्दों की संख्या सक्भव स्रोत मणि जाती है। In the earliest known reference to the sport in 1598, it is called creckett. प्रबल मध्ययुगीन व्यापार कनेक्शन दक्षिण पूर्व इंग्लैंड और काउंटी ऑफ़ फ़्लैंडर्स (County of Flanders) के बीच मिलता है, जो बाद में डची ऑफ़ बरगंडी (Duchy of Burgundy) से सम्बंधित था, यह नाम संभवतया मध्यम डच (Middle Dutch) क्रिक (-e) से व्युत्पन्न हुआ जिसका अर्थ है छड़ी; या पुराने अंग्रेजी (Old English) में क्रिस या क्रिसे  जिसका अर्थ है बैसाखी. पुराने फ्रांसीसी (Old French) में शब्द criquet का अर्थ प्रतीत होता है के प्रकार की छड़ी या क्लब.शमूएल जॉनसन (Samuel Johnson) के शब्दकोश में, उन्होंने क्रिकेट को \"cryce,\" से व्युत्पन्न किया है जिसका अर्थ है, सक्सोन, एक छड़ी \". एक अन्य संभावित स्रोत है मध्यम डच शब्द krickstoel जिसका अर्थ है एक लंबा नीचला स्टूल जिसका उपयोग चर्च (church) में घुटने टेकने के लिए किया जाता है, जो प्राचीन क्रिकेट में कम में लिए जाने वाले लंबे विकेट (wicket) के साथ दो स्टंप (stumps) के सामान प्रतीत होता है।बॉन विश्वविद्यालय (Bonn University) के यूरोपीय भाषा के एक विशेषज्ञ Heiner Gillmeister के अनुसार, \"क्रिकेट\" हॉकी के लिए मध्यम डच वाक्यांश से व्युत्पन्न हुआ है, met de (krik ket) sen (अर्थात लकड़ी के पिछले हिस्से के साथ)। 1598 में, 1550 के आसपास रॉयल ग्रामर स्कूल, गिल्डफोर्ड (Royal Grammar School, Guildford) में लड़कों के द्वारा खेले जा रहे एक खेल creckett का एक अदालती मामला सामने आया। यह इस खेल का सबसे पुराना निश्चित उल्लेख है। ऐसा लगता है कि यह मूलतः एक बच्चों का खेल था लेकिन १६१० के आस पास के सन्दर्भ यह बताते हैं कि वयस्कों ने इसे खेलना शुरू कर दिया था और इसके ठीक बाद इंटर पेरिश गांव क्रिकेट (village cricket) के सन्दर्भ मिले। 1624 में, एक खिलाड़ी जेस्पर विनाल (Jasper Vinall) की मृत्यु हो गई जब सुस्सेक्स में दो पेरिश टीमों के बीच एक मैच के दोरान उसके सर पर चोट लगी। 17 वीं सदी के दौरान, अनेक संदर्भ इंग्लैंड के पूर्व दक्षिण में क्रिकेट के विकास का संकेत देते हैं। इस सदी के अंत तक, यह उच्च दांव के लिए खेली जाने वाली एक संगठित गतिविधि बन गया था और ऐसा माना जाता है कि 1660 में पुनर्संस्थापन (Restoration) के बाद पहले पेशेवर प्रकट हुए. 1697 में ससेक्स में ऊँचे दांव पर यह खेल खेला गया जो एक \"बड़ा क्रिकेट मैच\" था जिसमें एक पक्ष में ११ खिलाड़ी थे, इसकी रिपोर्ट एक अखबार में छापी गई, इतने महत्वपूर्ण रूप में यह क्रिकेट का पहला ज्ञात सन्दर्भ है।\\n\\nखेल ने 18 वीं शताब्दी में प्रमुख विकास किया और यह इंग्लैंड का राष्ट्रीय खेल बन गया। शर्त नें उस विकास में महत्वपूर्ण भूमिका निभाई साथ ही अमीर समर्थकों ने अपनी XI खिलाड़ियों की टीम तैयार की। लंदन में १७०७ में क्रिकेट बहुत प्रसिद्ध था और फिन्सबरी में आर्टिलरी ग्राउंड (Artillery Ground) के मैच में बहुत बड़ी भीड़ इकठ्ठी होती थी। खेल के सिंगल विकेट (single wicket) रूप ने बहुत बड़ी संख्या में भरी भीड़ को आकर्षित किया। गेंदबाजी १७६० के आस पास शुरू हुई जब गेंदबाज ने गेंद को बल्लेबाज की ओर रोल या स्कीम करने के बजाय उसे पिच करना शुरू कर दिया। बाउंस होती हुई गेंद का सामना करने के लिए बल्ले के डिजाइन में क्रन्तिकारी परिवर्तन आया, पुराने हॉकी के आकार के बल्ले को आधुनिक सीधे बल्ले से प्रतिस्थापित करना अनिवार्य था। १७६० में हैम्ब्लडन कप (Hambledon Club) की स्थापना की गई, अगले २० सालों तक जब तक एम सी सी (MCC) की स्थापना हुई और १७८७ में लॉर्ड्स के पुराने ग्राउंड (Lord\\'s Old Ground) की शुरुआत हुई, तब तक हैम्ब्लडन खेल का सबसे बड़ा क्लब था और इसका केन्द्र बिन्दु भी था। एमसीसी जल्दी ही खेल का प्रिमिअर क्लब बन गया और क्रिकेट के नियमों (Laws of Cricket) का संरक्षक बन गया। 18 वीं सदी के उत्तरार्द्ध भाग में नए नियम बनाये गए जिसमें तीन स्टम्प का विकेट और लेग बिफोर विकेट शामिल था।\\n19 वीं सदी में अंडर आर्म गेंदबाजी (underarm bowling) पहले राउंड आर्म गेंदबाजी (roundarm) में बदल गई और फ़िर ओवर आर्म गेंदबाजी (overarm bowling) में बदल गई। दोनों विकास विवादास्पद थे। काउंटी स्तर पर खेल के संगठन से काउंटी क्लबों का निर्माण शुरू हुआ। इसकी शुरुआत १८३९ में ससेक्स सी सी सी (Sussex CCC) से हुई, जिसने अंत में १८९० में आधिकारिक गठन काउंटी चैम्पियनशिप (County Championship) बनाया। इस बीच, ब्रिटिश साम्राज्य ने इस खेल के प्रसार में बहुत योगदान दिया। 19 वीं सदी के मध्य तक यह अच्छी तरह से भारत, उत्तरी अमेरिका, कैरिबियाई, दक्षिण अफ्रीका, ऑस्ट्रेलिया और न्यूजीलैंड में स्थापित हो गया था। 1844 में, पहली बार संयुक्त राज्य अमेरिका (United States) और कनाडा (Canada) के बीच अंतर्राष्ट्रीय क्रिकेट मैच हुआ। (हालांकि इनमें से किसी भी राष्ट्र को कभी भी टेस्ट खेलने वाले राष्ट्र के रूप में रेंक नहीं किया गया।)\\n\\n१८५९ में, इंग्लैंड की टीम के खिलाड़ी पहली बार उत्तरी अमेरिका के विदेशी दौरे पर गए थे और १८६२ में, इंग्लिश टीम ने पहली बार ऑस्ट्रेलिया का दौरा किया। 1876-77 में, एक इंग्लैंड की टीम ने पहली बार ऑस्ट्रेलिया के विरुद्ध मेलबोर्न क्रिकेट मैदान में टेस्ट मैच (Test match) में भाग लिया।\\nडब्लू जी ग्रेस (W G Grace) ने १८६५ में अपना लंबा केरियर शुरू किया; अक्सर कहा जाता है कि उसके केरियर ने खेल में क्रन्तिकारी परिवर्तन किया।इंग्लैंड और ऑस्ट्रेलिया के बीच प्रतिद्वंद्विता ने 1882 में दी ऐशस (The Ashes) को जन्म दिया। यह टेस्ट क्रिकेट की सबसे प्रसिद्ध प्रतियोगिता थी। टेस्ट क्रिकेट 1888-89 में विस्तृत हो गया जब दक्षिण अफ्रीका ने इंग्लैंड के विरुद्ध खेला प्रथम विश्व युद्धसे पहले के दो दशक \"क्रिकेट के स्वर्ण युग\" के नाम से जाने जाते हैं। यह उदासीन नाम युद्ध की हानि के परिणामस्वरूप सामूहिक अर्थ में उत्पन्न हुआ। लेकिन इस अवधि में महान खिलाड़ी हुए और यादगार मैच खेले गए। विशेष रूप से काउंटी में आयोजित प्रतियोगिता और टेस्ट स्तर का विकास हुआ।\\nयुद्ध के दौरान के वर्षों में एक खिलाड़ी का बोलबाला रहा, डॉन ब्रेडमैन जो आंकडों के अनुसार अब तक के सबसे महानतम बल्लेबाज रहें हैं। इंग्लैंड की टीम ने १९३२-३३ में जो असफलता (Bodyline) झेली उसे दूर करने के लिए और कुशलता पाने के लिए उसने दृढ़ संकल्प कर लिया। 20 वीं सदी के दौरान भी टेस्ट क्रिकेट का विस्तार हुआ। द्वितीय विश्व युद्ध से पहले वेस्ट इंडीज, भारत और न्यूजीलैंड इसमें शामिल हो गए। और युद्ध काल के बाद पाकिस्तान, श्रीलंका और बांग्लादेश भी इस श्रेणी में शामिल हो गए। हालांकि, दक्षिण अफ्रीका को 1970 से 1992 तक सरकार की रंगभेद की नीति के कारण अंतर्राष्ट्रीय क्रिकेट से प्रतिबंधित कर दिया गया थाक्रिकेट ने 1963 में एक नए युग में प्रवेश किया जब इंग्लिश काउंटी ने सीमित ओवरों (limited overs) की किस्म की शुरुआत की। चूँकि इसमें परिणाम निश्चित होता था, सीमित ओवरों के क्रिकेट आकर्षक था इससे मैचों की संख्या में वृद्धि हुई। पहला सीमित ओवरों का अंतर्राष्ट्रीय (Limited Overs International) मैच 1971 में खेला गया। नियंत्रक अंतर्राष्ट्रीय क्रिकेट परिषद ने इसकी क्षमता को देखा और १९७५ में पहले सीमित ओवरों के क्रिकेट वर्ल्ड कप का मंचन किया। 21 वीं सदी में, सीमित ओवरों के एक नए रूप ट्वेंटी 20 (Twenty20), ने तत्काल प्रभाव उत्पन्न किया।\\n\\n\\n== महिला क्रिकेट ==\\n\\nमहिलाओं का क्रिकेट पहली बार 1745 में सरे में दर्ज किया गया था। 20 वीं शताब्दी की शुरुआत में अंतर्राष्ट्रीय विकास शुरू हुआ और दिसंबर 1934 में ऑस्ट्रेलिया और इंग्लैंड के बीच पहला टेस्ट मैच खेला गया। अगले वर्ष, न्यूजीलैंड की महिलाएं उनसे जुड़ गईं, और 2007 में नीदरलैंड महिलाएं दसवीं महिला टेस्ट राष्ट्र बन गईं जब उन्होंने दक्षिण अफ्रीका महिलाओं के खिलाफ अपनी शुरुआत की। 1958 में, अंतर्राष्ट्रीय महिला क्रिकेट परिषद की स्थापना की गई (यह 2005 में आईसीसी के साथ विलय हो गई)। 1973 में, इंग्लैंड में एक महिला विश्व कप आयोजित होने पर पहले क्रिकेट विश्व कप का कोई भी आयोजन हुआ।  2005 में, इंटरनेशनल विमेन क्रिकेट काउंसिल को अंतरराष्ट्रीय क्रिकेट परिषद (आईसीसी) के साथ मिलाकर एक एकीकृत निकाय बनाने के लिए क्रिकेट का प्रबंधन और विकास करने में मदद मिली। आईसीसी महिला रैंकिंग 1 अक्टूबर 2015 को महिलाओं के क्रिकेट के सभी तीन प्रारूपों को कवर किया गया था। अक्टूबर 2018 में सभी सदस्यों को टी 20 अंतर्राष्ट्रीय दर्जा देने के आईसीसी के फैसले के बाद, महिलाओं की रैंकिंग को अलग-अलग ओडीआई (पूर्ण सदस्यों के लिए) और टी 20 आई सूचियों में विभाजित किया गया था।\\n\\n\\n== अंतर्राष्ट्रीय बहु-खेल आयोजनों में क्रिकेट ==\\n1900 ग्रीष्मकालीन ओलंपिक के भाग के रूप में क्रिकेट खेला जाता था, जब इंग्लैंड और फ्रांस ने दो दिवसीय मैच जीता था। 1998 में, राष्ट्रमंडल खेलों के भाग के रूप में क्रिकेट खेला जाता था, इस अवसर पर 50 ओवर प्रारूप में 2010 में राष्ट्रमंडल खेलों में भाग लेने वाले ट्वेंटी -20 क्रिकेट के बारे में कुछ बात थी, जो कि दिल्ली में हुई थी, लेकिन उस वक्त भारत में बोर्ड ऑफ कंट्रोल बोर्ड (बीसीसीआई) खेल के छोटे प्रारूप के पक्ष में नहीं थे, और यह शामिल नहीं था।\\n2010 में गुआंगज़ौ, चीन और इंचियान, दक्षिण कोरिया में एशियाई खेलों में 2010 एशियाई खेलों में क्रिकेट खेला गया था। भारत ने दोनों बार छोड़ दिया। बाद में राष्ट्रमंडल खेलों और ओलंपिक खेलों के लिए और भी कॉल कराई गईं। राष्ट्रमंडल खेलों की महासंघ ने आईसीसी को 2014 और 2018 के राष्ट्रमंडल खेलों में भाग लेने के लिए कहा, लेकिन आईसीसी ने निमंत्रण को ठुकरा दिया। 2010 में, अंतर्राष्ट्रीय ओलंपिक समिति ने क्रिकेट को एक खेल के रूप में मान्यता दी जिसे ओलंपिक खेलों में शामिल करने के लिए आवेदन किया जा सकता था, लेकिन 2013 में आईसीसी ने घोषणा की कि इस तरह के आवेदन करने के लिए इसका कोई इरादा नहीं है, मुख्य रूप से बीसीसीआई के विरोध के कारण। ईएसपीएनक्रिकइन्फो ने सुझाव दिया कि विपक्ष आय के संभावित नुकसान पर आधारित हो सकता है। अप्रैल 2016 में, आईसीसी के मुख्य कार्यकारी डेविड रिचर्डसन ने कहा कि ट्वेंटी 20 क्रिकेट में 2024 ग्रीष्मकालीन खेलों में शामिल होने का मौका हो सकता है, लेकिन आईसीसी के सदस्यता आधार द्वारा दिखाए गए सामूहिक समर्थन होना चाहिए, खासकर बीसीसीआई से, इसके लिए शामिल करने का एक मौका।\\n\\n\\n== अंतर्राष्ट्रीय संरचना ==\\n\\nअंतर्राष्ट्रीय क्रिकेट परिषद (आईसीसी), जिसका मुख्यालय दुबई में है, क्रिकेट की अंतर्राष्ट्रीय शासी निकाय है। इसे १९०९ में ऑस्ट्रेलिया और दक्षिण अफ्रीका के प्रतिनिधियों के द्वारा इंपीरियल क्रिकेट कॉन्फ्रेंस के रूप में स्थापित किया गया था। १९६५ में इसे अंतर्राष्ट्रीय क्रिकेट सम्मेलन का नाम दिया गया १९८९ में इसे अपना वर्तमान नाम मिला।\\nअई सी सी के १०४ सदस्य हैं; १० पूरे सदस्य जो अधिकारिक टेस्ट मेच खेलते हैं, ३४ सहयोगी सदस्य हैं और ६० संबद्ध सदस्य हैं। आईसीसी क्रिकेट के प्रमुख अंतरराष्ट्रीय टूर्नामेंट खासकर क्रिकेट विश्व कप के संगठन और शासन के लिए उत्तरदायी है, यह सभी स्वीकृत टेस्ट मैचों, एक दिवसीय अंतरराष्ट्रीय और ट्वेंटी २० अंतरराष्ट्रीय के लिए अंपायर और रेफरियों की नियुक्ति करता है। प्रत्येक राष्ट्र का एक राष्ट्रीय क्रिकेट बोर्ड है जो देश में खेले जाने वाले क्रिकेट मैचों को नियंत्रित करता है। क्रिकेट बोर्ड राष्ट्रीय टीम का भी चयन करता है और राष्ट्रीय टीम के लिए घर में और बाहर दौरों का आयोजन करता है।\\n\\n\\n== इन्हें भी देखें ==\\n२०१६ आईसीसी विश्व ट्वेन्टी २०\\nयूडीआरएस (UDRS)\\nईएसपीएन क्रिकइन्फो\\nट्वेन्टी-२० अंतर्राष्ट्रीय\\nआईसीसी ट्वेंटी-20 विश्व कप क्वालीफायर\\nमहिला ट्वेन्टी २० अंतरराष्ट्रीय\\n\\n\\n== सन्दर्भ ==\\n\\n\\n== अग्रगामी पठन ==\\nविज्डन क्रिकेटर्स अल्मनैक \\n\\nक्रिकइन्फो \\nक्रिकेटआर्काइव\\nअंतर्राष्ट्रीय क्रिकेट परिषद (आईसीसी)\\nक्रिकेट के अधिकारिक नियम, मेरिलेबोन क्रिकेट क्लब (Marylebone Cricket Club) (एमसीसी) द्वारा प्रकाशित'"
            ],
            "application/vnd.google.colaboratory.intrinsic+json": {
              "type": "string"
            }
          },
          "metadata": {},
          "execution_count": 32
        }
      ]
    },
    {
      "cell_type": "code",
      "source": [
        "hin2"
      ],
      "metadata": {
        "colab": {
          "base_uri": "https://localhost:8080/",
          "height": 157
        },
        "id": "TJTmJuHLqeqY",
        "outputId": "6dcd4106-973f-4e6f-ca99-f95473446672"
      },
      "execution_count": 33,
      "outputs": [
        {
          "output_type": "execute_result",
          "data": {
            "text/plain": [
              "'हाथी जमीन पर रहने वाला एक विशाल आकार का प्राणी है। यह जमीन पर रहने वाला सबसे विशाल स्तनपायी है। यह एलिफैन्टिडी कुल और प्रोबोसीडिया गण का प्राणी है। आज एलिफैन्टिडी कुल में केवल दो प्रजातियाँ जीवित हैं: ऍलिफ़स तथा लॉक्सोडॉण्टा। तीसरी प्रजाति मैमथ विलुप्त हो चुकी है।जीवित दो प्रजातियों की तीन जातियाँ पहचानी जाती हैं:- लॉक्सोडॉण्टा प्रजाति की दो जातियाँ - अफ़्रीकी खुले मैदानों का हाथी (अन्य नाम: बुश या सवाना हाथी) तथा (अफ़्रीकी जंगलों का हाथी ) - और ऍलिफ़स जाति का भारतीय या एशियाई हाथी।हालाँकि कुछ शोधकर्ता दोनों अफ़्रीकी जातियों को एक ही मानते हैं,अन्य मानते हैं कि पश्चिमी अफ़्रीका का हाथी चौथी जाति है।ऍलिफ़ॅन्टिडी की बाकी सारी जातियाँ और प्रजातियाँ विलुप्त हो गई हैं। अधिकतम तो पिछले हिमयुग में ही विलुप्त हो गई थीं, हालाँकि मैमथ का बौना स्वरूप सन् 2000 ई.पू. तक जीवित रहा।\\nआज हाथी ज़मीन का सबसे बड़ा जीव है।हाथी का गर्भ काल 22 महीनों का होता है, जो कि ज़मीनी जीवों में सबसे लम्बा है। जन्म के समय हाथी का बच्चा क़रीब 104 किलो का होता है। हाथी अमूमन 50 से 70 वर्ष तक जीवित रहता है, हालाँकि सबसे दीर्घायु हाथी 82 वर्ष का दर्ज किया गया है। आज तक का दर्ज किया गया सबसे विशाल हाथी सन् 1955 ई॰ में अंगोला में मारा गया था।इस नर का वज़न लगभग 10,900 किलो था और कन्धे तक की ऊँचाई 3.96 मी॰ थी जो कि एक सामान्य अफ़्रीकी हाथी से लगभग एक मीटर ज़्यादा है। इतिहास के सबसे छोटे हाथी यूनान के क्रीट द्वीप में पाये जाते थे और गाय के बछड़े अथवा सूअर के आकार के होते थे।\\nएशियाई सभ्यताओं में हाथी बुद्धिमत्ता का प्रतीक माना जाता है और अपनी स्मरण शक्ति तथा बुद्धिमानी के लिए प्रसिद्ध है, जहाँ उनकी बुद्धिमानी डॉल्फ़िन तथा वनमानुषों के बराबर मानी जाती है। \\nपर्यवेक्षण से पता चला है कि हाथी का कोई प्राकृतिक परभक्षी नहीं होता है, हालाँकि सिंह का समूह शावक या कमज़ोर जीव का शिकार करते देखा गया है। अब यह मनुष्य की दखल तथा अवैध शिकार के कारण संकट में है।\\n\\n\\n== वर्गीकरण तथा क्रमिक विकास ==\\nअफ़्रीकी हाथी प्रजाति में दो या तीन (विवादित) जीवित जातियाँ हैं; जबकि एशियाई हाथी प्रजाति के अंतर्गत केवल एशियाई हाथी ही जीवित जाति है, लेकिन इसे तीन या चार (विवादित) उपजातियों में विभाजित किया जा सकता है। अफ़्रीकी तथा एशियाई हाथी समान पूर्वज से क़रीब ७६ लाख वर्ष पूर्व विभाजित हो गये थे।\\n\\n\\n=== अफ़्रीकी हाथी ===\\n\\nवे हाथी जो लॉक्सोडॉण्टा प्रजाति के अंतर्गत आते हैं और सामूहिक रूप से अफ़्रीकी हाथी कहलाते हैं, वर्तमान में ३७ अफ़्रीकी देशों में पाया जाता है। \\nअफ़्रीकी हाथी, एशियाई हाथी से कई प्रकार से भिन्न होते हैं, जिनमें सबसे स्पष्ट उनके बड़े कान होते हैं। अफ़्रीकी हाथी एशियाई हाथी से आकार में बड़े होते हैं और उनकी अवतल पीठ होती है। अफ़्रीकी हाथी में नर और मादा दोनों के हाथीदांत होते हैं और उनकी त्वचा में बाल भी कम होते हैं।\\nअफ़्रीकी हाथी परंपरागत रूप से एक जाति के अंतर्गत दो उपजातियों में विभाजित किया गया है:-सवाना का हाथी या अफ़्रीकी बुश हाथी तथा अफ़्रीकी जंगली हाथी, लेकिन हाल के डी एन ए परीक्षण बताते हैं कि वास्तव में यह दो अलग जातियाँ हो सकती हैं। लेकिन सभी विशेषज्ञों द्वारा यह तर्क मान्य नहीं है। अफ़्रीकी हाथी की एक तीसरी जाति भी प्रस्तावित की गई है जिसे पश्चिमी हाथी (Western Elephant) की संज्ञा दी गई है।\\nअफ़्रीकी बुश हाथी, अफ़्रीकी जंगली हाथी, एशियाई हाथी, विलुप्त अमरीकी मॅस्टोडॉन तथा मैमथ के डी॰एन॰ए॰ विश्लेषण करने वाले वैज्ञानिकों सन् २०१० ई॰ में इस निष्कर्ष में पहुँचे कि यकीनन अफ़्रीकी बुश हाथी तथा अफ़्रीकी जंगली हाथी दो अलग जातियाँ हैं। उन्होंने लिखा : \\n\\nइस पुनःवर्गीकरण का संरक्षण की दृष्टि से बहुत महत्व है। अभी तक हाथियों को एक ही जाति का मानकर पूरी आबादी का एक साथ ही आंकलन किया जाता था। लेकिन पुनःवर्गीकरण के बाद किसी जाति विशेष के हाथी की आबादी आँक कर यह पता लगाने में सुविधा हो जायेगी कि किस जाति के हाथी को संरक्षण अधिक आवश्यकता है, क्योंकि जिस हाथी की आबादी संकटग्रस्त की परिभाषा की परिधि में आती है उसके संरक्षण के लिए क़ानून और सख़्त करने पड़ेंगे और अवैध शिकारियों और तस्करों पर संकटग्रस्त उस जाति के जानवरों या उनके शरीर के अंगों के व्यापार पर रोक लगेगी।\\nअफ़्रीकी जंगली हाथी तथा अफ़्रीकी बुश हाथी परस्पर प्रजनन कर सकते हैं, हालाँकि जंगल में उनके पृथक परिवेषों को अपनाये जाने के कारण ऐसे मौके कम ही मिलते हैं। किन्तु बन्दी अवस्था में यह बात लागू नहीं होती है। क्योंकि अफ़्रीकी हाथी को हाल ही में दो अलग जातियों का दर्जा मिला है, ऐसा संभव है कि बन्दी हालत के अफ़्रीकी हाथी संकर (hybrid) हों। \\nदो नई प्रजातियों के वर्गीकरण के अंतर्गत, लॉक्सोडॉण्टा ऍफ़्रिकाना केवल अफ़्रीकी बुश हाथी या सवाना हाथी को इंगित करता है, जो भू-प्राणियों में सबसे विशाल है। नर कंधे तक ३.२ मी॰ से ४ मी॰ तक का होता है और वज़न में ३,५०० कि॰ से (सूचित) १२,००० कि॰ तक का हो सकता है। मादा थोड़ी छोटी होती है और कंधे तक क़रीब ३ मी॰ तक ऊँची होती है। अमूमन, सवाना हाथी घास के खुले मैदानों, दलदल और झील के किनारे पाये जाते हैं। यह सवाना के पूरे क्षेत्र में पाये जाते है जो कि सहारा के दक्षिण में है।\\nदूसरी तथाकथित जाति, अफ़्रीकी जंगली (जंगल का) हाथी लॉक्सोडॉण्टा साइक्लॉटिस सवाना हाथी से आमतौर पर छोटा और गठीला होता है, तथा उसके हाथीदाँत पतले और कम घुमावदार होते हैं। जंगल के हाथी का वज़न ४,५०० कि॰ तक और कंधे तक की ऊँचाई क़रीब ३ मी॰ हो सकते हैं। अपने सवाना संबन्धियों की तुलना में इनके बारे में बहुत कम जानकारी है क्योंकि पर्यावरण और राजनैतिक कारणों से इसमें बाधा आती है। प्रायः यह मध्य और पश्चिमी अफ़्रीका के घने वर्षावनों में रहते हैं, लेकिन कभी-कभी वनों की सीमाओं में भी विचरण करते हैं जिससे उनका आवासीय क्षेत्र सवाना हाथी के क्षेत्र से मिल जाता है जिससे संकरण हो सकता है। सन् १९७९ ई॰ में यह अनुमान लगाया गया कि अफ़्रीकी हाथियों की आबादी १३ लाख की है। \\n यह अनुमान विवादास्पद है और यह मानना है कि यह अध्यागणन है, लेकिन इसी तथ्य का व्यापक रूप से उल्लेख किया जाता है और अब यह वस्तुतः आंकलन का आधार बन गया है जिसको ग़लत ढंग से दिखलाकर जाति का निरंतर पतन परिमाणित किया जाता है। सन् १९८० के दशक में अफ़्रीकी हाथियों कोअथी ने पूरे विश्व का ध्यान अपनी ओर आकर्षित किया क्योंकि अवैध शिकार के कारण पूर्वी अफ़्रीका में इनकी आबादी निरंतर घटती चली गई। आई॰यू॰सी॰एन॰ की सन् २००७ ई॰ की रिपोर्ट के मुताबिक,\\n\\nजंगली परिवेष में लगभग ४,७०,००० से ६,९०,००० के बीच में अफ़्रीकी हाथी हैं। हालाँकि यह आंकड़ा भी हाथियों के कुल आवासीय क्षेत्र का लगभग आधा हिस्सा ही समाविष्ट करता है, विशेषज्ञ यह मानते हैं कि असली आंकड़ा इससे अधिक नहीं होगा क्योंकि इसकी संभावना कम है कि इसके अलावा हाथियों की कोई बड़ी आबादी खोजी जायेगी।\\n आजकल इनकी सबसे ज़्यादा आबादी दक्षिण तथा पूर्वी अफ़्रीका में पाई जाती है जो कुल मिलाकर महाद्वीप की अधिकांश आबादी है। आई॰यू॰सी॰एन॰ के विशेषज्ञों के अनुसार दक्षिण तथा पूर्वी अफ़्रीका की बड़ी आबादी स्थिर है और १९९० के दशक के मध्य से प्रति वर्ष औसतन ४.५% की दर से बढ़ती भी जा रही है।दूसरी तरफ़ पश्चिमी अफ़्रीका में हाथी की आबादी छोटी तथा बँटी हुयी है और महाद्वीप के बहुत छोटे अनुपात को दर्शाती है।\\n\\nमध्य अफ़्रीका की आबादी के बारे में बहुत अनिश्चित्ता बनी हुयी है, जहाँ जंगलों के कारण आबादी का सर्वेक्षण करना कठिन कार्य है, परन्तु यह ज्ञात है कि वहाँ हाथीदाँत के अवैध शिकार तथा हाथी के मांस के लिए उनका धड़ल्ले से शिकार किया जा रहा है।\\nदक्षिण अफ़्रीका में हाथी की आबादी दुगुने से ज़्यादा हो गयी है और यह संख्या सन् १९९५ में हाथीदाँत के व्यापार पर पाबन्दी लगाने के बाद ८,००० से बढ़कर २०,००० से अधिक हो गई है दक्षिण अफ़्रीका (अन्य जगह नहीं) में यह पाबन्दी फरवरी २००८ को हटा दी गई जो पर्यावरण गुटों में विवाद का विषय बन गई है।[कृपया उद्धरण जोड़ें]\\n\\n\\n=== एशियाई हाथी ===\\n\\nएशियाई हाथी, ऍलिफ़स मैक्सिमस, अफ़्रीकी हाथी से छोटा होता है। इसके कान छोटे होते हैं और अधिकांश रूप से केवल नर में हाथीदाँत पाये जाते हैं।दुनिया भर में एशियाई हाथी की - जिन्हें भारतीय हाथी भी कहा जाता है - आबादी ६०,००० आंकी गई है जो अफ़्रीकी हाथी का दसवां भाग है। अधिक सटीक यह अनुमान लगाया गया है कि एशिया में जंगली हाथी क़रीब ३८,००० से ५३,००० हैं तथा पालतू हाथी १४,५०० से लेकर १५,३०० हैं और तक़रीबन १,००० हाथी दुनिया भर के चिड़ियाघरों में हैं। एशियाई हाथी की आबादी का पतन अफ़्रीकी हाथी की तुलना में धीरे हुआ है और इसके प्रमुख कारण हैं अवैध शिकार तथा मनुष्यों द्वारा उनके क्षेत्रों को हड़प जाना।[कृपया उद्धरण जोड़ें]\\n\\nएशियाई हाथी की कई उपजातियाँ मौर्फ़ोमीट्रिक तथा मौलिक्यूलर डाटा प्रणालियों द्वारा पहचानी गई हैं। ऍलिफ़स मैक्सिमस मैक्सिमस (श्री लंकाई हाथी) केवल श्री लंका के द्वीप में पाया जाता है। वह एशियाई हाथियों में सबसे बड़ा है। एक अनुमान के मुताबिक इनकी जंगलों में संख्या ३,००० से ४,५०० तक आंकी गई है, हालाँकि हाल में कोई सर्वेक्षण नहीं हुआ है। बड़े नर हाथी ५,४०० कि॰ के लगभग वज़नी होते हैं तथा कंधे तक ३.४ मी॰ तक ऊँचे होते हैं। नरों के माथे पर बहुत बड़े उभार होते हैं और दोनों लिंगों में अन्य एशियाई हाथियों की तुलना में रंजकता (pigmentation) क्षीण होती है। विशेषतयः इनके सूंड़, कान, मुँह तथा पेट में हल्के ग़ुलाबी रंग के चित्ते पड़े होते हैं। पिन्नावाला, श्री लंका में हाथियों का अनाथाश्रम है जो इनको विलुप्त होने से बचाने में महत्वपूर्ण भूमिका निभा रहा है।ऍलिफ़स मैक्सिमस इन्डिकस (भारतीय हाथी) एशियाई हाथी की आबादी का बड़ा हिस्सा बनाता है। क़रीब ३६,००० की आबादी वाले ये हाथी हल्के स्लेटी रंग के होते हैं, तथा इनके केवल कानों और सूंड में रंजकता क्षीण होती है। बड़े नर अमूमन ५,००० कि॰ वज़नी होते हैं लेकिन श्री लंकाई हाथी जितने ऊँचे होते हैं। मुख्य भू-भागीय हाथी भारत से लेकर इंडोनेशिया तक ११ एशियाई देशों में पाया जाता है। इनको जंगली इलाके परिवर्ती अंचल, जो कि जंगलों और घास के मैदानों के बीच होते हैं, पसन्द हैं क्योंकि वहाँ इनको भोजन में अधिक विविधता मिल जाती है।ऍलिफ़स मैक्सिमस सुमात्रेनस, यह सुमात्रा का हाथी केवल सुमात्रा ही में पाया जाता है। यह भारतीय हाथी से छोटा होता है। इनकी संख्या २,१०० से ३,००० के बीच आंकी गई है। यह भारतीय हाथी से भी हल्के रंग का होता है और इसकी रंजकता अन्य एशियाई हाथियों की तुलना में कम क्षीण होती है तथा सिर्फ़ कानों पर ग़ुलाबी धब्बे होते हैं। वयस्क सुमात्राई हाथी अमूमन कंधे तक केवल १.७ से २.६ मी॰ ऊँचा होता है तथा वज़न में ३,००० कि॰ से कम होता है। यह अपने एशियाई तथा अफ़्रीकी रिश्तेदारों से काफ़ी छोटा होता है और केवल सुमात्रा द्वीप के उन क्षेत्रों में पाया जाता है जहाँ या तो जंगल हों या पेड़ों की झुरमुट हो।\\n\\nसन् २००३ ई॰ में बोर्नियो द्वीप में एक अन्य उपजाति पहचानी गई है। इसको बोर्नियो पिग्मी हाथी के नाम से नवाज़ा गया है और अन्य एशियाई हाथियों की तुलना में यह ज़्यादा छोटा और कम आक्रामक होता है। इसके अपेक्षाकृत बड़े कान और पूँछ होते हैं और इसके हाथीदाँत भी अधिक सीधे होते हैं।\\n\\n\\n== शारीरिक लक्षण ==\\nएशियाई हाथी हल्के स्लेटी रंग के होते हैं, तथा इनके केवल कानों और सूंड में रंजकता क्षीण होती है। बड़े नर अमूमन ५,००० कि॰ वज़नी होते हैं लेकिन श्रीलंकाई हाथी जितने ही ऊँचे होते हैं।सुमात्राई हाथी की रंजकता अन्य एशियाई हाथियों की तुलना में कम क्षीण होती है तथा सिर्फ़ कानों पर ग़ुलाबी धब्बे होते हैं।\\n\\n\\n=== सूंड ===\\n\\nसूंड हाथी की नाक और उसके ऊपरी होंठ की संधि है, और लंबी हो जाने के कारण यह हाथी का सबसे महत्वपूर्ण तथा कार्यकुशल अंग बन गई है। अफ़्रीकी हाथियों की सूंड के छोर में दो अँगुलिनुमा उभार होते हैं, जबकि एशियाई हाथियों में केवल एक ही उभार होता है। एक तरफ़ तो हाथी की सूंड इतनी संवेदनशील होती है कि घास का एक तिनका भी उठा लेती है तो दूसरी तरफ़ इतनी मज़बूत भी होती है कि पेड़ की टहनियाँ भी उखाड़ ले।अधिकांश शाकाहारी पशुओं के दाँतों की संरचना इस प्रकार की होती है कि वह पौधे के विभिन्न भागों को काट-फाड़ सकें। जबकि हाथियों में बीमार और बहुत छोटे बच्चों के अलावा, हाथी पहले अपनी सूंड से खाना फाड़ता है और फिर उस निवाले को अपने मुँह में पहुँचाता है। वह सूंड के द्वारा घास चरता है या फिर ऊपर पेड़ से पत्तियाँ, फल या समूची शाखायें तोड़ लेता है। अगर पेड़ में भोजन उसकी सूंड की पहुँच से भी परे है तो हाथी अपनी सूंड पेड़ के तने या शाखा में लपेटकर ज़ोर से झिंझोड़ता है ताकि फल इत्यादि नीचे टपक जाये या कभी-कभी पूरे का पूरा पेड़ ही उखाड़ देता है।हाथी सूंड का इस्तेमाल पानी पीने के लिए भी करता है। हाथी पहले अपनी सूंड में एक बार में करीब १४ लीटर पानी खींच लेता है और फिर उसे अपने मुँह में उड़ेल देता है। नहाने के लिए भी हाथी इसी विधि का इस्तेमाल करता है। नहाने के बाद अपने गीले शरीर में हाथी सूंड से मिट्टी छिड़क लेता है जो सूखकर उसकी त्वचा के ऊपर पपड़ी का रूप ले लेती है और उसकी तेज़ धूप तथा परजीवियों से सुरक्षा करती है। अन्य स्तनपाइयों की तरह — सिवाय इन्सान और वनमानुष के, जिन्हे सीखना पड़ता है — हाथी भी बहुत अच्छा तैराक होता है। तैरते समय हाथी अपनी सूंड का इस्तेमाल स्नॉरकॅल की तरह करता है।सूंड हाथी के सामाजिक कार्यकलापों के ऊपर भी बहुत महत्वपूर्ण भूमिका अदा करती है। संबन्धी अपनी सूंडें एक दूसरे से लपेटकर अभिवादन करेंगे, जैसा मनुष्य हाथ मिलाकर करते हैं। इसका इस्तेमाल वह खेल करते हुए कुश्ती में, मिलन से पहले, माँ तथा बच्चे के सम्बन्ध में तथा अन्य कार्यकलापों में भी करते हैं। उठी हुयी सूंड चेतावनी या धमकी हो सकती है जबकि सिर नीचे करके झुकी हुयी सूंड समर्पण का संकेत हो सकती है। दुश्मन को हाथी अपनी सूंड से लपेटकर फेंक सकता है।हाथी की सूंड में मनुष्य से कई गुणा अधिक घ्राण शक्ति होती है और वह अपनी सूंड ऊपर उठाकर तथा दाहिने बायें समुद्री दूरबीन (पॅरिस्कोप) की तरह लहराकर अपने खाद्य स्रोत, मित्र तथा शत्रु का पता लगा लेता है।\\n\\n\\n=== हाथी दाँत ===\\nहाथी के हाथीदाँत उसके दूसरी ऊपरी छेदक दाँत होते हैं। हाथीदाँत हाथी के जीवनकाल में निरन्तर बढ़ते रहते हैं। एक वयस्क नर के हाथीदाँत लगभग एक वर्ष में १८ से॰मी॰ की दर से बढ़ते रहते हैं। हाथीदाँत पानी, लवण तथा मूल खोदने के काम आते हैं। इसके अलावा पेड़ों की छाल छीलने और अपने लिए रास्ता तैयार करने में भी हाथीदाँत का बड़ा योगदान होता है। इसके अलावा हाथीदाँत अपनी परिधि जताने के लिए पेड़ों में निशानदेही के लिए तथा कभी कभार अस्त्र-शस्त्र के लिए भी इस्तेमाल में लाए जाते हैं।\\nजैसे मनुष्य दायाँ या बायाँ हाथ का इस्तेमाल करने वाला होता है, उसी प्रकार हाथी भी आमतौर पर दायाँ या बायाँ हाथीदाँत इस्तेमाल करता है। मुख्य हाथीदाँत अमूमन थोड़ा छोटा होता है और उसके छोर कुछ गोल होते हैं क्योंकि उस हाथीदाँत का ज़्यादा इस्तेमाल हुआ होता है। नर और मादा अफ़्रीकी हाथी के लम्बे हाथीदाँत होते हैं जो वयस्क अवस्था में ३ मी॰ तक लम्बे और ४५ कि॰ तक वज़नी हो सकते हैं। एशियाई हाथियों में सिर्फ़ नर के लम्बे हाथीदाँत होते हैं। मादा के बहुत छोटे या अमूमन नहीं होते हैं। एशियाई नर के अफ़्रीकी नर जितने लम्बे हाथीदाँत हो सकते हैं लेकिन वह बहुत पतले और हल्के होते हैं। आज तक सबसे वज़नी ३९ कि॰ का आंका गया है। हाथीदाँत में नक्काशी सरलतापूर्वक हो जाती है अतः कलाकारों ने इसे महत्ता दी जिसके कारण भारी संख्या में विश्व में हाथियों का विनाश हुआ।\\n\\n\\n=== दाँत ===\\nअन्य स्तनपाइयों की तुलना में हाथी के दाँतों की रचना बिल्कुल अलग होती है। पूरी उम्र भर उनके २८ दाँत होते हैं। यह हैं:–\\n\\nदो ऊपरी द्वितीय छेदक: यही हाथीदाँत कहलाते हैं।\\nहाथीदाँत से पूर्व विकसित दूध के दाँत।\\n१२ अग्रचर्वणक, जबड़े के हर तरफ़ तीन।\\n१२ चर्वणक, जबड़े के हर तरफ़ तीन।\\n \\nअन्य स्तनपाइयों के विपरीत, जिनके दूध के दाँत झड़ने के बाद स्थाई दाँत आ जाते हैं, हाथी के दाँत निरन्तर बदली होते रहते हैं। लगभग एक वर्ष की आयु में हाथीदाँत के अग्रगामी दूध के दाँत झड़ जाते हैं और हाथीदाँत उगने लग जाते हैं। किन्तु चबाने वाले दाँत (अग्रचर्वणक तथा चर्वणक) एक हाथी की आयु में क़रीब पाँच बार या बहुत विरले ही छः बारबदली होते हैं।\\nएक बार में केवल चार चबाने वाले दाँत (अग्रचर्वणक तथा/अथवा चर्वणक), एक-एक दोनों जबड़ों के दोनों तरफ़, प्रयोग में लाये जाते हैं (या केवल दो क्योंकि जबड़े के हर हिस्से में दूसरा दाँत पहले को बदली कर रहा होता है)। मानव दाँतों के विपरीत पक्के दाँत दूध के दाँतों को ऊपर की तरफ़ से नहीं धकेलते हैं। वरन् नये दाँत मुख के पिछले भाग में उगते हैं तथा पुराने दाँतों को आगे की तरफ़ धकेलते हैं जहाँ पुराने दाँत टूट-टूट कर गिर जाते हैं। अफ़्रीकी हाथियों में जन्म से ही चबाने वाले दाँतों का पहला समूह (सॅट) (अग्रचर्वणक) मौजूद होता है। जब शावक दो वर्ष का होता है तो दोनों जबड़ों के दोनों तरफ़ का पहला चबाने वाला दाँत गिर जाता है। यही प्रक्रिया दूसरे चबाने वाले दाँतों के समूह के साथ छः वर्ष की आयु में होती है। १३ से १५ वर्ष की आयु तक तीसरा दाँतों का समूह भी जाता रहता है, तथा चौथा समूह २८ वर्ष की आयु में झड़ जाता है। पाँचवा समूह हाथी की ४० वर्ष की आयु तक चलता है। कदाचित छठा समूह हाथी के जीवन के अन्त तक चलता है। यदि हाथी ६० वर्ष की आयु से अधिक जीवित रह जाता है तो चर्वणक का आख़िरी समूह भी घिस-घिस कर ठूंठ भर रह जाता है तथा हाथी भली भांति खा भी नहीं सकता है।\\n\\n\\n=== त्वचा ===\\n\\nहाथियों को बोलचाल की भाषा में हाथी (अपने मूल वैज्ञानिक वर्गीकरण से) कहा जाता है, जिसका अर्थ मोटी चमड़ी के जानवरों से है। एक हाथी कि त्वचा २.५ सेंटीमीटर तक मोटी होती है। इसके शरीर का अधिकांश भाग अत्यंत कठोर होता है। हालाँकि, मुंह और कान के भीतर के चारों ओर त्वचा काफ़ी पतली होती है। आम तौर पर, एक एशियाई हाथी की त्वचा में अपने अफ्रीकी रिश्तेदार से अधिक बाल होते हैं। युवा हाथी में यह फ़र्क अधिक नज़र आता है। एशियाई शावकों की त्वचा अमूमन कत्थई रंग के बालों से ढकी रहती है। उम्र के साथ बाल गाढ़े रंग के होने के साथ-साथ कम होने लगते हैं लेकिन उसके सिर और पूँछ में वह सदा रहते हैं।\\nहाथी यों तो स्लेटी रंग के होते हैं, लेकिन अफ़्रीकी हाथी अलग-अलग रंग की मिट्टी में लोटकर लाल या भूरे रंग के प्रतीत होते हैं। गीली मिट्टी में लोटना हाथी समाज की दिनचर्या का एक अभिन्न अंग होता है। न केवल लोटना सामाजिकरण के लिए अहम है बल्कि मिट्टी धूपरोधक का काम भी करती है और उसकी त्वचा को पराबैंगनी किरणों से बचाती है। हाथी की त्वचा कठोर होने के बावजूद संवेदनशील होती है। यदि वह नियमित रूप से मिट्टी का स्नान न करे तो उसकी त्वचा को जलने से, कीटदंश से और नमी निकल जाने से काफ़ी नुक़सान हो सकता है।\\nमिट्टी में लोटने से त्वचा को हाथी के शरीर का तापमान नियंत्रित करने में मदद मिलती है। हाथी को अपनी त्वचा से शरीर की गर्मी निकालने में मुश्किल होती है, क्योंकि शरीर के अनुपात में त्वचा बहुत कम होती है। हाथी के वज़न और उसकी त्वचा के सतही क्षेत्रफल का अनुपात मनुष्य की तुलना में बहुत अधिक होता है। हाथियों को अपनी टाँग उठाकर पैर के तालुओं को हवा देकर संभवतः ठण्डा रखने की कोशिश करते देखा गया है।\\n\\n\\n=== पैर ===\\n\\nहाथी के पैरों कि बनावट मोटे स्तंभों या खंभों के समान होती है। हाथी को अपनी सीधी टाँगों और बड़े गद्देदार पैरों की वजह से खड़े रहने में मांसपेशियों से कम शक्ति की आवश्यकता होती है। इसी कारण, हाथी बिना थके बहुत लंबे समय तक खड़े रह सकते हैं। वास्तव में, अफ़्रीकी हाथियों को शायद ही कभी लेटे हुए देखा जाता हो, सामान्यत: वे बीमार या घायल होने पर ही लेटते है। इसके विपरीत एशियाई हाथी अक्सर लेटना पसन्द करते हैं। \\nहाथी के पैर लगभग गोल होते हैं। अफ़्रीकी हाथियों के प्रत्येक पिछले पैर पर तीन नाखून और प्रत्येक सामने के पैर पर चार नाखून होते हैं। भारतीय हाथियों के प्रत्येक पिछले पैर पर चार नाखून और प्रत्येक सामने के पैर पर पाँच नाखून होते हैं। पैर की हड्डियों के नीचे एक कड़ा, श्लेषी पदार्थ होता है जो एक गद्दे या शॉकर के रूप में कार्य करता है। हाथी के वज़न से पैर फूल जाता है, लेकिन वज़न हट जाने से यह पहले जैसा हो जाता है। इसी कारण से गीली मिट्टी में गहरा धँस जाने के बावजूद हाथी अपनी टांगों को आसानी से बाहर खींच लेता है।\\n\\n\\n=== कान ===\\n\\n\\n== जीवविज्ञान और व्यवहार ==\\n\\n\\n== निद्रा दिन में 2 से 4 घंटे ==\\n\\n\\n=== पुनरुत्पत्ति और जीवन चक्र ===\\n\\n\\n==== हाथी के बछड़े ====\\n\\n\\n==== पर्यावरण का प्रभाव ====\\n\\n\\n== संकट ==\\n\\n\\n=== शिकार ===\\n\\n\\n=== निवास का नष्ट ===\\n\\n\\n=== राष्ट्रीय उद्यान ===\\n🔺अभयारण की तुलना में अधिक संरक्षित क्षेत्र है \\n🔺इसमें एक से अधिक परिस्थितिकी तंत्र का समावेश होता है।\\n🔺 पालतू पशुओं को चराने पर सम्पूर्ण प्रतिबंध होता है।\\n🔺अभयारण्य की तरह किसी एक विशेष प्रजाति पर केन्द्रित नही होता है।\\n🔺इसकी स्थापना राज्य एवं केन्द्र सरकार के संकलन से की जाती है।\\n🔺काजीरंगा,काबर्ट,वेलावदर,समुद्री राष्ट्रीय उद्यान, गीर,दचीगाम आदि महत्त्वपूर्ण राष्ट्रीय उद्यान हैं।\\n\\n\\n=== उर्वरक ===\\n\\n\\n== सन्दर्भ ==\\n\\n\\n== इन्हें भी देखें ==\\nएलिफैन्टिडी\\nप्रोबोसीडिया\\n\\n\\n== अन्य जानकारी ==\\nDebruyne, R., Barriel, V., & Tassy, P. (2003). \"Mitochondrial cytochrome b of the lyakhov mammoth (proboscidea, mammalia): New data and phylogenetic analyses of elephantidae\". Molecular Phylogenetics and Evolution. 26 (3): 421–434. PMID 12644401. डीओआइ:10.1016/S1055-7903(02)00292-0.सीएस1 रखरखाव: एक से अधिक नाम: authors list (link)\\nशोशानी, जेहेस्केल (१६ नवंबर, २००५).  विल्सन, डी.ई. व रीडर, डी.एम.(सं) (संपा॰). विश्व की स्तनपायी जातियाँ (तीसरा संस्करण संस्करण). जॉन हॉपकिंस विश्वविद्यालय मुद्रणालय. पपृ॰ 90–91. आईएसबीएन ०-८०१-८८२२१-४. सीएस1 रखरखाव: एक से अधिक नाम: editors list (link)\\nWikisource: \"The Blindmen and the Elephant\" by John Godfrey Saxe\\nWilliams, Heathcote (1989). Sacred Elephant. New York: Harmony Books. आई॰ऍस॰बी॰ऍन॰ 0-517-57320-2.\\nगजः (संस्कृत)\\n\\n\\n== बाहरी कड़ियाँ ==\\nElephantVoices - information about elephant communication'"
            ],
            "application/vnd.google.colaboratory.intrinsic+json": {
              "type": "string"
            }
          },
          "metadata": {},
          "execution_count": 33
        }
      ]
    },
    {
      "cell_type": "code",
      "source": [
        "ger1"
      ],
      "metadata": {
        "colab": {
          "base_uri": "https://localhost:8080/",
          "height": 192
        },
        "id": "hlI5SPi7rrWM",
        "outputId": "a2f6922e-2c85-4d09-b133-bf1abe794dfc"
      },
      "execution_count": 41,
      "outputs": [
        {
          "output_type": "execute_result",
          "data": {
            "text/plain": [
              "'Cricket (englisch [ˈkɹɪkɪt]; in Deutschland amtlich Kricket, in den Anfängen auch „Thorball“) ist ein Schlagballspiel mit zwei Mannschaften. Dabei dreht sich alles um das Duell zwischen dem Werfer (Bowler) und dem Schlagmann (Batter). Der Bowler versucht, den Batter zu einem Fehler zu bewegen, damit dieser ausscheidet, der Batter seinerseits versucht, den Ball wegzuschlagen, um Punkte (Runs) zu erzielen. Der Bowler wird durch die anderen Feldspieler unterstützt, die den Ball so schnell wie möglich zurückzubringen versuchen.\\nDie Sportart wird vor allem in den Ländern des Commonwealth als Sommersport betrieben und ist in einigen Ländern auch Nationalsport.\\n\\n\\n== Geschichte ==\\n\\n\\n=== Anfang ===\\n\\nEine frühe Form von Cricket, die von Schafhirten und Bauern gespielt wurde, kann bis ins 13. Jahrhundert zurückverfolgt werden. Es liegen schriftliche Belege über ein Spiel namens creag aus dem Jahr 1300 in Kent vor, das von Prince Edward gespielt wurde.\\n1598 berichtet ein Gerichtsfall über eine Sportart namens Kreckett, die an einer Schule in Guildford ausgeübt wurde. Dies ist auch laut dem Oxford English Dictionary der erste gültige Nachweis des Wortes Cricket in der Englischen Sprache.\\nWährend des 17. Jahrhunderts wurde Creckett vor allem im Südosten Englands immer populärer. Gegen Ende dieses Jahrhunderts wurde es zu einer organisierten Sportart (die vermutlich auch die ersten Profis auf diesem Gebiet hervorbrachte), da nachweislich im Jahr 1697 ein great cricket match mit 11 Spielern pro Mannschaft in Sussex abgehalten wurde.\\n\\n\\n=== Organisation und Weiterentwicklung ===\\nIm 18. Jahrhundert wurden wesentliche Bestandteile des Spiels weiterentwickelt und Cricket wurde zum Nationalsport in England. Adelige und reiche Kaufleute begannen ihre eigenen Mannschaften (select XIs) aufzustellen. Spielstätten in London wurden bereits 1707 auf dem Artillery Ground in Finsbury bereitgestellt, bis 1787 letztendlich der legendäre Lord’s Cricket Ground eröffnet wurde. Der im selben Jahr gegründete Marylebone Cricket Club avancierte rasch zur ersten Adresse in diesem Sport und ist bis heute auch der Hüter der Laws of Cricket (Cricketregeln).\\nIm 19. Jahrhundert wurde der bis dahin angewandte Unterarmwurf zuerst durch den Rundwurf (ein Wurf in Höhe des Beckens) und schließlich 1864 durch den Oberarmwurf ersetzt, der heute noch ein typisches Erkennungsmerkmal von Cricket ist. 1877 wurde auch das erste Test Cricket Match auf dem Melbourne Cricket Ground zwischen Australien und England ausgetragen. Auf nationaler Ebene wird Cricket seit dieser Zeit in Ligabetrieben professionell betrieben.\\nCricket war – ebenso wie Croquet und Pelota – auch eine Sportart bei den Olympischen Spielen in Paris im Jahr 1900. Die Dauer des olympischen Cricketspiels betrug nur zwei Tage, Sieger wurde Großbritannien, das bis heute diesen Titel tragen darf.\\n\\n\\n=== Entwicklung zum weltweiten Sport ===\\nWährend der Sport auf internationaler Ebene zum Ende des 19. Jahrhunderts vornehmlich in England, Australien und Südafrika ausgetragen wurde, wurde er mit der Unabhängigkeit der britischen Kolonien auch in der Karibik und in Südasien relevant. Zum Ende der 1970er Jahre erfolgte eine Modernisierung des Sportes, die Cricket auch medial und kommerziell weiter etablierte. Dauerten Spiele bis dahin grundsätzlich mehrere Tage, wurden mit Ein-Tagesspielen und zu Beginn der 2000er Jahre mit Twenty20-Spielen kürzere Formen etabliert. Seit ihrer Einführung gibt es in diesen beiden Formen auch Weltmeisterschaften (Cricket World Cup, ICC Men’s T20 World Cup, Woen’s Cricket World Cup, ICC Women’s T20 World Cup), die sich neben den traditionellen Touren zwischen Mannschaften als heutigen Kern des internationalen Spiels etabliert haben.\\n\\n\\n== Spielprinzip ==\\n\\n\\n=== Allgemeiner Spielablauf ===\\nAuf dem ovalen Spielfeld befinden sich elf Spieler der Feldmannschaft und zwei Spieler der Schlagmannschaft. In der Mitte des Spielfeldes ist ein Streifen (Pitch) von rund 20 m Länge und 3 m Breite aufgebracht, an dessen schmalen Enden sich jeweils eine Holzkonstruktion, das sogenannte Wicket, befindet. Ziel der Feldmannschaft ist es, mit Hilfe ihres Bowlers mit dem Ball das Wicket des Gegners zu zerstören. Um dieses zu verhindern, steht vor jedem der Wickets ein Batter der Schlagmannschaft und wehrt den Ball mit einem Schläger ab. Der Bowler läuft vom gegenüberliegenden Ende des Pitches an und wirft (bowlt) den Ball in einer vorgegebenen Wurftechnik in Richtung des Batter. Verfehlt dieser den Ball und der Ball zerstört das Wicket, ist der Batter ausgeschieden, genauso wenn er den Ball trifft und dieser dann direkt aus der Luft von einem Mitglied der Feldmannschaft gefangen wird. In diesem Fall kommt ein neuer Batter der Schlagmannschaft aufs Feld und nimmt seinen Platz ein. Gelingt dem Batter ein Schlag, so läuft er zur anderen Seite des Pitches und tauscht mit seinem Partner die Plätze. Für jeden gelungenen Seitenwechsel bekommt die Schlagmannschaft einen Punkt (Run). Gelingt es dem Schlagmann, dass der Ball über die Spielfeldbegrenzung rollt, gibt es dafür 4 Runs. Sollte ihm sogar gelingen, dass der Ball das Spielfeld verlässt, ohne dass er zuvor den Boden berührt hat, so sind es 6 Runs.\\nEin Spiel ist dabei in zwei oder vier Spielabschnitte (Innings) geteilt, in denen jede Mannschaft abwechselnd jeweils ein Innings lang Schlag- oder Feldmannschaft ist. Das Innings ist dabei noch einmal in Unterabschnitte (Over) von sechs regulären Würfen des Bowlers geteilt, in denen dieser immer von einem Ende des Pitches anläuft und bowlt. Sind alle Bälle des Overs geworfen, folgt ein anderer Bowler von der anderen Seite des Pitches und absolviert von dort sein Over. Das Innings ist dann beendet, wenn bei der Schlagmannschaft zehn Spieler ausgeschieden sind oder wenn eine vorher festgelegte Anzahl von Over absolviert ist. Anschließend tauschen die beiden Mannschaften ihre Aufgaben und absolvieren ihr Innings als Schlag- bzw. Feldmannschaft. Nach Abschluss aller Innings gewinnt die Mannschaft mit den meisten Runs.\\n\\n\\n=== Regeln ===\\n\\nAls oberste Instanz der Cricket-Regeln ist der Marylebone Cricket Club (MCC) in London anerkannt, obwohl internationales Cricket unter der Führung des International Cricket Council (ICC) durchgeführt wird. Der MCC gibt die Laws of Cricket heraus, die in 42 Regeln den Ablauf des Spieles festlegen.\\n\\n\\n==== Spieler und Offizielle ====\\nEine Cricketmannschaft besteht aus elf Spielern. In sehr eingeschränktem Maße ist auch der Einsatz von Substitutes und Runnern für verletzte Spieler möglich, taktische Einwechslungen gibt es jedoch nicht. Im Verlauf eines Cricketspiels übernehmen die Spieler je nach Spielsituation verschiedene Rollen.\\n\\nJeder Spieler einer Schlagmannschaft muss einmal als Batter auftreten und Runs für seine Mannschaft erzielen.\\nWenn die andere Mannschaft am Schlag ist, versuchen die Bowler die gegnerischen Batsmen ausscheiden zu lassen. Bowler sind meist spezialisiert und sehr guten Bowlern wird verziehen, wenn sie als Batter nicht besonders gut abschneiden.\\nDer Wicket-Keeper steht hinter dem am Schlag befindlichen Batter, dem Striker, und versucht, die vom Bowler „geworfenen“ Bälle zu fangen. Wicket-Keeper sind meist hochspezialisiert und jedes Team hat nur einen Wicket-Keeper. Er ist auch der einzige Spieler der Feldmannschaft auf dem Feld, der Handschuhe trägt.\\nDie Spieler der Feldmannschaft, die keine Spezialaufgabe haben, versuchen als Fielder den vom Batter geschlagenen Ball so schnell wie möglich wieder in die Mitte des Spielfeldes zu bekommen oder ihn sogar zu fangen.\\nBeim Cricket gibt es nach den Regeln zwei, bei wichtigen Spielen aber auch mehr Schiedsrichter, „Umpires“ genannt. Es gilt als unsportlich, die Entscheidung eines Schiedsrichters zu kritisieren oder Diskussionen mit ihm anzufangen.\\nDie beiden Scorer tragen die erzielten Runs und andere Spieldaten in den offiziellen Spielbericht („Scorecard“) ein.\\n\\n\\n==== Spielfeld ====\\n\\nCricket wird auf einem großen, ovalen Platz gespielt, dessen äußere Begrenzung (Boundary) beispielsweise durch ein Seil markiert ist. In der Mitte des Spielfeldes befindet sich ein besonders präparierter, 20,12 Meter (22 Yards) langer und 3,05 Meter (10 feet) breiter Streifen – die so genannte Pitch. An den beiden Enden dieser Pitch sind jeweils drei Stäbe (Stumps) aufgestellt, auf denen lose je zwei kleinere Querstäbe (Bails) liegen. Diese beiden Anordnungen von Stäben werden Wickets genannt.\\n\\n\\n==== Ball ====\\n\\nDer Cricketball ist traditionell dunkelrot und hat einen Kern aus Kork, der eng mit Schnur umwickelt ist. Die Hülle besteht aus vier Stücken Leder, die mittels einer leicht erhabenen Naht verbunden sind. Der Ball wiegt 155,9–163 g (5½–5¾ Unzen) und hat einen Umfang von 22,4–22,9 cm (8 13/16–9 Zoll; Ø≈7,2 cm). Die Bälle im Jugend- und Damenbereich sind etwas leichter und kleiner.\\n\\n\\n==== Wurftechnik ====\\n\\nDie Wurftechnik des Bowlers ist durch die Regeln größtenteils vorgeschrieben. Der Wurfarm darf, sobald er die Höhe der Schulter erreicht hat, nicht mehr gestreckt werden, was in der Praxis fast immer dazu führt, dass der Arm in diesem Moment schon voll gestreckt ist und bleibt. Ansonsten wird der Wurf ungültig, siehe No Ball. Diese Technik wird Bowlen genannt, im Cricket werden deshalb die Begriffe werfen und bowlen streng unterschieden.\\nEine weitere Besonderheit ist die Tatsache, dass der Ball so gebowlt wird, dass er vor dem Striker auf dem Boden aufkommt. Die Regeln schreiben dies zwar nicht vor, sie verbieten allerdings, dass der Ball den Batter volley über Hüfthöhe erreicht. Für volley benutzt man im Cricket den Begriff full toss. Obwohl der Ball beim Aufkommen viel an Geschwindigkeit verliert, wird dem Batter das Schlagen des Balles erschwert. Grundsätzlich gibt es zwei Techniken, nach denen man das Bowlen der Bowler unterscheidet:\\n\\nBeim Spin bowling wird der Ball in Rotation versetzt und ändert nach dem Auftreffen auf den Boden die Flugbahn.\\nBeim Fast bowling wird dem Ball eine hohe Geschwindigkeit mitgegeben, um damit dem Batter Probleme zu bereiten. Hochspezialisierte Fast Bowler können den Spielball auf über 160 km/h beschleunigen.\\n\\n\\n==== Punkte (Runs) ====\\n\\nDer Striker hat zwei Ziele. Zum einen verteidigt er sein Wicket, d. h., er verhindert, dass es vom gebowlten Ball getroffen wird. Zum anderen wird er, wann immer ihm dies möglich erscheint, versuchen, den Ball so wegzuschlagen, dass er genug Zeit hat, zum anderen Wicket hinüberzulaufen. Sein Partner, der Non-Striker, welcher am anderen Ende der Pitch neben dem dortigen Wicket steht, damit der Bowler der Feldmannschaft Platz zum bowlen hat, muss dann ebenfalls zum gegenüberliegenden Pitchende laufen. Den Batsmen bleibt die Entscheidung, ob losgelaufen wird oder nicht, jedoch selbst überlassen.\\nKommt einer der Batsmen dabei nicht rechtzeitig hinter die Schlaglinie (popping crease) an seinem Pitchende, bevor die Feldmannschaft den Ball auf das entsprechende Wicket geworfen und dieses dadurch zerstört hat – d. h., mindestens einer der kleinen, querliegenden Stäbe (bails) heruntergefallen ist – so ist dieser Batter ausgeschieden (siehe 1. unter Ausscheiden des Schlagmanns unten). Gelingt den Batsmen aber dieser Seitenwechsel, wird dies single genannt und zählt einen Punkt (Run). Wenn genug Zeit ist, können die Batsmen beliebig oft hin und her laufen und bekommen eine dementsprechende Punktzahl. In der Praxis geschieht dieser Platzwechsel selten öfter als dreimal.\\nWenn der Striker den Ball hoch über die Spielfeldgrenze schlägt, gibt es sechs Runs. Der Schiedsrichter streckt dann beide Arme nach oben. Wenn der Ball vorher den Boden berührt, gibt es nur vier Runs. In diesem Fall führt der Schiedsrichter mit einem Arm eine wellenartige Bewegung von einer Seite zur anderen aus.\\n\\n\\n==== Ausscheiden des Schlagmanns (Wickets) ====\\n\\nDie Feldmannschaft hat das Ziel, die gegnerischen Schlagleute so schnell wie möglich aus dem Spiel zu werfen.\\nJeder Batter spielt so lange, bis er ausgeschieden ist und wird dann durch den nächsten Batter, der in diesem Innings (Spieldurchgang) noch nicht an der Reihe war, ersetzt. Sobald zehn der elf Schlagleute ausgeschieden sind (man spricht dann von all out), ist dieses Innings abgeschlossen. Das Schlagrecht wechselt bzw. das Spiel ist zu Ende.\\nDas Ausscheiden eines Batter wird auch als Wicket bezeichnet, unabhängig davon, ob das eigentliche Wicket daran beteiligt war oder nicht. Ein solches Wicket kann auf insgesamt zehn verschiedene Arten geschehen. Die wichtigsten sind:\\n\\nWenn das Wicket mit dem Ball von der Feldmannschaft getroffen wird, während einer der Schlagleute noch zwischen den Wickets (eigentlich zwischen den Schlaglinien) unterwegs ist (Run out).\\nWenn der Bowler mit seinem Ball am Striker vorbei das Wicket trifft und mindestens ein Bail herunterfällt (Bowled).\\nWenn der Striker den Ball schlägt und ein Mitglied der Feldmannschaft den Ball fängt, bevor der Ball zum ersten Mal auf dem Boden aufkommt (Caught). Falls der Wicket-Keeper den Ball fängt, spricht man von caught behind, wenn der Bowler selbst den Ball fängt von caught and bowled.\\nWenn der Ball vom Striker verfehlt, jedoch durch seinen Körper aufgehalten wird, der Ball aber, nach Ansicht des Schiedsrichters, das Wicket getroffen hätte, kann er von diesem „aus“ gegeben werden. Ausscheidungen dieser Art werden als Leg before Wicket oder kurz LBW bezeichnet und sind oft sehr kontrovers diskutiert.\\nWenn der Striker beim Schlagversuch vor seine Schlaglinie tritt und der Ball zum Wicket-Keeper hinter ihm durchkommt, und dieser dann alleine das Wicket des Striker mit dem Ball zerstört, bevor dieser wieder hinter seine Linie gelangt ist und ohne dass der Striker einen Punkt (Run) angestrebt hat. Dies nennt man Stumped.Gelingt dem Bowler ein Wicket bei drei aufeinander folgenden Würfen, so spricht man von einem Hattrick.\\n\\n\\n==== Extras ====\\n\\nVon den regulären Runs unterscheidet man die sogenannten Extras. Diese werden bei Regelverstößen oder irregulären Schlägen vergeben. Dabei gibt es fünf unterschiedliche Arten:\\n\\nEinem No Ball liegt ein Regelverstoß der Feldmannschaft zugrunde, beispielsweise wenn der Bowler seine Abwurflinie beim Bowlen übertritt.\\nWides sind Bälle, die so weit am Schlagmann vorbei gebowlt werden, dass dieser keinen normalen Schlag ausführen kann.\\nWenn der Batter den Ball verfehlt und der Wicket-Keeper diesen nicht aufhält, spricht man von einem Bye.\\nBerührt der Batter den Ball nur mit dem Körper anstatt dem Schläger, nennt man dies Leg-Bye.\\nIm Falle von groben Unsportlichkeiten werden Penalties vergeben.Sowohl No Balls als auch Wides zählen automatisch einen Punkt (Run) für die Schlagmannschaft und der Striker ist bei einem solchen Ball gegen eine Reihe von Ausscheidensarten immun. In beiden Fällen muss der Ball auch noch zusätzlich vom Bowler wiederholt werden. Penalties werden jeweils in Blöcken von fünf Runs vergeben.\\nAlle diese oben genannten Punkte werden nicht dem Schlagmann gutgeschrieben, sondern in der jeweiligen Kategorie unter Extras vermerkt.\\n\\n\\n==== Ergebnis ====\\n\\nDas Ergebnis eines Cricketspiels ist entweder ein Sieg einer der beiden Mannschaften (Win), ein Unentschieden (Tie) oder ein Remis (Draw).\\nEine Mannschaft gewinnt, wenn sie mehr Punkte als der Gegner erzielt hat, nachdem dieser sein(e) Innings abgeschlossen hat. Möglich ist auch ein durch den Schiedsrichter zuerkannter Sieg wegen Spielverweigerung der gegnerischen Mannschaft, ein Sieg durch Aufgabe des Gegners oder ein Sieg durch Penalties.\\nDas Spiel endet unentschieden, wenn alle Innings abgeschlossen und die Punktzahlen beider Mannschaften gleich sind. Dieses Ergebnis ist sehr selten.\\nIn allen anderen Fällen – das heißt in der Regel nach einem Zeitablauf ohne Abschluss aller Innings – wird das Spiel als Remis gewertet.\\n\\n\\n== Austragungsformen ==\\nCricket wird generell in nationales und internationales Cricket geteilt, bei der heute drei unterschiedliche Spielweisen dominieren. Auf internationaler Ebene werden die drei Formen zumeist in Form von Touren zwischen zwei Mannschaften und Turnieren mit mehreren Mannschaften absolviert. Auf nationaler Ebene gibt es in allen drei Formen Ligen und Turniere.\\n\\n\\n=== Test Cricket und First-Class Cricket ===\\n\\nAls Test oder Test Cricket bezeichnet man eine spezielle Form eines internationalen Cricketspiels, die traditionell als höchste Form der Ausübung des Sports gilt. Bei dieser Spielform wird das Spiel an bis zu fünf Tagen – in täglich drei rund zweistündigen Spielabschnitten – ausgetragen. Tests sind wiederum meist in eine Serie von zwei bis sechs Tests eingebettet, so dass die entsprechenden Duelle sich über mehrere Wochen hinziehen können. Die Berechtigung, Tests auszutragen ist nur auf wenige, derzeit 12, Nationalmannschaften beschränkt.\\nTests sind dabei eine Sonderform des First-Class Cricket, das vor allem auf nationaler Ebene ausgetragen wird. Die Spiele zwischen Profimannschaften finden überwiegend in einer Liga statt und dauern drei bis vier Tage. Auch hierbei werden zwei Innings je Mannschaft mit derselben Tageseinteilung wie beim Test Cricket gespielt. Am bekanntesten ist die englische County Championship (Grafschaftsmeisterschaft), die seit 1890 ausgetragen wird.\\n\\n\\n=== One-Day International und List A Cricket ===\\n\\nAufgrund der Bedürfnisse vor allem des Fernsehens wurde seit den 1960er Jahren ein kürzeres und dramatischeres Format eingeführt, das One-Day Cricket (Ein-Tages-Cricket), seit den 1970er Jahren auf internationaler Ebene als One-Day Internationals. Diese neue Art des Crickets erfreute sich schnell wachsender Popularität, auch wenn es von Traditionalisten zunächst weitgehend abgelehnt wurde.\\nIm Gegensatz zum First-Class Cricket ist ein Innings nicht erst dann abgeschlossen, wenn alle Schlagleute „aus“ sind, sondern schon nach einer festgesetzten Zahl von Over, üblicherweise 50 Over. Sobald also eines dieser beiden Kriterien erfüllt wird, ist das Innings vorbei. Aus diesem Grund wird diese Spielform auch oft Limited-Overs Cricket genannt. Auch gibt es weitere Regeländerungen im Vergleich zum First-Class Cricket.\\nWie beim Test Cricket werden auch One-Day Internationals meist als Teil einer Serie (Tour) ausgetragen (drei bis sieben Spiele) oder gar in Form eines Drei-Nationenturniers. Alle vier Jahre wird im One-Day-Modus eine Weltmeisterschaft (Cricket World Cup, bzw. Women’s Cricket World Cup bei den Frauen) ausgetragen. In den vier Jahren zwischen den World Cups findet eine Champions Trophy statt.\\nDas Äquivalent auf nationaler Ebene oder Spiele von weniger etablierten Nationalmannschaften bezeichnet man als List A Cricket.\\n\\n\\n=== Twenty20 Cricket ===\\n\\nZu Beginn der 2000er Jahre starteten Versuche das Spiel für moderne Medien attraktiver zu gestalten. Dabei etablierte sich dasTwenty20-Cricket, bei dem die Spielabschnitte auf je 20 Over verkürzt werden und eine Maximalspieldauer von 75 Minuten je Innings festgelegt ist.\\nAuch in diesem Format wird eine Weltmeisterschaft jeweils für Männer und Frauen ausgetragen (ICC Men’s T20 World Cup, ICC Women’s T20 World Cup). Auch hofft der Cricket-Weltverband ICC mit diesem Format in Zukunft wieder an den Olympischen Spielen teilzunehmen.Das Twenty20-Format hat sich insbesondere auch als Spielform nationaler Profiligen etabliert, wie der Indian Premier League, bei der international besetzte Mannschaften innerhalb kurzer Zeit ein Turnier bestreiten, was häufig von großen Zuschauerzahlen verfolgt wird.\\n\\n\\n== Ausrüstung ==\\nEin Cricketspieler benötigt ein Trikot, oft zusätzlich einen Sweater und eine lange Hose. Die Schuhe sind weiß und haben meist ein besonderes Profil, Schuhe für Bowler sogar Spikes. Bei Testspielen ist weiße Spielkleidung vorgeschrieben; bei One-Day Cricket wird, zumindest bei den Profis, heute fast immer in bunter Spielkleidung gespielt, früher oft als „Pyjama Cricket“ belächelt.\\nJeder Schlagmann hat einen Schläger und trägt Schutzausrüstung. Das wichtigste Schutzbekleidungsstück sind die Pads, die seine Beine vor dem mit einer sehr hohen Wucht auftreffenden Ball schützen.\\nZusätzlich sollte der Schlagmann einen Helm und Handschuhe tragen, sowie eine so genannte Box, ein Suspensorium zum Schutz der sogenannten Gentleman’s Region. Einige Spieler tragen darüber hinaus noch einen Schutz für die Arme oder gar einen Brustschutz unter dem Hemd.\\nBei der Feldmannschaft trägt nur der Wicket Keeper, der immer hinter dem Schlagmann und dessen Wicket steht, eine besondere Ausrüstung. Wie der Schlagmann hat auch er einen (meist kleineren) Beinschutz (Wicket Keeping Pads) und er ist der einzige Spieler der Feldmannschaft, der Fanghandschuhe (Wicket Keeping Gloves) tragen darf.\\nDie beiden Schiedsrichter tragen in der Regel weißes oder cremefarbenes Hemd und Jacket sowie eine schwarze Hose.\\n\\n\\n== Cricket auf nationaler Ebene ==\\nKeine Nationalmannschaft aus dem deutschsprachigen Raum konnte sich bisher für eine Weltmeisterschaft qualifizieren.\\n\\n\\n=== Cricket in Deutschland ===\\nCricket wird in Deutschland seit 1988 vom Deutschen Cricket-Bund mit Sitz in Buxtehude und seit 2015 zusätzlich von der Deutschen Cricket-Union (DCU) mit Sitz in Engelskirchen gefördert. Beide sind über verschiedene Landesverbände organisiert, wobei der DCB mit rund 7.000 Mitgliedern der größere der beiden Verbände ist. Leistungsmäßig liegt Deutschland auf der Cricket-Weltrangliste derzeit auf Platz 42 und stellt in Europa außerhalb der britischen Inseln die größte Zahl an aktiven Cricket-Spielern. Der Spielbetrieb in Deutschland ist in einer mehrgleisigen Bundesliga und darunter angesiedelten Regionalligen organisiert.\\nDer Ursprung von Cricket in Deutschland liegt in Berlin. Seit spätestens 1873 spielten dort Herren aus England und den USA diesen Sport. Ab 1888 begannen die Vereine BFC Germania 1888, BFC Viktoria 1889, Union 1892, Britannia 1892 und TSV Helgoland 1897 mit einem geregelten Spielbetrieb. Über viele Jahrzehnte bestimmte der BFC Viktoria 1889 den Sport und errang zahlreiche deutsche Meisterschaften (21 mal bei den Herren, zuletzt 1959). Ähnlich der Regelung im Fußball darf der BFC Viktoria 1889 für die errungenen Meisterschaften vier Sterne auf dem Trikot tragen. Die erste deutsche Meisterschaft der Damen (2006 erstmals ausgespielt) wurde von der Frauenmannschaft des BFC Viktoria 1889 mit einem Sieg über den Schweriner BBCCC gewonnen. Das Team wechselte nach dem Sieg in der deutschen Meisterschaft jedoch geschlossen zu den Reinickendorfer Füchsen.\\nDie Flüchtlingskrise in Deutschland brachte den Vereinen ab 2015 zahlreiche neue Spieler, vor allem aus Afghanistan.\\n\\n\\n=== Cricket in der Schweiz ===\\nCricket wird in der Schweiz offiziell von Cricket Switzerland vertreten. Dem 1980 gegründeten Verband gehören zurzeit 20 assoziierte Mitgliedsclubs an sowie eine Schiedsrichtervereinigung.\\nVon 1985 bis 2012 war Cricket Switzerland Mitglied des International Cricket Council als affiliated member. Aufgrund der Gründung eines konkurrenzierendes Verbandes wurde diese Mitgliedschaft jedoch ausgesetzt, bis der Verband durch eine Mitgliedschaft bei Swiss Olympic als offizieller Cricket-Dachverband anerkannt ist.\\nCricket Switzerland veranstaltet im Sommer jeweils eine 20-over-Meisterschaft, die in einer Ost- und Westgruppe plus Finalspiele ausgespielt wird. Zusätzlich gibt es mit dem Mr Pickwick T20 Cricket Cup ein Twenty20-Turnier. Internationale Turniere in der Schweiz finden jeweils im Februar mit dem Cricket on Ice in St. Moritz und im Sommer mit dem «International Cricket Festival» in Zuoz statt.\\n\\n\\n=== Cricket in Österreich ===\\nBereits 1892 gründeten in Wien ansässige Engländer den Vienna Cricket and Football-Club. Cricket wird in Österreich heute vom Österreichischen Cricket Verband (ÖCV-ACA) im International Cricket Council vertreten, der am 4. September 1981 gegründet wurde. Seit Anfang der 1990er Jahre wird in Österreich eine Open League und eine Twenty20 Liga ausgetragen, an der auch ein Cricketclub aus Slowenien teilnimmt.\\nIn Österreich gibt es aktuell drei Cricket-Grounds, die dem internationalen Standard entsprechen. Heim-Länderspiele der österreichischen Nationalmannschaft finden meistens in Seebarn bei Wien statt. In Wien-Donaustadt befindet sich im Austria Cricket Stadium das Zentrum der Nachwuchsausbildung mit der Austrian Cricket Akademie. Der dritte Cricketplatz liegt in Kärnten in der Nähe von Velden am Wörthersee bei Latschach an der Drau.\\n\\n\\n== Cricket in der Gesellschaft und Medien ==\\nCricket ist in zahlreichen Ländern des Commonwealth eine der wichtigsten Sportarten. Dies spiegelt sich in der medialen Aufmerksamkeit wider, aber auch in der politischen und kulturellen Reflexion. Beispiel dafür ist die Cricket-Diplomatie, bei der der Stellenwert dieses Sports in den Staaten Indien und Pakistan dazu genutzt wurde, diplomatische Fortschritte zu erzielen. Heute gibt es zwölf Verbände, die als Vollmitglieder des International Cricket Councils anerkannt sind und in dessen Ländern Cricket eine hohe Aufmerksamkeit erfährt, da es die Nationalmannschaften dieser Verbände sind, die an den wichtigsten Wettbewerben des Sports teilnehmen und jeweils Profiligen unterhalten.\\n\\n\\n=== Besondere Ereignisse ===\\nGesellschaftliche Diskussionen um Cricket flammen immer wieder dann auf, wenn es zu größeren Ereignissen kommt, die über lange Zeit die (Sport-)Berichterstattung in zahlreichen Ländern dominiert. Diese Diskussionen führen oft zu Veränderungen des Spiels und dessen Regeln.\\n\\n\\n==== Bodyline Series (1932/1933) ====\\nAls Bodyline Series wird die Ashes Tour 1932/33 in Australien zwischen den Gastgebern und England bezeichnet. Dabei spielten die Bowler der englischen Mannschaft gezielt auf den Körper der australischen Batsmen, um die Dominanz des damals überragenden Donald Bradman zu brechen. Die australische Seite wertete diese Strategie als einen gezielten Versuch, die australischen Spieler zu verletzen und reklamierten Unsportlichkeit. Da die englische Seite dafür kein Verständnis hatte und die mediale Aufregung groß war, kam es zu einer kurzen diplomatischen Krise zwischen den beiden Ländern. Die Cricketregeln wurden in der Folge angepasst, so dass diese Form des Spiels nicht mehr möglich ist.\\n\\n\\n==== Underarm incident (1981) ====\\nAls beschämendster Moment der Cricketgeschichte gilt der sogenannte Underarm incident („underarm“ steht für einen Wurf, bei dem sich die Hand unterhalb der Hüfte befindet) in einem One-Day International zwischen Australien und Neuseeland am 1. Februar 1981 in Melbourne. Die neuseeländischen Schlagleute lagen beim letzten Ball des Spiels sechs Punkte hinter Australien und hätten mit einer großen Boundary noch einen Gleichstand erzielen können. Um dies zu verhindern, rollte der australische Bowler Trevor Chapell auf Anweisung seines Bruders und Kapitäns Greg den Ball am Boden zum neuseeländischen Schlagmann, so dass es für diesen unmöglich war, ihn weit und hoch in die Luft zu schlagen.Diese Technik des Bowlens existierte zwar im ausgehenden 19. Jahrhundert, war aber zum Zeitpunkt des Vorfalles lange unüblich, wenn auch nicht von den Regeln verboten. Dies wurde durch Medien und Fans als sehr unsportliches Verhalten und grober Verstoß gegen „the spirit of the game“ aufgefasst. Australien wurde zum Sieger des Spieles erklärt, was langjährige Konflikte mit dem neuseeländischen Cricketteam zur Folge hatte.\\n\\n\\n==== Ball tampering (2001/02) ====\\nBei der Tour Indiens in Südafrika 2001/02 wurde beim zweiten Test der indische Spieler Sachin Tendulkar vom Umpire Mike Denness der Ballmanipulation beschuldigt. Dies führte zu Beschuldigungen des Rassismus seitens indischer Medien gegen den Schiedsrichter und sorgte für die sofortige Beendigung der offiziellen Tour, um einen Einsatz Denness im letzten Test zu verhindern. Konsequenz dieser Entwicklung waren eine Reform und die Professionalisierung des Schiedsrichterwesens im internationalen Cricket. Tendulkar wurde letztendlich freigesprochen.\\n\\n\\n==== Spielabbruch (2006) ====\\nDer erstmalige Abbruch eines internationalen Cricket-Spiels in der langjährigen Geschichte der Sportart sorgte für Anfeindungen zwischen Australien und Pakistan. Der Vorfall ereignete sich am 20. August 2006 in London im Spiel zwischen England und Pakistan. Nachdem der australische Schiedsrichter Darrell Hair entschieden hatte, Pakistan hätte den Ball manipuliert, weigerte sich die pakistanische Mannschaft nach einer Pause wieder das Spielfeld zu betreten. Daraufhin wurde das Spiel für England gewertet. Aus Südasien gab es daraufhin Vorwürfe des Rassismus gegen den Australier, während in Australien Hair als Held gefeiert wurde.\\n\\n\\n==== Attentat auf die sri-lankische Mannschaft (2009) ====\\nAm 3. März 2009 kam es zu einem Angriff auf das sri-lankische Cricket-Team in Pakistan. Bewaffnete Männer feuerten in Lahore mit Raketenwerfern und Maschinengewehren auf den Bus der Mannschaft – mindestens sieben Menschen starben danach, u. a. sechs Spieler und ein Trainer wurden verletzt. Die angesetzte Länderspielserie wurde daraufhin abgebrochen.\\nSeither hatte die pakistanische Mannschaft ihre Heimspiele in den Vereinigten Arabischen Emiraten gespielt. Erstmals seit 2009 wurde im Jahr 2017 mit der Pakistan Super League 2016/17 ein Finale einer nationalen Meisterschaft mit internationalen Spielern wieder in Pakistan gespielt.\\n\\n\\n==== Spot Fixing Skandal (2010) ====\\nAm dritten Tag des vierten Tests der Tour Pakistans in England in 2010 wurden Presseberichte bekannt, dass pakistanische Spieler in Wettbetrug verwickelt seien und gegen hohe Geldbeträge in vorgegebenen Overn No Balls würfen. Als dieses bestätigt wurde, wurden die involvierten Spieler Mohammad Asif, Mohammad Amir und Kapitän Salman Butt, zu Gefängnisstrafen verurteilt und langjährig gesperrt.\\n\\n\\n==== Ball tampering (2018) ====\\nBeim dritten Test der Tour Australiens in Südafrika 2018 wurde der australische Spieler Cameron Bancroft mit Fernsehkameras der Ballmanipulation überführt. Als herauskam, dass diese Manipulation mit dem Führungsteam seiner Mannschaft abgesprochen und von dieser initiiert worden war, mussten Kapitäne Steve Smith und David Warner zurücktreten, und auch der Trainer Darren Lehmann legte seinen Posten nieder.\\n\\n\\n=== Anekdotisches und Cricket-Ausdrücke ===\\nCricket dürfte die einzige Sportart sein, in der es offizielle Mittags- und Teepausen (Lunch und Tea) gibt. Die Mittagspause dauert 40 Minuten und die Teepause 20 Minuten.\\nWenn der Score genau 111 Runs zeigt, so spricht man von einem \\'Nelson\\', 222 – double Nelson, 333 – triple Nelson\\nTim Rice setzte seinem Lieblingssport in dem Musical Cricket (mit Musik von Andrew Lloyd Webber) ein Denkmal.\\nScheidet ein Batter aus, ohne dass er einen einzigen Punkt (Run) erzielen konnte, spricht man von „out for a duck“, das heißt, er hat sich eine Ente eingefangen. Scheidet der Schlagmann beim ersten Ball aus, so spricht man von einer Golden Duck („Goldene Ente“). Von einem diamond duck, platinum duck oder auch royal duck spricht man, wenn der Batter vom ersten Ball eines Innings out ist. Bei Fernsehübertragungen erscheint dann manchmal eine Ente, die über den Bildschirm watschelt, und an Stelle der Null in der Statistik steht eine Ente. Der Ausdruck stammt wahrscheinlich davon, dass die 0, die hinter dem Namen des betreffenden Spielers im Spielbericht auftaucht, wegen der Ähnlichkeit in der Form als duck’s egg bezeichnet wurde.\\nGelingt es einem Bowler, dass die gegnerischen Batsmen während eines Overs (sechs Bälle) keinen Run durch einen Schlag zustande bringen, und hat er auch keinen No Ball oder Wide verschuldet, so hat er ein „Maiden“ (Jungfrau) vollbracht. Entsprechend wird das in seiner offiziellen Statistik vermerkt. Ohne Beabsichtigung eines Double Entendre heißt es dann: „He bowled a maiden over.“ Ein Over, in dem ein Wicket fällt und sonst kein Run erzielt wird, wird als wicket maiden bezeichnet.\\nEinhundert oder mehr Runs von einem Schlagmann nennt man ein Century (Jahrhundert) oder eine ton (Tonne). 50 bis 99 werden als half-century bezeichnet.\\nAuch im Cricket ist ein Hattrick möglich, allerdings nur für Bowler. Er wird ähnlich selten erreicht wie im Fußball. Man muss dafür drei gegnerische Batsmen mit drei aufeinanderfolgenden Bällen aus dem Spiel werfen.\\nBeim Test-Cricket unterhalten sich Fernsehkommentatoren während einer Liveübertragung gelegentlich minutenlang über völlig sachfremde Themen. Die Kommentatorenteams kommen meist aus den beiden Ländern der Wettkampfteilnehmer und berichten für beide Länder gleichzeitig (s. Test Match Special).\\nEin Kommentar des Sportkommentators Jonathan Agnew wurde von den BBC Radio 5 Live-Hörern zum Besten Sport-Kommentar aller Zeiten gewählt. Der Batter Ian Botham fiel bei einem Test-Match über die Stumps und entfernte die Bails, was zu einem automatischen Out führt. Agnews Kommentar im Liveradio: \"He just didn\\'t quite get his leg over\". Getting one\\'s leg over ist eine vulgäre Umschreibung in England für Sex.\\n\\n\\n=== Cricket in der Literatur ===\\nDie Schlüsselszene des Kriminalromans Murder Must Advertise („Mord braucht Reklame“) von Dorothy L. Sayers besteht aus der detaillierten Beschreibung eines Cricketspiels, bei dem sowohl der Mörder als auch der verdeckt ermittelnde Detektiv durch ihre Spieltechnik erkannt werden.\\nIn Douglas Adams’ Roman Life, the Universe and Everything aus der Per Anhalter durch die Galaxis-Reihe wird die Bedeutung des Spieles für dessen Anhänger durch eine galaktische Auseinandersetzung persifliert, die durch typische Merkmale des Cricket gekennzeichnet ist. Einer der Handlungsorte ist der Planet Krikkit.\\nIn dem in New York spielenden Roman Niederland von Joseph O’Neill ist die Leidenschaft des Protagonisten und seines west-indischen Bekannten für Cricket ein zentrales Thema.\\nIm Kriminalroman Asche zu Asche (engl. Playing for the ashes) von Elizabeth George dreht sich die Handlung um einen Cricketspieler, der in einem Landhaus in Kent ermordet wird.\\nDas bekannteste Buch von C. L. R. James, Beyond a boundary von 1963, rankt persönliche Erinnerungen und Kommentare um eine Studie über Cricket.\\nIn dem in London spielenden Roman Fünf Tage, Ein Spiel von Jennie Walker ist eine Cricket-Übertragung im Fernsehen der Zeitrahmen der Erzählung.\\nIn seinem Drama Das einzig Wahre vergleicht Tom Stoppard bzw. seine Hauptfigur Henry ein Theaterstück mit einem Cricketschläger: So wie der Schläger mit einem kleinen Schlag einem Ball zum großen Flug verhilft, so tut es das Theaterstück mit einer Idee des Autors.\\nIn seiner Autobiographie Ich und ich bezeichnet Peter Ustinov – der in seiner Schulzeit unfreiwillig Cricket spielen musste – das Spiel als „Überbleibsel einer längst vergangenen Schlacht, mit einem viel zu harten Ball, erdacht von einem Offizier mit abwegigem Intellekt, nachdem er in einer Gefechtspause einige Grobiane dabei beobachtet hatte, wie sie sich gegenseitig mit Blindgängern bewarfen“.\\n\\n\\n=== Cricket im Film ===\\nIn dem erfolgreichen Bollywoodfilm Lagaan (2001) geht es um eine zynische Wette zwischen den britischen Kolonialherren und den Bewohnern eines durch Regenmangel völlig verarmten indischen Dorfes, die bei einem Sieg in dem ihnen unbekannten Spiel drei Jahre Pacht- und Steuererlass (Hindi Lagaan) erhalten, im Fall ihrer Niederlage aber auch die dreifache Steuer zahlen müssen, d. h., ihrem Ruin ins Auge sehen. Die Dörfler lassen sich auf das Spiel ein. Der Spielverlauf, der die letzten vierzig Minuten des dreieinhalbstündigen Films einnimmt, ist an Dramatik kaum zu übertreffen und stellt eine großartige Werbung für die in weiten Teilen der Welt kaum bekannte Sportart dar.\\nIn Folge 5 (Der letzte Mann) der 3. Staffel der Krimiserie Father Brown nimmt ein Cricketspiel breiten Raum ein. Der Gewinner des jährlichen Spiels zwischen einem Dorf und einem benachbarten Gut darf das Cricketfeld für das nächste Jahr nutzen – nach dem zehnten Sieg in Folge sogar für immer. Noch vor dem Spiel sterben der Kapitän und der beste Spieler. Daher muss schließlich sogar die Ehefrau des örtlichen Grundbesitzers als Batter antreten.\\nIn Folge 113 (Das Cricket-Fieber) bzw. 3 der 19. Staffel der Krimiserie Inspector Barnaby wird ein sehr guter Cricketspieler und Kapitän der Mannschaft durch die Ballmaschine getötet. Ein Motiv könnte sein, dass sich die Anhänger des traditionellen Crickets gegen eine neue, schnellere Variante (ähnlich dem Twenty20), die eingeführt werden soll, wehren. Auch ist viel (Wett-)Geld im Spiel, dem nicht alle Spieler widerstehen. Auch der nach dem Mord an seinem Vorgänger frisch eingesetzte neue Kapitän muss sein Leben lassen – so dass ein verdeckt ermittelnder Polizist schließlich Mannschaftskapitän wird und für den Sieg sorgt.\\nIn der britischen Kriminalkomödie Eine Dame verschwindet (1938) kommen zwei von Basil Radford und Naunton Wayne gespielte Cricket-Fans vor, die sich durch nichts von ihrem einzigen Interesse, nämlich Cricket, abbringen lassen.\\n\\n\\n== Weblinks ==\\n\\nLiteratur von und über Cricket im Katalog der Deutschen Nationalbibliothek\\nInternational Cricket Council (englisch)\\nDeutscher Cricket Bund\\nÖsterreichischer Cricket-Verband\\nSwiss Cricket Association (englisch)\\nOffizielle Cricket-Regeln (englisch)\\nCricinfo – Umfassende und aktuelle Infoseite (englisch)\\n\\n\\n== Einzelnachweise =='"
            ],
            "application/vnd.google.colaboratory.intrinsic+json": {
              "type": "string"
            }
          },
          "metadata": {},
          "execution_count": 41
        }
      ]
    },
    {
      "cell_type": "code",
      "source": [
        "unigram_eng1 = Counter(ngrams(eng1,1)) ##just to get count of each element. \n",
        "plothistogram(unigram_eng1)\n",
        "plt.title('English 1')\n",
        "plt.show()\n",
        "unigram_eng2 = Counter(ngrams(eng2,1))\n",
        "plothistogram(unigram_eng2)\n",
        "plt.title('English 2')\n",
        "plt.show()"
      ],
      "metadata": {
        "colab": {
          "base_uri": "https://localhost:8080/",
          "height": 545
        },
        "id": "e-FywIPjqiAB",
        "outputId": "49398d9e-3a48-4987-83f1-8db243b918cd"
      },
      "execution_count": 34,
      "outputs": [
        {
          "output_type": "display_data",
          "data": {
            "text/plain": [
              "<Figure size 432x288 with 1 Axes>"
            ],
            "image/png": "[encoded data removed]"
          },
          "metadata": {
            "needs_background": "light"
          }
        },
        {
          "output_type": "display_data",
          "data": {
            "text/plain": [
              "<Figure size 432x288 with 1 Axes>"
            ],
            "image/png": "[encoded data removed]"
          },
          "metadata": {
            "needs_background": "light"
          }
        }
      ]
    },
    {
      "cell_type": "code",
      "source": [
        "unigram_hin1 = Counter(ngrams(hin1,1))\n",
        "plothistogram(unigram_hin1)\n",
        "plt.title('Hindi 1')\n",
        "plt.show()\n",
        "unigram_hin2 = Counter(ngrams(hin2,1))\n",
        "plothistogram(unigram_hin2)\n",
        "plt.title('Hindi 2')\n",
        "plt.show()"
      ],
      "metadata": {
        "colab": {
          "base_uri": "https://localhost:8080/",
          "height": 1000
        },
        "id": "nVJ8TpP6qr84",
        "outputId": "59ccc1d3-5d7c-4575-de88-ce018f4a93f4"
      },
      "execution_count": 35,
      "outputs": [
        {
          "output_type": "stream",
          "name": "stderr",
          "text": [
            "/usr/local/lib/python3.7/dist-packages/matplotlib/backends/backend_agg.py:214: RuntimeWarning: Glyph 2305 missing from current font.\n",
            "  font.set_text(s, 0.0, flags=flags)\n",
            "/usr/local/lib/python3.7/dist-packages/matplotlib/backends/backend_agg.py:214: RuntimeWarning: Glyph 2306 missing from current font.\n",
            "  font.set_text(s, 0.0, flags=flags)\n",
            "/usr/local/lib/python3.7/dist-packages/matplotlib/backends/backend_agg.py:214: RuntimeWarning: Glyph 2307 missing from current font.\n",
            "  font.set_text(s, 0.0, flags=flags)\n",
            "/usr/local/lib/python3.7/dist-packages/matplotlib/backends/backend_agg.py:214: RuntimeWarning: Glyph 2309 missing from current font.\n",
            "  font.set_text(s, 0.0, flags=flags)\n",
            "/usr/local/lib/python3.7/dist-packages/matplotlib/backends/backend_agg.py:214: RuntimeWarning: Glyph 2310 missing from current font.\n",
            "  font.set_text(s, 0.0, flags=flags)\n",
            "/usr/local/lib/python3.7/dist-packages/matplotlib/backends/backend_agg.py:214: RuntimeWarning: Glyph 2311 missing from current font.\n",
            "  font.set_text(s, 0.0, flags=flags)\n",
            "/usr/local/lib/python3.7/dist-packages/matplotlib/backends/backend_agg.py:214: RuntimeWarning: Glyph 2312 missing from current font.\n",
            "  font.set_text(s, 0.0, flags=flags)\n",
            "/usr/local/lib/python3.7/dist-packages/matplotlib/backends/backend_agg.py:214: RuntimeWarning: Glyph 2313 missing from current font.\n",
            "  font.set_text(s, 0.0, flags=flags)\n",
            "/usr/local/lib/python3.7/dist-packages/matplotlib/backends/backend_agg.py:214: RuntimeWarning: Glyph 2314 missing from current font.\n",
            "  font.set_text(s, 0.0, flags=flags)\n",
            "/usr/local/lib/python3.7/dist-packages/matplotlib/backends/backend_agg.py:214: RuntimeWarning: Glyph 2319 missing from current font.\n",
            "  font.set_text(s, 0.0, flags=flags)\n",
            "/usr/local/lib/python3.7/dist-packages/matplotlib/backends/backend_agg.py:214: RuntimeWarning: Glyph 2320 missing from current font.\n",
            "  font.set_text(s, 0.0, flags=flags)\n",
            "/usr/local/lib/python3.7/dist-packages/matplotlib/backends/backend_agg.py:214: RuntimeWarning: Glyph 2321 missing from current font.\n",
            "  font.set_text(s, 0.0, flags=flags)\n",
            "/usr/local/lib/python3.7/dist-packages/matplotlib/backends/backend_agg.py:214: RuntimeWarning: Glyph 2323 missing from current font.\n",
            "  font.set_text(s, 0.0, flags=flags)\n",
            "/usr/local/lib/python3.7/dist-packages/matplotlib/backends/backend_agg.py:214: RuntimeWarning: Glyph 2324 missing from current font.\n",
            "  font.set_text(s, 0.0, flags=flags)\n",
            "/usr/local/lib/python3.7/dist-packages/matplotlib/backends/backend_agg.py:214: RuntimeWarning: Glyph 2325 missing from current font.\n",
            "  font.set_text(s, 0.0, flags=flags)\n",
            "/usr/local/lib/python3.7/dist-packages/matplotlib/backends/backend_agg.py:214: RuntimeWarning: Glyph 2326 missing from current font.\n",
            "  font.set_text(s, 0.0, flags=flags)\n",
            "/usr/local/lib/python3.7/dist-packages/matplotlib/backends/backend_agg.py:214: RuntimeWarning: Glyph 2327 missing from current font.\n",
            "  font.set_text(s, 0.0, flags=flags)\n",
            "/usr/local/lib/python3.7/dist-packages/matplotlib/backends/backend_agg.py:214: RuntimeWarning: Glyph 2328 missing from current font.\n",
            "  font.set_text(s, 0.0, flags=flags)\n",
            "/usr/local/lib/python3.7/dist-packages/matplotlib/backends/backend_agg.py:214: RuntimeWarning: Glyph 2330 missing from current font.\n",
            "  font.set_text(s, 0.0, flags=flags)\n",
            "/usr/local/lib/python3.7/dist-packages/matplotlib/backends/backend_agg.py:214: RuntimeWarning: Glyph 2331 missing from current font.\n",
            "  font.set_text(s, 0.0, flags=flags)\n",
            "/usr/local/lib/python3.7/dist-packages/matplotlib/backends/backend_agg.py:214: RuntimeWarning: Glyph 2332 missing from current font.\n",
            "  font.set_text(s, 0.0, flags=flags)\n",
            "/usr/local/lib/python3.7/dist-packages/matplotlib/backends/backend_agg.py:214: RuntimeWarning: Glyph 2333 missing from current font.\n",
            "  font.set_text(s, 0.0, flags=flags)\n",
            "/usr/local/lib/python3.7/dist-packages/matplotlib/backends/backend_agg.py:214: RuntimeWarning: Glyph 2334 missing from current font.\n",
            "  font.set_text(s, 0.0, flags=flags)\n",
            "/usr/local/lib/python3.7/dist-packages/matplotlib/backends/backend_agg.py:214: RuntimeWarning: Glyph 2335 missing from current font.\n",
            "  font.set_text(s, 0.0, flags=flags)\n",
            "/usr/local/lib/python3.7/dist-packages/matplotlib/backends/backend_agg.py:214: RuntimeWarning: Glyph 2336 missing from current font.\n",
            "  font.set_text(s, 0.0, flags=flags)\n",
            "/usr/local/lib/python3.7/dist-packages/matplotlib/backends/backend_agg.py:214: RuntimeWarning: Glyph 2337 missing from current font.\n",
            "  font.set_text(s, 0.0, flags=flags)\n",
            "/usr/local/lib/python3.7/dist-packages/matplotlib/backends/backend_agg.py:214: RuntimeWarning: Glyph 2338 missing from current font.\n",
            "  font.set_text(s, 0.0, flags=flags)\n",
            "/usr/local/lib/python3.7/dist-packages/matplotlib/backends/backend_agg.py:214: RuntimeWarning: Glyph 2339 missing from current font.\n",
            "  font.set_text(s, 0.0, flags=flags)\n",
            "/usr/local/lib/python3.7/dist-packages/matplotlib/backends/backend_agg.py:214: RuntimeWarning: Glyph 2340 missing from current font.\n",
            "  font.set_text(s, 0.0, flags=flags)\n",
            "/usr/local/lib/python3.7/dist-packages/matplotlib/backends/backend_agg.py:214: RuntimeWarning: Glyph 2341 missing from current font.\n",
            "  font.set_text(s, 0.0, flags=flags)\n",
            "/usr/local/lib/python3.7/dist-packages/matplotlib/backends/backend_agg.py:214: RuntimeWarning: Glyph 2342 missing from current font.\n",
            "  font.set_text(s, 0.0, flags=flags)\n",
            "/usr/local/lib/python3.7/dist-packages/matplotlib/backends/backend_agg.py:214: RuntimeWarning: Glyph 2343 missing from current font.\n",
            "  font.set_text(s, 0.0, flags=flags)\n",
            "/usr/local/lib/python3.7/dist-packages/matplotlib/backends/backend_agg.py:214: RuntimeWarning: Glyph 2344 missing from current font.\n",
            "  font.set_text(s, 0.0, flags=flags)\n",
            "/usr/local/lib/python3.7/dist-packages/matplotlib/backends/backend_agg.py:214: RuntimeWarning: Glyph 2346 missing from current font.\n",
            "  font.set_text(s, 0.0, flags=flags)\n",
            "/usr/local/lib/python3.7/dist-packages/matplotlib/backends/backend_agg.py:214: RuntimeWarning: Glyph 2347 missing from current font.\n",
            "  font.set_text(s, 0.0, flags=flags)\n",
            "/usr/local/lib/python3.7/dist-packages/matplotlib/backends/backend_agg.py:214: RuntimeWarning: Glyph 2348 missing from current font.\n",
            "  font.set_text(s, 0.0, flags=flags)\n",
            "/usr/local/lib/python3.7/dist-packages/matplotlib/backends/backend_agg.py:214: RuntimeWarning: Glyph 2349 missing from current font.\n",
            "  font.set_text(s, 0.0, flags=flags)\n",
            "/usr/local/lib/python3.7/dist-packages/matplotlib/backends/backend_agg.py:214: RuntimeWarning: Glyph 2350 missing from current font.\n",
            "  font.set_text(s, 0.0, flags=flags)\n",
            "/usr/local/lib/python3.7/dist-packages/matplotlib/backends/backend_agg.py:214: RuntimeWarning: Glyph 2351 missing from current font.\n",
            "  font.set_text(s, 0.0, flags=flags)\n",
            "/usr/local/lib/python3.7/dist-packages/matplotlib/backends/backend_agg.py:214: RuntimeWarning: Glyph 2352 missing from current font.\n",
            "  font.set_text(s, 0.0, flags=flags)\n",
            "/usr/local/lib/python3.7/dist-packages/matplotlib/backends/backend_agg.py:214: RuntimeWarning: Glyph 2354 missing from current font.\n",
            "  font.set_text(s, 0.0, flags=flags)\n",
            "/usr/local/lib/python3.7/dist-packages/matplotlib/backends/backend_agg.py:214: RuntimeWarning: Glyph 2357 missing from current font.\n",
            "  font.set_text(s, 0.0, flags=flags)\n",
            "/usr/local/lib/python3.7/dist-packages/matplotlib/backends/backend_agg.py:214: RuntimeWarning: Glyph 2358 missing from current font.\n",
            "  font.set_text(s, 0.0, flags=flags)\n",
            "/usr/local/lib/python3.7/dist-packages/matplotlib/backends/backend_agg.py:214: RuntimeWarning: Glyph 2359 missing from current font.\n",
            "  font.set_text(s, 0.0, flags=flags)\n",
            "/usr/local/lib/python3.7/dist-packages/matplotlib/backends/backend_agg.py:214: RuntimeWarning: Glyph 2360 missing from current font.\n",
            "  font.set_text(s, 0.0, flags=flags)\n",
            "/usr/local/lib/python3.7/dist-packages/matplotlib/backends/backend_agg.py:214: RuntimeWarning: Glyph 2361 missing from current font.\n",
            "  font.set_text(s, 0.0, flags=flags)\n",
            "/usr/local/lib/python3.7/dist-packages/matplotlib/backends/backend_agg.py:214: RuntimeWarning: Glyph 2364 missing from current font.\n",
            "  font.set_text(s, 0.0, flags=flags)\n",
            "/usr/local/lib/python3.7/dist-packages/matplotlib/backends/backend_agg.py:214: RuntimeWarning: Glyph 2366 missing from current font.\n",
            "  font.set_text(s, 0.0, flags=flags)\n",
            "/usr/local/lib/python3.7/dist-packages/matplotlib/backends/backend_agg.py:214: RuntimeWarning: Glyph 2367 missing from current font.\n",
            "  font.set_text(s, 0.0, flags=flags)\n",
            "/usr/local/lib/python3.7/dist-packages/matplotlib/backends/backend_agg.py:214: RuntimeWarning: Glyph 2368 missing from current font.\n",
            "  font.set_text(s, 0.0, flags=flags)\n",
            "/usr/local/lib/python3.7/dist-packages/matplotlib/backends/backend_agg.py:214: RuntimeWarning: Glyph 2369 missing from current font.\n",
            "  font.set_text(s, 0.0, flags=flags)\n",
            "/usr/local/lib/python3.7/dist-packages/matplotlib/backends/backend_agg.py:214: RuntimeWarning: Glyph 2370 missing from current font.\n",
            "  font.set_text(s, 0.0, flags=flags)\n",
            "/usr/local/lib/python3.7/dist-packages/matplotlib/backends/backend_agg.py:214: RuntimeWarning: Glyph 2371 missing from current font.\n",
            "  font.set_text(s, 0.0, flags=flags)\n",
            "/usr/local/lib/python3.7/dist-packages/matplotlib/backends/backend_agg.py:214: RuntimeWarning: Glyph 2375 missing from current font.\n",
            "  font.set_text(s, 0.0, flags=flags)\n",
            "/usr/local/lib/python3.7/dist-packages/matplotlib/backends/backend_agg.py:214: RuntimeWarning: Glyph 2376 missing from current font.\n",
            "  font.set_text(s, 0.0, flags=flags)\n",
            "/usr/local/lib/python3.7/dist-packages/matplotlib/backends/backend_agg.py:214: RuntimeWarning: Glyph 2377 missing from current font.\n",
            "  font.set_text(s, 0.0, flags=flags)\n",
            "/usr/local/lib/python3.7/dist-packages/matplotlib/backends/backend_agg.py:214: RuntimeWarning: Glyph 2379 missing from current font.\n",
            "  font.set_text(s, 0.0, flags=flags)\n",
            "/usr/local/lib/python3.7/dist-packages/matplotlib/backends/backend_agg.py:214: RuntimeWarning: Glyph 2380 missing from current font.\n",
            "  font.set_text(s, 0.0, flags=flags)\n",
            "/usr/local/lib/python3.7/dist-packages/matplotlib/backends/backend_agg.py:214: RuntimeWarning: Glyph 2381 missing from current font.\n",
            "  font.set_text(s, 0.0, flags=flags)\n",
            "/usr/local/lib/python3.7/dist-packages/matplotlib/backends/backend_agg.py:214: RuntimeWarning: Glyph 2404 missing from current font.\n",
            "  font.set_text(s, 0.0, flags=flags)\n",
            "/usr/local/lib/python3.7/dist-packages/matplotlib/backends/backend_agg.py:214: RuntimeWarning: Glyph 2406 missing from current font.\n",
            "  font.set_text(s, 0.0, flags=flags)\n",
            "/usr/local/lib/python3.7/dist-packages/matplotlib/backends/backend_agg.py:214: RuntimeWarning: Glyph 2407 missing from current font.\n",
            "  font.set_text(s, 0.0, flags=flags)\n",
            "/usr/local/lib/python3.7/dist-packages/matplotlib/backends/backend_agg.py:214: RuntimeWarning: Glyph 2408 missing from current font.\n",
            "  font.set_text(s, 0.0, flags=flags)\n",
            "/usr/local/lib/python3.7/dist-packages/matplotlib/backends/backend_agg.py:214: RuntimeWarning: Glyph 2409 missing from current font.\n",
            "  font.set_text(s, 0.0, flags=flags)\n",
            "/usr/local/lib/python3.7/dist-packages/matplotlib/backends/backend_agg.py:214: RuntimeWarning: Glyph 2410 missing from current font.\n",
            "  font.set_text(s, 0.0, flags=flags)\n",
            "/usr/local/lib/python3.7/dist-packages/matplotlib/backends/backend_agg.py:214: RuntimeWarning: Glyph 2411 missing from current font.\n",
            "  font.set_text(s, 0.0, flags=flags)\n",
            "/usr/local/lib/python3.7/dist-packages/matplotlib/backends/backend_agg.py:214: RuntimeWarning: Glyph 2412 missing from current font.\n",
            "  font.set_text(s, 0.0, flags=flags)\n",
            "/usr/local/lib/python3.7/dist-packages/matplotlib/backends/backend_agg.py:214: RuntimeWarning: Glyph 2413 missing from current font.\n",
            "  font.set_text(s, 0.0, flags=flags)\n",
            "/usr/local/lib/python3.7/dist-packages/matplotlib/backends/backend_agg.py:214: RuntimeWarning: Glyph 2414 missing from current font.\n",
            "  font.set_text(s, 0.0, flags=flags)\n",
            "/usr/local/lib/python3.7/dist-packages/matplotlib/backends/backend_agg.py:214: RuntimeWarning: Glyph 2415 missing from current font.\n",
            "  font.set_text(s, 0.0, flags=flags)\n",
            "/usr/local/lib/python3.7/dist-packages/matplotlib/backends/backend_agg.py:214: RuntimeWarning: Glyph 2416 missing from current font.\n",
            "  font.set_text(s, 0.0, flags=flags)\n",
            "/usr/local/lib/python3.7/dist-packages/matplotlib/backends/backend_agg.py:183: RuntimeWarning: Glyph 2305 missing from current font.\n",
            "  font.set_text(s, 0, flags=flags)\n",
            "/usr/local/lib/python3.7/dist-packages/matplotlib/backends/backend_agg.py:183: RuntimeWarning: Glyph 2306 missing from current font.\n",
            "  font.set_text(s, 0, flags=flags)\n",
            "/usr/local/lib/python3.7/dist-packages/matplotlib/backends/backend_agg.py:183: RuntimeWarning: Glyph 2307 missing from current font.\n",
            "  font.set_text(s, 0, flags=flags)\n",
            "/usr/local/lib/python3.7/dist-packages/matplotlib/backends/backend_agg.py:183: RuntimeWarning: Glyph 2309 missing from current font.\n",
            "  font.set_text(s, 0, flags=flags)\n",
            "/usr/local/lib/python3.7/dist-packages/matplotlib/backends/backend_agg.py:183: RuntimeWarning: Glyph 2310 missing from current font.\n",
            "  font.set_text(s, 0, flags=flags)\n",
            "/usr/local/lib/python3.7/dist-packages/matplotlib/backends/backend_agg.py:183: RuntimeWarning: Glyph 2311 missing from current font.\n",
            "  font.set_text(s, 0, flags=flags)\n",
            "/usr/local/lib/python3.7/dist-packages/matplotlib/backends/backend_agg.py:183: RuntimeWarning: Glyph 2312 missing from current font.\n",
            "  font.set_text(s, 0, flags=flags)\n",
            "/usr/local/lib/python3.7/dist-packages/matplotlib/backends/backend_agg.py:183: RuntimeWarning: Glyph 2313 missing from current font.\n",
            "  font.set_text(s, 0, flags=flags)\n",
            "/usr/local/lib/python3.7/dist-packages/matplotlib/backends/backend_agg.py:183: RuntimeWarning: Glyph 2314 missing from current font.\n",
            "  font.set_text(s, 0, flags=flags)\n",
            "/usr/local/lib/python3.7/dist-packages/matplotlib/backends/backend_agg.py:183: RuntimeWarning: Glyph 2319 missing from current font.\n",
            "  font.set_text(s, 0, flags=flags)\n",
            "/usr/local/lib/python3.7/dist-packages/matplotlib/backends/backend_agg.py:183: RuntimeWarning: Glyph 2320 missing from current font.\n",
            "  font.set_text(s, 0, flags=flags)\n",
            "/usr/local/lib/python3.7/dist-packages/matplotlib/backends/backend_agg.py:183: RuntimeWarning: Glyph 2321 missing from current font.\n",
            "  font.set_text(s, 0, flags=flags)\n",
            "/usr/local/lib/python3.7/dist-packages/matplotlib/backends/backend_agg.py:183: RuntimeWarning: Glyph 2323 missing from current font.\n",
            "  font.set_text(s, 0, flags=flags)\n",
            "/usr/local/lib/python3.7/dist-packages/matplotlib/backends/backend_agg.py:183: RuntimeWarning: Glyph 2324 missing from current font.\n",
            "  font.set_text(s, 0, flags=flags)\n",
            "/usr/local/lib/python3.7/dist-packages/matplotlib/backends/backend_agg.py:183: RuntimeWarning: Glyph 2325 missing from current font.\n",
            "  font.set_text(s, 0, flags=flags)\n",
            "/usr/local/lib/python3.7/dist-packages/matplotlib/backends/backend_agg.py:183: RuntimeWarning: Glyph 2326 missing from current font.\n",
            "  font.set_text(s, 0, flags=flags)\n",
            "/usr/local/lib/python3.7/dist-packages/matplotlib/backends/backend_agg.py:183: RuntimeWarning: Glyph 2327 missing from current font.\n",
            "  font.set_text(s, 0, flags=flags)\n",
            "/usr/local/lib/python3.7/dist-packages/matplotlib/backends/backend_agg.py:183: RuntimeWarning: Glyph 2328 missing from current font.\n",
            "  font.set_text(s, 0, flags=flags)\n",
            "/usr/local/lib/python3.7/dist-packages/matplotlib/backends/backend_agg.py:183: RuntimeWarning: Glyph 2330 missing from current font.\n",
            "  font.set_text(s, 0, flags=flags)\n",
            "/usr/local/lib/python3.7/dist-packages/matplotlib/backends/backend_agg.py:183: RuntimeWarning: Glyph 2331 missing from current font.\n",
            "  font.set_text(s, 0, flags=flags)\n",
            "/usr/local/lib/python3.7/dist-packages/matplotlib/backends/backend_agg.py:183: RuntimeWarning: Glyph 2332 missing from current font.\n",
            "  font.set_text(s, 0, flags=flags)\n",
            "/usr/local/lib/python3.7/dist-packages/matplotlib/backends/backend_agg.py:183: RuntimeWarning: Glyph 2333 missing from current font.\n",
            "  font.set_text(s, 0, flags=flags)\n",
            "/usr/local/lib/python3.7/dist-packages/matplotlib/backends/backend_agg.py:183: RuntimeWarning: Glyph 2334 missing from current font.\n",
            "  font.set_text(s, 0, flags=flags)\n",
            "/usr/local/lib/python3.7/dist-packages/matplotlib/backends/backend_agg.py:183: RuntimeWarning: Glyph 2335 missing from current font.\n",
            "  font.set_text(s, 0, flags=flags)\n",
            "/usr/local/lib/python3.7/dist-packages/matplotlib/backends/backend_agg.py:183: RuntimeWarning: Glyph 2336 missing from current font.\n",
            "  font.set_text(s, 0, flags=flags)\n",
            "/usr/local/lib/python3.7/dist-packages/matplotlib/backends/backend_agg.py:183: RuntimeWarning: Glyph 2337 missing from current font.\n",
            "  font.set_text(s, 0, flags=flags)\n",
            "/usr/local/lib/python3.7/dist-packages/matplotlib/backends/backend_agg.py:183: RuntimeWarning: Glyph 2338 missing from current font.\n",
            "  font.set_text(s, 0, flags=flags)\n",
            "/usr/local/lib/python3.7/dist-packages/matplotlib/backends/backend_agg.py:183: RuntimeWarning: Glyph 2339 missing from current font.\n",
            "  font.set_text(s, 0, flags=flags)\n",
            "/usr/local/lib/python3.7/dist-packages/matplotlib/backends/backend_agg.py:183: RuntimeWarning: Glyph 2340 missing from current font.\n",
            "  font.set_text(s, 0, flags=flags)\n",
            "/usr/local/lib/python3.7/dist-packages/matplotlib/backends/backend_agg.py:183: RuntimeWarning: Glyph 2341 missing from current font.\n",
            "  font.set_text(s, 0, flags=flags)\n",
            "/usr/local/lib/python3.7/dist-packages/matplotlib/backends/backend_agg.py:183: RuntimeWarning: Glyph 2342 missing from current font.\n",
            "  font.set_text(s, 0, flags=flags)\n",
            "/usr/local/lib/python3.7/dist-packages/matplotlib/backends/backend_agg.py:183: RuntimeWarning: Glyph 2343 missing from current font.\n",
            "  font.set_text(s, 0, flags=flags)\n",
            "/usr/local/lib/python3.7/dist-packages/matplotlib/backends/backend_agg.py:183: RuntimeWarning: Glyph 2344 missing from current font.\n",
            "  font.set_text(s, 0, flags=flags)\n",
            "/usr/local/lib/python3.7/dist-packages/matplotlib/backends/backend_agg.py:183: RuntimeWarning: Glyph 2346 missing from current font.\n",
            "  font.set_text(s, 0, flags=flags)\n",
            "/usr/local/lib/python3.7/dist-packages/matplotlib/backends/backend_agg.py:183: RuntimeWarning: Glyph 2347 missing from current font.\n",
            "  font.set_text(s, 0, flags=flags)\n",
            "/usr/local/lib/python3.7/dist-packages/matplotlib/backends/backend_agg.py:183: RuntimeWarning: Glyph 2348 missing from current font.\n",
            "  font.set_text(s, 0, flags=flags)\n",
            "/usr/local/lib/python3.7/dist-packages/matplotlib/backends/backend_agg.py:183: RuntimeWarning: Glyph 2349 missing from current font.\n",
            "  font.set_text(s, 0, flags=flags)\n",
            "/usr/local/lib/python3.7/dist-packages/matplotlib/backends/backend_agg.py:183: RuntimeWarning: Glyph 2350 missing from current font.\n",
            "  font.set_text(s, 0, flags=flags)\n",
            "/usr/local/lib/python3.7/dist-packages/matplotlib/backends/backend_agg.py:183: RuntimeWarning: Glyph 2351 missing from current font.\n",
            "  font.set_text(s, 0, flags=flags)\n",
            "/usr/local/lib/python3.7/dist-packages/matplotlib/backends/backend_agg.py:183: RuntimeWarning: Glyph 2352 missing from current font.\n",
            "  font.set_text(s, 0, flags=flags)\n",
            "/usr/local/lib/python3.7/dist-packages/matplotlib/backends/backend_agg.py:183: RuntimeWarning: Glyph 2354 missing from current font.\n",
            "  font.set_text(s, 0, flags=flags)\n",
            "/usr/local/lib/python3.7/dist-packages/matplotlib/backends/backend_agg.py:183: RuntimeWarning: Glyph 2357 missing from current font.\n",
            "  font.set_text(s, 0, flags=flags)\n",
            "/usr/local/lib/python3.7/dist-packages/matplotlib/backends/backend_agg.py:183: RuntimeWarning: Glyph 2358 missing from current font.\n",
            "  font.set_text(s, 0, flags=flags)\n",
            "/usr/local/lib/python3.7/dist-packages/matplotlib/backends/backend_agg.py:183: RuntimeWarning: Glyph 2359 missing from current font.\n",
            "  font.set_text(s, 0, flags=flags)\n",
            "/usr/local/lib/python3.7/dist-packages/matplotlib/backends/backend_agg.py:183: RuntimeWarning: Glyph 2360 missing from current font.\n",
            "  font.set_text(s, 0, flags=flags)\n",
            "/usr/local/lib/python3.7/dist-packages/matplotlib/backends/backend_agg.py:183: RuntimeWarning: Glyph 2361 missing from current font.\n",
            "  font.set_text(s, 0, flags=flags)\n",
            "/usr/local/lib/python3.7/dist-packages/matplotlib/backends/backend_agg.py:183: RuntimeWarning: Glyph 2364 missing from current font.\n",
            "  font.set_text(s, 0, flags=flags)\n",
            "/usr/local/lib/python3.7/dist-packages/matplotlib/backends/backend_agg.py:183: RuntimeWarning: Glyph 2366 missing from current font.\n",
            "  font.set_text(s, 0, flags=flags)\n",
            "/usr/local/lib/python3.7/dist-packages/matplotlib/backends/backend_agg.py:183: RuntimeWarning: Glyph 2367 missing from current font.\n",
            "  font.set_text(s, 0, flags=flags)\n",
            "/usr/local/lib/python3.7/dist-packages/matplotlib/backends/backend_agg.py:183: RuntimeWarning: Glyph 2368 missing from current font.\n",
            "  font.set_text(s, 0, flags=flags)\n",
            "/usr/local/lib/python3.7/dist-packages/matplotlib/backends/backend_agg.py:183: RuntimeWarning: Glyph 2369 missing from current font.\n",
            "  font.set_text(s, 0, flags=flags)\n",
            "/usr/local/lib/python3.7/dist-packages/matplotlib/backends/backend_agg.py:183: RuntimeWarning: Glyph 2370 missing from current font.\n",
            "  font.set_text(s, 0, flags=flags)\n",
            "/usr/local/lib/python3.7/dist-packages/matplotlib/backends/backend_agg.py:183: RuntimeWarning: Glyph 2371 missing from current font.\n",
            "  font.set_text(s, 0, flags=flags)\n",
            "/usr/local/lib/python3.7/dist-packages/matplotlib/backends/backend_agg.py:183: RuntimeWarning: Glyph 2375 missing from current font.\n",
            "  font.set_text(s, 0, flags=flags)\n",
            "/usr/local/lib/python3.7/dist-packages/matplotlib/backends/backend_agg.py:183: RuntimeWarning: Glyph 2376 missing from current font.\n",
            "  font.set_text(s, 0, flags=flags)\n",
            "/usr/local/lib/python3.7/dist-packages/matplotlib/backends/backend_agg.py:183: RuntimeWarning: Glyph 2377 missing from current font.\n",
            "  font.set_text(s, 0, flags=flags)\n",
            "/usr/local/lib/python3.7/dist-packages/matplotlib/backends/backend_agg.py:183: RuntimeWarning: Glyph 2379 missing from current font.\n",
            "  font.set_text(s, 0, flags=flags)\n",
            "/usr/local/lib/python3.7/dist-packages/matplotlib/backends/backend_agg.py:183: RuntimeWarning: Glyph 2380 missing from current font.\n",
            "  font.set_text(s, 0, flags=flags)\n",
            "/usr/local/lib/python3.7/dist-packages/matplotlib/backends/backend_agg.py:183: RuntimeWarning: Glyph 2381 missing from current font.\n",
            "  font.set_text(s, 0, flags=flags)\n",
            "/usr/local/lib/python3.7/dist-packages/matplotlib/backends/backend_agg.py:183: RuntimeWarning: Glyph 2404 missing from current font.\n",
            "  font.set_text(s, 0, flags=flags)\n",
            "/usr/local/lib/python3.7/dist-packages/matplotlib/backends/backend_agg.py:183: RuntimeWarning: Glyph 2406 missing from current font.\n",
            "  font.set_text(s, 0, flags=flags)\n",
            "/usr/local/lib/python3.7/dist-packages/matplotlib/backends/backend_agg.py:183: RuntimeWarning: Glyph 2407 missing from current font.\n",
            "  font.set_text(s, 0, flags=flags)\n",
            "/usr/local/lib/python3.7/dist-packages/matplotlib/backends/backend_agg.py:183: RuntimeWarning: Glyph 2408 missing from current font.\n",
            "  font.set_text(s, 0, flags=flags)\n",
            "/usr/local/lib/python3.7/dist-packages/matplotlib/backends/backend_agg.py:183: RuntimeWarning: Glyph 2409 missing from current font.\n",
            "  font.set_text(s, 0, flags=flags)\n",
            "/usr/local/lib/python3.7/dist-packages/matplotlib/backends/backend_agg.py:183: RuntimeWarning: Glyph 2410 missing from current font.\n",
            "  font.set_text(s, 0, flags=flags)\n",
            "/usr/local/lib/python3.7/dist-packages/matplotlib/backends/backend_agg.py:183: RuntimeWarning: Glyph 2411 missing from current font.\n",
            "  font.set_text(s, 0, flags=flags)\n",
            "/usr/local/lib/python3.7/dist-packages/matplotlib/backends/backend_agg.py:183: RuntimeWarning: Glyph 2412 missing from current font.\n",
            "  font.set_text(s, 0, flags=flags)\n",
            "/usr/local/lib/python3.7/dist-packages/matplotlib/backends/backend_agg.py:183: RuntimeWarning: Glyph 2413 missing from current font.\n",
            "  font.set_text(s, 0, flags=flags)\n",
            "/usr/local/lib/python3.7/dist-packages/matplotlib/backends/backend_agg.py:183: RuntimeWarning: Glyph 2414 missing from current font.\n",
            "  font.set_text(s, 0, flags=flags)\n",
            "/usr/local/lib/python3.7/dist-packages/matplotlib/backends/backend_agg.py:183: RuntimeWarning: Glyph 2415 missing from current font.\n",
            "  font.set_text(s, 0, flags=flags)\n",
            "/usr/local/lib/python3.7/dist-packages/matplotlib/backends/backend_agg.py:183: RuntimeWarning: Glyph 2416 missing from current font.\n",
            "  font.set_text(s, 0, flags=flags)\n"
          ]
        },
        {
          "output_type": "display_data",
          "data": {
            "text/plain": [
              "<Figure size 432x288 with 1 Axes>"
            ],
            "image/png": "[encoded data removed]"
          },
          "metadata": {
            "needs_background": "light"
          }
        },
        {
          "output_type": "stream",
          "name": "stderr",
          "text": [
            "/usr/local/lib/python3.7/dist-packages/matplotlib/backends/backend_agg.py:214: RuntimeWarning: Glyph 2317 missing from current font.\n",
            "  font.set_text(s, 0.0, flags=flags)\n",
            "/usr/local/lib/python3.7/dist-packages/matplotlib/backends/backend_agg.py:214: RuntimeWarning: Glyph 2373 missing from current font.\n",
            "  font.set_text(s, 0.0, flags=flags)\n",
            "/usr/local/lib/python3.7/dist-packages/matplotlib/backends/backend_agg.py:214: RuntimeWarning: Glyph 128314 missing from current font.\n",
            "  font.set_text(s, 0.0, flags=flags)\n",
            "/usr/local/lib/python3.7/dist-packages/matplotlib/backends/backend_agg.py:183: RuntimeWarning: Glyph 2317 missing from current font.\n",
            "  font.set_text(s, 0, flags=flags)\n",
            "/usr/local/lib/python3.7/dist-packages/matplotlib/backends/backend_agg.py:183: RuntimeWarning: Glyph 2373 missing from current font.\n",
            "  font.set_text(s, 0, flags=flags)\n",
            "/usr/local/lib/python3.7/dist-packages/matplotlib/backends/backend_agg.py:183: RuntimeWarning: Glyph 128314 missing from current font.\n",
            "  font.set_text(s, 0, flags=flags)\n"
          ]
        },
        {
          "output_type": "display_data",
          "data": {
            "text/plain": [
              "<Figure size 432x288 with 1 Axes>"
            ],
            "image/png": "[encoded data removed]"
          },
          "metadata": {
            "needs_background": "light"
          }
        }
      ]
    },
    {
      "cell_type": "code",
      "source": [
        "unigram_ger1 = Counter(ngrams(ger1,1))\n",
        "plothistogram(unigram_ger1)\n",
        "plt.title('German 1')\n",
        "plt.show()\n",
        "unigram_ger2 = Counter(ngrams(ger2,1))\n",
        "plothistogram(unigram_ger2)\n",
        "plt.title('German 2')\n",
        "plt.show()"
      ],
      "metadata": {
        "colab": {
          "base_uri": "https://localhost:8080/",
          "height": 545
        },
        "id": "O_DSwHq7rztH",
        "outputId": "049c502d-1ddc-45cc-db63-c93bd28c56e5"
      },
      "execution_count": 42,
      "outputs": [
        {
          "output_type": "display_data",
          "data": {
            "text/plain": [
              "<Figure size 432x288 with 1 Axes>"
            ],
            "image/png": "[encoded data removed]"
          },
          "metadata": {
            "needs_background": "light"
          }
        },
        {
          "output_type": "display_data",
          "data": {
            "text/plain": [
              "<Figure size 432x288 with 1 Axes>"
            ],
            "image/png": "[encoded data removed]"
          },
          "metadata": {
            "needs_background": "light"
          }
        }
      ]
    },
    {
      "cell_type": "code",
      "source": [
        "bigram_eng1 = Counter(ngrams(eng1,2)) # bigrams\n",
        "plothistogram(bigram_eng1)\n",
        "plt.title('English 1')\n",
        "plt.show()\n",
        "\n",
        "bigram_eng2 = Counter(ngrams(eng2,2))\n",
        "plothistogram(bigram_eng2)\n",
        "plt.title('English 2')\n",
        "plt.show()\n",
        "\n",
        "bigram_ger1 = Counter(ngrams(ger1,2))\n",
        "plothistogram(bigram_ger1)\n",
        "plt.title('German 1')\n",
        "plt.show()\n",
        "\n",
        "bigram_ger2 = Counter(ngrams(ger2,2))\n",
        "plothistogram(bigram_ger2)\n",
        "plt.title('German 2')\n",
        "plt.show()"
      ],
      "metadata": {
        "colab": {
          "base_uri": "https://localhost:8080/",
          "height": 1000
        },
        "id": "84HzC1Bes10I",
        "outputId": "5d86faed-d084-4a81-c0d9-b76e288fd83d"
      },
      "execution_count": 43,
      "outputs": [
        {
          "output_type": "display_data",
          "data": {
            "text/plain": [
              "<Figure size 432x288 with 1 Axes>"
            ],
            "image/png": "[encoded data removed]"
          },
          "metadata": {
            "needs_background": "light"
          }
        },
        {
          "output_type": "display_data",
          "data": {
            "text/plain": [
              "<Figure size 432x288 with 1 Axes>"
            ],
            "image/png": "[encoded data removed]"
          },
          "metadata": {
            "needs_background": "light"
          }
        },
        {
          "output_type": "display_data",
          "data": {
            "text/plain": [
              "<Figure size 432x288 with 1 Axes>"
            ],
            "image/png": "[encoded data removed]"
          },
          "metadata": {
            "needs_background": "light"
          }
        },
        {
          "output_type": "display_data",
          "data": {
            "text/plain": [
              "<Figure size 432x288 with 1 Axes>"
            ],
            "image/png": "[encoded data removed]"
          },
          "metadata": {
            "needs_background": "light"
          }
        }
      ]
    },
    {
      "cell_type": "code",
      "source": [
        "bieng1 = plotbihistogram(bigram_eng1)\n",
        "plt.show()\n",
        "bieng2 = plotbihistogram(bigram_eng2)"
      ],
      "metadata": {
        "colab": {
          "base_uri": "https://localhost:8080/",
          "height": 513
        },
        "id": "-JtgbcFstO5u",
        "outputId": "79c4a202-fac7-4683-8774-e17a8544ff33"
      },
      "execution_count": 44,
      "outputs": [
        {
          "output_type": "display_data",
          "data": {
            "text/plain": [
              "<Figure size 432x288 with 2 Axes>"
            ],
            "image/png": "[encoded data removed]"
          },
          "metadata": {
            "needs_background": "light"
          }
        },
        {
          "output_type": "display_data",
          "data": {
            "text/plain": [
              "<Figure size 432x288 with 2 Axes>"
            ],
            "image/png": "[encoded data removed]"
          },
          "metadata": {
            "needs_background": "light"
          }
        }
      ]
    },
    {
      "cell_type": "code",
      "source": [
        "biger1 = plotbihistogram(bigram_ger1)\n",
        "plt.show()\n",
        "biger2 = plotbihistogram(bigram_ger2)"
      ],
      "metadata": {
        "colab": {
          "base_uri": "https://localhost:8080/",
          "height": 513
        },
        "id": "fFNwScl7tZ7F",
        "outputId": "9c38f339-76c3-4c4a-c5d1-0032c6707055"
      },
      "execution_count": 45,
      "outputs": [
        {
          "output_type": "display_data",
          "data": {
            "text/plain": [
              "<Figure size 432x288 with 2 Axes>"
            ],
            "image/png": "[encoded data removed]"
          },
          "metadata": {
            "needs_background": "light"
          }
        },
        {
          "output_type": "display_data",
          "data": {
            "text/plain": [
              "<Figure size 432x288 with 2 Axes>"
            ],
            "image/png": "[encoded data removed]"
          },
          "metadata": {
            "needs_background": "light"
          }
        }
      ]
    },
    {
      "cell_type": "markdown",
      "source": [
        "## Features of Images. \n",
        "### Images in digital format are stored as numeric values, and hence we can use these values as features. for ex : a black and white (binary) image is stored as an array of 0  and 255 or 0 and 1."
      ],
      "metadata": {
        "id": "CpA1eKZiDjTm"
      }
    },
    {
      "cell_type": "markdown",
      "metadata": {
        "id": "2ZJfjIHk-oHV"
      },
      "source": [
        "# Part 2: Written numbers\n",
        "\n",
        "We will use a subset of the MNIST dataset. Each input character is represented in a 28*28 array. Let us see if we can extract some simple features from these images which can help us distinguish between the digits.\n",
        "\n",
        "Load the dataset:"
      ]
    },
    {
      "cell_type": "code",
      "metadata": {
        "id": "yNsLJSr6wGY0",
        "colab": {
          "base_uri": "https://localhost:8080/"
        },
        "outputId": "c0b01274-ef70-4ef6-c360-954734073e97"
      },
      "source": [
        "from keras.datasets import mnist\n",
        " \n",
        "#loading the dataset\n",
        "(train_X, train_y), (test_X, test_y) = mnist.load_data()\n",
        "\n"
      ],
      "execution_count": 46,
      "outputs": [
        {
          "output_type": "stream",
          "name": "stdout",
          "text": [
            "Downloading data from https://storage.googleapis.com/tensorflow/tf-keras-datasets/mnist.npz\n",
            "11493376/11490434 [==============================] - 0s 0us/step\n",
            "11501568/11490434 [==============================] - 0s 0us/step\n"
          ]
        }
      ]
    },
    {
      "cell_type": "markdown",
      "metadata": {
        "id": "jVNr144WAUZO"
      },
      "source": [
        "Extract a subset of the data for our experiment:"
      ]
    },
    {
      "cell_type": "code",
      "metadata": {
        "id": "P3MN8ddxAASZ"
      },
      "source": [
        "no1 = train_X[train_y==1,:,:] ## dataset corresponding to number = 1.\n",
        "no0 = train_X[train_y==0,:,:] ## dataset corresponding to number = 0."
      ],
      "execution_count": 47,
      "outputs": []
    },
    {
      "cell_type": "markdown",
      "metadata": {
        "id": "ePXCs0qyCLpc"
      },
      "source": [
        "Let us visualize a few images here:"
      ]
    },
    {
      "cell_type": "code",
      "metadata": {
        "id": "BQeyZSh-Arpc",
        "colab": {
          "base_uri": "https://localhost:8080/",
          "height": 201
        },
        "outputId": "33dd6a3f-5b95-42b4-a1f7-27d9b7662abf"
      },
      "source": [
        "for ii in range(5):\n",
        "  plt.subplot(1, 5, ii+1)\n",
        "  plt.imshow(no1[ii,:,:])\n",
        "plt.show()\n",
        "for ii in range(5):\n",
        "  plt.subplot(1, 5, ii+1)\n",
        "  plt.imshow(no0[ii,:,:])\n",
        "plt.show()"
      ],
      "execution_count": 48,
      "outputs": [
        {
          "output_type": "display_data",
          "data": {
            "text/plain": [
              "<Figure size 432x288 with 5 Axes>"
            ],
            "image/png": "[encoded data removed]"
          },
          "metadata": {
            "needs_background": "light"
          }
        },
        {
          "output_type": "display_data",
          "data": {
            "text/plain": [
              "<Figure size 432x288 with 5 Axes>"
            ],
            "image/png": "[encoded data removed]"
          },
          "metadata": {
            "needs_background": "light"
          }
        }
      ]
    },
    {
      "cell_type": "code",
      "source": [
        "0o000000025500000000000000\n",
        "0o000000025500000000000000\n",
        "0o000000002550000000000000\n",
        "\n",
        "\n",
        "\n",
        "\n",
        "0o00000000255000000000000\n",
        "0o00025500000002550000000\n",
        "0o002550000000000255500000000\n",
        "0o002550000000000255500000000\n",
        "0o00025500000002550000000"
      ],
      "metadata": {
        "id": "saI94HkwdR5n",
        "colab": {
          "base_uri": "https://localhost:8080/"
        },
        "outputId": "783d44ce-b635-45bc-fbfe-e490f5680352"
      },
      "execution_count": 50,
      "outputs": [
        {
          "output_type": "execute_result",
          "data": {
            "text/plain": [
              "389561368130355200"
            ]
          },
          "metadata": {},
          "execution_count": 50
        }
      ]
    },
    {
      "cell_type": "code",
      "source": [
        "a = no1>0\n",
        "a.shape, no1.shape"
      ],
      "metadata": {
        "colab": {
          "base_uri": "https://localhost:8080/"
        },
        "id": "n2UFfFWhCYzT",
        "outputId": "dbbabf0e-1d45-4fd9-a225-7f314581b1b5"
      },
      "execution_count": 51,
      "outputs": [
        {
          "output_type": "execute_result",
          "data": {
            "text/plain": [
              "((6742, 28, 28), (6742, 28, 28))"
            ]
          },
          "metadata": {},
          "execution_count": 51
        }
      ]
    },
    {
      "cell_type": "code",
      "source": [
        "## to help you understand how the np.sum is working to find count of pixels that are not zero.\n",
        "\n",
        "mtx = np.arange(8).reshape(2,2,2)\n",
        "a = mtx>1\n",
        "a[0][0][0]\n",
        "type(a[0][0][0])\n"
      ],
      "metadata": {
        "colab": {
          "base_uri": "https://localhost:8080/"
        },
        "id": "LHjttKNkDK29",
        "outputId": "84d8c14a-7cb4-4eac-eba6-61b2bf5e9d83"
      },
      "execution_count": 52,
      "outputs": [
        {
          "output_type": "execute_result",
          "data": {
            "text/plain": [
              "numpy.bool_"
            ]
          },
          "metadata": {},
          "execution_count": 52
        }
      ]
    },
    {
      "cell_type": "markdown",
      "source": [
        "## We can even use value of each pixel as a feature. But let us see how to derive other features."
      ],
      "metadata": {
        "id": "2_1n_KXkE3zg"
      }
    },
    {
      "cell_type": "markdown",
      "metadata": {
        "id": "1g-Tg7EKDz96"
      },
      "source": [
        "Now, let us start with a simple feature: the sum of all pixels and see how good this feature is."
      ]
    },
    {
      "cell_type": "code",
      "metadata": {
        "id": "I8SztDk7CyZc"
      },
      "source": [
        "## sum of pixel values.\n",
        "\n",
        "sum1 = np.sum(no1>0, (1,2)) # threshold before adding up\n",
        "sum0 = np.sum(no0>0, (1,2))"
      ],
      "execution_count": 53,
      "outputs": []
    },
    {
      "cell_type": "markdown",
      "metadata": {
        "id": "8oW3XCOCE7Zv"
      },
      "source": [
        "Let us visualize how good this feature is: (X-axis is mean, y-axis is the digit)"
      ]
    },
    {
      "cell_type": "code",
      "source": [
        "sum1.shape"
      ],
      "metadata": {
        "colab": {
          "base_uri": "https://localhost:8080/"
        },
        "id": "LDz2vOp_GAZr",
        "outputId": "a30f6e07-9c97-41a6-82f4-7258e67b5f4a"
      },
      "execution_count": 54,
      "outputs": [
        {
          "output_type": "execute_result",
          "data": {
            "text/plain": [
              "(6742,)"
            ]
          },
          "metadata": {},
          "execution_count": 54
        }
      ]
    },
    {
      "cell_type": "code",
      "metadata": {
        "id": "i8PIe8o_DPpU",
        "colab": {
          "base_uri": "https://localhost:8080/",
          "height": 265
        },
        "outputId": "a8bc8b17-7ee5-493f-999c-2b1a54b173f2"
      },
      "source": [
        "plt.hist(sum1, alpha=0.7);\n",
        "plt.hist(sum0, alpha=0.7);\n",
        "\n"
      ],
      "execution_count": 55,
      "outputs": [
        {
          "output_type": "display_data",
          "data": {
            "text/plain": [
              "<Figure size 432x288 with 1 Axes>"
            ],
            "image/png": "[encoded data removed]"
          },
          "metadata": {
            "needs_background": "light"
          }
        }
      ]
    },
    {
      "cell_type": "markdown",
      "metadata": {
        "id": "7_hToEepFtl2"
      },
      "source": [
        "We can already see that this feature separates the two classes quite well.\n",
        "\n",
        "Let us look at another, more complicated feature. We will count the number black pixels that are surrounded on four sides by non-black pixels, or \"hole pixels\"."
      ]
    },
    {
      "cell_type": "code",
      "metadata": {
        "id": "HwEnlm6RFFej"
      },
      "source": [
        "def cumArray(img):\n",
        "  img2 = img.copy()\n",
        "  for ii in range(1, img2.shape[1]):\n",
        "    img2[ii,:] = img2[ii,:] + img2[ii-1,:]  # for every row, add up all the rows above it.\n",
        "  #print(img2)\n",
        "  img2 = img2>0\n",
        "  #print(img2)\n",
        "  return img2\n",
        "\n",
        "def getHolePixels(img):\n",
        "  im1 = cumArray(img)\n",
        "  im2 = np.rot90(cumArray(np.rot90(img)), 3) # rotate and cumulate it again for differnt direction\n",
        "  im3 = np.rot90(cumArray(np.rot90(img, 2)), 2)\n",
        "  im4 = np.rot90(cumArray(np.rot90(img, 3)), 1)\n",
        "  hull =  im1 & im2 & im3 & im4 # this will create a binary image with all the holes filled in.\n",
        "  hole = hull & ~ (img>0) # remove the original digit to leave behind the holes\n",
        "  return hole\n",
        "\n",
        "\n"
      ],
      "execution_count": 56,
      "outputs": []
    },
    {
      "cell_type": "markdown",
      "metadata": {
        "id": "iw3HjgnupUEI"
      },
      "source": [
        "Visualize a few:"
      ]
    },
    {
      "cell_type": "code",
      "metadata": {
        "id": "H0sjr23NYEFe",
        "colab": {
          "base_uri": "https://localhost:8080/",
          "height": 385
        },
        "outputId": "fba67d86-fdfb-459e-f378-e7bef88ddbc9"
      },
      "source": [
        "imgs = [no1[456,:,:],  no0[456,:,:]]\n",
        "for img in imgs:\n",
        "  plt.subplot(1,2,1)\n",
        "  plt.imshow(getHolePixels(img))\n",
        "  plt.subplot(1,2,2)\n",
        "  plt.imshow(img)\n",
        "  plt.show()"
      ],
      "execution_count": 57,
      "outputs": [
        {
          "output_type": "display_data",
          "data": {
            "text/plain": [
              "<Figure size 432x288 with 2 Axes>"
            ],
            "image/png": "[encoded data removed]"
          },
          "metadata": {
            "needs_background": "light"
          }
        },
        {
          "output_type": "display_data",
          "data": {
            "text/plain": [
              "<Figure size 432x288 with 2 Axes>"
            ],
            "image/png": "[encoded data removed]"
          },
          "metadata": {
            "needs_background": "light"
          }
        }
      ]
    },
    {
      "cell_type": "markdown",
      "metadata": {
        "id": "vS-4erNXtxMi"
      },
      "source": [
        "Now let us plot the number of hole pixels and see how this feature behaves"
      ]
    },
    {
      "cell_type": "code",
      "metadata": {
        "id": "Dpm1dRgsety8",
        "colab": {
          "base_uri": "https://localhost:8080/",
          "height": 265
        },
        "outputId": "0008c9c3-06c8-4eaf-d3ff-030b2758b9e3"
      },
      "source": [
        "hole1 = np.array([getHolePixels(i).sum() for i in no1])\n",
        "hole0 = np.array([getHolePixels(i).sum() for i in no0])\n",
        "  \n",
        "plt.hist(hole1, alpha=0.7);\n",
        "plt.hist(hole0, alpha=0.7);"
      ],
      "execution_count": 58,
      "outputs": [
        {
          "output_type": "display_data",
          "data": {
            "text/plain": [
              "<Figure size 432x288 with 1 Axes>"
            ],
            "image/png": "[encoded data removed]"
          },
          "metadata": {
            "needs_background": "light"
          }
        }
      ]
    },
    {
      "cell_type": "markdown",
      "metadata": {
        "id": "8UjCBHpJ31yq"
      },
      "source": [
        "This feature works even better to distinguish between one and zero. \n",
        "\n",
        "\n",
        "Now let us try the number of pixels in the 'hull' or the number with the holes filled in:"
      ]
    },
    {
      "cell_type": "markdown",
      "metadata": {
        "id": "OSzH26ElXNri"
      },
      "source": [
        "Let us try one more feature, where we look at the number of boundary pixels in each image."
      ]
    },
    {
      "cell_type": "code",
      "metadata": {
        "id": "h-2czBypXMwT"
      },
      "source": [
        "def minus(a, b):\n",
        "  return a & ~ b\n",
        "\n",
        "def getBoundaryPixels(img):\n",
        "  img = img.copy()>0  # binarize the image\n",
        "  rshift = np.roll(img, 1, 1)\n",
        "  lshift = np.roll(img, -1 ,1)\n",
        "  ushift = np.roll(img, -1, 0)\n",
        "  dshift = np.roll(img, 1, 0)\n",
        "  boundary = minus(img, rshift) | minus(img, lshift) | minus(img, ushift) | minus(img, dshift)\n",
        "  return boundary"
      ],
      "execution_count": 59,
      "outputs": []
    },
    {
      "cell_type": "code",
      "metadata": {
        "id": "u-V688jFerXh",
        "colab": {
          "base_uri": "https://localhost:8080/",
          "height": 385
        },
        "outputId": "1e84369c-1a0b-4c79-d4d6-c86ae9f9a81d"
      },
      "source": [
        "imgs = [no1[456,:,:],  no0[456,:,:]]\n",
        "for img in imgs:\n",
        "  plt.subplot(1,2,1)\n",
        "  plt.imshow(getBoundaryPixels(img))\n",
        "  plt.subplot(1,2,2)\n",
        "  plt.imshow(img)\n",
        "  plt.show()"
      ],
      "execution_count": 60,
      "outputs": [
        {
          "output_type": "display_data",
          "data": {
            "text/plain": [
              "<Figure size 432x288 with 2 Axes>"
            ],
            "image/png": "[encoded data removed]"
          },
          "metadata": {
            "needs_background": "light"
          }
        },
        {
          "output_type": "display_data",
          "data": {
            "text/plain": [
              "<Figure size 432x288 with 2 Axes>"
            ],
            "image/png": "[encoded data removed]"
          },
          "metadata": {
            "needs_background": "light"
          }
        }
      ]
    },
    {
      "cell_type": "code",
      "metadata": {
        "id": "kSsxsbCNXcNh",
        "colab": {
          "base_uri": "https://localhost:8080/",
          "height": 265
        },
        "outputId": "04f16e72-48d0-4e45-d5a4-987536e9af1a"
      },
      "source": [
        "bound1 = np.array([getBoundaryPixels(i).sum() for i in no1])\n",
        "bound0= np.array([getBoundaryPixels(i).sum() for i in no0])\n",
        "\n",
        "plt.hist(bound1, alpha=0.7);\n",
        "plt.hist(bound0, alpha=0.7);"
      ],
      "execution_count": 61,
      "outputs": [
        {
          "output_type": "display_data",
          "data": {
            "text/plain": [
              "<Figure size 432x288 with 1 Axes>"
            ],
            "image/png": "[encoded data removed]"
          },
          "metadata": {
            "needs_background": "light"
          }
        }
      ]
    },
    {
      "cell_type": "markdown",
      "metadata": {
        "id": "WuP04Ao_R0Yz"
      },
      "source": [
        "What will happen if we plot two features together? "
      ]
    },
    {
      "cell_type": "markdown",
      "metadata": {
        "id": "paDGHlFSd5Fu"
      },
      "source": [
        "Feel free to explore the above graph with your mouse. \n",
        "\n",
        "\n",
        "We have seen that we extracted four features from a 28*28 dimensional image.\n",
        "\n",
        "\n",
        "Some questions to explore:\n",
        "1. Which is the best combination of features?\n",
        "2. How would you test or visualize four or more features?\n",
        "3. Can you come up with your own features?\n",
        "4. Will these features work for different classes other than 0 and 1?\n",
        "5. What will happen if we take more that two classes at a time?"
      ]
    },
    {
      "cell_type": "markdown",
      "source": [
        "## Features from CSV file"
      ],
      "metadata": {
        "id": "gIJdT3tYIMyN"
      }
    },
    {
      "cell_type": "code",
      "source": [
        "import pandas as pd\n",
        "\n",
        "df = pd.read_csv('/content/sample_data/california_housing_train.csv')"
      ],
      "metadata": {
        "id": "SfR0jKjRI9fx"
      },
      "execution_count": 62,
      "outputs": []
    },
    {
      "cell_type": "code",
      "source": [
        "df.head()\n"
      ],
      "metadata": {
        "colab": {
          "base_uri": "https://localhost:8080/",
          "height": 270
        },
        "id": "9VU02WsOJLs_",
        "outputId": "688cd052-f639-4fe5-f97a-1797340d0451"
      },
      "execution_count": 63,
      "outputs": [
        {
          "output_type": "execute_result",
          "data": {
            "text/plain": [
              "   longitude  latitude  housing_median_age  total_rooms  total_bedrooms  \\\n",
              "0    -114.31     34.19                15.0       5612.0          1283.0   \n",
              "1    -114.47     34.40                19.0       7650.0          1901.0   \n",
              "2    -114.56     33.69                17.0        720.0           174.0   \n",
              "3    -114.57     33.64                14.0       1501.0           337.0   \n",
              "4    -114.57     33.57                20.0       1454.0           326.0   \n",
              "\n",
              "   population  households  median_income  median_house_value  \n",
              "0      1015.0       472.0         1.4936             66900.0  \n",
              "1      1129.0       463.0         1.8200             80100.0  \n",
              "2       333.0       117.0         1.6509             85700.0  \n",
              "3       515.0       226.0         3.1917             73400.0  \n",
              "4       624.0       262.0         1.9250             65500.0  "
            ],
            "text/html": [
              "\n",
              "  <div id=\"df-8c02a0d5-8dbd-45e8-89fa-1e9395562d13\">\n",
              "    <div class=\"colab-df-container\">\n",
              "      <div>\n",
              "<style scoped>\n",
              "    .dataframe tbody tr th:only-of-type {\n",
              "        vertical-align: middle;\n",
              "    }\n",
              "\n",
              "    .dataframe tbody tr th {\n",
              "        vertical-align: top;\n",
              "    }\n",
              "\n",
              "    .dataframe thead th {\n",
              "        text-align: right;\n",
              "    }\n",
              "</style>\n",
              "<table border=\"1\" class=\"dataframe\">\n",
              "  <thead>\n",
              "    <tr style=\"text-align: right;\">\n",
              "      <th></th>\n",
              "      <th>longitude</th>\n",
              "      <th>latitude</th>\n",
              "      <th>housing_median_age</th>\n",
              "      <th>total_rooms</th>\n",
              "      <th>total_bedrooms</th>\n",
              "      <th>population</th>\n",
              "      <th>households</th>\n",
              "      <th>median_income</th>\n",
              "      <th>median_house_value</th>\n",
              "    </tr>\n",
              "  </thead>\n",
              "  <tbody>\n",
              "    <tr>\n",
              "      <th>0</th>\n",
              "      <td>-114.31</td>\n",
              "      <td>34.19</td>\n",
              "      <td>15.0</td>\n",
              "      <td>5612.0</td>\n",
              "      <td>1283.0</td>\n",
              "      <td>1015.0</td>\n",
              "      <td>472.0</td>\n",
              "      <td>1.4936</td>\n",
              "      <td>66900.0</td>\n",
              "    </tr>\n",
              "    <tr>\n",
              "      <th>1</th>\n",
              "      <td>-114.47</td>\n",
              "      <td>34.40</td>\n",
              "      <td>19.0</td>\n",
              "      <td>7650.0</td>\n",
              "      <td>1901.0</td>\n",
              "      <td>1129.0</td>\n",
              "      <td>463.0</td>\n",
              "      <td>1.8200</td>\n",
              "      <td>80100.0</td>\n",
              "    </tr>\n",
              "    <tr>\n",
              "      <th>2</th>\n",
              "      <td>-114.56</td>\n",
              "      <td>33.69</td>\n",
              "      <td>17.0</td>\n",
              "      <td>720.0</td>\n",
              "      <td>174.0</td>\n",
              "      <td>333.0</td>\n",
              "      <td>117.0</td>\n",
              "      <td>1.6509</td>\n",
              "      <td>85700.0</td>\n",
              "    </tr>\n",
              "    <tr>\n",
              "      <th>3</th>\n",
              "      <td>-114.57</td>\n",
              "      <td>33.64</td>\n",
              "      <td>14.0</td>\n",
              "      <td>1501.0</td>\n",
              "      <td>337.0</td>\n",
              "      <td>515.0</td>\n",
              "      <td>226.0</td>\n",
              "      <td>3.1917</td>\n",
              "      <td>73400.0</td>\n",
              "    </tr>\n",
              "    <tr>\n",
              "      <th>4</th>\n",
              "      <td>-114.57</td>\n",
              "      <td>33.57</td>\n",
              "      <td>20.0</td>\n",
              "      <td>1454.0</td>\n",
              "      <td>326.0</td>\n",
              "      <td>624.0</td>\n",
              "      <td>262.0</td>\n",
              "      <td>1.9250</td>\n",
              "      <td>65500.0</td>\n",
              "    </tr>\n",
              "  </tbody>\n",
              "</table>\n",
              "</div>\n",
              "      <button class=\"colab-df-convert\" onclick=\"convertToInteractive('df-8c02a0d5-8dbd-45e8-89fa-1e9395562d13')\"\n",
              "              title=\"Convert this dataframe to an interactive table.\"\n",
              "              style=\"display:none;\">\n",
              "        \n",
              "  <svg xmlns=\"http://www.w3.org/2000/svg\" height=\"24px\"viewBox=\"0 0 24 24\"\n",
              "       width=\"24px\">\n",
              "    <path d=\"M0 0h24v24H0V0z\" fill=\"none\"/>\n",
              "    <path d=\"M18.56 5.44l.94 2.06.94-2.06 2.06-.94-2.06-.94-.94-2.06-.94 2.06-2.06.94zm-11 1L8.5 8.5l.94-2.06 2.06-.94-2.06-.94L8.5 2.5l-.94 2.06-2.06.94zm10 10l.94 2.06.94-2.06 2.06-.94-2.06-.94-.94-2.06-.94 2.06-2.06.94z\"/><path d=\"M17.41 7.96l-1.37-1.37c-.4-.4-.92-.59-1.43-.59-.52 0-1.04.2-1.43.59L10.3 9.45l-7.72 7.72c-.78.78-.78 2.05 0 2.83L4 21.41c.39.39.9.59 1.41.59.51 0 1.02-.2 1.41-.59l7.78-7.78 2.81-2.81c.8-.78.8-2.07 0-2.86zM5.41 20L4 18.59l7.72-7.72 1.47 1.35L5.41 20z\"/>\n",
              "  </svg>\n",
              "      </button>\n",
              "      \n",
              "  <style>\n",
              "    .colab-df-container {\n",
              "      display:flex;\n",
              "      flex-wrap:wrap;\n",
              "      gap: 12px;\n",
              "    }\n",
              "\n",
              "    .colab-df-convert {\n",
              "      background-color: #E8F0FE;\n",
              "      border: none;\n",
              "      border-radius: 50%;\n",
              "      cursor: pointer;\n",
              "      display: none;\n",
              "      fill: #1967D2;\n",
              "      height: 32px;\n",
              "      padding: 0 0 0 0;\n",
              "      width: 32px;\n",
              "    }\n",
              "\n",
              "    .colab-df-convert:hover {\n",
              "      background-color: #E2EBFA;\n",
              "      box-shadow: 0px 1px 2px rgba(60, 64, 67, 0.3), 0px 1px 3px 1px rgba(60, 64, 67, 0.15);\n",
              "      fill: #174EA6;\n",
              "    }\n",
              "\n",
              "    [theme=dark] .colab-df-convert {\n",
              "      background-color: #3B4455;\n",
              "      fill: #D2E3FC;\n",
              "    }\n",
              "\n",
              "    [theme=dark] .colab-df-convert:hover {\n",
              "      background-color: #434B5C;\n",
              "      box-shadow: 0px 1px 3px 1px rgba(0, 0, 0, 0.15);\n",
              "      filter: drop-shadow(0px 1px 2px rgba(0, 0, 0, 0.3));\n",
              "      fill: #FFFFFF;\n",
              "    }\n",
              "  </style>\n",
              "\n",
              "      <script>\n",
              "        const buttonEl =\n",
              "          document.querySelector('#df-8c02a0d5-8dbd-45e8-89fa-1e9395562d13 button.colab-df-convert');\n",
              "        buttonEl.style.display =\n",
              "          google.colab.kernel.accessAllowed ? 'block' : 'none';\n",
              "\n",
              "        async function convertToInteractive(key) {\n",
              "          const element = document.querySelector('#df-8c02a0d5-8dbd-45e8-89fa-1e9395562d13');\n",
              "          const dataTable =\n",
              "            await google.colab.kernel.invokeFunction('convertToInteractive',\n",
              "                                                     [key], {});\n",
              "          if (!dataTable) return;\n",
              "\n",
              "          const docLinkHtml = 'Like what you see? Visit the ' +\n",
              "            '<a target=\"_blank\" href=https://colab.research.google.com/notebooks/data_table.ipynb>data table notebook</a>'\n",
              "            + ' to learn more about interactive tables.';\n",
              "          element.innerHTML = '';\n",
              "          dataTable['output_type'] = 'display_data';\n",
              "          await google.colab.output.renderOutput(dataTable, element);\n",
              "          const docLink = document.createElement('div');\n",
              "          docLink.innerHTML = docLinkHtml;\n",
              "          element.appendChild(docLink);\n",
              "        }\n",
              "      </script>\n",
              "    </div>\n",
              "  </div>\n",
              "  "
            ]
          },
          "metadata": {},
          "execution_count": 63
        }
      ]
    },
    {
      "cell_type": "code",
      "source": [
        "df.columns\n"
      ],
      "metadata": {
        "colab": {
          "base_uri": "https://localhost:8080/"
        },
        "id": "XCeIl4kMJc59",
        "outputId": "93b8a9cf-2538-4717-84bb-c79506fff474"
      },
      "execution_count": 64,
      "outputs": [
        {
          "output_type": "execute_result",
          "data": {
            "text/plain": [
              "Index(['longitude', 'latitude', 'housing_median_age', 'total_rooms',\n",
              "       'total_bedrooms', 'population', 'households', 'median_income',\n",
              "       'median_house_value'],\n",
              "      dtype='object')"
            ]
          },
          "metadata": {},
          "execution_count": 64
        }
      ]
    },
    {
      "cell_type": "code",
      "source": [
        "df = df.rename(columns={'oldName1': 'newName1', 'oldName2': 'newName2'})\n"
      ],
      "metadata": {
        "id": "foQSY_tvJOua"
      },
      "execution_count": 65,
      "outputs": []
    },
    {
      "cell_type": "code",
      "source": [
        "import matplotlib.pyplot as plt\n",
        "import pandas as pd\n",
        "import seaborn as sns\n",
        "from mpl_toolkits.mplot3d import Axes3D\n",
        "\n",
        "\n",
        "sns.set(style = \"darkgrid\")\n",
        "\n",
        "fig = plt.figure()\n",
        "ax = fig.add_subplot(111, projection = '3d')\n",
        "\n",
        "x = df['total_bedrooms'][:50]\n",
        "y = df['housing_median_age'][:50]\n",
        "z = df['median_house_value'][:50]\n",
        "\n",
        "ax.set_xlabel(\"total_bedrooms\")\n",
        "ax.set_ylabel(\"housing_median_age\")\n",
        "ax.set_zlabel(\"median_house_value\")\n",
        "\n",
        "ax.scatter(x, y, z)\n",
        "\n",
        "plt.show()"
      ],
      "metadata": {
        "colab": {
          "base_uri": "https://localhost:8080/",
          "height": 248
        },
        "id": "LaSdj2-HItaG",
        "outputId": "a0a8a502-4dd1-4b28-a35d-5ee113bf9aa9"
      },
      "execution_count": 66,
      "outputs": [
        {
          "output_type": "display_data",
          "data": {
            "text/plain": [
              "<Figure size 432x288 with 1 Axes>"
            ],
            "image/png": "[encoded data removed]"
          },
          "metadata": {}
        }
      ]
    },
    {
      "cell_type": "code",
      "source": [
        "## Task :\n",
        "## Download a CSV file from the internet, upload it to your google drive.\n",
        "## Read the CSV file and plot graphs using different combination of features and write your analysis\n",
        "## Ex : IRIS flower datasaet"
      ],
      "metadata": {
        "id": "vGGbRUz3J8Ju"
      },
      "execution_count": null,
      "outputs": []
    },
    {
      "cell_type": "code",
      "source": [
        "from google.colab import drive\n",
        "drive.mount('/content/drive')"
      ],
      "metadata": {
        "colab": {
          "base_uri": "https://localhost:8080/"
        },
        "id": "VDxIms4FyvE4",
        "outputId": "5339484b-c00f-4c3c-b2a9-9b69d302cc1c"
      },
      "execution_count": 67,
      "outputs": [
        {
          "output_type": "stream",
          "name": "stdout",
          "text": [
            "Mounted at /content/drive\n"
          ]
        }
      ]
    },
    {
      "cell_type": "code",
      "source": [
        "import pandas as pd\n",
        "\n",
        "df = pd.read_csv('/IRIS.csv')"
      ],
      "metadata": {
        "id": "rIteS4GYy2jy"
      },
      "execution_count": 68,
      "outputs": []
    },
    {
      "cell_type": "code",
      "source": [
        "df.head()"
      ],
      "metadata": {
        "colab": {
          "base_uri": "https://localhost:8080/",
          "height": 206
        },
        "id": "KSnnsG9BzZnN",
        "outputId": "3be04497-7ea0-48f7-cd78-300b683aa846"
      },
      "execution_count": 85,
      "outputs": [
        {
          "output_type": "execute_result",
          "data": {
            "text/plain": [
              "   sepal_length  sepal_width  petal_length  petal_width      species\n",
              "0           5.1          3.5           1.4          0.2  Iris-setosa\n",
              "1           4.9          3.0           1.4          0.2  Iris-setosa\n",
              "2           4.7          3.2           1.3          0.2  Iris-setosa\n",
              "3           4.6          3.1           1.5          0.2  Iris-setosa\n",
              "4           5.0          3.6           1.4          0.2  Iris-setosa"
            ],
            "text/html": [
              "\n",
              "  <div id=\"df-f7c53c7b-6b53-4cf2-8991-f5427ab9b7f9\">\n",
              "    <div class=\"colab-df-container\">\n",
              "      <div>\n",
              "<style scoped>\n",
              "    .dataframe tbody tr th:only-of-type {\n",
              "        vertical-align: middle;\n",
              "    }\n",
              "\n",
              "    .dataframe tbody tr th {\n",
              "        vertical-align: top;\n",
              "    }\n",
              "\n",
              "    .dataframe thead th {\n",
              "        text-align: right;\n",
              "    }\n",
              "</style>\n",
              "<table border=\"1\" class=\"dataframe\">\n",
              "  <thead>\n",
              "    <tr style=\"text-align: right;\">\n",
              "      <th></th>\n",
              "      <th>sepal_length</th>\n",
              "      <th>sepal_width</th>\n",
              "      <th>petal_length</th>\n",
              "      <th>petal_width</th>\n",
              "      <th>species</th>\n",
              "    </tr>\n",
              "  </thead>\n",
              "  <tbody>\n",
              "    <tr>\n",
              "      <th>0</th>\n",
              "      <td>5.1</td>\n",
              "      <td>3.5</td>\n",
              "      <td>1.4</td>\n",
              "      <td>0.2</td>\n",
              "      <td>Iris-setosa</td>\n",
              "    </tr>\n",
              "    <tr>\n",
              "      <th>1</th>\n",
              "      <td>4.9</td>\n",
              "      <td>3.0</td>\n",
              "      <td>1.4</td>\n",
              "      <td>0.2</td>\n",
              "      <td>Iris-setosa</td>\n",
              "    </tr>\n",
              "    <tr>\n",
              "      <th>2</th>\n",
              "      <td>4.7</td>\n",
              "      <td>3.2</td>\n",
              "      <td>1.3</td>\n",
              "      <td>0.2</td>\n",
              "      <td>Iris-setosa</td>\n",
              "    </tr>\n",
              "    <tr>\n",
              "      <th>3</th>\n",
              "      <td>4.6</td>\n",
              "      <td>3.1</td>\n",
              "      <td>1.5</td>\n",
              "      <td>0.2</td>\n",
              "      <td>Iris-setosa</td>\n",
              "    </tr>\n",
              "    <tr>\n",
              "      <th>4</th>\n",
              "      <td>5.0</td>\n",
              "      <td>3.6</td>\n",
              "      <td>1.4</td>\n",
              "      <td>0.2</td>\n",
              "      <td>Iris-setosa</td>\n",
              "    </tr>\n",
              "  </tbody>\n",
              "</table>\n",
              "</div>\n",
              "      <button class=\"colab-df-convert\" onclick=\"convertToInteractive('df-f7c53c7b-6b53-4cf2-8991-f5427ab9b7f9')\"\n",
              "              title=\"Convert this dataframe to an interactive table.\"\n",
              "              style=\"display:none;\">\n",
              "        \n",
              "  <svg xmlns=\"http://www.w3.org/2000/svg\" height=\"24px\"viewBox=\"0 0 24 24\"\n",
              "       width=\"24px\">\n",
              "    <path d=\"M0 0h24v24H0V0z\" fill=\"none\"/>\n",
              "    <path d=\"M18.56 5.44l.94 2.06.94-2.06 2.06-.94-2.06-.94-.94-2.06-.94 2.06-2.06.94zm-11 1L8.5 8.5l.94-2.06 2.06-.94-2.06-.94L8.5 2.5l-.94 2.06-2.06.94zm10 10l.94 2.06.94-2.06 2.06-.94-2.06-.94-.94-2.06-.94 2.06-2.06.94z\"/><path d=\"M17.41 7.96l-1.37-1.37c-.4-.4-.92-.59-1.43-.59-.52 0-1.04.2-1.43.59L10.3 9.45l-7.72 7.72c-.78.78-.78 2.05 0 2.83L4 21.41c.39.39.9.59 1.41.59.51 0 1.02-.2 1.41-.59l7.78-7.78 2.81-2.81c.8-.78.8-2.07 0-2.86zM5.41 20L4 18.59l7.72-7.72 1.47 1.35L5.41 20z\"/>\n",
              "  </svg>\n",
              "      </button>\n",
              "      \n",
              "  <style>\n",
              "    .colab-df-container {\n",
              "      display:flex;\n",
              "      flex-wrap:wrap;\n",
              "      gap: 12px;\n",
              "    }\n",
              "\n",
              "    .colab-df-convert {\n",
              "      background-color: #E8F0FE;\n",
              "      border: none;\n",
              "      border-radius: 50%;\n",
              "      cursor: pointer;\n",
              "      display: none;\n",
              "      fill: #1967D2;\n",
              "      height: 32px;\n",
              "      padding: 0 0 0 0;\n",
              "      width: 32px;\n",
              "    }\n",
              "\n",
              "    .colab-df-convert:hover {\n",
              "      background-color: #E2EBFA;\n",
              "      box-shadow: 0px 1px 2px rgba(60, 64, 67, 0.3), 0px 1px 3px 1px rgba(60, 64, 67, 0.15);\n",
              "      fill: #174EA6;\n",
              "    }\n",
              "\n",
              "    [theme=dark] .colab-df-convert {\n",
              "      background-color: #3B4455;\n",
              "      fill: #D2E3FC;\n",
              "    }\n",
              "\n",
              "    [theme=dark] .colab-df-convert:hover {\n",
              "      background-color: #434B5C;\n",
              "      box-shadow: 0px 1px 3px 1px rgba(0, 0, 0, 0.15);\n",
              "      filter: drop-shadow(0px 1px 2px rgba(0, 0, 0, 0.3));\n",
              "      fill: #FFFFFF;\n",
              "    }\n",
              "  </style>\n",
              "\n",
              "      <script>\n",
              "        const buttonEl =\n",
              "          document.querySelector('#df-f7c53c7b-6b53-4cf2-8991-f5427ab9b7f9 button.colab-df-convert');\n",
              "        buttonEl.style.display =\n",
              "          google.colab.kernel.accessAllowed ? 'block' : 'none';\n",
              "\n",
              "        async function convertToInteractive(key) {\n",
              "          const element = document.querySelector('#df-f7c53c7b-6b53-4cf2-8991-f5427ab9b7f9');\n",
              "          const dataTable =\n",
              "            await google.colab.kernel.invokeFunction('convertToInteractive',\n",
              "                                                     [key], {});\n",
              "          if (!dataTable) return;\n",
              "\n",
              "          const docLinkHtml = 'Like what you see? Visit the ' +\n",
              "            '<a target=\"_blank\" href=https://colab.research.google.com/notebooks/data_table.ipynb>data table notebook</a>'\n",
              "            + ' to learn more about interactive tables.';\n",
              "          element.innerHTML = '';\n",
              "          dataTable['output_type'] = 'display_data';\n",
              "          await google.colab.output.renderOutput(dataTable, element);\n",
              "          const docLink = document.createElement('div');\n",
              "          docLink.innerHTML = docLinkHtml;\n",
              "          element.appendChild(docLink);\n",
              "        }\n",
              "      </script>\n",
              "    </div>\n",
              "  </div>\n",
              "  "
            ]
          },
          "metadata": {},
          "execution_count": 85
        }
      ]
    },
    {
      "cell_type": "code",
      "source": [
        "df.columns"
      ],
      "metadata": {
        "colab": {
          "base_uri": "https://localhost:8080/"
        },
        "id": "MZuL7hsqzeKS",
        "outputId": "7c60a7ad-3fe3-43a2-f416-7c1deed3cfc7"
      },
      "execution_count": 70,
      "outputs": [
        {
          "output_type": "execute_result",
          "data": {
            "text/plain": [
              "Index(['sepal_length', 'sepal_width', 'petal_length', 'petal_width',\n",
              "       'species'],\n",
              "      dtype='object')"
            ]
          },
          "metadata": {},
          "execution_count": 70
        }
      ]
    },
    {
      "cell_type": "code",
      "source": [
        "import matplotlib.pyplot as plt\n",
        "import pandas as pd\n",
        "import seaborn as sns\n",
        "from mpl_toolkits.mplot3d import Axes3D\n",
        "\n",
        "\n",
        "sns.set(style = \"darkgrid\")\n",
        "\n",
        "fig = plt.figure()\n",
        "ax = fig.add_subplot(111, projection = '3d')\n",
        "\n",
        "x = df['sepal_length'][:50]\n",
        "y = df['petal_length'][:50]\n",
        "z = df['petal_width'][:50]\n",
        "\n",
        "ax.set_xlabel(\"sepal_length\")\n",
        "ax.set_ylabel(\"petal_length\")\n",
        "ax.set_zlabel(\"petal_width\")\n",
        "\n",
        "ax.scatter(x, y, z)\n",
        "\n",
        "plt.show()"
      ],
      "metadata": {
        "colab": {
          "base_uri": "https://localhost:8080/",
          "height": 248
        },
        "id": "n9JwO6-u9nWs",
        "outputId": "c2985ab2-6102-49c3-fc17-e7f00b15ba9f"
      },
      "execution_count": 72,
      "outputs": [
        {
          "output_type": "display_data",
          "data": {
            "text/plain": [
              "<Figure size 432x288 with 1 Axes>"
            ],
            "image/png": "[encoded data removed]"
          },
          "metadata": {}
        }
      ]
    },
    {
      "cell_type": "markdown",
      "source": [
        "## Augmentation\n",
        "It is a technique to increase the diversity of our training set by applying random (but realistic) transformations, such as image rotation, change of color etc. When we have limited training data, we can augment our data with help of these techniques."
      ],
      "metadata": {
        "id": "UEjCCSQh1d7A"
      }
    },
    {
      "cell_type": "code",
      "source": [
        "import numpy as np\n",
        "import matplotlib.pyplot as plt\n",
        "from keras.datasets import mnist\n",
        "# set randomseed\n",
        "rng = np.random.default_rng(seed=42)\n",
        "from sklearn.utils.extmath import cartesian\n",
        "from skimage.transform import rotate, AffineTransform, warp\n",
        "import math"
      ],
      "metadata": {
        "id": "XePcTeKI1dGJ"
      },
      "execution_count": 73,
      "outputs": []
    },
    {
      "cell_type": "markdown",
      "source": [
        "For this lab we will use a subset of MNIST that is very small, to better understand the effect of augmentation."
      ],
      "metadata": {
        "id": "ZP0Z3oOT2Vqo"
      }
    },
    {
      "cell_type": "code",
      "source": [
        "#loading the dataset\n",
        "(train_X, train_y), (test_X, test_y) = mnist.load_data()\n",
        "train_X = train_X/255\n",
        "test_X = test_X/255\n",
        "\n",
        "print(\"original data size:\",train_X.shape)\n"
      ],
      "metadata": {
        "colab": {
          "base_uri": "https://localhost:8080/"
        },
        "id": "7miTQ_032Rxv",
        "outputId": "6e300105-cd4d-408b-e2d9-836bfcabd0ee"
      },
      "execution_count": 74,
      "outputs": [
        {
          "output_type": "stream",
          "name": "stdout",
          "text": [
            "original data size: (60000, 28, 28)\n"
          ]
        }
      ]
    },
    {
      "cell_type": "code",
      "source": [
        "print(train_X[0].shape,train_y[0])"
      ],
      "metadata": {
        "colab": {
          "base_uri": "https://localhost:8080/"
        },
        "id": "79iYoK4a2Y8w",
        "outputId": "d23d3c37-01fa-496e-b434-2e0c62cb6aa3"
      },
      "execution_count": 75,
      "outputs": [
        {
          "output_type": "stream",
          "name": "stdout",
          "text": [
            "(28, 28) 5\n"
          ]
        }
      ]
    },
    {
      "cell_type": "code",
      "source": [
        "plt.imshow(train_X[0])"
      ],
      "metadata": {
        "colab": {
          "base_uri": "https://localhost:8080/",
          "height": 285
        },
        "id": "F-ne2Jrl6R3-",
        "outputId": "4ed2f8ed-cc3c-42d8-dfee-7f1883d71b99"
      },
      "execution_count": 76,
      "outputs": [
        {
          "output_type": "execute_result",
          "data": {
            "text/plain": [
              "<matplotlib.image.AxesImage at 0x7f2e92d3cb50>"
            ]
          },
          "metadata": {},
          "execution_count": 76
        },
        {
          "output_type": "display_data",
          "data": {
            "text/plain": [
              "<Figure size 432x288 with 1 Axes>"
            ],
            "image/png": "[encoded data removed]"
          },
          "metadata": {}
        }
      ]
    },
    {
      "cell_type": "code",
      "source": [
        "train_X = train_X[::1200,:,:].copy() # subsample. Otherwise it will take too long!\n",
        "train_y = train_y[::1200].copy() # do the same to the labels\n",
        "\n",
        "print(\"Now it is:\", train_X.shape)"
      ],
      "metadata": {
        "colab": {
          "base_uri": "https://localhost:8080/"
        },
        "id": "g3YMYR2L6VqQ",
        "outputId": "da344d37-4e65-4f2a-f90b-39fa5c6bad03"
      },
      "execution_count": 77,
      "outputs": [
        {
          "output_type": "stream",
          "name": "stdout",
          "text": [
            "Now it is: (50, 28, 28)\n"
          ]
        }
      ]
    },
    {
      "cell_type": "markdown",
      "source": [
        "Augmentation 1: rotation\n",
        "Let us try rotating the image a little. We will use skimage library for this."
      ],
      "metadata": {
        "id": "JgN85vRl6847"
      }
    },
    {
      "cell_type": "code",
      "source": [
        "plt.imshow(train_X[2], cmap='gray')\n",
        "plt.show()\n",
        "print(train_X[2].shape)\n",
        "plt.imshow(rotate(train_X[2],45), cmap='gray')"
      ],
      "metadata": {
        "colab": {
          "base_uri": "https://localhost:8080/",
          "height": 554
        },
        "id": "jStJv7xG6cNI",
        "outputId": "e2527ce7-5a07-4005-a039-ca508145ea2b"
      },
      "execution_count": 78,
      "outputs": [
        {
          "output_type": "display_data",
          "data": {
            "text/plain": [
              "<Figure size 432x288 with 1 Axes>"
            ],
            "image/png": "[encoded data removed]"
          },
          "metadata": {}
        },
        {
          "output_type": "stream",
          "name": "stdout",
          "text": [
            "(28, 28)\n"
          ]
        },
        {
          "output_type": "execute_result",
          "data": {
            "text/plain": [
              "<matplotlib.image.AxesImage at 0x7f2e92c1d210>"
            ]
          },
          "metadata": {},
          "execution_count": 78
        },
        {
          "output_type": "display_data",
          "data": {
            "text/plain": [
              "<Figure size 432x288 with 1 Axes>"
            ],
            "image/png": "[encoded data removed]"
          },
          "metadata": {}
        }
      ]
    },
    {
      "cell_type": "markdown",
      "source": [
        "After rotating, the the class of the image is still the same. Let us make a function to rotate multiple images by random angles. We want a slightly different image every time we run this function. So, we generate a random number between 0 and 1 and change it so that it lies between -constraint/2 and +constraint/2"
      ],
      "metadata": {
        "id": "phr4sXEb94Q8"
      }
    },
    {
      "cell_type": "code",
      "source": [
        "def augRotate(sample, angleconstraint):\n",
        "  if angleconstraint==0:\n",
        "    return sample\n",
        "\n",
        "  print(\"shape of sample before is:\", sample.shape)\n",
        "  print(\"len(sample.shape)\", len(sample.shape))\n",
        "  if len(sample.shape)==2:\n",
        "    sample = np.expand_dims(sample, 0)  # make sure the sample is 3 dimensional\n",
        "    print(\"shape of sample is:\", sample.shape)\n",
        "  angle = rng.random(len(sample)) # generate random numbers for angles\n",
        "  print(\"angle is:\", angle)\n",
        "  angle = (angle-0.5)*angleconstraint # make the random angle constrained\n",
        "  print(\"angle with constraint is:\", angle)\n",
        "  nsample = sample.copy() # preallocate the augmented array to make it faster\n",
        "  for ii in range(len(sample)):\n",
        "    nsample[ii] = rotate(sample[ii], angle[ii])\n",
        "  return np.squeeze(nsample) # take care if the input had only one sample."
      ],
      "metadata": {
        "id": "B3ai_7aN7Csn"
      },
      "execution_count": 79,
      "outputs": []
    },
    {
      "cell_type": "markdown",
      "source": [
        "This function returns a slightly different image each time we call it. So we can increase the number of images in the sample by any multiple. "
      ],
      "metadata": {
        "id": "udOWwYj2-Bsy"
      }
    },
    {
      "cell_type": "code",
      "source": [
        "sample = train_X[20]\n",
        "angleconstraint = 70\n",
        "# show the original image\n",
        "plt.imshow(sample, cmap='gray')\n",
        "plt.show()\n",
        "plt.subplot(1,3,1)\n",
        "plt.imshow(augRotate(sample, angleconstraint), cmap='gray') # show an augmented image\n",
        "plt.subplot(1,3,2)\n",
        "plt.imshow(augRotate(sample, angleconstraint), cmap='gray') # show another augmented image from the same sample\n",
        "plt.subplot(1,3,3)\n",
        "plt.imshow(augRotate(sample, angleconstraint), cmap='gray') # one more image from the same sample"
      ],
      "metadata": {
        "colab": {
          "base_uri": "https://localhost:8080/",
          "height": 680
        },
        "id": "vyO8Ap9-98LZ",
        "outputId": "aaf4bf5d-ca32-4f39-8167-ad152eed6201"
      },
      "execution_count": 80,
      "outputs": [
        {
          "output_type": "display_data",
          "data": {
            "text/plain": [
              "<Figure size 432x288 with 1 Axes>"
            ],
            "image/png": "[encoded data removed]"
          },
          "metadata": {}
        },
        {
          "output_type": "stream",
          "name": "stdout",
          "text": [
            "shape of sample before is: (28, 28)\n",
            "len(sample.shape) 2\n",
            "shape of sample is: (1, 28, 28)\n",
            "angle is: [0.77395605]\n",
            "angle with constraint is: [19.1769234]\n",
            "shape of sample before is: (28, 28)\n",
            "len(sample.shape) 2\n",
            "shape of sample is: (1, 28, 28)\n",
            "angle is: [0.43887844]\n",
            "angle with constraint is: [-4.27850922]\n",
            "shape of sample before is: (28, 28)\n",
            "len(sample.shape) 2\n",
            "shape of sample is: (1, 28, 28)\n",
            "angle is: [0.85859792]\n",
            "angle with constraint is: [25.10185439]\n"
          ]
        },
        {
          "output_type": "execute_result",
          "data": {
            "text/plain": [
              "<matplotlib.image.AxesImage at 0x7f2e92ae3e90>"
            ]
          },
          "metadata": {},
          "execution_count": 80
        },
        {
          "output_type": "display_data",
          "data": {
            "text/plain": [
              "<Figure size 432x288 with 3 Axes>"
            ],
            "image/png": "[encoded data removed]"
          },
          "metadata": {}
        }
      ]
    },
    {
      "cell_type": "markdown",
      "source": [
        "Let us try one more augmentation, Shear: A transformation in which all points along a given line remain fixed while other points are shifted parallel to by a \n",
        " distance proportional to their perpendicular distance from. Shearing a plane figure does not change its area. "
      ],
      "metadata": {
        "id": "siEhyuX0AyZP"
      }
    },
    {
      "cell_type": "code",
      "source": [
        "def shear(sample, amount):\n",
        "  tform = AffineTransform(shear = amount) # create the shear transform\n",
        "  img = warp(sample, tform) # apply the shear\n",
        "  # this makes the digit off-center. Since all the images in the test set are centralized, we will do the same here\n",
        "  col = img.sum(0).nonzero()[0]\n",
        "  row = img.sum(1).nonzero()[0]\n",
        "  if len(col)>0 and len(row)>0:\n",
        "    xshift = int(sample.shape[0]/2 - (row[0]+row[-1])/2)\n",
        "    yshift = int(sample.shape[1]/2 - (col[0]+col[-1])/2)\n",
        "    img = np.roll(img, (xshift, yshift),(0,1))\n",
        "  return img"
      ],
      "metadata": {
        "id": "46nKQ_Qj-Elg"
      },
      "execution_count": 81,
      "outputs": []
    },
    {
      "cell_type": "code",
      "source": [
        "sample = train_X[2]\n",
        "plt.imshow(sample, cmap='gray')\n",
        "plt.show()\n",
        "\n",
        "# apply shear\n",
        "plt.imshow(shear(sample, 0.4), cmap='gray')"
      ],
      "metadata": {
        "colab": {
          "base_uri": "https://localhost:8080/",
          "height": 536
        },
        "id": "Zae7PZcUBDt8",
        "outputId": "a26b00fe-fd07-4f70-d856-dbc6cc056d05"
      },
      "execution_count": 82,
      "outputs": [
        {
          "output_type": "display_data",
          "data": {
            "text/plain": [
              "<Figure size 432x288 with 1 Axes>"
            ],
            "image/png": "[encoded data removed]"
          },
          "metadata": {}
        },
        {
          "output_type": "execute_result",
          "data": {
            "text/plain": [
              "<matplotlib.image.AxesImage at 0x7f2e92a4f190>"
            ]
          },
          "metadata": {},
          "execution_count": 82
        },
        {
          "output_type": "display_data",
          "data": {
            "text/plain": [
              "<Figure size 432x288 with 1 Axes>"
            ],
            "image/png": "[encoded data removed]"
          },
          "metadata": {}
        }
      ]
    },
    {
      "cell_type": "markdown",
      "source": [
        "## Let us also see skeletonization of image"
      ],
      "metadata": {
        "id": "4NglWyeSDtxr"
      }
    },
    {
      "cell_type": "code",
      "source": [
        "from skimage.morphology import skeletonize\n"
      ],
      "metadata": {
        "id": "XQMsvuD5BITy"
      },
      "execution_count": 86,
      "outputs": []
    },
    {
      "cell_type": "code",
      "source": [
        "skeleton = skeletonize(train_X[2],method='lee')\n",
        "plt.imshow(skeleton, cmap='gray')"
      ],
      "metadata": {
        "colab": {
          "base_uri": "https://localhost:8080/",
          "height": 285
        },
        "id": "ze1kf_0BD0YP",
        "outputId": "70d4aa95-eefe-49a6-9936-ab15eb860d95"
      },
      "execution_count": 87,
      "outputs": [
        {
          "output_type": "execute_result",
          "data": {
            "text/plain": [
              "<matplotlib.image.AxesImage at 0x7f2e8da0ab10>"
            ]
          },
          "metadata": {},
          "execution_count": 87
        },
        {
          "output_type": "display_data",
          "data": {
            "text/plain": [
              "<Figure size 432x288 with 1 Axes>"
            ],
            "image/png": "[encoded data removed]"
          },
          "metadata": {}
        }
      ]
    },
    {
      "cell_type": "code",
      "source": [
        "#Structuring elements that are repeatedly used for thinning\n",
        "\n",
        "S1 = np.array([[0,0,0],[-1,1,-1],[1,1,1]]) # -1 for dont care\n",
        "S2 = np.array([[-1,0,0],[1,1,0],[-1,1,-1]])\n",
        "\n",
        "\n",
        "def CheckMatch(window,kernel):\n",
        "  for i in range(window.shape[0]):\n",
        "        for j in range(window.shape[1]):\n",
        "            if kernel[i,j]!=-1 and window[i,j]!=kernel[i,j]:\n",
        "                return False\n",
        "  return True\n",
        "\n",
        "def ApplyKernel(image,kernel): #used\n",
        "  height, width =  image.shape\n",
        "  res = np.copy(image)\n",
        "  for i in range(1,height-1):\n",
        "    for j in range (1,width-1):\n",
        "      window = image[i-1:i+2,j-1:j+2]\n",
        "      #print('window shape',window.shape)\n",
        "      Match_result = CheckMatch(window,kernel)\n",
        "      if (Match_result):\n",
        "        res[i,j]=0\n",
        "  return res\n",
        "\n",
        "\n",
        "\n",
        "def Skeletonization(image):\n",
        "  '''pass binary image'''\n",
        "  #new = np.copy(image)\n",
        "  #old = np.zeros(image.shape,dtype=np.uint8)\n",
        "  count = 1\n",
        "  change = 1000\n",
        "  while (change >0.01):\n",
        "    print('count',count)\n",
        "    new = image\n",
        "    new = ApplyKernel(new,S1)\n",
        "    new = ApplyKernel(new,S2)\n",
        "    new = ApplyKernel(new,np.rot90(S1,1)) #90 degree rotate\n",
        "    new = ApplyKernel(new,np.rot90(S2,1))\n",
        "    new = ApplyKernel(new,np.rot90(S1,2)) # 180 degree rotate\n",
        "    new = ApplyKernel(new,np.rot90(S2,2))\n",
        "    new = ApplyKernel(new,np.rot90(S1,3)) # 270 degree rotate\n",
        "    new = ApplyKernel(new,np.rot90(S2,3))\n",
        "    count+= 1\n",
        "    change = np.mean(np.abs(new-image))\n",
        "    image = new\n",
        "    plt.imshow(new,cmap='gray')\n",
        "    plt.show()\n",
        "  return new"
      ],
      "metadata": {
        "id": "ewpZG5b-D9F3"
      },
      "execution_count": 88,
      "outputs": []
    },
    {
      "cell_type": "code",
      "source": [
        "binarized  =( train_X[0] > 0 ).astype(np.uint8)"
      ],
      "metadata": {
        "id": "LwgK5XObNcjD"
      },
      "execution_count": 89,
      "outputs": []
    },
    {
      "cell_type": "code",
      "source": [
        "skeleton_five = Skeletonization(binarized)"
      ],
      "metadata": {
        "colab": {
          "base_uri": "https://localhost:8080/",
          "height": 1000
        },
        "id": "oyQrnHghLADQ",
        "outputId": "ecef4b8e-aa50-4af1-ea9c-c6016e588ec0"
      },
      "execution_count": 90,
      "outputs": [
        {
          "output_type": "stream",
          "name": "stdout",
          "text": [
            "count 1\n"
          ]
        },
        {
          "output_type": "display_data",
          "data": {
            "text/plain": [
              "<Figure size 432x288 with 1 Axes>"
            ],
            "image/png": "[encoded data removed]"
          },
          "metadata": {}
        },
        {
          "output_type": "stream",
          "name": "stdout",
          "text": [
            "count 2\n"
          ]
        },
        {
          "output_type": "display_data",
          "data": {
            "text/plain": [
              "<Figure size 432x288 with 1 Axes>"
            ],
            "image/png": "[encoded data removed]"
          },
          "metadata": {}
        },
        {
          "output_type": "stream",
          "name": "stdout",
          "text": [
            "count 3\n"
          ]
        },
        {
          "output_type": "display_data",
          "data": {
            "text/plain": [
              "<Figure size 432x288 with 1 Axes>"
            ],
            "image/png": "[encoded data removed]"
          },
          "metadata": {}
        },
        {
          "output_type": "stream",
          "name": "stdout",
          "text": [
            "count 4\n"
          ]
        },
        {
          "output_type": "display_data",
          "data": {
            "text/plain": [
              "<Figure size 432x288 with 1 Axes>"
            ],
            "image/png": "[encoded data removed]"
          },
          "metadata": {}
        },
        {
          "output_type": "stream",
          "name": "stdout",
          "text": [
            "count 5\n"
          ]
        },
        {
          "output_type": "display_data",
          "data": {
            "text/plain": [
              "<Figure size 432x288 with 1 Axes>"
            ],
            "image/png": "[encoded data removed]"
          },
          "metadata": {}
        }
      ]
    },
    {
      "cell_type": "code",
      "source": [],
      "metadata": {
        "id": "1uZdnNdTMpfn"
      },
      "execution_count": null,
      "outputs": []
    }
  ]
}